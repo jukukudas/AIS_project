{
 "cells": [
  {
   "cell_type": "markdown",
   "id": "6bf43b2e",
   "metadata": {},
   "source": [
    "#### 라이브러리 로드"
   ]
  },
  {
   "cell_type": "code",
   "execution_count": 80,
   "id": "ccdab644",
   "metadata": {},
   "outputs": [],
   "source": [
    "import pandas as pd\n",
    "from glob import glob\n",
    "import os\n",
    "pd.options.display.float_format = '{:.2f}'.format"
   ]
  },
  {
   "cell_type": "markdown",
   "id": "44274ad2",
   "metadata": {},
   "source": [
    "#### 전처리 및 downcasting 함수 만들기"
   ]
  },
  {
   "cell_type": "code",
   "execution_count": 2,
   "id": "512ff3b7",
   "metadata": {},
   "outputs": [],
   "source": [
    "def preprocessing_(file):\n",
    "\n",
    "    file_len = len(pd.read_csv(file, usecols=[0]).index)\n",
    "    chunk_size = int(round((file_len / 50), 0))\n",
    "\n",
    "    chunk = pd.read_csv(file, chunksize=chunk_size)\n",
    "    chunk = list(chunk)\n",
    "\n",
    "    lst = []\n",
    "    for df in chunk:\n",
    "        df = df.drop(columns=[\"user_session\", 'category_id'])\n",
    "        df = df.dropna()\n",
    "        for col in df.columns:\n",
    "            dtype_name = df[col].dtypes.name\n",
    "            if dtype_name.startswith('int'):\n",
    "                df[col] = pd.to_numeric(df[col], downcast='unsigned')\n",
    "            elif dtype_name.startswith('float'):\n",
    "                df[col] = pd.to_numeric(df[col],  downcast='float')\n",
    "        lst.append(df)\n",
    "\n",
    "    conc1 = pd.concat(lst[:25])\n",
    "    conc2 = pd.concat(lst[25:])\n",
    "\n",
    "    ecommerce_data = pd.concat([conc1, conc2]).reset_index(drop=True)\n",
    "\n",
    "    return ecommerce_data"
   ]
  },
  {
   "cell_type": "markdown",
   "id": "a0e52e02",
   "metadata": {},
   "source": [
    "#### downcasting 전용 함수"
   ]
  },
  {
   "cell_type": "code",
   "execution_count": 3,
   "id": "de47a14f",
   "metadata": {},
   "outputs": [],
   "source": [
    "def down_casting(data_set):\n",
    "    for col in data_set.columns:\n",
    "        dtype_name = data_set[col].dtypes.name\n",
    "        if dtype_name.startswith('int'):\n",
    "            data_set[col] = pd.to_numeric(data_set[col], downcast='unsigned')\n",
    "        elif dtype_name.startswith('float'):\n",
    "            data_set[col] = pd.to_numeric(data_set[col],  downcast='float')\n",
    "    return data_set"
   ]
  },
  {
   "cell_type": "markdown",
   "id": "f25c2616",
   "metadata": {},
   "source": [
    "#### 데이터 전처리 및 parquet 저장"
   ]
  },
  {
   "cell_type": "markdown",
   "id": "1bda5d12",
   "metadata": {},
   "source": [
    "##### 데이터 불러와 전처리"
   ]
  },
  {
   "cell_type": "code",
   "execution_count": 81,
   "id": "ad1a7b62",
   "metadata": {},
   "outputs": [
    {
     "data": {
      "text/html": [
       "<div>\n",
       "<style scoped>\n",
       "    .dataframe tbody tr th:only-of-type {\n",
       "        vertical-align: middle;\n",
       "    }\n",
       "\n",
       "    .dataframe tbody tr th {\n",
       "        vertical-align: top;\n",
       "    }\n",
       "\n",
       "    .dataframe thead th {\n",
       "        text-align: right;\n",
       "    }\n",
       "</style>\n",
       "<table border=\"1\" class=\"dataframe\">\n",
       "  <thead>\n",
       "    <tr style=\"text-align: right;\">\n",
       "      <th></th>\n",
       "      <th>event_time</th>\n",
       "      <th>event_type</th>\n",
       "      <th>product_id</th>\n",
       "      <th>category_id</th>\n",
       "      <th>category_code</th>\n",
       "      <th>brand</th>\n",
       "      <th>price</th>\n",
       "      <th>user_id</th>\n",
       "      <th>user_session</th>\n",
       "    </tr>\n",
       "  </thead>\n",
       "  <tbody>\n",
       "    <tr>\n",
       "      <th>0</th>\n",
       "      <td>2019-11-01 00:00:00 UTC</td>\n",
       "      <td>view</td>\n",
       "      <td>1003461</td>\n",
       "      <td>2053013555631882655</td>\n",
       "      <td>electronics.smartphone</td>\n",
       "      <td>xiaomi</td>\n",
       "      <td>489.07</td>\n",
       "      <td>520088904</td>\n",
       "      <td>4d3b30da-a5e4-49df-b1a8-ba5943f1dd33</td>\n",
       "    </tr>\n",
       "    <tr>\n",
       "      <th>1</th>\n",
       "      <td>2019-11-01 00:00:00 UTC</td>\n",
       "      <td>view</td>\n",
       "      <td>5000088</td>\n",
       "      <td>2053013566100866035</td>\n",
       "      <td>appliances.sewing_machine</td>\n",
       "      <td>janome</td>\n",
       "      <td>293.65</td>\n",
       "      <td>530496790</td>\n",
       "      <td>8e5f4f83-366c-4f70-860e-ca7417414283</td>\n",
       "    </tr>\n",
       "    <tr>\n",
       "      <th>2</th>\n",
       "      <td>2019-11-01 00:00:01 UTC</td>\n",
       "      <td>view</td>\n",
       "      <td>17302664</td>\n",
       "      <td>2053013553853497655</td>\n",
       "      <td>NaN</td>\n",
       "      <td>creed</td>\n",
       "      <td>28.31</td>\n",
       "      <td>561587266</td>\n",
       "      <td>755422e7-9040-477b-9bd2-6a6e8fd97387</td>\n",
       "    </tr>\n",
       "    <tr>\n",
       "      <th>3</th>\n",
       "      <td>2019-11-01 00:00:01 UTC</td>\n",
       "      <td>view</td>\n",
       "      <td>3601530</td>\n",
       "      <td>2053013563810775923</td>\n",
       "      <td>appliances.kitchen.washer</td>\n",
       "      <td>lg</td>\n",
       "      <td>712.87</td>\n",
       "      <td>518085591</td>\n",
       "      <td>3bfb58cd-7892-48cc-8020-2f17e6de6e7f</td>\n",
       "    </tr>\n",
       "    <tr>\n",
       "      <th>4</th>\n",
       "      <td>2019-11-01 00:00:01 UTC</td>\n",
       "      <td>view</td>\n",
       "      <td>1004775</td>\n",
       "      <td>2053013555631882655</td>\n",
       "      <td>electronics.smartphone</td>\n",
       "      <td>xiaomi</td>\n",
       "      <td>183.27</td>\n",
       "      <td>558856683</td>\n",
       "      <td>313628f1-68b8-460d-84f6-cec7a8796ef2</td>\n",
       "    </tr>\n",
       "  </tbody>\n",
       "</table>\n",
       "</div>"
      ],
      "text/plain": [
       "                event_time event_type  product_id          category_id  \\\n",
       "0  2019-11-01 00:00:00 UTC       view     1003461  2053013555631882655   \n",
       "1  2019-11-01 00:00:00 UTC       view     5000088  2053013566100866035   \n",
       "2  2019-11-01 00:00:01 UTC       view    17302664  2053013553853497655   \n",
       "3  2019-11-01 00:00:01 UTC       view     3601530  2053013563810775923   \n",
       "4  2019-11-01 00:00:01 UTC       view     1004775  2053013555631882655   \n",
       "\n",
       "               category_code   brand  price    user_id  \\\n",
       "0     electronics.smartphone  xiaomi 489.07  520088904   \n",
       "1  appliances.sewing_machine  janome 293.65  530496790   \n",
       "2                        NaN   creed  28.31  561587266   \n",
       "3  appliances.kitchen.washer      lg 712.87  518085591   \n",
       "4     electronics.smartphone  xiaomi 183.27  558856683   \n",
       "\n",
       "                           user_session  \n",
       "0  4d3b30da-a5e4-49df-b1a8-ba5943f1dd33  \n",
       "1  8e5f4f83-366c-4f70-860e-ca7417414283  \n",
       "2  755422e7-9040-477b-9bd2-6a6e8fd97387  \n",
       "3  3bfb58cd-7892-48cc-8020-2f17e6de6e7f  \n",
       "4  313628f1-68b8-460d-84f6-cec7a8796ef2  "
      ]
     },
     "execution_count": 81,
     "metadata": {},
     "output_type": "execute_result"
    }
   ],
   "source": [
    "pd.read_csv(file_name[0], nrows = 50).head()"
   ]
  },
  {
   "cell_type": "code",
   "execution_count": 4,
   "id": "5f1a50b2",
   "metadata": {},
   "outputs": [
    {
     "data": {
      "text/plain": [
       "['data\\\\2019-Nov.csv', 'data\\\\2019-Oct.csv']"
      ]
     },
     "execution_count": 4,
     "metadata": {},
     "output_type": "execute_result"
    }
   ],
   "source": [
    "file_name = glob('data/2019*')\n",
    "file_name"
   ]
  },
  {
   "cell_type": "code",
   "execution_count": 5,
   "id": "74aef285",
   "metadata": {},
   "outputs": [
    {
     "data": {
      "text/plain": [
       "['data\\\\2019-Oct.csv', 'data\\\\2019-Nov.csv']"
      ]
     },
     "execution_count": 5,
     "metadata": {},
     "output_type": "execute_result"
    }
   ],
   "source": [
    "priority_dict = {'data\\\\2019-Oct.csv': 0, 'data\\\\2019-Nov.csv': 1}\n",
    "file_name.sort(key=lambda x: priority_dict[x])\n",
    "file_name"
   ]
  },
  {
   "cell_type": "code",
   "execution_count": 6,
   "id": "c7e9ddd2",
   "metadata": {},
   "outputs": [
    {
     "name": "stdout",
     "output_type": "stream",
     "text": [
      "Wall time: 5min 49s\n"
     ]
    }
   ],
   "source": [
    "%%time\n",
    "october = preprocessing_(file_name[0])\n",
    "november = preprocessing_(file_name[1])"
   ]
  },
  {
   "cell_type": "code",
   "execution_count": 7,
   "id": "c1ba0d70",
   "metadata": {},
   "outputs": [
    {
     "name": "stdout",
     "output_type": "stream",
     "text": [
      "Wall time: 1min 50s\n"
     ]
    }
   ],
   "source": [
    "%%time\n",
    "october.to_parquet('data/october.gzip', compression='gzip')\n",
    "november.to_parquet('data/november.gzip', compression='gzip')"
   ]
  },
  {
   "cell_type": "code",
   "execution_count": 9,
   "id": "92f54f98",
   "metadata": {},
   "outputs": [],
   "source": [
    "october_df = pd.read_parquet('data/october.gzip')\n",
    "november_df = pd.read_parquet('data/november.gzip')"
   ]
  },
  {
   "cell_type": "code",
   "execution_count": 11,
   "id": "6e32b37f",
   "metadata": {},
   "outputs": [
    {
     "name": "stdout",
     "output_type": "stream",
     "text": [
      "<class 'pandas.core.frame.DataFrame'>\n",
      "RangeIndex: 26560622 entries, 0 to 26560621\n",
      "Data columns (total 7 columns):\n",
      " #   Column         Dtype  \n",
      "---  ------         -----  \n",
      " 0   event_time     object \n",
      " 1   event_type     object \n",
      " 2   product_id     int64  \n",
      " 3   category_code  object \n",
      " 4   brand          object \n",
      " 5   price          float32\n",
      " 6   user_id        int64  \n",
      "dtypes: float32(1), int64(2), object(4)\n",
      "memory usage: 1.3+ GB\n",
      "<class 'pandas.core.frame.DataFrame'>\n",
      "RangeIndex: 42089570 entries, 0 to 42089569\n",
      "Data columns (total 7 columns):\n",
      " #   Column         Dtype  \n",
      "---  ------         -----  \n",
      " 0   event_time     object \n",
      " 1   event_type     object \n",
      " 2   product_id     int64  \n",
      " 3   category_code  object \n",
      " 4   brand          object \n",
      " 5   price          float32\n",
      " 6   user_id        int64  \n",
      "dtypes: float32(1), int64(2), object(4)\n",
      "memory usage: 2.0+ GB\n"
     ]
    }
   ],
   "source": [
    "october_df.info()\n",
    "november_df.info()"
   ]
  },
  {
   "cell_type": "code",
   "execution_count": 10,
   "id": "8efd6fd6",
   "metadata": {},
   "outputs": [
    {
     "data": {
      "text/html": [
       "<div>\n",
       "<style scoped>\n",
       "    .dataframe tbody tr th:only-of-type {\n",
       "        vertical-align: middle;\n",
       "    }\n",
       "\n",
       "    .dataframe tbody tr th {\n",
       "        vertical-align: top;\n",
       "    }\n",
       "\n",
       "    .dataframe thead th {\n",
       "        text-align: right;\n",
       "    }\n",
       "</style>\n",
       "<table border=\"1\" class=\"dataframe\">\n",
       "  <thead>\n",
       "    <tr style=\"text-align: right;\">\n",
       "      <th></th>\n",
       "      <th>event_time</th>\n",
       "      <th>event_type</th>\n",
       "      <th>product_id</th>\n",
       "      <th>category_code</th>\n",
       "      <th>brand</th>\n",
       "      <th>price</th>\n",
       "      <th>user_id</th>\n",
       "    </tr>\n",
       "  </thead>\n",
       "  <tbody>\n",
       "    <tr>\n",
       "      <th>0</th>\n",
       "      <td>2019-10-01 00:00:00 UTC</td>\n",
       "      <td>view</td>\n",
       "      <td>3900821</td>\n",
       "      <td>appliances.environment.water_heater</td>\n",
       "      <td>aqua</td>\n",
       "      <td>33.20</td>\n",
       "      <td>554748717</td>\n",
       "    </tr>\n",
       "    <tr>\n",
       "      <th>1</th>\n",
       "      <td>2019-10-01 00:00:01 UTC</td>\n",
       "      <td>view</td>\n",
       "      <td>1307067</td>\n",
       "      <td>computers.notebook</td>\n",
       "      <td>lenovo</td>\n",
       "      <td>251.74</td>\n",
       "      <td>550050854</td>\n",
       "    </tr>\n",
       "  </tbody>\n",
       "</table>\n",
       "</div>"
      ],
      "text/plain": [
       "                event_time event_type  product_id  \\\n",
       "0  2019-10-01 00:00:00 UTC       view     3900821   \n",
       "1  2019-10-01 00:00:01 UTC       view     1307067   \n",
       "\n",
       "                         category_code   brand  price    user_id  \n",
       "0  appliances.environment.water_heater    aqua  33.20  554748717  \n",
       "1                   computers.notebook  lenovo 251.74  550050854  "
      ]
     },
     "metadata": {},
     "output_type": "display_data"
    },
    {
     "data": {
      "text/html": [
       "<div>\n",
       "<style scoped>\n",
       "    .dataframe tbody tr th:only-of-type {\n",
       "        vertical-align: middle;\n",
       "    }\n",
       "\n",
       "    .dataframe tbody tr th {\n",
       "        vertical-align: top;\n",
       "    }\n",
       "\n",
       "    .dataframe thead th {\n",
       "        text-align: right;\n",
       "    }\n",
       "</style>\n",
       "<table border=\"1\" class=\"dataframe\">\n",
       "  <thead>\n",
       "    <tr style=\"text-align: right;\">\n",
       "      <th></th>\n",
       "      <th>event_time</th>\n",
       "      <th>event_type</th>\n",
       "      <th>product_id</th>\n",
       "      <th>category_code</th>\n",
       "      <th>brand</th>\n",
       "      <th>price</th>\n",
       "      <th>user_id</th>\n",
       "    </tr>\n",
       "  </thead>\n",
       "  <tbody>\n",
       "    <tr>\n",
       "      <th>0</th>\n",
       "      <td>2019-11-01 00:00:00 UTC</td>\n",
       "      <td>view</td>\n",
       "      <td>1003461</td>\n",
       "      <td>electronics.smartphone</td>\n",
       "      <td>xiaomi</td>\n",
       "      <td>489.07</td>\n",
       "      <td>520088904</td>\n",
       "    </tr>\n",
       "    <tr>\n",
       "      <th>1</th>\n",
       "      <td>2019-11-01 00:00:00 UTC</td>\n",
       "      <td>view</td>\n",
       "      <td>5000088</td>\n",
       "      <td>appliances.sewing_machine</td>\n",
       "      <td>janome</td>\n",
       "      <td>293.65</td>\n",
       "      <td>530496790</td>\n",
       "    </tr>\n",
       "  </tbody>\n",
       "</table>\n",
       "</div>"
      ],
      "text/plain": [
       "                event_time event_type  product_id              category_code  \\\n",
       "0  2019-11-01 00:00:00 UTC       view     1003461     electronics.smartphone   \n",
       "1  2019-11-01 00:00:00 UTC       view     5000088  appliances.sewing_machine   \n",
       "\n",
       "    brand  price    user_id  \n",
       "0  xiaomi 489.07  520088904  \n",
       "1  janome 293.65  530496790  "
      ]
     },
     "execution_count": 10,
     "metadata": {},
     "output_type": "execute_result"
    }
   ],
   "source": [
    "display(october_df.head(2))\n",
    "november_df.head(2)"
   ]
  },
  {
   "cell_type": "code",
   "execution_count": 13,
   "id": "303041f9",
   "metadata": {},
   "outputs": [
    {
     "name": "stdout",
     "output_type": "stream",
     "text": [
      "Wall time: 5.06 s\n"
     ]
    }
   ],
   "source": [
    "%%time\n",
    "conc_octnov = pd.concat([october_df,november_df])"
   ]
  },
  {
   "cell_type": "code",
   "execution_count": 14,
   "id": "710bc3c5",
   "metadata": {},
   "outputs": [
    {
     "name": "stdout",
     "output_type": "stream",
     "text": [
      "<class 'pandas.core.frame.DataFrame'>\n",
      "Int64Index: 68650192 entries, 0 to 42089569\n",
      "Data columns (total 7 columns):\n",
      " #   Column         Dtype  \n",
      "---  ------         -----  \n",
      " 0   event_time     object \n",
      " 1   event_type     object \n",
      " 2   product_id     int64  \n",
      " 3   category_code  object \n",
      " 4   brand          object \n",
      " 5   price          float32\n",
      " 6   user_id        int64  \n",
      "dtypes: float32(1), int64(2), object(4)\n",
      "memory usage: 3.8+ GB\n"
     ]
    }
   ],
   "source": [
    "conc_octnov.info()"
   ]
  },
  {
   "cell_type": "code",
   "execution_count": 15,
   "id": "c7fb5ba4",
   "metadata": {},
   "outputs": [
    {
     "name": "stdout",
     "output_type": "stream",
     "text": [
      "Wall time: 2min 37s\n"
     ]
    }
   ],
   "source": [
    "%%time\n",
    "conc_octnov.to_parquet('data/conc_octnov.gzip',compression='gzip')"
   ]
  },
  {
   "cell_type": "code",
   "execution_count": 82,
   "id": "69d0a5cd",
   "metadata": {},
   "outputs": [
    {
     "name": "stdout",
     "output_type": "stream",
     "text": [
      "<class 'pandas.core.frame.DataFrame'>\n",
      "Int64Index: 68650192 entries, 0 to 42089569\n",
      "Data columns (total 7 columns):\n",
      " #   Column         Dtype  \n",
      "---  ------         -----  \n",
      " 0   event_time     object \n",
      " 1   event_type     object \n",
      " 2   product_id     int64  \n",
      " 3   category_code  object \n",
      " 4   brand          object \n",
      " 5   price          float32\n",
      " 6   user_id        int64  \n",
      "dtypes: float32(1), int64(2), object(4)\n",
      "memory usage: 3.8+ GB\n"
     ]
    }
   ],
   "source": [
    "pd.read_parquet('data/conc_octnov.gzip').info()"
   ]
  },
  {
   "cell_type": "code",
   "execution_count": 2,
   "id": "88d778a5",
   "metadata": {},
   "outputs": [
    {
     "name": "stdout",
     "output_type": "stream",
     "text": [
      "Wall time: 44 s\n"
     ]
    }
   ],
   "source": [
    "%%time\n",
    "octnov_df = pd.read_parquet('data/conc_octnov.gzip')"
   ]
  },
  {
   "cell_type": "code",
   "execution_count": 5,
   "id": "328341e2",
   "metadata": {},
   "outputs": [],
   "source": [
    "octnov_df = down_casting(octnov_df)"
   ]
  },
  {
   "cell_type": "code",
   "execution_count": 9,
   "id": "875559b5",
   "metadata": {},
   "outputs": [
    {
     "name": "stdout",
     "output_type": "stream",
     "text": [
      "<class 'pandas.core.frame.DataFrame'>\n",
      "Int64Index: 68650192 entries, 0 to 42089569\n",
      "Data columns (total 7 columns):\n",
      " #   Column         Dtype  \n",
      "---  ------         -----  \n",
      " 0   event_time     object \n",
      " 1   event_type     object \n",
      " 2   product_id     uint32 \n",
      " 3   category_code  object \n",
      " 4   brand          object \n",
      " 5   price          float32\n",
      " 6   user_id        uint32 \n",
      "dtypes: float32(1), object(4), uint32(2)\n",
      "memory usage: 3.3+ GB\n"
     ]
    }
   ],
   "source": [
    "octnov_df.info()"
   ]
  },
  {
   "cell_type": "code",
   "execution_count": 14,
   "id": "7e998b4b",
   "metadata": {},
   "outputs": [
    {
     "data": {
      "text/html": [
       "<div>\n",
       "<style scoped>\n",
       "    .dataframe tbody tr th:only-of-type {\n",
       "        vertical-align: middle;\n",
       "    }\n",
       "\n",
       "    .dataframe tbody tr th {\n",
       "        vertical-align: top;\n",
       "    }\n",
       "\n",
       "    .dataframe thead th {\n",
       "        text-align: right;\n",
       "    }\n",
       "</style>\n",
       "<table border=\"1\" class=\"dataframe\">\n",
       "  <thead>\n",
       "    <tr style=\"text-align: right;\">\n",
       "      <th></th>\n",
       "      <th>event_time</th>\n",
       "      <th>event_type</th>\n",
       "      <th>product_id</th>\n",
       "      <th>category_code</th>\n",
       "      <th>brand</th>\n",
       "      <th>price</th>\n",
       "      <th>user_id</th>\n",
       "    </tr>\n",
       "  </thead>\n",
       "  <tbody>\n",
       "    <tr>\n",
       "      <th>0</th>\n",
       "      <td>2019-10-01 00:00:00 UTC</td>\n",
       "      <td>view</td>\n",
       "      <td>3900821</td>\n",
       "      <td>appliances.environment.water_heater</td>\n",
       "      <td>aqua</td>\n",
       "      <td>33.20</td>\n",
       "      <td>554748717</td>\n",
       "    </tr>\n",
       "    <tr>\n",
       "      <th>1</th>\n",
       "      <td>2019-10-01 00:00:01 UTC</td>\n",
       "      <td>view</td>\n",
       "      <td>1307067</td>\n",
       "      <td>computers.notebook</td>\n",
       "      <td>lenovo</td>\n",
       "      <td>251.74</td>\n",
       "      <td>550050854</td>\n",
       "    </tr>\n",
       "    <tr>\n",
       "      <th>2</th>\n",
       "      <td>2019-10-01 00:00:04 UTC</td>\n",
       "      <td>view</td>\n",
       "      <td>1004237</td>\n",
       "      <td>electronics.smartphone</td>\n",
       "      <td>apple</td>\n",
       "      <td>1081.98</td>\n",
       "      <td>535871217</td>\n",
       "    </tr>\n",
       "    <tr>\n",
       "      <th>3</th>\n",
       "      <td>2019-10-01 00:00:05 UTC</td>\n",
       "      <td>view</td>\n",
       "      <td>1480613</td>\n",
       "      <td>computers.desktop</td>\n",
       "      <td>pulser</td>\n",
       "      <td>908.62</td>\n",
       "      <td>512742880</td>\n",
       "    </tr>\n",
       "    <tr>\n",
       "      <th>4</th>\n",
       "      <td>2019-10-01 00:00:10 UTC</td>\n",
       "      <td>view</td>\n",
       "      <td>28719074</td>\n",
       "      <td>apparel.shoes.keds</td>\n",
       "      <td>baden</td>\n",
       "      <td>102.71</td>\n",
       "      <td>520571932</td>\n",
       "    </tr>\n",
       "    <tr>\n",
       "      <th>5</th>\n",
       "      <td>2019-10-01 00:00:11 UTC</td>\n",
       "      <td>view</td>\n",
       "      <td>1004545</td>\n",
       "      <td>electronics.smartphone</td>\n",
       "      <td>huawei</td>\n",
       "      <td>566.01</td>\n",
       "      <td>537918940</td>\n",
       "    </tr>\n",
       "    <tr>\n",
       "      <th>6</th>\n",
       "      <td>2019-10-01 00:00:11 UTC</td>\n",
       "      <td>view</td>\n",
       "      <td>2900536</td>\n",
       "      <td>appliances.kitchen.microwave</td>\n",
       "      <td>elenberg</td>\n",
       "      <td>51.46</td>\n",
       "      <td>555158050</td>\n",
       "    </tr>\n",
       "    <tr>\n",
       "      <th>7</th>\n",
       "      <td>2019-10-01 00:00:11 UTC</td>\n",
       "      <td>view</td>\n",
       "      <td>1005011</td>\n",
       "      <td>electronics.smartphone</td>\n",
       "      <td>samsung</td>\n",
       "      <td>900.64</td>\n",
       "      <td>530282093</td>\n",
       "    </tr>\n",
       "  </tbody>\n",
       "</table>\n",
       "</div>"
      ],
      "text/plain": [
       "                event_time event_type  product_id  \\\n",
       "0  2019-10-01 00:00:00 UTC       view     3900821   \n",
       "1  2019-10-01 00:00:01 UTC       view     1307067   \n",
       "2  2019-10-01 00:00:04 UTC       view     1004237   \n",
       "3  2019-10-01 00:00:05 UTC       view     1480613   \n",
       "4  2019-10-01 00:00:10 UTC       view    28719074   \n",
       "5  2019-10-01 00:00:11 UTC       view     1004545   \n",
       "6  2019-10-01 00:00:11 UTC       view     2900536   \n",
       "7  2019-10-01 00:00:11 UTC       view     1005011   \n",
       "\n",
       "                         category_code     brand   price    user_id  \n",
       "0  appliances.environment.water_heater      aqua   33.20  554748717  \n",
       "1                   computers.notebook    lenovo  251.74  550050854  \n",
       "2               electronics.smartphone     apple 1081.98  535871217  \n",
       "3                    computers.desktop    pulser  908.62  512742880  \n",
       "4                   apparel.shoes.keds     baden  102.71  520571932  \n",
       "5               electronics.smartphone    huawei  566.01  537918940  \n",
       "6         appliances.kitchen.microwave  elenberg   51.46  555158050  \n",
       "7               electronics.smartphone   samsung  900.64  530282093  "
      ]
     },
     "execution_count": 14,
     "metadata": {},
     "output_type": "execute_result"
    }
   ],
   "source": [
    "test = octnov_df.head(8)\n",
    "test"
   ]
  },
  {
   "cell_type": "code",
   "execution_count": 7,
   "id": "ab9340a0",
   "metadata": {},
   "outputs": [],
   "source": [
    "def split_category(A):\n",
    "    return A.split('.')[0]"
   ]
  },
  {
   "cell_type": "code",
   "execution_count": null,
   "id": "462fbc82",
   "metadata": {},
   "outputs": [],
   "source": [
    "test['category_code'].map(split_category)"
   ]
  },
  {
   "cell_type": "code",
   "execution_count": 49,
   "id": "9721c4e4",
   "metadata": {},
   "outputs": [
    {
     "name": "stderr",
     "output_type": "stream",
     "text": [
      "C:\\Users\\juku\\AppData\\Local\\Temp\\ipykernel_8108\\880631087.py:1: SettingWithCopyWarning: \n",
      "A value is trying to be set on a copy of a slice from a DataFrame.\n",
      "Try using .loc[row_indexer,col_indexer] = value instead\n",
      "\n",
      "See the caveats in the documentation: https://pandas.pydata.org/pandas-docs/stable/user_guide/indexing.html#returning-a-view-versus-a-copy\n",
      "  test['large_category'] = test['category_code'].map(split_category).copy()\n"
     ]
    },
    {
     "data": {
      "text/html": [
       "<div>\n",
       "<style scoped>\n",
       "    .dataframe tbody tr th:only-of-type {\n",
       "        vertical-align: middle;\n",
       "    }\n",
       "\n",
       "    .dataframe tbody tr th {\n",
       "        vertical-align: top;\n",
       "    }\n",
       "\n",
       "    .dataframe thead th {\n",
       "        text-align: right;\n",
       "    }\n",
       "</style>\n",
       "<table border=\"1\" class=\"dataframe\">\n",
       "  <thead>\n",
       "    <tr style=\"text-align: right;\">\n",
       "      <th></th>\n",
       "      <th>event_time</th>\n",
       "      <th>event_type</th>\n",
       "      <th>product_id</th>\n",
       "      <th>category_code</th>\n",
       "      <th>brand</th>\n",
       "      <th>price</th>\n",
       "      <th>user_id</th>\n",
       "      <th>large_category</th>\n",
       "    </tr>\n",
       "  </thead>\n",
       "  <tbody>\n",
       "    <tr>\n",
       "      <th>1</th>\n",
       "      <td>2019-10-01 00:00:01 UTC</td>\n",
       "      <td>view</td>\n",
       "      <td>1307067</td>\n",
       "      <td>computers.notebook</td>\n",
       "      <td>lenovo</td>\n",
       "      <td>251.74</td>\n",
       "      <td>550050854</td>\n",
       "      <td>computers</td>\n",
       "    </tr>\n",
       "    <tr>\n",
       "      <th>2</th>\n",
       "      <td>2019-10-01 00:00:04 UTC</td>\n",
       "      <td>view</td>\n",
       "      <td>1004237</td>\n",
       "      <td>electronics.smartphone</td>\n",
       "      <td>apple</td>\n",
       "      <td>1081.98</td>\n",
       "      <td>535871217</td>\n",
       "      <td>electronics</td>\n",
       "    </tr>\n",
       "    <tr>\n",
       "      <th>3</th>\n",
       "      <td>2019-10-01 00:00:05 UTC</td>\n",
       "      <td>view</td>\n",
       "      <td>1480613</td>\n",
       "      <td>computers.desktop</td>\n",
       "      <td>pulser</td>\n",
       "      <td>908.62</td>\n",
       "      <td>512742880</td>\n",
       "      <td>computers</td>\n",
       "    </tr>\n",
       "    <tr>\n",
       "      <th>5</th>\n",
       "      <td>2019-10-01 00:00:11 UTC</td>\n",
       "      <td>view</td>\n",
       "      <td>1004545</td>\n",
       "      <td>electronics.smartphone</td>\n",
       "      <td>huawei</td>\n",
       "      <td>566.01</td>\n",
       "      <td>537918940</td>\n",
       "      <td>electronics</td>\n",
       "    </tr>\n",
       "    <tr>\n",
       "      <th>7</th>\n",
       "      <td>2019-10-01 00:00:11 UTC</td>\n",
       "      <td>view</td>\n",
       "      <td>1005011</td>\n",
       "      <td>electronics.smartphone</td>\n",
       "      <td>samsung</td>\n",
       "      <td>900.64</td>\n",
       "      <td>530282093</td>\n",
       "      <td>electronics</td>\n",
       "    </tr>\n",
       "  </tbody>\n",
       "</table>\n",
       "</div>"
      ],
      "text/plain": [
       "                event_time event_type  product_id           category_code  \\\n",
       "1  2019-10-01 00:00:01 UTC       view     1307067      computers.notebook   \n",
       "2  2019-10-01 00:00:04 UTC       view     1004237  electronics.smartphone   \n",
       "3  2019-10-01 00:00:05 UTC       view     1480613       computers.desktop   \n",
       "5  2019-10-01 00:00:11 UTC       view     1004545  electronics.smartphone   \n",
       "7  2019-10-01 00:00:11 UTC       view     1005011  electronics.smartphone   \n",
       "\n",
       "     brand   price    user_id large_category  \n",
       "1   lenovo  251.74  550050854      computers  \n",
       "2    apple 1081.98  535871217    electronics  \n",
       "3   pulser  908.62  512742880      computers  \n",
       "5   huawei  566.01  537918940    electronics  \n",
       "7  samsung  900.64  530282093    electronics  "
      ]
     },
     "execution_count": 49,
     "metadata": {},
     "output_type": "execute_result"
    }
   ],
   "source": [
    "test['large_category'] = test['category_code'].map(split_category).copy()\n",
    "test[test['large_category'].isin(['computers', 'electronics'])]"
   ]
  },
  {
   "cell_type": "code",
   "execution_count": 8,
   "id": "cf9b2461",
   "metadata": {},
   "outputs": [
    {
     "name": "stdout",
     "output_type": "stream",
     "text": [
      "Wall time: 21.6 s\n"
     ]
    }
   ],
   "source": [
    "%%time\n",
    "octnov_df['large_category'] = octnov_df['category_code'].map(split_category).copy()"
   ]
  },
  {
   "cell_type": "code",
   "execution_count": 9,
   "id": "72f20e5c",
   "metadata": {},
   "outputs": [
    {
     "name": "stdout",
     "output_type": "stream",
     "text": [
      "Wall time: 1min 13s\n"
     ]
    },
    {
     "data": {
      "text/html": [
       "<div>\n",
       "<style scoped>\n",
       "    .dataframe tbody tr th:only-of-type {\n",
       "        vertical-align: middle;\n",
       "    }\n",
       "\n",
       "    .dataframe tbody tr th {\n",
       "        vertical-align: top;\n",
       "    }\n",
       "\n",
       "    .dataframe thead th {\n",
       "        text-align: right;\n",
       "    }\n",
       "</style>\n",
       "<table border=\"1\" class=\"dataframe\">\n",
       "  <thead>\n",
       "    <tr style=\"text-align: right;\">\n",
       "      <th></th>\n",
       "      <th>event_time</th>\n",
       "      <th>event_type</th>\n",
       "      <th>product_id</th>\n",
       "      <th>category_code</th>\n",
       "      <th>brand</th>\n",
       "      <th>price</th>\n",
       "      <th>user_id</th>\n",
       "      <th>large_category</th>\n",
       "    </tr>\n",
       "  </thead>\n",
       "  <tbody>\n",
       "    <tr>\n",
       "      <th>1</th>\n",
       "      <td>2019-10-01 00:00:01 UTC</td>\n",
       "      <td>view</td>\n",
       "      <td>1307067</td>\n",
       "      <td>computers.notebook</td>\n",
       "      <td>lenovo</td>\n",
       "      <td>251.74</td>\n",
       "      <td>550050854</td>\n",
       "      <td>computers</td>\n",
       "    </tr>\n",
       "    <tr>\n",
       "      <th>2</th>\n",
       "      <td>2019-10-01 00:00:04 UTC</td>\n",
       "      <td>view</td>\n",
       "      <td>1004237</td>\n",
       "      <td>electronics.smartphone</td>\n",
       "      <td>apple</td>\n",
       "      <td>1081.98</td>\n",
       "      <td>535871217</td>\n",
       "      <td>electronics</td>\n",
       "    </tr>\n",
       "    <tr>\n",
       "      <th>3</th>\n",
       "      <td>2019-10-01 00:00:05 UTC</td>\n",
       "      <td>view</td>\n",
       "      <td>1480613</td>\n",
       "      <td>computers.desktop</td>\n",
       "      <td>pulser</td>\n",
       "      <td>908.62</td>\n",
       "      <td>512742880</td>\n",
       "      <td>computers</td>\n",
       "    </tr>\n",
       "    <tr>\n",
       "      <th>5</th>\n",
       "      <td>2019-10-01 00:00:11 UTC</td>\n",
       "      <td>view</td>\n",
       "      <td>1004545</td>\n",
       "      <td>electronics.smartphone</td>\n",
       "      <td>huawei</td>\n",
       "      <td>566.01</td>\n",
       "      <td>537918940</td>\n",
       "      <td>electronics</td>\n",
       "    </tr>\n",
       "    <tr>\n",
       "      <th>7</th>\n",
       "      <td>2019-10-01 00:00:11 UTC</td>\n",
       "      <td>view</td>\n",
       "      <td>1005011</td>\n",
       "      <td>electronics.smartphone</td>\n",
       "      <td>samsung</td>\n",
       "      <td>900.64</td>\n",
       "      <td>530282093</td>\n",
       "      <td>electronics</td>\n",
       "    </tr>\n",
       "    <tr>\n",
       "      <th>10</th>\n",
       "      <td>2019-10-01 00:00:18 UTC</td>\n",
       "      <td>view</td>\n",
       "      <td>1801995</td>\n",
       "      <td>electronics.video.tv</td>\n",
       "      <td>haier</td>\n",
       "      <td>193.03</td>\n",
       "      <td>537192226</td>\n",
       "      <td>electronics</td>\n",
       "    </tr>\n",
       "    <tr>\n",
       "      <th>12</th>\n",
       "      <td>2019-10-01 00:00:19 UTC</td>\n",
       "      <td>view</td>\n",
       "      <td>1306631</td>\n",
       "      <td>computers.notebook</td>\n",
       "      <td>hp</td>\n",
       "      <td>580.89</td>\n",
       "      <td>550050854</td>\n",
       "      <td>computers</td>\n",
       "    </tr>\n",
       "    <tr>\n",
       "      <th>13</th>\n",
       "      <td>2019-10-01 00:00:19 UTC</td>\n",
       "      <td>view</td>\n",
       "      <td>1005135</td>\n",
       "      <td>electronics.smartphone</td>\n",
       "      <td>apple</td>\n",
       "      <td>1747.79</td>\n",
       "      <td>535871217</td>\n",
       "      <td>electronics</td>\n",
       "    </tr>\n",
       "  </tbody>\n",
       "</table>\n",
       "</div>"
      ],
      "text/plain": [
       "                 event_time event_type  product_id           category_code  \\\n",
       "1   2019-10-01 00:00:01 UTC       view     1307067      computers.notebook   \n",
       "2   2019-10-01 00:00:04 UTC       view     1004237  electronics.smartphone   \n",
       "3   2019-10-01 00:00:05 UTC       view     1480613       computers.desktop   \n",
       "5   2019-10-01 00:00:11 UTC       view     1004545  electronics.smartphone   \n",
       "7   2019-10-01 00:00:11 UTC       view     1005011  electronics.smartphone   \n",
       "10  2019-10-01 00:00:18 UTC       view     1801995    electronics.video.tv   \n",
       "12  2019-10-01 00:00:19 UTC       view     1306631      computers.notebook   \n",
       "13  2019-10-01 00:00:19 UTC       view     1005135  electronics.smartphone   \n",
       "\n",
       "      brand   price    user_id large_category  \n",
       "1    lenovo  251.74  550050854      computers  \n",
       "2     apple 1081.98  535871217    electronics  \n",
       "3    pulser  908.62  512742880      computers  \n",
       "5    huawei  566.01  537918940    electronics  \n",
       "7   samsung  900.64  530282093    electronics  \n",
       "10    haier  193.03  537192226    electronics  \n",
       "12       hp  580.89  550050854      computers  \n",
       "13    apple 1747.79  535871217    electronics  "
      ]
     },
     "execution_count": 9,
     "metadata": {},
     "output_type": "execute_result"
    }
   ],
   "source": [
    "%%time\n",
    "analysis_data = octnov_df[octnov_df['large_category'].isin(['computers', 'electronics'])]\n",
    "analysis_data.head(8)"
   ]
  },
  {
   "cell_type": "code",
   "execution_count": 10,
   "id": "d5a59826",
   "metadata": {},
   "outputs": [],
   "source": [
    "def split_small_category(B):\n",
    "    return B.split('.')[-1]"
   ]
  },
  {
   "cell_type": "code",
   "execution_count": 11,
   "id": "f8e14c09",
   "metadata": {},
   "outputs": [
    {
     "name": "stdout",
     "output_type": "stream",
     "text": [
      "Wall time: 15.8 s\n"
     ]
    },
    {
     "name": "stderr",
     "output_type": "stream",
     "text": [
      "<timed exec>:1: SettingWithCopyWarning: \n",
      "A value is trying to be set on a copy of a slice from a DataFrame.\n",
      "Try using .loc[row_indexer,col_indexer] = value instead\n",
      "\n",
      "See the caveats in the documentation: https://pandas.pydata.org/pandas-docs/stable/user_guide/indexing.html#returning-a-view-versus-a-copy\n"
     ]
    }
   ],
   "source": [
    "%%time\n",
    "analysis_data['small_category'] = analysis_data['category_code'].map(split_small_category).copy()"
   ]
  },
  {
   "cell_type": "code",
   "execution_count": 64,
   "id": "11830614",
   "metadata": {},
   "outputs": [
    {
     "data": {
      "text/html": [
       "<div>\n",
       "<style scoped>\n",
       "    .dataframe tbody tr th:only-of-type {\n",
       "        vertical-align: middle;\n",
       "    }\n",
       "\n",
       "    .dataframe tbody tr th {\n",
       "        vertical-align: top;\n",
       "    }\n",
       "\n",
       "    .dataframe thead th {\n",
       "        text-align: right;\n",
       "    }\n",
       "</style>\n",
       "<table border=\"1\" class=\"dataframe\">\n",
       "  <thead>\n",
       "    <tr style=\"text-align: right;\">\n",
       "      <th></th>\n",
       "      <th>event_time</th>\n",
       "      <th>event_type</th>\n",
       "      <th>product_id</th>\n",
       "      <th>category_code</th>\n",
       "      <th>large_category</th>\n",
       "      <th>small_category</th>\n",
       "      <th>brand</th>\n",
       "      <th>price</th>\n",
       "      <th>user_id</th>\n",
       "    </tr>\n",
       "  </thead>\n",
       "  <tbody>\n",
       "    <tr>\n",
       "      <th>1</th>\n",
       "      <td>2019-10-01 00:00:01 UTC</td>\n",
       "      <td>view</td>\n",
       "      <td>1307067</td>\n",
       "      <td>computers.notebook</td>\n",
       "      <td>computers</td>\n",
       "      <td>notebook</td>\n",
       "      <td>lenovo</td>\n",
       "      <td>251.74</td>\n",
       "      <td>550050854</td>\n",
       "    </tr>\n",
       "    <tr>\n",
       "      <th>2</th>\n",
       "      <td>2019-10-01 00:00:04 UTC</td>\n",
       "      <td>view</td>\n",
       "      <td>1004237</td>\n",
       "      <td>electronics.smartphone</td>\n",
       "      <td>electronics</td>\n",
       "      <td>smartphone</td>\n",
       "      <td>apple</td>\n",
       "      <td>1081.98</td>\n",
       "      <td>535871217</td>\n",
       "    </tr>\n",
       "    <tr>\n",
       "      <th>3</th>\n",
       "      <td>2019-10-01 00:00:05 UTC</td>\n",
       "      <td>view</td>\n",
       "      <td>1480613</td>\n",
       "      <td>computers.desktop</td>\n",
       "      <td>computers</td>\n",
       "      <td>desktop</td>\n",
       "      <td>pulser</td>\n",
       "      <td>908.62</td>\n",
       "      <td>512742880</td>\n",
       "    </tr>\n",
       "    <tr>\n",
       "      <th>5</th>\n",
       "      <td>2019-10-01 00:00:11 UTC</td>\n",
       "      <td>view</td>\n",
       "      <td>1004545</td>\n",
       "      <td>electronics.smartphone</td>\n",
       "      <td>electronics</td>\n",
       "      <td>smartphone</td>\n",
       "      <td>huawei</td>\n",
       "      <td>566.01</td>\n",
       "      <td>537918940</td>\n",
       "    </tr>\n",
       "    <tr>\n",
       "      <th>7</th>\n",
       "      <td>2019-10-01 00:00:11 UTC</td>\n",
       "      <td>view</td>\n",
       "      <td>1005011</td>\n",
       "      <td>electronics.smartphone</td>\n",
       "      <td>electronics</td>\n",
       "      <td>smartphone</td>\n",
       "      <td>samsung</td>\n",
       "      <td>900.64</td>\n",
       "      <td>530282093</td>\n",
       "    </tr>\n",
       "  </tbody>\n",
       "</table>\n",
       "</div>"
      ],
      "text/plain": [
       "                event_time event_type  product_id           category_code  \\\n",
       "1  2019-10-01 00:00:01 UTC       view     1307067      computers.notebook   \n",
       "2  2019-10-01 00:00:04 UTC       view     1004237  electronics.smartphone   \n",
       "3  2019-10-01 00:00:05 UTC       view     1480613       computers.desktop   \n",
       "5  2019-10-01 00:00:11 UTC       view     1004545  electronics.smartphone   \n",
       "7  2019-10-01 00:00:11 UTC       view     1005011  electronics.smartphone   \n",
       "\n",
       "  large_category small_category    brand   price    user_id  \n",
       "1      computers       notebook   lenovo  251.74  550050854  \n",
       "2    electronics     smartphone    apple 1081.98  535871217  \n",
       "3      computers        desktop   pulser  908.62  512742880  \n",
       "5    electronics     smartphone   huawei  566.01  537918940  \n",
       "7    electronics     smartphone  samsung  900.64  530282093  "
      ]
     },
     "execution_count": 64,
     "metadata": {},
     "output_type": "execute_result"
    }
   ],
   "source": [
    "analysis_data.head()"
   ]
  },
  {
   "cell_type": "code",
   "execution_count": 12,
   "id": "48a8b47c",
   "metadata": {},
   "outputs": [
    {
     "name": "stdout",
     "output_type": "stream",
     "text": [
      "Wall time: 2min 28s\n"
     ]
    }
   ],
   "source": [
    "%%time\n",
    "analysis_data = analysis_data[['event_time', 'event_type', 'product_id', 'category_code', 'large_category', 'small_category', 'brand', 'price', 'user_id']]"
   ]
  },
  {
   "cell_type": "code",
   "execution_count": 77,
   "id": "84257660",
   "metadata": {},
   "outputs": [
    {
     "data": {
      "text/html": [
       "<div>\n",
       "<style scoped>\n",
       "    .dataframe tbody tr th:only-of-type {\n",
       "        vertical-align: middle;\n",
       "    }\n",
       "\n",
       "    .dataframe tbody tr th {\n",
       "        vertical-align: top;\n",
       "    }\n",
       "\n",
       "    .dataframe thead th {\n",
       "        text-align: right;\n",
       "    }\n",
       "</style>\n",
       "<table border=\"1\" class=\"dataframe\">\n",
       "  <thead>\n",
       "    <tr style=\"text-align: right;\">\n",
       "      <th></th>\n",
       "      <th>event_time</th>\n",
       "      <th>event_type</th>\n",
       "      <th>product_id</th>\n",
       "      <th>category_code</th>\n",
       "      <th>large_category</th>\n",
       "      <th>small_category</th>\n",
       "      <th>brand</th>\n",
       "      <th>price</th>\n",
       "      <th>user_id</th>\n",
       "    </tr>\n",
       "  </thead>\n",
       "  <tbody>\n",
       "    <tr>\n",
       "      <th>1</th>\n",
       "      <td>2019-10-01 00:00:01 UTC</td>\n",
       "      <td>view</td>\n",
       "      <td>1307067</td>\n",
       "      <td>computers.notebook</td>\n",
       "      <td>computers</td>\n",
       "      <td>notebook</td>\n",
       "      <td>lenovo</td>\n",
       "      <td>251.74</td>\n",
       "      <td>550050854</td>\n",
       "    </tr>\n",
       "    <tr>\n",
       "      <th>2</th>\n",
       "      <td>2019-10-01 00:00:04 UTC</td>\n",
       "      <td>view</td>\n",
       "      <td>1004237</td>\n",
       "      <td>electronics.smartphone</td>\n",
       "      <td>electronics</td>\n",
       "      <td>smartphone</td>\n",
       "      <td>apple</td>\n",
       "      <td>1081.98</td>\n",
       "      <td>535871217</td>\n",
       "    </tr>\n",
       "  </tbody>\n",
       "</table>\n",
       "</div>"
      ],
      "text/plain": [
       "                event_time event_type  product_id           category_code  \\\n",
       "1  2019-10-01 00:00:01 UTC       view     1307067      computers.notebook   \n",
       "2  2019-10-01 00:00:04 UTC       view     1004237  electronics.smartphone   \n",
       "\n",
       "  large_category small_category   brand   price    user_id  \n",
       "1      computers       notebook  lenovo  251.74  550050854  \n",
       "2    electronics     smartphone   apple 1081.98  535871217  "
      ]
     },
     "execution_count": 77,
     "metadata": {},
     "output_type": "execute_result"
    }
   ],
   "source": [
    "analysis_data.head(2)"
   ]
  },
  {
   "cell_type": "code",
   "execution_count": 13,
   "id": "299c8442",
   "metadata": {},
   "outputs": [
    {
     "name": "stdout",
     "output_type": "stream",
     "text": [
      "Wall time: 2min 49s\n"
     ]
    }
   ],
   "source": [
    "%%time\n",
    "analysis_data.to_parquet('data/analysis_data.gzip',compression='gzip')"
   ]
  },
  {
   "cell_type": "code",
   "execution_count": 14,
   "id": "a889e423",
   "metadata": {},
   "outputs": [
    {
     "data": {
      "text/html": [
       "<div>\n",
       "<style scoped>\n",
       "    .dataframe tbody tr th:only-of-type {\n",
       "        vertical-align: middle;\n",
       "    }\n",
       "\n",
       "    .dataframe tbody tr th {\n",
       "        vertical-align: top;\n",
       "    }\n",
       "\n",
       "    .dataframe thead th {\n",
       "        text-align: right;\n",
       "    }\n",
       "</style>\n",
       "<table border=\"1\" class=\"dataframe\">\n",
       "  <thead>\n",
       "    <tr style=\"text-align: right;\">\n",
       "      <th></th>\n",
       "      <th>event_time</th>\n",
       "      <th>event_type</th>\n",
       "      <th>product_id</th>\n",
       "      <th>category_code</th>\n",
       "      <th>large_category</th>\n",
       "      <th>small_category</th>\n",
       "      <th>brand</th>\n",
       "      <th>price</th>\n",
       "      <th>user_id</th>\n",
       "    </tr>\n",
       "  </thead>\n",
       "  <tbody>\n",
       "    <tr>\n",
       "      <th>1</th>\n",
       "      <td>2019-10-01 00:00:01 UTC</td>\n",
       "      <td>view</td>\n",
       "      <td>1307067</td>\n",
       "      <td>computers.notebook</td>\n",
       "      <td>computers</td>\n",
       "      <td>notebook</td>\n",
       "      <td>lenovo</td>\n",
       "      <td>251.74</td>\n",
       "      <td>550050854</td>\n",
       "    </tr>\n",
       "    <tr>\n",
       "      <th>2</th>\n",
       "      <td>2019-10-01 00:00:04 UTC</td>\n",
       "      <td>view</td>\n",
       "      <td>1004237</td>\n",
       "      <td>electronics.smartphone</td>\n",
       "      <td>electronics</td>\n",
       "      <td>smartphone</td>\n",
       "      <td>apple</td>\n",
       "      <td>1081.98</td>\n",
       "      <td>535871217</td>\n",
       "    </tr>\n",
       "    <tr>\n",
       "      <th>3</th>\n",
       "      <td>2019-10-01 00:00:05 UTC</td>\n",
       "      <td>view</td>\n",
       "      <td>1480613</td>\n",
       "      <td>computers.desktop</td>\n",
       "      <td>computers</td>\n",
       "      <td>desktop</td>\n",
       "      <td>pulser</td>\n",
       "      <td>908.62</td>\n",
       "      <td>512742880</td>\n",
       "    </tr>\n",
       "    <tr>\n",
       "      <th>5</th>\n",
       "      <td>2019-10-01 00:00:11 UTC</td>\n",
       "      <td>view</td>\n",
       "      <td>1004545</td>\n",
       "      <td>electronics.smartphone</td>\n",
       "      <td>electronics</td>\n",
       "      <td>smartphone</td>\n",
       "      <td>huawei</td>\n",
       "      <td>566.01</td>\n",
       "      <td>537918940</td>\n",
       "    </tr>\n",
       "    <tr>\n",
       "      <th>7</th>\n",
       "      <td>2019-10-01 00:00:11 UTC</td>\n",
       "      <td>view</td>\n",
       "      <td>1005011</td>\n",
       "      <td>electronics.smartphone</td>\n",
       "      <td>electronics</td>\n",
       "      <td>smartphone</td>\n",
       "      <td>samsung</td>\n",
       "      <td>900.64</td>\n",
       "      <td>530282093</td>\n",
       "    </tr>\n",
       "  </tbody>\n",
       "</table>\n",
       "</div>"
      ],
      "text/plain": [
       "                event_time event_type  product_id           category_code  \\\n",
       "1  2019-10-01 00:00:01 UTC       view     1307067      computers.notebook   \n",
       "2  2019-10-01 00:00:04 UTC       view     1004237  electronics.smartphone   \n",
       "3  2019-10-01 00:00:05 UTC       view     1480613       computers.desktop   \n",
       "5  2019-10-01 00:00:11 UTC       view     1004545  electronics.smartphone   \n",
       "7  2019-10-01 00:00:11 UTC       view     1005011  electronics.smartphone   \n",
       "\n",
       "  large_category small_category    brand   price    user_id  \n",
       "1      computers       notebook   lenovo  251.74  550050854  \n",
       "2    electronics     smartphone    apple 1081.98  535871217  \n",
       "3      computers        desktop   pulser  908.62  512742880  \n",
       "5    electronics     smartphone   huawei  566.01  537918940  \n",
       "7    electronics     smartphone  samsung  900.64  530282093  "
      ]
     },
     "execution_count": 14,
     "metadata": {},
     "output_type": "execute_result"
    }
   ],
   "source": [
    "pd.read_parquet('data/analysis_data.gzip').head()"
   ]
  },
  {
   "cell_type": "code",
   "execution_count": 15,
   "id": "c381c004",
   "metadata": {},
   "outputs": [
    {
     "name": "stdout",
     "output_type": "stream",
     "text": [
      "Wall time: 38.3 s\n"
     ]
    }
   ],
   "source": [
    "%%time\n",
    "analysis_data_2 = analysis_data.drop(columns=['category_code'])"
   ]
  },
  {
   "cell_type": "code",
   "execution_count": 16,
   "id": "de49f33d",
   "metadata": {},
   "outputs": [],
   "source": [
    "analysis_data_2 = analysis_data_2.drop_duplicates()"
   ]
  },
  {
   "cell_type": "code",
   "execution_count": 17,
   "id": "46b6aebc",
   "metadata": {},
   "outputs": [
    {
     "name": "stdout",
     "output_type": "stream",
     "text": [
      "Wall time: 2min 26s\n"
     ]
    }
   ],
   "source": [
    "%%time\n",
    "analysis_data_2.to_parquet('data/analysis_data_2.gzip', compression = 'gzip')"
   ]
  },
  {
   "cell_type": "markdown",
   "id": "2d6725eb",
   "metadata": {},
   "source": [
    "##### 분석할 데이터 바로 불러오기"
   ]
  },
  {
   "cell_type": "code",
   "execution_count": 5,
   "id": "c8443752",
   "metadata": {},
   "outputs": [
    {
     "name": "stdout",
     "output_type": "stream",
     "text": [
      "<class 'pandas.core.frame.DataFrame'>\n",
      "RangeIndex: 45635900 entries, 0 to 45635899\n",
      "Data columns (total 8 columns):\n",
      " #   Column          Dtype  \n",
      "---  ------          -----  \n",
      " 0   event_time      object \n",
      " 1   event_type      object \n",
      " 2   product_id      int64  \n",
      " 3   large_category  object \n",
      " 4   small_category  object \n",
      " 5   brand           object \n",
      " 6   price           float32\n",
      " 7   user_id         int64  \n",
      "dtypes: float32(1), int64(2), object(5)\n",
      "memory usage: 2.6+ GB\n",
      "Wall time: 17.1 s\n"
     ]
    }
   ],
   "source": [
    "%%time\n",
    "analysis_df = pd.read_parquet('data/analysis_data_2.gzip').reset_index(drop = True)\n",
    "analysis_df.info()"
   ]
  },
  {
   "cell_type": "markdown",
   "id": "73074439",
   "metadata": {},
   "source": [
    "#### 전처리한 데이터를 바탕으로 DAU/MAU 구하기"
   ]
  },
  {
   "cell_type": "markdown",
   "id": "4c3538e5",
   "metadata": {},
   "source": [
    "##### DAU 구하기"
   ]
  },
  {
   "cell_type": "code",
   "execution_count": 19,
   "id": "53dfa8c5",
   "metadata": {},
   "outputs": [
    {
     "data": {
      "text/html": [
       "<div>\n",
       "<style scoped>\n",
       "    .dataframe tbody tr th:only-of-type {\n",
       "        vertical-align: middle;\n",
       "    }\n",
       "\n",
       "    .dataframe tbody tr th {\n",
       "        vertical-align: top;\n",
       "    }\n",
       "\n",
       "    .dataframe thead th {\n",
       "        text-align: right;\n",
       "    }\n",
       "</style>\n",
       "<table border=\"1\" class=\"dataframe\">\n",
       "  <thead>\n",
       "    <tr style=\"text-align: right;\">\n",
       "      <th></th>\n",
       "      <th>event_time</th>\n",
       "      <th>event_type</th>\n",
       "      <th>product_id</th>\n",
       "      <th>large_category</th>\n",
       "      <th>small_category</th>\n",
       "      <th>brand</th>\n",
       "      <th>price</th>\n",
       "      <th>user_id</th>\n",
       "    </tr>\n",
       "  </thead>\n",
       "  <tbody>\n",
       "    <tr>\n",
       "      <th>0</th>\n",
       "      <td>2019-10-01 00:00:01 UTC</td>\n",
       "      <td>view</td>\n",
       "      <td>1307067</td>\n",
       "      <td>computers</td>\n",
       "      <td>notebook</td>\n",
       "      <td>lenovo</td>\n",
       "      <td>251.74</td>\n",
       "      <td>550050854</td>\n",
       "    </tr>\n",
       "    <tr>\n",
       "      <th>1</th>\n",
       "      <td>2019-10-01 00:00:04 UTC</td>\n",
       "      <td>view</td>\n",
       "      <td>1004237</td>\n",
       "      <td>electronics</td>\n",
       "      <td>smartphone</td>\n",
       "      <td>apple</td>\n",
       "      <td>1081.98</td>\n",
       "      <td>535871217</td>\n",
       "    </tr>\n",
       "    <tr>\n",
       "      <th>2</th>\n",
       "      <td>2019-10-01 00:00:05 UTC</td>\n",
       "      <td>view</td>\n",
       "      <td>1480613</td>\n",
       "      <td>computers</td>\n",
       "      <td>desktop</td>\n",
       "      <td>pulser</td>\n",
       "      <td>908.62</td>\n",
       "      <td>512742880</td>\n",
       "    </tr>\n",
       "    <tr>\n",
       "      <th>3</th>\n",
       "      <td>2019-10-01 00:00:11 UTC</td>\n",
       "      <td>view</td>\n",
       "      <td>1004545</td>\n",
       "      <td>electronics</td>\n",
       "      <td>smartphone</td>\n",
       "      <td>huawei</td>\n",
       "      <td>566.01</td>\n",
       "      <td>537918940</td>\n",
       "    </tr>\n",
       "    <tr>\n",
       "      <th>4</th>\n",
       "      <td>2019-10-01 00:00:11 UTC</td>\n",
       "      <td>view</td>\n",
       "      <td>1005011</td>\n",
       "      <td>electronics</td>\n",
       "      <td>smartphone</td>\n",
       "      <td>samsung</td>\n",
       "      <td>900.64</td>\n",
       "      <td>530282093</td>\n",
       "    </tr>\n",
       "  </tbody>\n",
       "</table>\n",
       "</div>"
      ],
      "text/plain": [
       "                event_time event_type  product_id large_category  \\\n",
       "0  2019-10-01 00:00:01 UTC       view     1307067      computers   \n",
       "1  2019-10-01 00:00:04 UTC       view     1004237    electronics   \n",
       "2  2019-10-01 00:00:05 UTC       view     1480613      computers   \n",
       "3  2019-10-01 00:00:11 UTC       view     1004545    electronics   \n",
       "4  2019-10-01 00:00:11 UTC       view     1005011    electronics   \n",
       "\n",
       "  small_category    brand   price    user_id  \n",
       "0       notebook   lenovo  251.74  550050854  \n",
       "1     smartphone    apple 1081.98  535871217  \n",
       "2        desktop   pulser  908.62  512742880  \n",
       "3     smartphone   huawei  566.01  537918940  \n",
       "4     smartphone  samsung  900.64  530282093  "
      ]
     },
     "execution_count": 19,
     "metadata": {},
     "output_type": "execute_result"
    }
   ],
   "source": [
    "analysis_df.head()"
   ]
  },
  {
   "cell_type": "code",
   "execution_count": 21,
   "id": "112fc31a",
   "metadata": {},
   "outputs": [
    {
     "data": {
      "text/html": [
       "<div>\n",
       "<style scoped>\n",
       "    .dataframe tbody tr th:only-of-type {\n",
       "        vertical-align: middle;\n",
       "    }\n",
       "\n",
       "    .dataframe tbody tr th {\n",
       "        vertical-align: top;\n",
       "    }\n",
       "\n",
       "    .dataframe thead th {\n",
       "        text-align: right;\n",
       "    }\n",
       "</style>\n",
       "<table border=\"1\" class=\"dataframe\">\n",
       "  <thead>\n",
       "    <tr style=\"text-align: right;\">\n",
       "      <th></th>\n",
       "      <th>event_time</th>\n",
       "      <th>event_type</th>\n",
       "      <th>product_id</th>\n",
       "      <th>large_category</th>\n",
       "      <th>small_category</th>\n",
       "      <th>brand</th>\n",
       "      <th>price</th>\n",
       "      <th>user_id</th>\n",
       "    </tr>\n",
       "  </thead>\n",
       "  <tbody>\n",
       "    <tr>\n",
       "      <th>0</th>\n",
       "      <td>2019-10-01 00:00:01 UTC</td>\n",
       "      <td>view</td>\n",
       "      <td>1307067</td>\n",
       "      <td>computers</td>\n",
       "      <td>notebook</td>\n",
       "      <td>lenovo</td>\n",
       "      <td>251.74</td>\n",
       "      <td>550050854</td>\n",
       "    </tr>\n",
       "    <tr>\n",
       "      <th>1</th>\n",
       "      <td>2019-10-01 00:00:04 UTC</td>\n",
       "      <td>view</td>\n",
       "      <td>1004237</td>\n",
       "      <td>electronics</td>\n",
       "      <td>smartphone</td>\n",
       "      <td>apple</td>\n",
       "      <td>1081.98</td>\n",
       "      <td>535871217</td>\n",
       "    </tr>\n",
       "    <tr>\n",
       "      <th>2</th>\n",
       "      <td>2019-10-01 00:00:05 UTC</td>\n",
       "      <td>view</td>\n",
       "      <td>1480613</td>\n",
       "      <td>computers</td>\n",
       "      <td>desktop</td>\n",
       "      <td>pulser</td>\n",
       "      <td>908.62</td>\n",
       "      <td>512742880</td>\n",
       "    </tr>\n",
       "    <tr>\n",
       "      <th>3</th>\n",
       "      <td>2019-10-01 00:00:11 UTC</td>\n",
       "      <td>view</td>\n",
       "      <td>1004545</td>\n",
       "      <td>electronics</td>\n",
       "      <td>smartphone</td>\n",
       "      <td>huawei</td>\n",
       "      <td>566.01</td>\n",
       "      <td>537918940</td>\n",
       "    </tr>\n",
       "    <tr>\n",
       "      <th>4</th>\n",
       "      <td>2019-10-01 00:00:11 UTC</td>\n",
       "      <td>view</td>\n",
       "      <td>1005011</td>\n",
       "      <td>electronics</td>\n",
       "      <td>smartphone</td>\n",
       "      <td>samsung</td>\n",
       "      <td>900.64</td>\n",
       "      <td>530282093</td>\n",
       "    </tr>\n",
       "  </tbody>\n",
       "</table>\n",
       "</div>"
      ],
      "text/plain": [
       "                event_time event_type  product_id large_category  \\\n",
       "0  2019-10-01 00:00:01 UTC       view     1307067      computers   \n",
       "1  2019-10-01 00:00:04 UTC       view     1004237    electronics   \n",
       "2  2019-10-01 00:00:05 UTC       view     1480613      computers   \n",
       "3  2019-10-01 00:00:11 UTC       view     1004545    electronics   \n",
       "4  2019-10-01 00:00:11 UTC       view     1005011    electronics   \n",
       "\n",
       "  small_category    brand   price    user_id  \n",
       "0       notebook   lenovo  251.74  550050854  \n",
       "1     smartphone    apple 1081.98  535871217  \n",
       "2        desktop   pulser  908.62  512742880  \n",
       "3     smartphone   huawei  566.01  537918940  \n",
       "4     smartphone  samsung  900.64  530282093  "
      ]
     },
     "execution_count": 21,
     "metadata": {},
     "output_type": "execute_result"
    }
   ],
   "source": [
    "aa = analysis_df.head()\n",
    "aa"
   ]
  },
  {
   "cell_type": "code",
   "execution_count": 6,
   "id": "107ff561",
   "metadata": {},
   "outputs": [],
   "source": [
    "def leave_only_date(datetime):\n",
    "    return datetime[:10]"
   ]
  },
  {
   "cell_type": "code",
   "execution_count": 7,
   "id": "2966801a",
   "metadata": {},
   "outputs": [],
   "source": [
    "def leave_only_YM(datetime):\n",
    "    return datetime[:7]"
   ]
  },
  {
   "cell_type": "code",
   "execution_count": 34,
   "id": "a13e298a",
   "metadata": {},
   "outputs": [
    {
     "name": "stderr",
     "output_type": "stream",
     "text": [
      "C:\\Users\\juku\\AppData\\Local\\Temp\\ipykernel_4412\\4292155006.py:1: SettingWithCopyWarning: \n",
      "A value is trying to be set on a copy of a slice from a DataFrame.\n",
      "Try using .loc[row_indexer,col_indexer] = value instead\n",
      "\n",
      "See the caveats in the documentation: https://pandas.pydata.org/pandas-docs/stable/user_guide/indexing.html#returning-a-view-versus-a-copy\n",
      "  aa['event_time'] = aa['event_time'].map(leave_only_date).copy()\n"
     ]
    },
    {
     "data": {
      "text/html": [
       "<div>\n",
       "<style scoped>\n",
       "    .dataframe tbody tr th:only-of-type {\n",
       "        vertical-align: middle;\n",
       "    }\n",
       "\n",
       "    .dataframe tbody tr th {\n",
       "        vertical-align: top;\n",
       "    }\n",
       "\n",
       "    .dataframe thead th {\n",
       "        text-align: right;\n",
       "    }\n",
       "</style>\n",
       "<table border=\"1\" class=\"dataframe\">\n",
       "  <thead>\n",
       "    <tr style=\"text-align: right;\">\n",
       "      <th></th>\n",
       "      <th>event_time</th>\n",
       "      <th>event_type</th>\n",
       "      <th>product_id</th>\n",
       "      <th>large_category</th>\n",
       "      <th>small_category</th>\n",
       "      <th>brand</th>\n",
       "      <th>price</th>\n",
       "      <th>user_id</th>\n",
       "    </tr>\n",
       "  </thead>\n",
       "  <tbody>\n",
       "    <tr>\n",
       "      <th>0</th>\n",
       "      <td>2019-10-01</td>\n",
       "      <td>view</td>\n",
       "      <td>1307067</td>\n",
       "      <td>computers</td>\n",
       "      <td>notebook</td>\n",
       "      <td>lenovo</td>\n",
       "      <td>251.74</td>\n",
       "      <td>550050854</td>\n",
       "    </tr>\n",
       "    <tr>\n",
       "      <th>1</th>\n",
       "      <td>2019-10-01</td>\n",
       "      <td>view</td>\n",
       "      <td>1004237</td>\n",
       "      <td>electronics</td>\n",
       "      <td>smartphone</td>\n",
       "      <td>apple</td>\n",
       "      <td>1081.98</td>\n",
       "      <td>535871217</td>\n",
       "    </tr>\n",
       "    <tr>\n",
       "      <th>2</th>\n",
       "      <td>2019-10-01</td>\n",
       "      <td>view</td>\n",
       "      <td>1480613</td>\n",
       "      <td>computers</td>\n",
       "      <td>desktop</td>\n",
       "      <td>pulser</td>\n",
       "      <td>908.62</td>\n",
       "      <td>512742880</td>\n",
       "    </tr>\n",
       "    <tr>\n",
       "      <th>3</th>\n",
       "      <td>2019-10-01</td>\n",
       "      <td>view</td>\n",
       "      <td>1004545</td>\n",
       "      <td>electronics</td>\n",
       "      <td>smartphone</td>\n",
       "      <td>huawei</td>\n",
       "      <td>566.01</td>\n",
       "      <td>537918940</td>\n",
       "    </tr>\n",
       "    <tr>\n",
       "      <th>4</th>\n",
       "      <td>2019-10-01</td>\n",
       "      <td>view</td>\n",
       "      <td>1005011</td>\n",
       "      <td>electronics</td>\n",
       "      <td>smartphone</td>\n",
       "      <td>samsung</td>\n",
       "      <td>900.64</td>\n",
       "      <td>530282093</td>\n",
       "    </tr>\n",
       "  </tbody>\n",
       "</table>\n",
       "</div>"
      ],
      "text/plain": [
       "   event_time event_type  product_id large_category small_category    brand  \\\n",
       "0  2019-10-01       view     1307067      computers       notebook   lenovo   \n",
       "1  2019-10-01       view     1004237    electronics     smartphone    apple   \n",
       "2  2019-10-01       view     1480613      computers        desktop   pulser   \n",
       "3  2019-10-01       view     1004545    electronics     smartphone   huawei   \n",
       "4  2019-10-01       view     1005011    electronics     smartphone  samsung   \n",
       "\n",
       "    price    user_id  \n",
       "0  251.74  550050854  \n",
       "1 1081.98  535871217  \n",
       "2  908.62  512742880  \n",
       "3  566.01  537918940  \n",
       "4  900.64  530282093  "
      ]
     },
     "execution_count": 34,
     "metadata": {},
     "output_type": "execute_result"
    }
   ],
   "source": [
    "aa['event_time'] = aa['event_time'].map(leave_only_date).copy()\n",
    "aa"
   ]
  },
  {
   "cell_type": "code",
   "execution_count": 8,
   "id": "3155f28e",
   "metadata": {},
   "outputs": [
    {
     "name": "stdout",
     "output_type": "stream",
     "text": [
      "Wall time: 10.4 s\n"
     ]
    },
    {
     "data": {
      "text/html": [
       "<div>\n",
       "<style scoped>\n",
       "    .dataframe tbody tr th:only-of-type {\n",
       "        vertical-align: middle;\n",
       "    }\n",
       "\n",
       "    .dataframe tbody tr th {\n",
       "        vertical-align: top;\n",
       "    }\n",
       "\n",
       "    .dataframe thead th {\n",
       "        text-align: right;\n",
       "    }\n",
       "</style>\n",
       "<table border=\"1\" class=\"dataframe\">\n",
       "  <thead>\n",
       "    <tr style=\"text-align: right;\">\n",
       "      <th></th>\n",
       "      <th>event_time</th>\n",
       "      <th>event_type</th>\n",
       "      <th>product_id</th>\n",
       "      <th>large_category</th>\n",
       "      <th>small_category</th>\n",
       "      <th>brand</th>\n",
       "      <th>price</th>\n",
       "      <th>user_id</th>\n",
       "    </tr>\n",
       "  </thead>\n",
       "  <tbody>\n",
       "    <tr>\n",
       "      <th>0</th>\n",
       "      <td>2019-10-01</td>\n",
       "      <td>view</td>\n",
       "      <td>1307067</td>\n",
       "      <td>computers</td>\n",
       "      <td>notebook</td>\n",
       "      <td>lenovo</td>\n",
       "      <td>251.74</td>\n",
       "      <td>550050854</td>\n",
       "    </tr>\n",
       "    <tr>\n",
       "      <th>1</th>\n",
       "      <td>2019-10-01</td>\n",
       "      <td>view</td>\n",
       "      <td>1004237</td>\n",
       "      <td>electronics</td>\n",
       "      <td>smartphone</td>\n",
       "      <td>apple</td>\n",
       "      <td>1081.98</td>\n",
       "      <td>535871217</td>\n",
       "    </tr>\n",
       "    <tr>\n",
       "      <th>2</th>\n",
       "      <td>2019-10-01</td>\n",
       "      <td>view</td>\n",
       "      <td>1480613</td>\n",
       "      <td>computers</td>\n",
       "      <td>desktop</td>\n",
       "      <td>pulser</td>\n",
       "      <td>908.62</td>\n",
       "      <td>512742880</td>\n",
       "    </tr>\n",
       "    <tr>\n",
       "      <th>3</th>\n",
       "      <td>2019-10-01</td>\n",
       "      <td>view</td>\n",
       "      <td>1004545</td>\n",
       "      <td>electronics</td>\n",
       "      <td>smartphone</td>\n",
       "      <td>huawei</td>\n",
       "      <td>566.01</td>\n",
       "      <td>537918940</td>\n",
       "    </tr>\n",
       "    <tr>\n",
       "      <th>4</th>\n",
       "      <td>2019-10-01</td>\n",
       "      <td>view</td>\n",
       "      <td>1005011</td>\n",
       "      <td>electronics</td>\n",
       "      <td>smartphone</td>\n",
       "      <td>samsung</td>\n",
       "      <td>900.64</td>\n",
       "      <td>530282093</td>\n",
       "    </tr>\n",
       "  </tbody>\n",
       "</table>\n",
       "</div>"
      ],
      "text/plain": [
       "   event_time event_type  product_id large_category small_category    brand  \\\n",
       "0  2019-10-01       view     1307067      computers       notebook   lenovo   \n",
       "1  2019-10-01       view     1004237    electronics     smartphone    apple   \n",
       "2  2019-10-01       view     1480613      computers        desktop   pulser   \n",
       "3  2019-10-01       view     1004545    electronics     smartphone   huawei   \n",
       "4  2019-10-01       view     1005011    electronics     smartphone  samsung   \n",
       "\n",
       "    price    user_id  \n",
       "0  251.74  550050854  \n",
       "1 1081.98  535871217  \n",
       "2  908.62  512742880  \n",
       "3  566.01  537918940  \n",
       "4  900.64  530282093  "
      ]
     },
     "execution_count": 8,
     "metadata": {},
     "output_type": "execute_result"
    }
   ],
   "source": [
    "%%time\n",
    "analysis_df['event_time'] = analysis_df['event_time'].map(leave_only_date).copy()\n",
    "analysis_df.head()"
   ]
  },
  {
   "cell_type": "code",
   "execution_count": 10,
   "id": "b13a2b5b",
   "metadata": {},
   "outputs": [
    {
     "name": "stdout",
     "output_type": "stream",
     "text": [
      "Wall time: 12 s\n"
     ]
    },
    {
     "data": {
      "text/html": [
       "<div>\n",
       "<style scoped>\n",
       "    .dataframe tbody tr th:only-of-type {\n",
       "        vertical-align: middle;\n",
       "    }\n",
       "\n",
       "    .dataframe tbody tr th {\n",
       "        vertical-align: top;\n",
       "    }\n",
       "\n",
       "    .dataframe thead th {\n",
       "        text-align: right;\n",
       "    }\n",
       "</style>\n",
       "<table border=\"1\" class=\"dataframe\">\n",
       "  <thead>\n",
       "    <tr style=\"text-align: right;\">\n",
       "      <th></th>\n",
       "      <th>event_time</th>\n",
       "      <th>event_type</th>\n",
       "      <th>product_id</th>\n",
       "      <th>large_category</th>\n",
       "      <th>small_category</th>\n",
       "      <th>brand</th>\n",
       "      <th>price</th>\n",
       "      <th>user_id</th>\n",
       "      <th>event_time_YM</th>\n",
       "    </tr>\n",
       "  </thead>\n",
       "  <tbody>\n",
       "    <tr>\n",
       "      <th>0</th>\n",
       "      <td>2019-10-01</td>\n",
       "      <td>view</td>\n",
       "      <td>1307067</td>\n",
       "      <td>computers</td>\n",
       "      <td>notebook</td>\n",
       "      <td>lenovo</td>\n",
       "      <td>251.74</td>\n",
       "      <td>550050854</td>\n",
       "      <td>2019-10</td>\n",
       "    </tr>\n",
       "    <tr>\n",
       "      <th>1</th>\n",
       "      <td>2019-10-01</td>\n",
       "      <td>view</td>\n",
       "      <td>1004237</td>\n",
       "      <td>electronics</td>\n",
       "      <td>smartphone</td>\n",
       "      <td>apple</td>\n",
       "      <td>1081.98</td>\n",
       "      <td>535871217</td>\n",
       "      <td>2019-10</td>\n",
       "    </tr>\n",
       "    <tr>\n",
       "      <th>2</th>\n",
       "      <td>2019-10-01</td>\n",
       "      <td>view</td>\n",
       "      <td>1480613</td>\n",
       "      <td>computers</td>\n",
       "      <td>desktop</td>\n",
       "      <td>pulser</td>\n",
       "      <td>908.62</td>\n",
       "      <td>512742880</td>\n",
       "      <td>2019-10</td>\n",
       "    </tr>\n",
       "    <tr>\n",
       "      <th>3</th>\n",
       "      <td>2019-10-01</td>\n",
       "      <td>view</td>\n",
       "      <td>1004545</td>\n",
       "      <td>electronics</td>\n",
       "      <td>smartphone</td>\n",
       "      <td>huawei</td>\n",
       "      <td>566.01</td>\n",
       "      <td>537918940</td>\n",
       "      <td>2019-10</td>\n",
       "    </tr>\n",
       "    <tr>\n",
       "      <th>4</th>\n",
       "      <td>2019-10-01</td>\n",
       "      <td>view</td>\n",
       "      <td>1005011</td>\n",
       "      <td>electronics</td>\n",
       "      <td>smartphone</td>\n",
       "      <td>samsung</td>\n",
       "      <td>900.64</td>\n",
       "      <td>530282093</td>\n",
       "      <td>2019-10</td>\n",
       "    </tr>\n",
       "  </tbody>\n",
       "</table>\n",
       "</div>"
      ],
      "text/plain": [
       "   event_time event_type  product_id large_category small_category    brand  \\\n",
       "0  2019-10-01       view     1307067      computers       notebook   lenovo   \n",
       "1  2019-10-01       view     1004237    electronics     smartphone    apple   \n",
       "2  2019-10-01       view     1480613      computers        desktop   pulser   \n",
       "3  2019-10-01       view     1004545    electronics     smartphone   huawei   \n",
       "4  2019-10-01       view     1005011    electronics     smartphone  samsung   \n",
       "\n",
       "    price    user_id event_time_YM  \n",
       "0  251.74  550050854       2019-10  \n",
       "1 1081.98  535871217       2019-10  \n",
       "2  908.62  512742880       2019-10  \n",
       "3  566.01  537918940       2019-10  \n",
       "4  900.64  530282093       2019-10  "
      ]
     },
     "execution_count": 10,
     "metadata": {},
     "output_type": "execute_result"
    }
   ],
   "source": [
    "%%time\n",
    "analysis_df[\"event_time_YM\"] = analysis_df['event_time'].map(leave_only_YM).copy()\n",
    "analysis_df.head()"
   ]
  },
  {
   "cell_type": "code",
   "execution_count": 7,
   "id": "4fdb3d37",
   "metadata": {},
   "outputs": [],
   "source": [
    "# analysis_df[\"event_time\"] = pd.to_datetime(analysis_df[\"event_time\"])"
   ]
  },
  {
   "cell_type": "code",
   "execution_count": 11,
   "id": "b0bf7b7e",
   "metadata": {},
   "outputs": [
    {
     "name": "stdout",
     "output_type": "stream",
     "text": [
      "<class 'pandas.core.frame.DataFrame'>\n",
      "RangeIndex: 45635900 entries, 0 to 45635899\n",
      "Data columns (total 9 columns):\n",
      " #   Column          Dtype  \n",
      "---  ------          -----  \n",
      " 0   event_time      object \n",
      " 1   event_type      object \n",
      " 2   product_id      int64  \n",
      " 3   large_category  object \n",
      " 4   small_category  object \n",
      " 5   brand           object \n",
      " 6   price           float32\n",
      " 7   user_id         int64  \n",
      " 8   event_time_YM   object \n",
      "dtypes: float32(1), int64(2), object(6)\n",
      "memory usage: 2.9+ GB\n"
     ]
    }
   ],
   "source": [
    "analysis_df.info()"
   ]
  },
  {
   "cell_type": "markdown",
   "id": "e23a831e",
   "metadata": {},
   "source": [
    "##### (바로 불러오기) DAU MAU 구하기 위한 최종 전처리 데이터 "
   ]
  },
  {
   "cell_type": "code",
   "execution_count": 12,
   "id": "48729560",
   "metadata": {
    "scrolled": true
   },
   "outputs": [
    {
     "name": "stdout",
     "output_type": "stream",
     "text": [
      "Wall time: 1min 25s\n"
     ]
    }
   ],
   "source": [
    "%%time\n",
    "analysis_df.to_parquet('data/final_analysis_data.gzip', compression = 'gzip')"
   ]
  },
  {
   "cell_type": "code",
   "execution_count": 21,
   "id": "0a6e1a03",
   "metadata": {},
   "outputs": [],
   "source": [
    "# %%time\n",
    "# DAU = analysis_d.groupby('event_time').agg({'user_id': pd.Series.value_counts})f"
   ]
  },
  {
   "cell_type": "code",
   "execution_count": 22,
   "id": "7dac3f0a",
   "metadata": {},
   "outputs": [
    {
     "name": "stdout",
     "output_type": "stream",
     "text": [
      "Wall time: 46.9 s\n"
     ]
    }
   ],
   "source": [
    "%%time\n",
    "for_dau_data = analysis_df[['event_time','user_id']].drop_duplicates()\n",
    "DAU = for_dau_data.groupby('event_time').agg({'user_id':'count'})"
   ]
  },
  {
   "cell_type": "code",
   "execution_count": 24,
   "id": "b32bcf70",
   "metadata": {},
   "outputs": [
    {
     "data": {
      "text/html": [
       "<div>\n",
       "<style scoped>\n",
       "    .dataframe tbody tr th:only-of-type {\n",
       "        vertical-align: middle;\n",
       "    }\n",
       "\n",
       "    .dataframe tbody tr th {\n",
       "        vertical-align: top;\n",
       "    }\n",
       "\n",
       "    .dataframe thead th {\n",
       "        text-align: right;\n",
       "    }\n",
       "</style>\n",
       "<table border=\"1\" class=\"dataframe\">\n",
       "  <thead>\n",
       "    <tr style=\"text-align: right;\">\n",
       "      <th></th>\n",
       "      <th>user_id</th>\n",
       "    </tr>\n",
       "    <tr>\n",
       "      <th>event_time</th>\n",
       "      <th></th>\n",
       "    </tr>\n",
       "  </thead>\n",
       "  <tbody>\n",
       "    <tr>\n",
       "      <th>2019-10-01</th>\n",
       "      <td>100763</td>\n",
       "    </tr>\n",
       "    <tr>\n",
       "      <th>2019-10-02</th>\n",
       "      <td>99545</td>\n",
       "    </tr>\n",
       "    <tr>\n",
       "      <th>2019-10-03</th>\n",
       "      <td>95691</td>\n",
       "    </tr>\n",
       "    <tr>\n",
       "      <th>2019-10-04</th>\n",
       "      <td>114703</td>\n",
       "    </tr>\n",
       "    <tr>\n",
       "      <th>2019-10-05</th>\n",
       "      <td>102536</td>\n",
       "    </tr>\n",
       "  </tbody>\n",
       "</table>\n",
       "</div>"
      ],
      "text/plain": [
       "            user_id\n",
       "event_time         \n",
       "2019-10-01   100763\n",
       "2019-10-02    99545\n",
       "2019-10-03    95691\n",
       "2019-10-04   114703\n",
       "2019-10-05   102536"
      ]
     },
     "execution_count": 24,
     "metadata": {},
     "output_type": "execute_result"
    }
   ],
   "source": [
    "DAU.head()"
   ]
  },
  {
   "cell_type": "markdown",
   "id": "f1209c0f",
   "metadata": {},
   "source": [
    "##### MAU 구하기"
   ]
  },
  {
   "cell_type": "code",
   "execution_count": 71,
   "id": "0b45c96d",
   "metadata": {},
   "outputs": [
    {
     "name": "stdout",
     "output_type": "stream",
     "text": [
      "Wall time: 9.39 s\n"
     ]
    }
   ],
   "source": [
    "%%time\n",
    "for_mau_data = analysis_df[['event_time_YM','user_id']].drop_duplicates()\n",
    "MAU = for_mau_data.groupby('event_time_YM').agg({'user_id':'count'})"
   ]
  },
  {
   "cell_type": "code",
   "execution_count": 67,
   "id": "2d0a4dd9",
   "metadata": {},
   "outputs": [
    {
     "data": {
      "text/html": [
       "<div>\n",
       "<style scoped>\n",
       "    .dataframe tbody tr th:only-of-type {\n",
       "        vertical-align: middle;\n",
       "    }\n",
       "\n",
       "    .dataframe tbody tr th {\n",
       "        vertical-align: top;\n",
       "    }\n",
       "\n",
       "    .dataframe thead th {\n",
       "        text-align: right;\n",
       "    }\n",
       "</style>\n",
       "<table border=\"1\" class=\"dataframe\">\n",
       "  <thead>\n",
       "    <tr style=\"text-align: right;\">\n",
       "      <th></th>\n",
       "      <th>user_id</th>\n",
       "    </tr>\n",
       "    <tr>\n",
       "      <th>event_time_YM</th>\n",
       "      <th></th>\n",
       "    </tr>\n",
       "  </thead>\n",
       "  <tbody>\n",
       "    <tr>\n",
       "      <th>2019-10</th>\n",
       "      <td>1782150</td>\n",
       "    </tr>\n",
       "    <tr>\n",
       "      <th>2019-11</th>\n",
       "      <td>2206500</td>\n",
       "    </tr>\n",
       "  </tbody>\n",
       "</table>\n",
       "</div>"
      ],
      "text/plain": [
       "               user_id\n",
       "event_time_YM         \n",
       "2019-10        1782150\n",
       "2019-11        2206500"
      ]
     },
     "execution_count": 67,
     "metadata": {},
     "output_type": "execute_result"
    }
   ],
   "source": [
    "MAU"
   ]
  },
  {
   "cell_type": "code",
   "execution_count": 75,
   "id": "37879e1f",
   "metadata": {},
   "outputs": [
    {
     "data": {
      "text/html": [
       "<div>\n",
       "<style scoped>\n",
       "    .dataframe tbody tr th:only-of-type {\n",
       "        vertical-align: middle;\n",
       "    }\n",
       "\n",
       "    .dataframe tbody tr th {\n",
       "        vertical-align: top;\n",
       "    }\n",
       "\n",
       "    .dataframe thead th {\n",
       "        text-align: right;\n",
       "    }\n",
       "</style>\n",
       "<table border=\"1\" class=\"dataframe\">\n",
       "  <thead>\n",
       "    <tr style=\"text-align: right;\">\n",
       "      <th></th>\n",
       "      <th>Total_user_count</th>\n",
       "      <th>Year-Month</th>\n",
       "    </tr>\n",
       "  </thead>\n",
       "  <tbody>\n",
       "    <tr>\n",
       "      <th>0</th>\n",
       "      <td>1782150</td>\n",
       "      <td>2019-10</td>\n",
       "    </tr>\n",
       "    <tr>\n",
       "      <th>1</th>\n",
       "      <td>2206500</td>\n",
       "      <td>2019-11</td>\n",
       "    </tr>\n",
       "  </tbody>\n",
       "</table>\n",
       "</div>"
      ],
      "text/plain": [
       "   Total_user_count Year-Month\n",
       "0           1782150    2019-10\n",
       "1           2206500    2019-11"
      ]
     },
     "execution_count": 75,
     "metadata": {},
     "output_type": "execute_result"
    }
   ],
   "source": [
    "MAU['Year-Month'] = MAU.index\n",
    "MAU = MAU.rename(columns={'user_id':'Total_user_count'})\n",
    "MAU = MAU.reset_index(drop = True)\n",
    "MAU"
   ]
  },
  {
   "cell_type": "markdown",
   "id": "375c27f7",
   "metadata": {},
   "source": [
    "#### DAU MAU 시각화"
   ]
  },
  {
   "cell_type": "code",
   "execution_count": 46,
   "id": "38280b9f",
   "metadata": {},
   "outputs": [],
   "source": [
    "import matplotlib.pyplot as plt\n",
    "import seaborn as sns"
   ]
  },
  {
   "cell_type": "code",
   "execution_count": 47,
   "id": "c5f1d36c",
   "metadata": {},
   "outputs": [
    {
     "data": {
      "image/png": "[encoded data removed]",
      "text/plain": [
       "<Figure size 1500x800 with 1 Axes>"
      ]
     },
     "metadata": {},
     "output_type": "display_data"
    }
   ],
   "source": [
    "plt.figure(figsize = (15,8))\n",
    "sns.lineplot(data = DAU, x = 'event_time', y = 'user_id')\n",
    "plt.xticks(rotation = 45);"
   ]
  },
  {
   "cell_type": "code",
   "execution_count": 76,
   "id": "369dbda7",
   "metadata": {},
   "outputs": [
    {
     "data": {
      "text/html": [
       "<div>\n",
       "<style scoped>\n",
       "    .dataframe tbody tr th:only-of-type {\n",
       "        vertical-align: middle;\n",
       "    }\n",
       "\n",
       "    .dataframe tbody tr th {\n",
       "        vertical-align: top;\n",
       "    }\n",
       "\n",
       "    .dataframe thead th {\n",
       "        text-align: right;\n",
       "    }\n",
       "</style>\n",
       "<table border=\"1\" class=\"dataframe\">\n",
       "  <thead>\n",
       "    <tr style=\"text-align: right;\">\n",
       "      <th></th>\n",
       "      <th>Total_user_count</th>\n",
       "      <th>Year-Month</th>\n",
       "    </tr>\n",
       "  </thead>\n",
       "  <tbody>\n",
       "    <tr>\n",
       "      <th>0</th>\n",
       "      <td>1782150</td>\n",
       "      <td>2019-10</td>\n",
       "    </tr>\n",
       "    <tr>\n",
       "      <th>1</th>\n",
       "      <td>2206500</td>\n",
       "      <td>2019-11</td>\n",
       "    </tr>\n",
       "  </tbody>\n",
       "</table>\n",
       "</div>"
      ],
      "text/plain": [
       "   Total_user_count Year-Month\n",
       "0           1782150    2019-10\n",
       "1           2206500    2019-11"
      ]
     },
     "execution_count": 76,
     "metadata": {},
     "output_type": "execute_result"
    }
   ],
   "source": [
    "MAU"
   ]
  },
  {
   "cell_type": "code",
   "execution_count": 79,
   "id": "2e607bbe",
   "metadata": {},
   "outputs": [
    {
     "data": {
      "image/png": "[encoded data removed]",
      "text/plain": [
       "<Figure size 640x480 with 1 Axes>"
      ]
     },
     "metadata": {},
     "output_type": "display_data"
    }
   ],
   "source": [
    "sns.barplot(data = MAU, x = 'Year-Month', y = 'Total_user_count')\n",
    "plt.ticklabel_format(style='plain', axis='y');"
   ]
  }
 ],
 "metadata": {
  "kernelspec": {
   "display_name": "Python 3 (ipykernel)",
   "language": "python",
   "name": "python3"
  },
  "language_info": {
   "codemirror_mode": {
    "name": "ipython",
    "version": 3
   },
   "file_extension": ".py",
   "mimetype": "text/x-python",
   "name": "python",
   "nbconvert_exporter": "python",
   "pygments_lexer": "ipython3",
   "version": "3.9.13"
  },
  "toc": {
   "base_numbering": 1,
   "nav_menu": {},
   "number_sections": true,
   "sideBar": true,
   "skip_h1_title": false,
   "title_cell": "Table of Contents",
   "title_sidebar": "Contents",
   "toc_cell": false,
   "toc_position": {
    "height": "541.6px",
    "left": "129px",
    "top": "90.5875px",
    "width": "307.2px"
   },
   "toc_section_display": true,
   "toc_window_display": false
  }
 },
 "nbformat": 4,
 "nbformat_minor": 5
}
