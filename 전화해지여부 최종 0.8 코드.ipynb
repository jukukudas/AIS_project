{
 "cells": [
  {
   "cell_type": "markdown",
   "id": "2693585d",
   "metadata": {},
   "source": [
    "* [데이콘 Basic 전화 해지 여부 분류 AI 경진대회]\n",
    "* 대회링크 : https://dacon.io/competitions/official/236075/overview/description"
   ]
  },
  {
   "cell_type": "markdown",
   "id": "8c73467d",
   "metadata": {},
   "source": [
    "### 라이브러리 로드 "
   ]
  },
  {
   "cell_type": "code",
   "execution_count": 1,
   "id": "e327d3ae",
   "metadata": {},
   "outputs": [],
   "source": [
    "import pandas as pd\n",
    "import seaborn as sns\n",
    "import numpy as np\n",
    "import koreanize_matplotlib\n",
    "import matplotlib as plt\n",
    "from glob import glob"
   ]
  },
  {
   "cell_type": "markdown",
   "id": "8479c024",
   "metadata": {},
   "source": [
    "### 데이터 불러오기 및 확인"
   ]
  },
  {
   "cell_type": "code",
   "execution_count": 2,
   "id": "28ece1f4",
   "metadata": {},
   "outputs": [],
   "source": [
    "대회데이터_불러오기 = glob('data/open/*')\n",
    "submission = pd.read_csv(대회데이터_불러오기[0])\n",
    "test = pd.read_csv(대회데이터_불러오기[1], index_col='ID')\n",
    "train = pd.read_csv(대회데이터_불러오기[2], index_col='ID')"
   ]
  },
  {
   "cell_type": "markdown",
   "id": "85984178",
   "metadata": {},
   "source": [
    "#### shape 확인"
   ]
  },
  {
   "cell_type": "code",
   "execution_count": 3,
   "id": "66862b40",
   "metadata": {},
   "outputs": [
    {
     "name": "stdout",
     "output_type": "stream",
     "text": [
      "===submission===\n"
     ]
    },
    {
     "data": {
      "text/html": [
       "<div>\n",
       "<style scoped>\n",
       "    .dataframe tbody tr th:only-of-type {\n",
       "        vertical-align: middle;\n",
       "    }\n",
       "\n",
       "    .dataframe tbody tr th {\n",
       "        vertical-align: top;\n",
       "    }\n",
       "\n",
       "    .dataframe thead th {\n",
       "        text-align: right;\n",
       "    }\n",
       "</style>\n",
       "<table border=\"1\" class=\"dataframe\">\n",
       "  <thead>\n",
       "    <tr style=\"text-align: right;\">\n",
       "      <th></th>\n",
       "      <th>ID</th>\n",
       "      <th>전화해지여부</th>\n",
       "    </tr>\n",
       "  </thead>\n",
       "  <tbody>\n",
       "    <tr>\n",
       "      <th>0</th>\n",
       "      <td>TEST_00000</td>\n",
       "      <td>0</td>\n",
       "    </tr>\n",
       "    <tr>\n",
       "      <th>1</th>\n",
       "      <td>TEST_00001</td>\n",
       "      <td>0</td>\n",
       "    </tr>\n",
       "  </tbody>\n",
       "</table>\n",
       "</div>"
      ],
      "text/plain": [
       "           ID  전화해지여부\n",
       "0  TEST_00000       0\n",
       "1  TEST_00001       0"
      ]
     },
     "metadata": {},
     "output_type": "display_data"
    },
    {
     "name": "stdout",
     "output_type": "stream",
     "text": [
      "===test===\n",
      "test shape :  (12943, 12)\n"
     ]
    },
    {
     "data": {
      "text/html": [
       "<div>\n",
       "<style scoped>\n",
       "    .dataframe tbody tr th:only-of-type {\n",
       "        vertical-align: middle;\n",
       "    }\n",
       "\n",
       "    .dataframe tbody tr th {\n",
       "        vertical-align: top;\n",
       "    }\n",
       "\n",
       "    .dataframe thead th {\n",
       "        text-align: right;\n",
       "    }\n",
       "</style>\n",
       "<table border=\"1\" class=\"dataframe\">\n",
       "  <thead>\n",
       "    <tr style=\"text-align: right;\">\n",
       "      <th></th>\n",
       "      <th>가입일</th>\n",
       "      <th>음성사서함이용</th>\n",
       "      <th>주간통화시간</th>\n",
       "      <th>주간통화횟수</th>\n",
       "      <th>주간통화요금</th>\n",
       "      <th>저녁통화시간</th>\n",
       "      <th>저녁통화횟수</th>\n",
       "      <th>저녁통화요금</th>\n",
       "      <th>밤통화시간</th>\n",
       "      <th>밤통화횟수</th>\n",
       "      <th>밤통화요금</th>\n",
       "      <th>상담전화건수</th>\n",
       "    </tr>\n",
       "    <tr>\n",
       "      <th>ID</th>\n",
       "      <th></th>\n",
       "      <th></th>\n",
       "      <th></th>\n",
       "      <th></th>\n",
       "      <th></th>\n",
       "      <th></th>\n",
       "      <th></th>\n",
       "      <th></th>\n",
       "      <th></th>\n",
       "      <th></th>\n",
       "      <th></th>\n",
       "      <th></th>\n",
       "    </tr>\n",
       "  </thead>\n",
       "  <tbody>\n",
       "    <tr>\n",
       "      <th>TEST_00000</th>\n",
       "      <td>110</td>\n",
       "      <td>0</td>\n",
       "      <td>210.7</td>\n",
       "      <td>142</td>\n",
       "      <td>35.6</td>\n",
       "      <td>205.9</td>\n",
       "      <td>93</td>\n",
       "      <td>17.43</td>\n",
       "      <td>120.9</td>\n",
       "      <td>111</td>\n",
       "      <td>5.37</td>\n",
       "      <td>2</td>\n",
       "    </tr>\n",
       "    <tr>\n",
       "      <th>TEST_00001</th>\n",
       "      <td>283</td>\n",
       "      <td>1</td>\n",
       "      <td>268.5</td>\n",
       "      <td>100</td>\n",
       "      <td>30.3</td>\n",
       "      <td>283.0</td>\n",
       "      <td>92</td>\n",
       "      <td>28.32</td>\n",
       "      <td>290.0</td>\n",
       "      <td>89</td>\n",
       "      <td>8.82</td>\n",
       "      <td>0</td>\n",
       "    </tr>\n",
       "  </tbody>\n",
       "</table>\n",
       "</div>"
      ],
      "text/plain": [
       "            가입일  음성사서함이용  주간통화시간  주간통화횟수  주간통화요금  저녁통화시간  저녁통화횟수  저녁통화요금  \\\n",
       "ID                                                                         \n",
       "TEST_00000  110        0   210.7     142    35.6   205.9      93   17.43   \n",
       "TEST_00001  283        1   268.5     100    30.3   283.0      92   28.32   \n",
       "\n",
       "            밤통화시간  밤통화횟수  밤통화요금  상담전화건수  \n",
       "ID                                       \n",
       "TEST_00000  120.9    111   5.37       2  \n",
       "TEST_00001  290.0     89   8.82       0  "
      ]
     },
     "metadata": {},
     "output_type": "display_data"
    },
    {
     "name": "stdout",
     "output_type": "stream",
     "text": [
      "===train===\n",
      "train shape :  (30200, 13)\n"
     ]
    },
    {
     "data": {
      "text/html": [
       "<div>\n",
       "<style scoped>\n",
       "    .dataframe tbody tr th:only-of-type {\n",
       "        vertical-align: middle;\n",
       "    }\n",
       "\n",
       "    .dataframe tbody tr th {\n",
       "        vertical-align: top;\n",
       "    }\n",
       "\n",
       "    .dataframe thead th {\n",
       "        text-align: right;\n",
       "    }\n",
       "</style>\n",
       "<table border=\"1\" class=\"dataframe\">\n",
       "  <thead>\n",
       "    <tr style=\"text-align: right;\">\n",
       "      <th></th>\n",
       "      <th>가입일</th>\n",
       "      <th>음성사서함이용</th>\n",
       "      <th>주간통화시간</th>\n",
       "      <th>주간통화횟수</th>\n",
       "      <th>주간통화요금</th>\n",
       "      <th>저녁통화시간</th>\n",
       "      <th>저녁통화횟수</th>\n",
       "      <th>저녁통화요금</th>\n",
       "      <th>밤통화시간</th>\n",
       "      <th>밤통화횟수</th>\n",
       "      <th>밤통화요금</th>\n",
       "      <th>상담전화건수</th>\n",
       "      <th>전화해지여부</th>\n",
       "    </tr>\n",
       "    <tr>\n",
       "      <th>ID</th>\n",
       "      <th></th>\n",
       "      <th></th>\n",
       "      <th></th>\n",
       "      <th></th>\n",
       "      <th></th>\n",
       "      <th></th>\n",
       "      <th></th>\n",
       "      <th></th>\n",
       "      <th></th>\n",
       "      <th></th>\n",
       "      <th></th>\n",
       "      <th></th>\n",
       "      <th></th>\n",
       "    </tr>\n",
       "  </thead>\n",
       "  <tbody>\n",
       "    <tr>\n",
       "      <th>TRAIN_00000</th>\n",
       "      <td>329</td>\n",
       "      <td>0</td>\n",
       "      <td>99.2</td>\n",
       "      <td>93</td>\n",
       "      <td>27.3</td>\n",
       "      <td>268.8</td>\n",
       "      <td>68</td>\n",
       "      <td>28.92</td>\n",
       "      <td>262.9</td>\n",
       "      <td>328</td>\n",
       "      <td>32.89</td>\n",
       "      <td>2</td>\n",
       "      <td>0</td>\n",
       "    </tr>\n",
       "    <tr>\n",
       "      <th>TRAIN_00001</th>\n",
       "      <td>2</td>\n",
       "      <td>80</td>\n",
       "      <td>323.9</td>\n",
       "      <td>323</td>\n",
       "      <td>83.7</td>\n",
       "      <td>269.4</td>\n",
       "      <td>326</td>\n",
       "      <td>32.09</td>\n",
       "      <td>322.8</td>\n",
       "      <td>209</td>\n",
       "      <td>32.32</td>\n",
       "      <td>2</td>\n",
       "      <td>0</td>\n",
       "    </tr>\n",
       "  </tbody>\n",
       "</table>\n",
       "</div>"
      ],
      "text/plain": [
       "             가입일  음성사서함이용  주간통화시간  주간통화횟수  주간통화요금  저녁통화시간  저녁통화횟수  저녁통화요금  \\\n",
       "ID                                                                          \n",
       "TRAIN_00000  329        0    99.2      93    27.3   268.8      68   28.92   \n",
       "TRAIN_00001    2       80   323.9     323    83.7   269.4     326   32.09   \n",
       "\n",
       "             밤통화시간  밤통화횟수  밤통화요금  상담전화건수  전화해지여부  \n",
       "ID                                                \n",
       "TRAIN_00000  262.9    328  32.89       2       0  \n",
       "TRAIN_00001  322.8    209  32.32       2       0  "
      ]
     },
     "execution_count": 3,
     "metadata": {},
     "output_type": "execute_result"
    }
   ],
   "source": [
    "print('===submission===')\n",
    "display(submission.head(2))\n",
    "print('===test===')\n",
    "print('test shape : ',test.shape)\n",
    "display(test.head(2))\n",
    "print('===train===')\n",
    "print('train shape : ',train.shape)\n",
    "train.head(2)"
   ]
  },
  {
   "cell_type": "markdown",
   "id": "99deccdc",
   "metadata": {},
   "source": [
    "#### 결측치 확인"
   ]
  },
  {
   "cell_type": "code",
   "execution_count": 4,
   "id": "57b3f009",
   "metadata": {},
   "outputs": [
    {
     "data": {
      "text/plain": [
       "0"
      ]
     },
     "metadata": {},
     "output_type": "display_data"
    },
    {
     "data": {
      "text/plain": [
       "0"
      ]
     },
     "execution_count": 4,
     "metadata": {},
     "output_type": "execute_result"
    }
   ],
   "source": [
    "display(train.isnull().sum().sum())\n",
    "test.isnull().sum().sum()"
   ]
  },
  {
   "cell_type": "markdown",
   "id": "a691eade",
   "metadata": {},
   "source": [
    "#### info() 확인"
   ]
  },
  {
   "cell_type": "code",
   "execution_count": 5,
   "id": "c896b905",
   "metadata": {},
   "outputs": [
    {
     "name": "stdout",
     "output_type": "stream",
     "text": [
      "<class 'pandas.core.frame.DataFrame'>\n",
      "Index: 30200 entries, TRAIN_00000 to TRAIN_30199\n",
      "Data columns (total 13 columns):\n",
      " #   Column   Non-Null Count  Dtype  \n",
      "---  ------   --------------  -----  \n",
      " 0   가입일      30200 non-null  int64  \n",
      " 1   음성사서함이용  30200 non-null  int64  \n",
      " 2   주간통화시간   30200 non-null  float64\n",
      " 3   주간통화횟수   30200 non-null  int64  \n",
      " 4   주간통화요금   30200 non-null  float64\n",
      " 5   저녁통화시간   30200 non-null  float64\n",
      " 6   저녁통화횟수   30200 non-null  int64  \n",
      " 7   저녁통화요금   30200 non-null  float64\n",
      " 8   밤통화시간    30200 non-null  float64\n",
      " 9   밤통화횟수    30200 non-null  int64  \n",
      " 10  밤통화요금    30200 non-null  float64\n",
      " 11  상담전화건수   30200 non-null  int64  \n",
      " 12  전화해지여부   30200 non-null  int64  \n",
      "dtypes: float64(6), int64(7)\n",
      "memory usage: 3.2+ MB\n"
     ]
    },
    {
     "data": {
      "text/plain": [
       "None"
      ]
     },
     "metadata": {},
     "output_type": "display_data"
    },
    {
     "name": "stdout",
     "output_type": "stream",
     "text": [
      "<class 'pandas.core.frame.DataFrame'>\n",
      "Index: 12943 entries, TEST_00000 to TEST_12942\n",
      "Data columns (total 12 columns):\n",
      " #   Column   Non-Null Count  Dtype  \n",
      "---  ------   --------------  -----  \n",
      " 0   가입일      12943 non-null  int64  \n",
      " 1   음성사서함이용  12943 non-null  int64  \n",
      " 2   주간통화시간   12943 non-null  float64\n",
      " 3   주간통화횟수   12943 non-null  int64  \n",
      " 4   주간통화요금   12943 non-null  float64\n",
      " 5   저녁통화시간   12943 non-null  float64\n",
      " 6   저녁통화횟수   12943 non-null  int64  \n",
      " 7   저녁통화요금   12943 non-null  float64\n",
      " 8   밤통화시간    12943 non-null  float64\n",
      " 9   밤통화횟수    12943 non-null  int64  \n",
      " 10  밤통화요금    12943 non-null  float64\n",
      " 11  상담전화건수   12943 non-null  int64  \n",
      "dtypes: float64(6), int64(6)\n",
      "memory usage: 1.3+ MB\n"
     ]
    }
   ],
   "source": [
    "display(train.info())\n",
    "test.info()"
   ]
  },
  {
   "cell_type": "markdown",
   "id": "e1bedb7f",
   "metadata": {},
   "source": [
    "#### 상관계수 확인하기"
   ]
  },
  {
   "cell_type": "code",
   "execution_count": 34,
   "id": "eae0f1dd",
   "metadata": {
    "scrolled": true
   },
   "outputs": [
    {
     "data": {
      "image/png": "[encoded data removed]",
      "text/plain": [
       "<Figure size 640x480 with 2 Axes>"
      ]
     },
     "metadata": {},
     "output_type": "display_data"
    }
   ],
   "source": [
    "corr_matrix = train.corr()\n",
    "sns.heatmap(corr_matrix, annot=True, linewidth=1);"
   ]
  },
  {
   "cell_type": "code",
   "execution_count": 35,
   "id": "528eefd6",
   "metadata": {},
   "outputs": [
    {
     "data": {
      "text/plain": [
       "전화해지여부     1.000000\n",
       "상담전화건수     0.057114\n",
       "주간통화시간     0.029975\n",
       "밤통화요금      0.014513\n",
       "주간통화횟수     0.010974\n",
       "가입일        0.006688\n",
       "저녁통화요금     0.001711\n",
       "저녁통화시간    -0.000163\n",
       "밤통화시간     -0.002872\n",
       "밤통화횟수     -0.003121\n",
       "저녁통화횟수    -0.004276\n",
       "음성사서함이용   -0.062734\n",
       "주간통화요금    -0.071006\n",
       "Name: 전화해지여부, dtype: float64"
      ]
     },
     "execution_count": 35,
     "metadata": {},
     "output_type": "execute_result"
    }
   ],
   "source": [
    "corr_matrix['전화해지여부'].sort_values(ascending=False)"
   ]
  },
  {
   "cell_type": "markdown",
   "id": "1815ac5f",
   "metadata": {},
   "source": [
    "#### X y 나누기"
   ]
  },
  {
   "cell_type": "code",
   "execution_count": 117,
   "id": "a209cbcb",
   "metadata": {},
   "outputs": [
    {
     "data": {
      "text/plain": [
       "((30200, 12), (30200,))"
      ]
     },
     "execution_count": 117,
     "metadata": {},
     "output_type": "execute_result"
    }
   ],
   "source": [
    "label_name = '전화해지여부'\n",
    "\n",
    "X = train.drop(columns = label_name)\n",
    "y = train[label_name]\n",
    "\n",
    "X.shape, y.shape"
   ]
  },
  {
   "cell_type": "code",
   "execution_count": 123,
   "id": "45e1e613",
   "metadata": {},
   "outputs": [
    {
     "data": {
      "text/html": [
       "<div>\n",
       "<style scoped>\n",
       "    .dataframe tbody tr th:only-of-type {\n",
       "        vertical-align: middle;\n",
       "    }\n",
       "\n",
       "    .dataframe tbody tr th {\n",
       "        vertical-align: top;\n",
       "    }\n",
       "\n",
       "    .dataframe thead th {\n",
       "        text-align: right;\n",
       "    }\n",
       "</style>\n",
       "<table border=\"1\" class=\"dataframe\">\n",
       "  <thead>\n",
       "    <tr style=\"text-align: right;\">\n",
       "      <th></th>\n",
       "      <th>VIF Factor</th>\n",
       "      <th>features</th>\n",
       "    </tr>\n",
       "  </thead>\n",
       "  <tbody>\n",
       "    <tr>\n",
       "      <th>5</th>\n",
       "      <td>41.191943</td>\n",
       "      <td>저녁통화시간</td>\n",
       "    </tr>\n",
       "    <tr>\n",
       "      <th>7</th>\n",
       "      <td>32.596202</td>\n",
       "      <td>저녁통화요금</td>\n",
       "    </tr>\n",
       "    <tr>\n",
       "      <th>8</th>\n",
       "      <td>25.077348</td>\n",
       "      <td>밤통화시간</td>\n",
       "    </tr>\n",
       "    <tr>\n",
       "      <th>2</th>\n",
       "      <td>15.226688</td>\n",
       "      <td>주간통화시간</td>\n",
       "    </tr>\n",
       "    <tr>\n",
       "      <th>4</th>\n",
       "      <td>4.647433</td>\n",
       "      <td>주간통화요금</td>\n",
       "    </tr>\n",
       "    <tr>\n",
       "      <th>3</th>\n",
       "      <td>3.839621</td>\n",
       "      <td>주간통화횟수</td>\n",
       "    </tr>\n",
       "    <tr>\n",
       "      <th>6</th>\n",
       "      <td>3.817328</td>\n",
       "      <td>저녁통화횟수</td>\n",
       "    </tr>\n",
       "    <tr>\n",
       "      <th>9</th>\n",
       "      <td>3.794754</td>\n",
       "      <td>밤통화횟수</td>\n",
       "    </tr>\n",
       "    <tr>\n",
       "      <th>10</th>\n",
       "      <td>2.922198</td>\n",
       "      <td>밤통화요금</td>\n",
       "    </tr>\n",
       "    <tr>\n",
       "      <th>0</th>\n",
       "      <td>2.906115</td>\n",
       "      <td>가입일</td>\n",
       "    </tr>\n",
       "    <tr>\n",
       "      <th>11</th>\n",
       "      <td>2.360845</td>\n",
       "      <td>상담전화건수</td>\n",
       "    </tr>\n",
       "    <tr>\n",
       "      <th>1</th>\n",
       "      <td>1.247456</td>\n",
       "      <td>음성사서함이용</td>\n",
       "    </tr>\n",
       "  </tbody>\n",
       "</table>\n",
       "</div>"
      ],
      "text/plain": [
       "    VIF Factor features\n",
       "5    41.191943   저녁통화시간\n",
       "7    32.596202   저녁통화요금\n",
       "8    25.077348    밤통화시간\n",
       "2    15.226688   주간통화시간\n",
       "4     4.647433   주간통화요금\n",
       "3     3.839621   주간통화횟수\n",
       "6     3.817328   저녁통화횟수\n",
       "9     3.794754    밤통화횟수\n",
       "10    2.922198    밤통화요금\n",
       "0     2.906115      가입일\n",
       "11    2.360845   상담전화건수\n",
       "1     1.247456  음성사서함이용"
      ]
     },
     "metadata": {},
     "output_type": "display_data"
    }
   ],
   "source": [
    "from statsmodels.stats.outliers_influence import variance_inflation_factor\n",
    "\n",
    "vif = pd.DataFrame()\n",
    "vif[\"VIF Factor\"] = [variance_inflation_factor(\n",
    "    X.values, i) for i in range(X.shape[1])]\n",
    "vif[\"features\"] = X.columns\n",
    "display(vif.sort_values(by='VIF Factor', ascending=False))\n",
    "# vif.sort_values(by='VIF Factor', ascending=False).iloc[5:,1]"
   ]
  },
  {
   "cell_type": "code",
   "execution_count": 124,
   "id": "a6a5b235",
   "metadata": {},
   "outputs": [
    {
     "data": {
      "text/plain": [
       "12"
      ]
     },
     "execution_count": 124,
     "metadata": {},
     "output_type": "execute_result"
    }
   ],
   "source": [
    "len(X.columns)"
   ]
  },
  {
   "cell_type": "code",
   "execution_count": 125,
   "id": "df16cdb2",
   "metadata": {},
   "outputs": [
    {
     "data": {
      "text/html": [
       "<table class=\"simpletable\">\n",
       "<caption>OLS Regression Results</caption>\n",
       "<tr>\n",
       "  <th>Dep. Variable:</th>         <td>전화해지여부</td>      <th>  R-squared:         </th> <td>   0.016</td> \n",
       "</tr>\n",
       "<tr>\n",
       "  <th>Model:</th>                   <td>OLS</td>       <th>  Adj. R-squared:    </th> <td>   0.016</td> \n",
       "</tr>\n",
       "<tr>\n",
       "  <th>Method:</th>             <td>Least Squares</td>  <th>  F-statistic:       </th> <td>   41.54</td> \n",
       "</tr>\n",
       "<tr>\n",
       "  <th>Date:</th>             <td>Sun, 26 Mar 2023</td> <th>  Prob (F-statistic):</th> <td>3.27e-98</td> \n",
       "</tr>\n",
       "<tr>\n",
       "  <th>Time:</th>                 <td>17:42:58</td>     <th>  Log-Likelihood:    </th> <td> -7499.2</td> \n",
       "</tr>\n",
       "<tr>\n",
       "  <th>No. Observations:</th>      <td> 30200</td>      <th>  AIC:               </th> <td>1.502e+04</td>\n",
       "</tr>\n",
       "<tr>\n",
       "  <th>Df Residuals:</th>          <td> 30187</td>      <th>  BIC:               </th> <td>1.513e+04</td>\n",
       "</tr>\n",
       "<tr>\n",
       "  <th>Df Model:</th>              <td>    12</td>      <th>                     </th>     <td> </td>    \n",
       "</tr>\n",
       "<tr>\n",
       "  <th>Covariance Type:</th>      <td>nonrobust</td>    <th>                     </th>     <td> </td>    \n",
       "</tr>\n",
       "</table>\n",
       "<table class=\"simpletable\">\n",
       "<tr>\n",
       "      <td></td>         <th>coef</th>     <th>std err</th>      <th>t</th>      <th>P>|t|</th>  <th>[0.025</th>    <th>0.975]</th>  \n",
       "</tr>\n",
       "<tr>\n",
       "  <th>Intercept</th> <td>    0.1150</td> <td>    0.008</td> <td>   15.059</td> <td> 0.000</td> <td>    0.100</td> <td>    0.130</td>\n",
       "</tr>\n",
       "<tr>\n",
       "  <th>가입일</th>       <td> 3.083e-05</td> <td> 1.51e-05</td> <td>    2.046</td> <td> 0.041</td> <td>  1.3e-06</td> <td> 6.04e-05</td>\n",
       "</tr>\n",
       "<tr>\n",
       "  <th>음성사서함이용</th>   <td>   -0.0007</td> <td> 7.21e-05</td> <td>  -10.214</td> <td> 0.000</td> <td>   -0.001</td> <td>   -0.001</td>\n",
       "</tr>\n",
       "<tr>\n",
       "  <th>주간통화시간</th>    <td>    0.0002</td> <td> 2.67e-05</td> <td>    9.341</td> <td> 0.000</td> <td>    0.000</td> <td>    0.000</td>\n",
       "</tr>\n",
       "<tr>\n",
       "  <th>주간통화횟수</th>    <td> 3.688e-05</td> <td> 1.86e-05</td> <td>    1.987</td> <td> 0.047</td> <td> 4.91e-07</td> <td> 7.33e-05</td>\n",
       "</tr>\n",
       "<tr>\n",
       "  <th>주간통화요금</th>    <td>   -0.0012</td> <td> 8.24e-05</td> <td>  -14.797</td> <td> 0.000</td> <td>   -0.001</td> <td>   -0.001</td>\n",
       "</tr>\n",
       "<tr>\n",
       "  <th>저녁통화시간</th>    <td>-4.544e-05</td> <td> 4.31e-05</td> <td>   -1.054</td> <td> 0.292</td> <td>   -0.000</td> <td> 3.91e-05</td>\n",
       "</tr>\n",
       "<tr>\n",
       "  <th>저녁통화횟수</th>    <td>-2.436e-05</td> <td> 1.85e-05</td> <td>   -1.315</td> <td> 0.189</td> <td>-6.07e-05</td> <td> 1.19e-05</td>\n",
       "</tr>\n",
       "<tr>\n",
       "  <th>저녁통화요금</th>    <td>-4.197e-05</td> <td>    0.000</td> <td>   -0.110</td> <td> 0.913</td> <td>   -0.001</td> <td>    0.001</td>\n",
       "</tr>\n",
       "<tr>\n",
       "  <th>밤통화시간</th>     <td>   -0.0001</td> <td>  3.4e-05</td> <td>   -3.400</td> <td> 0.001</td> <td>   -0.000</td> <td> -4.9e-05</td>\n",
       "</tr>\n",
       "<tr>\n",
       "  <th>밤통화횟수</th>     <td>-5.483e-06</td> <td> 1.86e-05</td> <td>   -0.295</td> <td> 0.768</td> <td> -4.2e-05</td> <td>  3.1e-05</td>\n",
       "</tr>\n",
       "<tr>\n",
       "  <th>밤통화요금</th>     <td>    0.0006</td> <td>    0.000</td> <td>    2.983</td> <td> 0.003</td> <td>    0.000</td> <td>    0.001</td>\n",
       "</tr>\n",
       "<tr>\n",
       "  <th>상담전화건수</th>    <td>    0.0095</td> <td>    0.001</td> <td>   10.592</td> <td> 0.000</td> <td>    0.008</td> <td>    0.011</td>\n",
       "</tr>\n",
       "</table>\n",
       "<table class=\"simpletable\">\n",
       "<tr>\n",
       "  <th>Omnibus:</th>       <td>13850.725</td> <th>  Durbin-Watson:     </th> <td>   2.004</td> \n",
       "</tr>\n",
       "<tr>\n",
       "  <th>Prob(Omnibus):</th>  <td> 0.000</td>   <th>  Jarque-Bera (JB):  </th> <td>50828.134</td>\n",
       "</tr>\n",
       "<tr>\n",
       "  <th>Skew:</th>           <td> 2.435</td>   <th>  Prob(JB):          </th> <td>    0.00</td> \n",
       "</tr>\n",
       "<tr>\n",
       "  <th>Kurtosis:</th>       <td> 7.083</td>   <th>  Cond. No.          </th> <td>2.44e+03</td> \n",
       "</tr>\n",
       "</table><br/><br/>Notes:<br/>[1] Standard Errors assume that the covariance matrix of the errors is correctly specified.<br/>[2] The condition number is large, 2.44e+03. This might indicate that there are<br/>strong multicollinearity or other numerical problems."
      ],
      "text/plain": [
       "<class 'statsmodels.iolib.summary.Summary'>\n",
       "\"\"\"\n",
       "                            OLS Regression Results                            \n",
       "==============================================================================\n",
       "Dep. Variable:                 전화해지여부   R-squared:                       0.016\n",
       "Model:                            OLS   Adj. R-squared:                  0.016\n",
       "Method:                 Least Squares   F-statistic:                     41.54\n",
       "Date:                Sun, 26 Mar 2023   Prob (F-statistic):           3.27e-98\n",
       "Time:                        17:42:58   Log-Likelihood:                -7499.2\n",
       "No. Observations:               30200   AIC:                         1.502e+04\n",
       "Df Residuals:                   30187   BIC:                         1.513e+04\n",
       "Df Model:                          12                                         \n",
       "Covariance Type:            nonrobust                                         \n",
       "==============================================================================\n",
       "                 coef    std err          t      P>|t|      [0.025      0.975]\n",
       "------------------------------------------------------------------------------\n",
       "Intercept      0.1150      0.008     15.059      0.000       0.100       0.130\n",
       "가입일         3.083e-05   1.51e-05      2.046      0.041     1.3e-06    6.04e-05\n",
       "음성사서함이용       -0.0007   7.21e-05    -10.214      0.000      -0.001      -0.001\n",
       "주간통화시간         0.0002   2.67e-05      9.341      0.000       0.000       0.000\n",
       "주간통화횟수      3.688e-05   1.86e-05      1.987      0.047    4.91e-07    7.33e-05\n",
       "주간통화요금        -0.0012   8.24e-05    -14.797      0.000      -0.001      -0.001\n",
       "저녁통화시간     -4.544e-05   4.31e-05     -1.054      0.292      -0.000    3.91e-05\n",
       "저녁통화횟수     -2.436e-05   1.85e-05     -1.315      0.189   -6.07e-05    1.19e-05\n",
       "저녁통화요금     -4.197e-05      0.000     -0.110      0.913      -0.001       0.001\n",
       "밤통화시간         -0.0001    3.4e-05     -3.400      0.001      -0.000    -4.9e-05\n",
       "밤통화횟수      -5.483e-06   1.86e-05     -0.295      0.768    -4.2e-05     3.1e-05\n",
       "밤통화요금          0.0006      0.000      2.983      0.003       0.000       0.001\n",
       "상담전화건수         0.0095      0.001     10.592      0.000       0.008       0.011\n",
       "==============================================================================\n",
       "Omnibus:                    13850.725   Durbin-Watson:                   2.004\n",
       "Prob(Omnibus):                  0.000   Jarque-Bera (JB):            50828.134\n",
       "Skew:                           2.435   Prob(JB):                         0.00\n",
       "Kurtosis:                       7.083   Cond. No.                     2.44e+03\n",
       "==============================================================================\n",
       "\n",
       "Notes:\n",
       "[1] Standard Errors assume that the covariance matrix of the errors is correctly specified.\n",
       "[2] The condition number is large, 2.44e+03. This might indicate that there are\n",
       "strong multicollinearity or other numerical problems.\n",
       "\"\"\""
      ]
     },
     "execution_count": 125,
     "metadata": {},
     "output_type": "execute_result"
    }
   ],
   "source": [
    "import statsmodels.api as sm\n",
    "import statsmodels.formula.api as smf\n",
    "res = smf.ols(formula='전화해지여부 ~ 가입일 + 음성사서함이용 + 주간통화시간 + 주간통화횟수 + 주간통화요금 + 저녁통화시간 + 저녁통화횟수 + 저녁통화요금 + 밤통화시간 + 밤통화횟수 + 밤통화요금 + 상담전화건수',\n",
    "              data=pd.concat([X , y], axis=1)).fit()\n",
    "res.summary()"
   ]
  },
  {
   "cell_type": "markdown",
   "id": "69e4dcd0",
   "metadata": {},
   "source": [
    "#### 데이터 분포(histogram) 확인하기"
   ]
  },
  {
   "cell_type": "code",
   "execution_count": 8,
   "id": "f0325cd1",
   "metadata": {
    "scrolled": true
   },
   "outputs": [
    {
     "data": {
      "image/png": "[encoded data removed]",
      "text/plain": [
       "<Figure size 1200x1000 with 12 Axes>"
      ]
     },
     "metadata": {},
     "output_type": "display_data"
    }
   ],
   "source": [
    "X.hist(bins=50,figsize=(12,10));"
   ]
  },
  {
   "cell_type": "markdown",
   "id": "35cc3471",
   "metadata": {},
   "source": [
    "#### '음성사서함이용' 과 '가입일' 정규분포 형태로 조정"
   ]
  },
  {
   "cell_type": "code",
   "execution_count": 9,
   "id": "66969074",
   "metadata": {},
   "outputs": [
    {
     "data": {
      "image/png": "[encoded data removed]",
      "text/plain": [
       "<Figure size 1200x1000 with 12 Axes>"
      ]
     },
     "metadata": {},
     "output_type": "display_data"
    }
   ],
   "source": [
    "X_log = X.copy()\n",
    "X_log['음성사서함이용'] = np.log1p(X_log['음성사서함이용'])\n",
    "X_log['가입일'] = np.log1p(X_log['가입일'])\n",
    "\n",
    "X_test = test.copy()\n",
    "X_test['음성사서함이용'] = np.log1p(X_test['음성사서함이용'])\n",
    "X_test['가입일'] = np.log1p(X_test['가입일'])\n",
    "\n",
    "X_log.hist(bins=50,figsize=(12,10));"
   ]
  },
  {
   "cell_type": "code",
   "execution_count": 15,
   "id": "cc33dd81",
   "metadata": {},
   "outputs": [
    {
     "data": {
      "text/plain": [
       "Index(['가입일', '음성사서함이용', '주간통화시간', '주간통화횟수', '주간통화요금', '저녁통화시간', '저녁통화횟수',\n",
       "       '저녁통화요금', '밤통화시간', '밤통화횟수', '밤통화요금', '상담전화건수', '전화해지여부'],\n",
       "      dtype='object')"
      ]
     },
     "execution_count": 15,
     "metadata": {},
     "output_type": "execute_result"
    }
   ],
   "source": [
    "pd.concat([X_log , y], axis=1).columns"
   ]
  },
  {
   "cell_type": "markdown",
   "id": "6f53a2c4",
   "metadata": {},
   "source": [
    "#### 유전 알고리즘(GA) 이용하여 사용할 변수 선택하기\n",
    "* ['가입일', '음성사서함이용', '주간통화시간', '주간통화횟수', '저녁통화횟수', '저녁통화요금', '밤통화시간','밤통화횟수', '밤통화요금', '상담전화건수']\n",
    "* drop 할 변수 :  ['저녁통화시간', '주간통화요금']"
   ]
  },
  {
   "cell_type": "code",
   "execution_count": 118,
   "id": "c5425e9c",
   "metadata": {},
   "outputs": [
    {
     "name": "stdout",
     "output_type": "stream",
     "text": [
      "Requirement already satisfied: sklearn-genetic in c:\\users\\juku\\anaconda3\\lib\\site-packages (0.5.1)\n",
      "Requirement already satisfied: deap>=1.0.2 in c:\\users\\juku\\anaconda3\\lib\\site-packages (from sklearn-genetic) (1.3.3)\n",
      "Requirement already satisfied: numpy in c:\\users\\juku\\anaconda3\\lib\\site-packages (from sklearn-genetic) (1.21.5)\n",
      "Requirement already satisfied: multiprocess in c:\\users\\juku\\anaconda3\\lib\\site-packages (from sklearn-genetic) (0.70.14)\n",
      "Requirement already satisfied: scikit-learn>=0.23 in c:\\users\\juku\\anaconda3\\lib\\site-packages (from sklearn-genetic) (1.0.2)\n",
      "Requirement already satisfied: scipy>=1.1.0 in c:\\users\\juku\\anaconda3\\lib\\site-packages (from scikit-learn>=0.23->sklearn-genetic) (1.9.1)\n",
      "Requirement already satisfied: threadpoolctl>=2.0.0 in c:\\users\\juku\\anaconda3\\lib\\site-packages (from scikit-learn>=0.23->sklearn-genetic) (2.2.0)\n",
      "Requirement already satisfied: joblib>=0.11 in c:\\users\\juku\\anaconda3\\lib\\site-packages (from scikit-learn>=0.23->sklearn-genetic) (1.1.0)\n",
      "Requirement already satisfied: dill>=0.3.6 in c:\\users\\juku\\anaconda3\\lib\\site-packages (from multiprocess->sklearn-genetic) (0.3.6)\n",
      "Note: you may need to restart the kernel to use updated packages.\n"
     ]
    },
    {
     "name": "stderr",
     "output_type": "stream",
     "text": [
      "WARNING: Ignoring invalid distribution -lotly (c:\\users\\juku\\anaconda3\\lib\\site-packages)\n",
      "WARNING: Ignoring invalid distribution -lotly (c:\\users\\juku\\anaconda3\\lib\\site-packages)\n",
      "WARNING: Ignoring invalid distribution -lotly (c:\\users\\juku\\anaconda3\\lib\\site-packages)\n",
      "WARNING: Ignoring invalid distribution -lotly (c:\\users\\juku\\anaconda3\\lib\\site-packages)\n",
      "WARNING: Ignoring invalid distribution -lotly (c:\\users\\juku\\anaconda3\\lib\\site-packages)\n",
      "WARNING: Ignoring invalid distribution -lotly (c:\\users\\juku\\anaconda3\\lib\\site-packages)\n"
     ]
    }
   ],
   "source": [
    "pip install sklearn-genetic"
   ]
  },
  {
   "cell_type": "code",
   "execution_count": 126,
   "id": "d61e3778",
   "metadata": {},
   "outputs": [
    {
     "name": "stdout",
     "output_type": "stream",
     "text": [
      "Features: Index(['가입일', '음성사서함이용', '주간통화시간', '주간통화횟수', '저녁통화횟수', '저녁통화요금', '밤통화시간',\n",
      "       '밤통화횟수', '밤통화요금', '상담전화건수'],\n",
      "      dtype='object')\n"
     ]
    }
   ],
   "source": [
    "from genetic_selection import GeneticSelectionCV\n",
    "import lightgbm\n",
    "\n",
    "estimator = lightgbm.LGBMClassifier()\n",
    "model = GeneticSelectionCV(\n",
    "    estimator, cv=5, verbose=0,\n",
    "    scoring=\"accuracy\", max_features=10,\n",
    "    n_population=100, crossover_proba=0.5,\n",
    "    mutation_proba=0.2, n_generations=50,\n",
    "    crossover_independent_proba=0.5,\n",
    "    mutation_independent_proba=0.04,\n",
    "    tournament_size=3, n_gen_no_change=10,\n",
    "    caching=True, n_jobs=-1)\n",
    "model = model.fit(X_log, y)\n",
    "print('Features:', X_log.columns[model.support_])"
   ]
  },
  {
   "cell_type": "code",
   "execution_count": 128,
   "id": "7f17031b",
   "metadata": {},
   "outputs": [
    {
     "name": "stdout",
     "output_type": "stream",
     "text": [
      "drop 할 변수 :  ['저녁통화시간', '주간통화요금']\n"
     ]
    }
   ],
   "source": [
    "selected_columns = ['가입일', '음성사서함이용', '주간통화시간', '주간통화횟수', '저녁통화횟수', '저녁통화요금', '밤통화시간',\n",
    "       '밤통화횟수', '밤통화요금', '상담전화건수']\n",
    "\n",
    "drop_col_byGA = list(set(X.columns) - set(selected_columns))\n",
    "\n",
    "print('drop 할 변수 : ', list(set(X.columns) - set(selected_columns)))"
   ]
  },
  {
   "cell_type": "markdown",
   "id": "6f201869",
   "metadata": {},
   "source": [
    "#### 통계적으로 유의미한지 확인 (OLS)¶\n",
    "* 통계적으로 유의미하지 않은 값들(p_val)\n",
    "** 저녁통화시간 : 0.302\n",
    "** 저녁통화횟수 : 0.154\n",
    "** 저녁통화요금 : 0.936\n",
    "** 밤통화횟수 : 0.835\n",
    "** 주간통화홧수 : 0.053\n",
    "> * '횟수' 변수는 없애보자\n",
    "> * '저녁' 키워드는 '저녁통화요금'만 남기자"
   ]
  },
  {
   "cell_type": "code",
   "execution_count": 22,
   "id": "f1e69ad4",
   "metadata": {},
   "outputs": [
    {
     "data": {
      "text/html": [
       "<table class=\"simpletable\">\n",
       "<caption>OLS Regression Results</caption>\n",
       "<tr>\n",
       "  <th>Dep. Variable:</th>         <td>전화해지여부</td>      <th>  R-squared:         </th> <td>   0.018</td> \n",
       "</tr>\n",
       "<tr>\n",
       "  <th>Model:</th>                   <td>OLS</td>       <th>  Adj. R-squared:    </th> <td>   0.018</td> \n",
       "</tr>\n",
       "<tr>\n",
       "  <th>Method:</th>             <td>Least Squares</td>  <th>  F-statistic:       </th> <td>   47.11</td> \n",
       "</tr>\n",
       "<tr>\n",
       "  <th>Date:</th>             <td>Sun, 26 Mar 2023</td> <th>  Prob (F-statistic):</th> <td>3.29e-112</td>\n",
       "</tr>\n",
       "<tr>\n",
       "  <th>Time:</th>                 <td>02:15:07</td>     <th>  Log-Likelihood:    </th> <td> -7466.3</td> \n",
       "</tr>\n",
       "<tr>\n",
       "  <th>No. Observations:</th>      <td> 30200</td>      <th>  AIC:               </th> <td>1.496e+04</td>\n",
       "</tr>\n",
       "<tr>\n",
       "  <th>Df Residuals:</th>          <td> 30187</td>      <th>  BIC:               </th> <td>1.507e+04</td>\n",
       "</tr>\n",
       "<tr>\n",
       "  <th>Df Model:</th>              <td>    12</td>      <th>                     </th>     <td> </td>    \n",
       "</tr>\n",
       "<tr>\n",
       "  <th>Covariance Type:</th>      <td>nonrobust</td>    <th>                     </th>     <td> </td>    \n",
       "</tr>\n",
       "</table>\n",
       "<table class=\"simpletable\">\n",
       "<tr>\n",
       "      <td></td>         <th>coef</th>     <th>std err</th>      <th>t</th>      <th>P>|t|</th>  <th>[0.025</th>    <th>0.975]</th>  \n",
       "</tr>\n",
       "<tr>\n",
       "  <th>Intercept</th> <td>    0.1083</td> <td>    0.011</td> <td>    9.648</td> <td> 0.000</td> <td>    0.086</td> <td>    0.130</td>\n",
       "</tr>\n",
       "<tr>\n",
       "  <th>가입일</th>       <td>    0.0049</td> <td>    0.002</td> <td>    2.446</td> <td> 0.014</td> <td>    0.001</td> <td>    0.009</td>\n",
       "</tr>\n",
       "<tr>\n",
       "  <th>음성사서함이용</th>   <td>   -0.0152</td> <td>    0.001</td> <td>  -12.957</td> <td> 0.000</td> <td>   -0.018</td> <td>   -0.013</td>\n",
       "</tr>\n",
       "<tr>\n",
       "  <th>주간통화시간</th>    <td>    0.0002</td> <td> 2.66e-05</td> <td>    9.360</td> <td> 0.000</td> <td>    0.000</td> <td>    0.000</td>\n",
       "</tr>\n",
       "<tr>\n",
       "  <th>주간통화횟수</th>    <td>  3.58e-05</td> <td> 1.85e-05</td> <td>    1.931</td> <td> 0.053</td> <td> -5.3e-07</td> <td> 7.21e-05</td>\n",
       "</tr>\n",
       "<tr>\n",
       "  <th>주간통화요금</th>    <td>   -0.0012</td> <td> 8.21e-05</td> <td>  -15.020</td> <td> 0.000</td> <td>   -0.001</td> <td>   -0.001</td>\n",
       "</tr>\n",
       "<tr>\n",
       "  <th>저녁통화시간</th>    <td>-4.441e-05</td> <td>  4.3e-05</td> <td>   -1.032</td> <td> 0.302</td> <td>   -0.000</td> <td> 3.99e-05</td>\n",
       "</tr>\n",
       "<tr>\n",
       "  <th>저녁통화횟수</th>    <td>-2.639e-05</td> <td> 1.85e-05</td> <td>   -1.427</td> <td> 0.154</td> <td>-6.26e-05</td> <td> 9.86e-06</td>\n",
       "</tr>\n",
       "<tr>\n",
       "  <th>저녁통화요금</th>    <td>-3.061e-05</td> <td>    0.000</td> <td>   -0.080</td> <td> 0.936</td> <td>   -0.001</td> <td>    0.001</td>\n",
       "</tr>\n",
       "<tr>\n",
       "  <th>밤통화시간</th>     <td>   -0.0001</td> <td> 3.39e-05</td> <td>   -3.515</td> <td> 0.000</td> <td>   -0.000</td> <td>-5.26e-05</td>\n",
       "</tr>\n",
       "<tr>\n",
       "  <th>밤통화횟수</th>     <td>-3.804e-06</td> <td> 1.86e-05</td> <td>   -0.205</td> <td> 0.838</td> <td>-4.02e-05</td> <td> 3.26e-05</td>\n",
       "</tr>\n",
       "<tr>\n",
       "  <th>밤통화요금</th>     <td>    0.0006</td> <td>    0.000</td> <td>    3.028</td> <td> 0.002</td> <td>    0.000</td> <td>    0.001</td>\n",
       "</tr>\n",
       "<tr>\n",
       "  <th>상담전화건수</th>    <td>    0.0093</td> <td>    0.001</td> <td>   10.362</td> <td> 0.000</td> <td>    0.008</td> <td>    0.011</td>\n",
       "</tr>\n",
       "</table>\n",
       "<table class=\"simpletable\">\n",
       "<tr>\n",
       "  <th>Omnibus:</th>       <td>13795.839</td> <th>  Durbin-Watson:     </th> <td>   2.004</td> \n",
       "</tr>\n",
       "<tr>\n",
       "  <th>Prob(Omnibus):</th>  <td> 0.000</td>   <th>  Jarque-Bera (JB):  </th> <td>50412.270</td>\n",
       "</tr>\n",
       "<tr>\n",
       "  <th>Skew:</th>           <td> 2.426</td>   <th>  Prob(JB):          </th> <td>    0.00</td> \n",
       "</tr>\n",
       "<tr>\n",
       "  <th>Kurtosis:</th>       <td> 7.064</td>   <th>  Cond. No.          </th> <td>3.46e+03</td> \n",
       "</tr>\n",
       "</table><br/><br/>Notes:<br/>[1] Standard Errors assume that the covariance matrix of the errors is correctly specified.<br/>[2] The condition number is large, 3.46e+03. This might indicate that there are<br/>strong multicollinearity or other numerical problems."
      ],
      "text/plain": [
       "<class 'statsmodels.iolib.summary.Summary'>\n",
       "\"\"\"\n",
       "                            OLS Regression Results                            \n",
       "==============================================================================\n",
       "Dep. Variable:                 전화해지여부   R-squared:                       0.018\n",
       "Model:                            OLS   Adj. R-squared:                  0.018\n",
       "Method:                 Least Squares   F-statistic:                     47.11\n",
       "Date:                Sun, 26 Mar 2023   Prob (F-statistic):          3.29e-112\n",
       "Time:                        02:15:07   Log-Likelihood:                -7466.3\n",
       "No. Observations:               30200   AIC:                         1.496e+04\n",
       "Df Residuals:                   30187   BIC:                         1.507e+04\n",
       "Df Model:                          12                                         \n",
       "Covariance Type:            nonrobust                                         \n",
       "==============================================================================\n",
       "                 coef    std err          t      P>|t|      [0.025      0.975]\n",
       "------------------------------------------------------------------------------\n",
       "Intercept      0.1083      0.011      9.648      0.000       0.086       0.130\n",
       "가입일            0.0049      0.002      2.446      0.014       0.001       0.009\n",
       "음성사서함이용       -0.0152      0.001    -12.957      0.000      -0.018      -0.013\n",
       "주간통화시간         0.0002   2.66e-05      9.360      0.000       0.000       0.000\n",
       "주간통화횟수       3.58e-05   1.85e-05      1.931      0.053    -5.3e-07    7.21e-05\n",
       "주간통화요금        -0.0012   8.21e-05    -15.020      0.000      -0.001      -0.001\n",
       "저녁통화시간     -4.441e-05    4.3e-05     -1.032      0.302      -0.000    3.99e-05\n",
       "저녁통화횟수     -2.639e-05   1.85e-05     -1.427      0.154   -6.26e-05    9.86e-06\n",
       "저녁통화요금     -3.061e-05      0.000     -0.080      0.936      -0.001       0.001\n",
       "밤통화시간         -0.0001   3.39e-05     -3.515      0.000      -0.000   -5.26e-05\n",
       "밤통화횟수      -3.804e-06   1.86e-05     -0.205      0.838   -4.02e-05    3.26e-05\n",
       "밤통화요금          0.0006      0.000      3.028      0.002       0.000       0.001\n",
       "상담전화건수         0.0093      0.001     10.362      0.000       0.008       0.011\n",
       "==============================================================================\n",
       "Omnibus:                    13795.839   Durbin-Watson:                   2.004\n",
       "Prob(Omnibus):                  0.000   Jarque-Bera (JB):            50412.270\n",
       "Skew:                           2.426   Prob(JB):                         0.00\n",
       "Kurtosis:                       7.064   Cond. No.                     3.46e+03\n",
       "==============================================================================\n",
       "\n",
       "Notes:\n",
       "[1] Standard Errors assume that the covariance matrix of the errors is correctly specified.\n",
       "[2] The condition number is large, 3.46e+03. This might indicate that there are\n",
       "strong multicollinearity or other numerical problems.\n",
       "\"\"\""
      ]
     },
     "execution_count": 22,
     "metadata": {},
     "output_type": "execute_result"
    }
   ],
   "source": [
    "import statsmodels.api as sm\n",
    "import statsmodels.formula.api as smf\n",
    "res = smf.ols(formula='전화해지여부 ~ 가입일 + 음성사서함이용 + 주간통화시간 + 주간통화횟수 + 주간통화요금 + 저녁통화시간 + 저녁통화횟수 + 저녁통화요금 + 밤통화시간 + 밤통화횟수 + 밤통화요금 + 상담전화건수',\n",
    "              data=pd.concat([X_log , y], axis=1)).fit()\n",
    "res.summary()"
   ]
  },
  {
   "cell_type": "markdown",
   "id": "411962f6",
   "metadata": {},
   "source": [
    "#### Variance Inflation Factor 로 다중공산성 비교하기\n",
    "* vif 값이 5 이하인 변수만 사용해볼까 생각\n",
    "** 주간통화요금\n",
    "** 주간통화횟수\n",
    "** 저녁통화횟수\n",
    "** 밤통화횟수\n",
    "** 밤통화요금\n",
    "** 상담전화건수\n",
    "** 음성사서함이용"
   ]
  },
  {
   "cell_type": "code",
   "execution_count": 28,
   "id": "b12467b7",
   "metadata": {},
   "outputs": [
    {
     "data": {
      "text/html": [
       "<div>\n",
       "<style scoped>\n",
       "    .dataframe tbody tr th:only-of-type {\n",
       "        vertical-align: middle;\n",
       "    }\n",
       "\n",
       "    .dataframe tbody tr th {\n",
       "        vertical-align: top;\n",
       "    }\n",
       "\n",
       "    .dataframe thead th {\n",
       "        text-align: right;\n",
       "    }\n",
       "</style>\n",
       "<table border=\"1\" class=\"dataframe\">\n",
       "  <thead>\n",
       "    <tr style=\"text-align: right;\">\n",
       "      <th></th>\n",
       "      <th>VIF Factor</th>\n",
       "      <th>features</th>\n",
       "    </tr>\n",
       "  </thead>\n",
       "  <tbody>\n",
       "    <tr>\n",
       "      <th>5</th>\n",
       "      <td>42.483340</td>\n",
       "      <td>저녁통화시간</td>\n",
       "    </tr>\n",
       "    <tr>\n",
       "      <th>7</th>\n",
       "      <td>32.595165</td>\n",
       "      <td>저녁통화요금</td>\n",
       "    </tr>\n",
       "    <tr>\n",
       "      <th>8</th>\n",
       "      <td>26.562201</td>\n",
       "      <td>밤통화시간</td>\n",
       "    </tr>\n",
       "    <tr>\n",
       "      <th>2</th>\n",
       "      <td>15.440942</td>\n",
       "      <td>주간통화시간</td>\n",
       "    </tr>\n",
       "    <tr>\n",
       "      <th>0</th>\n",
       "      <td>13.975329</td>\n",
       "      <td>가입일</td>\n",
       "    </tr>\n",
       "    <tr>\n",
       "      <th>4</th>\n",
       "      <td>4.698181</td>\n",
       "      <td>주간통화요금</td>\n",
       "    </tr>\n",
       "    <tr>\n",
       "      <th>3</th>\n",
       "      <td>3.850675</td>\n",
       "      <td>주간통화횟수</td>\n",
       "    </tr>\n",
       "    <tr>\n",
       "      <th>6</th>\n",
       "      <td>3.823948</td>\n",
       "      <td>저녁통화횟수</td>\n",
       "    </tr>\n",
       "    <tr>\n",
       "      <th>9</th>\n",
       "      <td>3.801117</td>\n",
       "      <td>밤통화횟수</td>\n",
       "    </tr>\n",
       "    <tr>\n",
       "      <th>10</th>\n",
       "      <td>2.921699</td>\n",
       "      <td>밤통화요금</td>\n",
       "    </tr>\n",
       "    <tr>\n",
       "      <th>11</th>\n",
       "      <td>2.366156</td>\n",
       "      <td>상담전화건수</td>\n",
       "    </tr>\n",
       "    <tr>\n",
       "      <th>1</th>\n",
       "      <td>1.671436</td>\n",
       "      <td>음성사서함이용</td>\n",
       "    </tr>\n",
       "  </tbody>\n",
       "</table>\n",
       "</div>"
      ],
      "text/plain": [
       "    VIF Factor features\n",
       "5    42.483340   저녁통화시간\n",
       "7    32.595165   저녁통화요금\n",
       "8    26.562201    밤통화시간\n",
       "2    15.440942   주간통화시간\n",
       "0    13.975329      가입일\n",
       "4     4.698181   주간통화요금\n",
       "3     3.850675   주간통화횟수\n",
       "6     3.823948   저녁통화횟수\n",
       "9     3.801117    밤통화횟수\n",
       "10    2.921699    밤통화요금\n",
       "11    2.366156   상담전화건수\n",
       "1     1.671436  음성사서함이용"
      ]
     },
     "metadata": {},
     "output_type": "display_data"
    },
    {
     "data": {
      "text/plain": [
       "4      주간통화요금\n",
       "3      주간통화횟수\n",
       "6      저녁통화횟수\n",
       "9       밤통화횟수\n",
       "10      밤통화요금\n",
       "11     상담전화건수\n",
       "1     음성사서함이용\n",
       "Name: features, dtype: object"
      ]
     },
     "execution_count": 28,
     "metadata": {},
     "output_type": "execute_result"
    }
   ],
   "source": [
    "from statsmodels.stats.outliers_influence import variance_inflation_factor\n",
    "\n",
    "vif = pd.DataFrame()\n",
    "vif[\"VIF Factor\"] = [variance_inflation_factor(\n",
    "    X_log.values, i) for i in range(X_log.shape[1])]\n",
    "vif[\"features\"] = X_log.columns\n",
    "display(vif.sort_values(by='VIF Factor', ascending=False))\n",
    "vif.sort_values(by='VIF Factor', ascending=False).iloc[5:,1]"
   ]
  },
  {
   "cell_type": "markdown",
   "id": "7f23f7f6",
   "metadata": {},
   "source": [
    "##### vif 값이 5 이하인 변수로 OLS 해보기\n",
    "* '밤통화횟수' 와 '저녁통화회수' 여전히 통계적으로 유의미하지 않다는 결론\n",
    "** '밤통화횟수' 와 '저녁통화회수' 제외하고 OLS 구해보자\n",
    "* '밤통화횟수' 와 '저녁통화회수' 제외하고 OLS 구하기\n",
    "** 모든 변수가 통계적으로 유의하다는 결론"
   ]
  },
  {
   "cell_type": "code",
   "execution_count": 31,
   "id": "663d531c",
   "metadata": {},
   "outputs": [
    {
     "data": {
      "text/plain": [
       "['주간통화요금', '주간통화횟수', '저녁통화횟수', '밤통화횟수', '밤통화요금', '상담전화건수', '음성사서함이용']"
      ]
     },
     "execution_count": 31,
     "metadata": {},
     "output_type": "execute_result"
    }
   ],
   "source": [
    "# vif 값이 5 이하인 변수\n",
    "vif.sort_values(by='VIF Factor', ascending=False).iloc[5:,1].tolist()"
   ]
  },
  {
   "cell_type": "code",
   "execution_count": 32,
   "id": "5e21cbf3",
   "metadata": {},
   "outputs": [
    {
     "data": {
      "text/html": [
       "<table class=\"simpletable\">\n",
       "<caption>OLS Regression Results</caption>\n",
       "<tr>\n",
       "  <th>Dep. Variable:</th>         <td>전화해지여부</td>      <th>  R-squared:         </th> <td>   0.015</td> \n",
       "</tr>\n",
       "<tr>\n",
       "  <th>Model:</th>                   <td>OLS</td>       <th>  Adj. R-squared:    </th> <td>   0.015</td> \n",
       "</tr>\n",
       "<tr>\n",
       "  <th>Method:</th>             <td>Least Squares</td>  <th>  F-statistic:       </th> <td>   66.82</td> \n",
       "</tr>\n",
       "<tr>\n",
       "  <th>Date:</th>             <td>Sun, 26 Mar 2023</td> <th>  Prob (F-statistic):</th> <td>4.03e-96</td> \n",
       "</tr>\n",
       "<tr>\n",
       "  <th>Time:</th>                 <td>02:31:03</td>     <th>  Log-Likelihood:    </th> <td> -7514.4</td> \n",
       "</tr>\n",
       "<tr>\n",
       "  <th>No. Observations:</th>      <td> 30200</td>      <th>  AIC:               </th> <td>1.504e+04</td>\n",
       "</tr>\n",
       "<tr>\n",
       "  <th>Df Residuals:</th>          <td> 30192</td>      <th>  BIC:               </th> <td>1.511e+04</td>\n",
       "</tr>\n",
       "<tr>\n",
       "  <th>Df Model:</th>              <td>     7</td>      <th>                     </th>     <td> </td>    \n",
       "</tr>\n",
       "<tr>\n",
       "  <th>Covariance Type:</th>      <td>nonrobust</td>    <th>                     </th>     <td> </td>    \n",
       "</tr>\n",
       "</table>\n",
       "<table class=\"simpletable\">\n",
       "<tr>\n",
       "      <td></td>         <th>coef</th>     <th>std err</th>      <th>t</th>      <th>P>|t|</th>  <th>[0.025</th>    <th>0.975]</th>  \n",
       "</tr>\n",
       "<tr>\n",
       "  <th>Intercept</th> <td>    0.1376</td> <td>    0.006</td> <td>   23.852</td> <td> 0.000</td> <td>    0.126</td> <td>    0.149</td>\n",
       "</tr>\n",
       "<tr>\n",
       "  <th>주간통화요금</th>    <td>   -0.0010</td> <td> 7.86e-05</td> <td>  -13.299</td> <td> 0.000</td> <td>   -0.001</td> <td>   -0.001</td>\n",
       "</tr>\n",
       "<tr>\n",
       "  <th>주간통화횟수</th>    <td> 4.222e-05</td> <td>  1.8e-05</td> <td>    2.348</td> <td> 0.019</td> <td> 6.97e-06</td> <td> 7.75e-05</td>\n",
       "</tr>\n",
       "<tr>\n",
       "  <th>저녁통화횟수</th>    <td>-1.396e-05</td> <td> 1.79e-05</td> <td>   -0.779</td> <td> 0.436</td> <td>-4.91e-05</td> <td> 2.12e-05</td>\n",
       "</tr>\n",
       "<tr>\n",
       "  <th>밤통화횟수</th>     <td> 6.271e-06</td> <td>  1.8e-05</td> <td>    0.349</td> <td> 0.727</td> <td> -2.9e-05</td> <td> 4.15e-05</td>\n",
       "</tr>\n",
       "<tr>\n",
       "  <th>밤통화요금</th>     <td>    0.0006</td> <td>    0.000</td> <td>    3.060</td> <td> 0.002</td> <td>    0.000</td> <td>    0.001</td>\n",
       "</tr>\n",
       "<tr>\n",
       "  <th>상담전화건수</th>    <td>    0.0095</td> <td>    0.001</td> <td>   10.800</td> <td> 0.000</td> <td>    0.008</td> <td>    0.011</td>\n",
       "</tr>\n",
       "<tr>\n",
       "  <th>음성사서함이용</th>   <td>   -0.0153</td> <td>    0.001</td> <td>  -13.016</td> <td> 0.000</td> <td>   -0.018</td> <td>   -0.013</td>\n",
       "</tr>\n",
       "</table>\n",
       "<table class=\"simpletable\">\n",
       "<tr>\n",
       "  <th>Omnibus:</th>       <td>13869.257</td> <th>  Durbin-Watson:     </th> <td>   2.004</td> \n",
       "</tr>\n",
       "<tr>\n",
       "  <th>Prob(Omnibus):</th>  <td> 0.000</td>   <th>  Jarque-Bera (JB):  </th> <td>50998.951</td>\n",
       "</tr>\n",
       "<tr>\n",
       "  <th>Skew:</th>           <td> 2.438</td>   <th>  Prob(JB):          </th> <td>    0.00</td> \n",
       "</tr>\n",
       "<tr>\n",
       "  <th>Kurtosis:</th>       <td> 7.093</td>   <th>  Cond. No.          </th> <td>    970.</td> \n",
       "</tr>\n",
       "</table><br/><br/>Notes:<br/>[1] Standard Errors assume that the covariance matrix of the errors is correctly specified."
      ],
      "text/plain": [
       "<class 'statsmodels.iolib.summary.Summary'>\n",
       "\"\"\"\n",
       "                            OLS Regression Results                            \n",
       "==============================================================================\n",
       "Dep. Variable:                 전화해지여부   R-squared:                       0.015\n",
       "Model:                            OLS   Adj. R-squared:                  0.015\n",
       "Method:                 Least Squares   F-statistic:                     66.82\n",
       "Date:                Sun, 26 Mar 2023   Prob (F-statistic):           4.03e-96\n",
       "Time:                        02:31:03   Log-Likelihood:                -7514.4\n",
       "No. Observations:               30200   AIC:                         1.504e+04\n",
       "Df Residuals:                   30192   BIC:                         1.511e+04\n",
       "Df Model:                           7                                         \n",
       "Covariance Type:            nonrobust                                         \n",
       "==============================================================================\n",
       "                 coef    std err          t      P>|t|      [0.025      0.975]\n",
       "------------------------------------------------------------------------------\n",
       "Intercept      0.1376      0.006     23.852      0.000       0.126       0.149\n",
       "주간통화요금        -0.0010   7.86e-05    -13.299      0.000      -0.001      -0.001\n",
       "주간통화횟수      4.222e-05    1.8e-05      2.348      0.019    6.97e-06    7.75e-05\n",
       "저녁통화횟수     -1.396e-05   1.79e-05     -0.779      0.436   -4.91e-05    2.12e-05\n",
       "밤통화횟수       6.271e-06    1.8e-05      0.349      0.727    -2.9e-05    4.15e-05\n",
       "밤통화요금          0.0006      0.000      3.060      0.002       0.000       0.001\n",
       "상담전화건수         0.0095      0.001     10.800      0.000       0.008       0.011\n",
       "음성사서함이용       -0.0153      0.001    -13.016      0.000      -0.018      -0.013\n",
       "==============================================================================\n",
       "Omnibus:                    13869.257   Durbin-Watson:                   2.004\n",
       "Prob(Omnibus):                  0.000   Jarque-Bera (JB):            50998.951\n",
       "Skew:                           2.438   Prob(JB):                         0.00\n",
       "Kurtosis:                       7.093   Cond. No.                         970.\n",
       "==============================================================================\n",
       "\n",
       "Notes:\n",
       "[1] Standard Errors assume that the covariance matrix of the errors is correctly specified.\n",
       "\"\"\""
      ]
     },
     "execution_count": 32,
     "metadata": {},
     "output_type": "execute_result"
    }
   ],
   "source": [
    "res_vif_under_5 = smf.ols(formula='전화해지여부 ~ 주간통화요금 + 주간통화횟수 + 저녁통화횟수 + 밤통화횟수 + 밤통화요금 + 상담전화건수 + 음성사서함이용',\n",
    "              data=pd.concat([X_log , y], axis=1)).fit()\n",
    "res_vif_under_5.summary()"
   ]
  },
  {
   "cell_type": "code",
   "execution_count": 33,
   "id": "d20c67d6",
   "metadata": {},
   "outputs": [
    {
     "data": {
      "text/html": [
       "<table class=\"simpletable\">\n",
       "<caption>OLS Regression Results</caption>\n",
       "<tr>\n",
       "  <th>Dep. Variable:</th>         <td>전화해지여부</td>      <th>  R-squared:         </th> <td>   0.015</td> \n",
       "</tr>\n",
       "<tr>\n",
       "  <th>Model:</th>                   <td>OLS</td>       <th>  Adj. R-squared:    </th> <td>   0.015</td> \n",
       "</tr>\n",
       "<tr>\n",
       "  <th>Method:</th>             <td>Least Squares</td>  <th>  F-statistic:       </th> <td>   93.41</td> \n",
       "</tr>\n",
       "<tr>\n",
       "  <th>Date:</th>             <td>Sun, 26 Mar 2023</td> <th>  Prob (F-statistic):</th> <td>6.00e-98</td> \n",
       "</tr>\n",
       "<tr>\n",
       "  <th>Time:</th>                 <td>02:35:12</td>     <th>  Log-Likelihood:    </th> <td> -7514.7</td> \n",
       "</tr>\n",
       "<tr>\n",
       "  <th>No. Observations:</th>      <td> 30200</td>      <th>  AIC:               </th> <td>1.504e+04</td>\n",
       "</tr>\n",
       "<tr>\n",
       "  <th>Df Residuals:</th>          <td> 30194</td>      <th>  BIC:               </th> <td>1.509e+04</td>\n",
       "</tr>\n",
       "<tr>\n",
       "  <th>Df Model:</th>              <td>     5</td>      <th>                     </th>     <td> </td>    \n",
       "</tr>\n",
       "<tr>\n",
       "  <th>Covariance Type:</th>      <td>nonrobust</td>    <th>                     </th>     <td> </td>    \n",
       "</tr>\n",
       "</table>\n",
       "<table class=\"simpletable\">\n",
       "<tr>\n",
       "      <td></td>         <th>coef</th>     <th>std err</th>      <th>t</th>      <th>P>|t|</th>  <th>[0.025</th>    <th>0.975]</th>  \n",
       "</tr>\n",
       "<tr>\n",
       "  <th>Intercept</th> <td>    0.1368</td> <td>    0.005</td> <td>   26.447</td> <td> 0.000</td> <td>    0.127</td> <td>    0.147</td>\n",
       "</tr>\n",
       "<tr>\n",
       "  <th>주간통화요금</th>    <td>   -0.0010</td> <td>  7.8e-05</td> <td>  -13.420</td> <td> 0.000</td> <td>   -0.001</td> <td>   -0.001</td>\n",
       "</tr>\n",
       "<tr>\n",
       "  <th>주간통화횟수</th>    <td> 4.097e-05</td> <td> 1.78e-05</td> <td>    2.303</td> <td> 0.021</td> <td> 6.11e-06</td> <td> 7.58e-05</td>\n",
       "</tr>\n",
       "<tr>\n",
       "  <th>밤통화요금</th>     <td>    0.0006</td> <td>    0.000</td> <td>    3.039</td> <td> 0.002</td> <td>    0.000</td> <td>    0.001</td>\n",
       "</tr>\n",
       "<tr>\n",
       "  <th>상담전화건수</th>    <td>    0.0095</td> <td>    0.001</td> <td>   10.814</td> <td> 0.000</td> <td>    0.008</td> <td>    0.011</td>\n",
       "</tr>\n",
       "<tr>\n",
       "  <th>음성사서함이용</th>   <td>   -0.0153</td> <td>    0.001</td> <td>  -13.021</td> <td> 0.000</td> <td>   -0.018</td> <td>   -0.013</td>\n",
       "</tr>\n",
       "</table>\n",
       "<table class=\"simpletable\">\n",
       "<tr>\n",
       "  <th>Omnibus:</th>       <td>13869.878</td> <th>  Durbin-Watson:     </th> <td>   2.004</td> \n",
       "</tr>\n",
       "<tr>\n",
       "  <th>Prob(Omnibus):</th>  <td> 0.000</td>   <th>  Jarque-Bera (JB):  </th> <td>51003.860</td>\n",
       "</tr>\n",
       "<tr>\n",
       "  <th>Skew:</th>           <td> 2.438</td>   <th>  Prob(JB):          </th> <td>    0.00</td> \n",
       "</tr>\n",
       "<tr>\n",
       "  <th>Kurtosis:</th>       <td> 7.093</td>   <th>  Cond. No.          </th> <td>    560.</td> \n",
       "</tr>\n",
       "</table><br/><br/>Notes:<br/>[1] Standard Errors assume that the covariance matrix of the errors is correctly specified."
      ],
      "text/plain": [
       "<class 'statsmodels.iolib.summary.Summary'>\n",
       "\"\"\"\n",
       "                            OLS Regression Results                            \n",
       "==============================================================================\n",
       "Dep. Variable:                 전화해지여부   R-squared:                       0.015\n",
       "Model:                            OLS   Adj. R-squared:                  0.015\n",
       "Method:                 Least Squares   F-statistic:                     93.41\n",
       "Date:                Sun, 26 Mar 2023   Prob (F-statistic):           6.00e-98\n",
       "Time:                        02:35:12   Log-Likelihood:                -7514.7\n",
       "No. Observations:               30200   AIC:                         1.504e+04\n",
       "Df Residuals:                   30194   BIC:                         1.509e+04\n",
       "Df Model:                           5                                         \n",
       "Covariance Type:            nonrobust                                         \n",
       "==============================================================================\n",
       "                 coef    std err          t      P>|t|      [0.025      0.975]\n",
       "------------------------------------------------------------------------------\n",
       "Intercept      0.1368      0.005     26.447      0.000       0.127       0.147\n",
       "주간통화요금        -0.0010    7.8e-05    -13.420      0.000      -0.001      -0.001\n",
       "주간통화횟수      4.097e-05   1.78e-05      2.303      0.021    6.11e-06    7.58e-05\n",
       "밤통화요금          0.0006      0.000      3.039      0.002       0.000       0.001\n",
       "상담전화건수         0.0095      0.001     10.814      0.000       0.008       0.011\n",
       "음성사서함이용       -0.0153      0.001    -13.021      0.000      -0.018      -0.013\n",
       "==============================================================================\n",
       "Omnibus:                    13869.878   Durbin-Watson:                   2.004\n",
       "Prob(Omnibus):                  0.000   Jarque-Bera (JB):            51003.860\n",
       "Skew:                           2.438   Prob(JB):                         0.00\n",
       "Kurtosis:                       7.093   Cond. No.                         560.\n",
       "==============================================================================\n",
       "\n",
       "Notes:\n",
       "[1] Standard Errors assume that the covariance matrix of the errors is correctly specified.\n",
       "\"\"\""
      ]
     },
     "execution_count": 33,
     "metadata": {},
     "output_type": "execute_result"
    }
   ],
   "source": [
    "res_vif_removed = smf.ols(formula='전화해지여부 ~ 주간통화요금 + 주간통화횟수 + 밤통화요금 + 상담전화건수 + 음성사서함이용',\n",
    "              data=pd.concat([X_log , y], axis=1)).fit()\n",
    "res_vif_removed.summary()"
   ]
  },
  {
   "cell_type": "markdown",
   "id": "01ad062f",
   "metadata": {},
   "source": [
    "### 예측해보기"
   ]
  },
  {
   "cell_type": "code",
   "execution_count": 37,
   "id": "f09052c5",
   "metadata": {},
   "outputs": [
    {
     "data": {
      "text/plain": [
       "((24160, 12), (6040, 12), (24160,), (6040,))"
      ]
     },
     "execution_count": 37,
     "metadata": {},
     "output_type": "execute_result"
    }
   ],
   "source": [
    "from sklearn.model_selection import train_test_split\n",
    "\n",
    "X_train, X_valid, y_train, y_valid = train_test_split(\n",
    "    X_log, y, test_size=0.2, random_state=42)\n",
    "\n",
    "X_train.shape, X_valid.shape, y_train.shape, y_valid.shape"
   ]
  },
  {
   "cell_type": "code",
   "execution_count": 38,
   "id": "f846e99f",
   "metadata": {},
   "outputs": [],
   "source": [
    "col = ['주간통화요금', '주간통화횟수', '밤통화요금', '상담전화건수', '음성사서함이용']"
   ]
  },
  {
   "cell_type": "code",
   "execution_count": 39,
   "id": "959eb2bd",
   "metadata": {},
   "outputs": [
    {
     "data": {
      "text/html": [
       "<div>\n",
       "<style scoped>\n",
       "    .dataframe tbody tr th:only-of-type {\n",
       "        vertical-align: middle;\n",
       "    }\n",
       "\n",
       "    .dataframe tbody tr th {\n",
       "        vertical-align: top;\n",
       "    }\n",
       "\n",
       "    .dataframe thead th {\n",
       "        text-align: right;\n",
       "    }\n",
       "</style>\n",
       "<table border=\"1\" class=\"dataframe\">\n",
       "  <thead>\n",
       "    <tr style=\"text-align: right;\">\n",
       "      <th></th>\n",
       "      <th>주간통화요금</th>\n",
       "      <th>주간통화횟수</th>\n",
       "      <th>밤통화요금</th>\n",
       "      <th>상담전화건수</th>\n",
       "      <th>음성사서함이용</th>\n",
       "    </tr>\n",
       "    <tr>\n",
       "      <th>ID</th>\n",
       "      <th></th>\n",
       "      <th></th>\n",
       "      <th></th>\n",
       "      <th></th>\n",
       "      <th></th>\n",
       "    </tr>\n",
       "  </thead>\n",
       "  <tbody>\n",
       "    <tr>\n",
       "      <th>TRAIN_26587</th>\n",
       "      <td>49.9</td>\n",
       "      <td>42</td>\n",
       "      <td>4.40</td>\n",
       "      <td>0</td>\n",
       "      <td>0.693147</td>\n",
       "    </tr>\n",
       "    <tr>\n",
       "      <th>TRAIN_29946</th>\n",
       "      <td>36.7</td>\n",
       "      <td>63</td>\n",
       "      <td>2.23</td>\n",
       "      <td>2</td>\n",
       "      <td>0.693147</td>\n",
       "    </tr>\n",
       "  </tbody>\n",
       "</table>\n",
       "</div>"
      ],
      "text/plain": [
       "             주간통화요금  주간통화횟수  밤통화요금  상담전화건수   음성사서함이용\n",
       "ID                                                  \n",
       "TRAIN_26587    49.9      42   4.40       0  0.693147\n",
       "TRAIN_29946    36.7      63   2.23       2  0.693147"
      ]
     },
     "metadata": {},
     "output_type": "display_data"
    },
    {
     "data": {
      "text/html": [
       "<div>\n",
       "<style scoped>\n",
       "    .dataframe tbody tr th:only-of-type {\n",
       "        vertical-align: middle;\n",
       "    }\n",
       "\n",
       "    .dataframe tbody tr th {\n",
       "        vertical-align: top;\n",
       "    }\n",
       "\n",
       "    .dataframe thead th {\n",
       "        text-align: right;\n",
       "    }\n",
       "</style>\n",
       "<table border=\"1\" class=\"dataframe\">\n",
       "  <thead>\n",
       "    <tr style=\"text-align: right;\">\n",
       "      <th></th>\n",
       "      <th>주간통화요금</th>\n",
       "      <th>주간통화횟수</th>\n",
       "      <th>밤통화요금</th>\n",
       "      <th>상담전화건수</th>\n",
       "      <th>음성사서함이용</th>\n",
       "    </tr>\n",
       "    <tr>\n",
       "      <th>ID</th>\n",
       "      <th></th>\n",
       "      <th></th>\n",
       "      <th></th>\n",
       "      <th></th>\n",
       "      <th></th>\n",
       "    </tr>\n",
       "  </thead>\n",
       "  <tbody>\n",
       "    <tr>\n",
       "      <th>TRAIN_03068</th>\n",
       "      <td>31.6</td>\n",
       "      <td>281</td>\n",
       "      <td>20.08</td>\n",
       "      <td>8</td>\n",
       "      <td>0.693147</td>\n",
       "    </tr>\n",
       "    <tr>\n",
       "      <th>TRAIN_30027</th>\n",
       "      <td>24.1</td>\n",
       "      <td>223</td>\n",
       "      <td>2.33</td>\n",
       "      <td>3</td>\n",
       "      <td>0.693147</td>\n",
       "    </tr>\n",
       "  </tbody>\n",
       "</table>\n",
       "</div>"
      ],
      "text/plain": [
       "             주간통화요금  주간통화횟수  밤통화요금  상담전화건수   음성사서함이용\n",
       "ID                                                  \n",
       "TRAIN_03068    31.6     281  20.08       8  0.693147\n",
       "TRAIN_30027    24.1     223   2.33       3  0.693147"
      ]
     },
     "metadata": {},
     "output_type": "display_data"
    }
   ],
   "source": [
    "X_train_selected = X_train[col]\n",
    "display(X_train_selected.head(2))\n",
    "X_valid_selected = X_valid[col]\n",
    "display(X_valid_selected.head(2))"
   ]
  },
  {
   "cell_type": "code",
   "execution_count": 40,
   "id": "44a846ba",
   "metadata": {},
   "outputs": [
    {
     "data": {
      "text/plain": [
       "LGBMClassifier()"
      ]
     },
     "execution_count": 40,
     "metadata": {},
     "output_type": "execute_result"
    }
   ],
   "source": [
    "import lightgbm\n",
    "\n",
    "model_lgbm  = lightgbm.LGBMClassifier()\n",
    "model_lgbm "
   ]
  },
  {
   "cell_type": "code",
   "execution_count": 46,
   "id": "4bc14438",
   "metadata": {},
   "outputs": [
    {
     "name": "stdout",
     "output_type": "stream",
     "text": [
      "Fitting 5 folds for each of 10 candidates, totalling 50 fits\n"
     ]
    },
    {
     "data": {
      "text/plain": [
       "LGBMClassifier(learning_rate=0.20059954066388008, n_estimators=978)"
      ]
     },
     "execution_count": 46,
     "metadata": {},
     "output_type": "execute_result"
    }
   ],
   "source": [
    "from sklearn.model_selection import RandomizedSearchCV\n",
    "\n",
    "param_distributions = {\"n_estimators\": list(range(100,1000)),\n",
    "                       \"learning_rate\": np.random.uniform(low=0.01, high=0.3, size=1000)\n",
    "                      }\n",
    "reg = RandomizedSearchCV(model_lgbm, \n",
    "                         param_distributions=param_distributions, \n",
    "                         n_iter=10,\n",
    "                         scoring='f1',\n",
    "                         cv=5, verbose=1, n_jobs=-1,\n",
    "                         random_state=42)\n",
    "\n",
    "reg.fit(X_train_selected, y_train)\n",
    "reg.best_estimator_"
   ]
  },
  {
   "cell_type": "code",
   "execution_count": 47,
   "id": "1da46eaa",
   "metadata": {},
   "outputs": [
    {
     "name": "stdout",
     "output_type": "stream",
     "text": [
      "Fitting 3 folds for each of 180 candidates, totalling 540 fits\n"
     ]
    },
    {
     "data": {
      "text/plain": [
       "LGBMClassifier(learning_rate=0.25981629607654794, n_estimators=1000)"
      ]
     },
     "execution_count": 47,
     "metadata": {},
     "output_type": "execute_result"
    }
   ],
   "source": [
    "from sklearn.model_selection import GridSearchCV\n",
    "\n",
    "param_distributions = {\"n_estimators\": [550,650,750,850,950,1000],\n",
    "                       \"learning_rate\": np.random.uniform(low=0.1, high=0.3, size=30)\n",
    "                      }\n",
    "reg_grid = GridSearchCV(model_lgbm, \n",
    "                         param_grid=param_distributions,\n",
    "                         scoring='f1',\n",
    "                         cv=3, verbose=1, n_jobs=-1)\n",
    "\n",
    "reg_grid.fit(X_train, y_train)\n",
    "\n",
    "reg_grid.best_estimator_"
   ]
  },
  {
   "cell_type": "code",
   "execution_count": 56,
   "id": "12529d91",
   "metadata": {},
   "outputs": [
    {
     "data": {
      "text/plain": [
       "LGBMClassifier(learning_rate=0.3, n_estimators=1000)"
      ]
     },
     "execution_count": 56,
     "metadata": {},
     "output_type": "execute_result"
    }
   ],
   "source": [
    "model_lgbm  = lightgbm.LGBMClassifier(learning_rate=0.3, n_estimators=1000)\n",
    "model_lgbm "
   ]
  },
  {
   "cell_type": "code",
   "execution_count": 57,
   "id": "d930a2c9",
   "metadata": {},
   "outputs": [
    {
     "data": {
      "text/plain": [
       "LGBMClassifier(learning_rate=0.3, n_estimators=1000)"
      ]
     },
     "execution_count": 57,
     "metadata": {},
     "output_type": "execute_result"
    }
   ],
   "source": [
    "model_lgbm.fit(X_train_selected, y_train)"
   ]
  },
  {
   "cell_type": "code",
   "execution_count": 59,
   "id": "49ecbd79",
   "metadata": {},
   "outputs": [
    {
     "data": {
      "text/plain": [
       "<AxesSubplot:>"
      ]
     },
     "execution_count": 59,
     "metadata": {},
     "output_type": "execute_result"
    },
    {
     "data": {
      "image/png": "[encoded data removed]",
      "text/plain": [
       "<Figure size 640x480 with 1 Axes>"
      ]
     },
     "metadata": {},
     "output_type": "display_data"
    }
   ],
   "source": [
    "lgbm_fi = pd.Series(model_lgbm.feature_importances_)\n",
    "lgbm_fi.index = model_lgbm.feature_name_\n",
    "lgbm_fi.nlargest(20).sort_values().plot.barh()"
   ]
  },
  {
   "cell_type": "code",
   "execution_count": 58,
   "id": "859bb6da",
   "metadata": {},
   "outputs": [
    {
     "name": "stderr",
     "output_type": "stream",
     "text": [
      "[Parallel(n_jobs=-1)]: Using backend LokyBackend with 6 concurrent workers.\n",
      "[Parallel(n_jobs=-1)]: Done   3 out of   3 | elapsed:    1.4s finished\n"
     ]
    },
    {
     "name": "stdout",
     "output_type": "stream",
     "text": [
      "cross_val_accuracy :  0.8966887417218543  cross_val_f1 :  0.6733032364321292\n",
      "valid_pred_accuracy :  0.9031456953642384 valid_pred_f1 :  0.6813909080359121\n"
     ]
    }
   ],
   "source": [
    "# 1\n",
    "from sklearn.model_selection import cross_val_predict\n",
    "from sklearn.metrics import accuracy_score\n",
    "from sklearn.metrics import f1_score\n",
    "\n",
    "y_cross_val_pred = cross_val_predict(model_lgbm, X_train_selected, y_train, n_jobs=-1, verbose=1,cv=3)\n",
    "# y_cross_val_pred[:5]\n",
    "\n",
    "cross_val_accuracy = accuracy_score(y_cross_val_pred, y_train) \n",
    "cross_val_f1_macro = f1_score(y_cross_val_pred, y_train, average='macro')\n",
    "print('cross_val_accuracy : ',cross_val_accuracy, ' cross_val_f1 : ', cross_val_f1_macro)\n",
    "\n",
    "# 2\n",
    "model_lgbm.fit(X_train_selected, y_train)\n",
    "\n",
    "y_valid_pred = model_lgbm.predict(X_valid_selected)\n",
    "# y_valid_pred[:5]\n",
    "\n",
    "valid_pred_accuracy = accuracy_score(y_valid_pred, y_valid) \n",
    "valid_pred_f1_macro = f1_score(y_valid_pred, y_valid, average='macro')\n",
    "print('valid_pred_accuracy : ',valid_pred_accuracy, 'valid_pred_f1 : ',valid_pred_f1_macro)"
   ]
  },
  {
   "cell_type": "markdown",
   "id": "96c801ce",
   "metadata": {},
   "source": [
    "### 다시 조정해보기"
   ]
  },
  {
   "cell_type": "markdown",
   "id": "21fc6e76",
   "metadata": {},
   "source": [
    "#### '저녁' 키워드 중 '저녁통화요금'만 남기고 '횟수' 키워드는 전부 삭제\n",
    "* w지울 column : ['저녁통화시간', '저녁통화횟수', '주간통화횟수', '밤통화횟수']"
   ]
  },
  {
   "cell_type": "code",
   "execution_count": 66,
   "id": "1bbce5da",
   "metadata": {},
   "outputs": [
    {
     "data": {
      "text/plain": [
       "Index(['가입일', '음성사서함이용', '주간통화시간', '주간통화요금', '저녁통화요금', '밤통화시간', '밤통화요금',\n",
       "       '상담전화건수'],\n",
       "      dtype='object')"
      ]
     },
     "execution_count": 66,
     "metadata": {},
     "output_type": "execute_result"
    }
   ],
   "source": [
    "drop_col = ['저녁통화시간', '저녁통화횟수', '주간통화횟수', '밤통화횟수']\n",
    "X_log_dropped = X_log.copy()\n",
    "X_log_dropped = X_log_dropped.drop(columns = drop_col)\n",
    "X_log_dropped.columns"
   ]
  },
  {
   "cell_type": "markdown",
   "id": "95fe8849",
   "metadata": {},
   "source": [
    "##### VIF 구해보기"
   ]
  },
  {
   "cell_type": "code",
   "execution_count": 67,
   "id": "a6f40d72",
   "metadata": {},
   "outputs": [
    {
     "data": {
      "text/html": [
       "<div>\n",
       "<style scoped>\n",
       "    .dataframe tbody tr th:only-of-type {\n",
       "        vertical-align: middle;\n",
       "    }\n",
       "\n",
       "    .dataframe tbody tr th {\n",
       "        vertical-align: top;\n",
       "    }\n",
       "\n",
       "    .dataframe thead th {\n",
       "        text-align: right;\n",
       "    }\n",
       "</style>\n",
       "<table border=\"1\" class=\"dataframe\">\n",
       "  <thead>\n",
       "    <tr style=\"text-align: right;\">\n",
       "      <th></th>\n",
       "      <th>VIF Factor</th>\n",
       "      <th>features</th>\n",
       "    </tr>\n",
       "  </thead>\n",
       "  <tbody>\n",
       "    <tr>\n",
       "      <th>5</th>\n",
       "      <td>23.909595</td>\n",
       "      <td>밤통화시간</td>\n",
       "    </tr>\n",
       "    <tr>\n",
       "      <th>4</th>\n",
       "      <td>17.339856</td>\n",
       "      <td>저녁통화요금</td>\n",
       "    </tr>\n",
       "    <tr>\n",
       "      <th>2</th>\n",
       "      <td>15.018682</td>\n",
       "      <td>주간통화시간</td>\n",
       "    </tr>\n",
       "    <tr>\n",
       "      <th>0</th>\n",
       "      <td>13.350050</td>\n",
       "      <td>가입일</td>\n",
       "    </tr>\n",
       "    <tr>\n",
       "      <th>3</th>\n",
       "      <td>4.688060</td>\n",
       "      <td>주간통화요금</td>\n",
       "    </tr>\n",
       "    <tr>\n",
       "      <th>6</th>\n",
       "      <td>2.920147</td>\n",
       "      <td>밤통화요금</td>\n",
       "    </tr>\n",
       "    <tr>\n",
       "      <th>7</th>\n",
       "      <td>2.362838</td>\n",
       "      <td>상담전화건수</td>\n",
       "    </tr>\n",
       "    <tr>\n",
       "      <th>1</th>\n",
       "      <td>1.668996</td>\n",
       "      <td>음성사서함이용</td>\n",
       "    </tr>\n",
       "  </tbody>\n",
       "</table>\n",
       "</div>"
      ],
      "text/plain": [
       "   VIF Factor features\n",
       "5   23.909595    밤통화시간\n",
       "4   17.339856   저녁통화요금\n",
       "2   15.018682   주간통화시간\n",
       "0   13.350050      가입일\n",
       "3    4.688060   주간통화요금\n",
       "6    2.920147    밤통화요금\n",
       "7    2.362838   상담전화건수\n",
       "1    1.668996  음성사서함이용"
      ]
     },
     "metadata": {},
     "output_type": "display_data"
    }
   ],
   "source": [
    "vif = pd.DataFrame()\n",
    "vif[\"VIF Factor\"] = [variance_inflation_factor(\n",
    "    X_log_dropped.values, i) for i in range(X_log_dropped.shape[1])]\n",
    "vif[\"features\"] = X_log_dropped.columns\n",
    "display(vif.sort_values(by='VIF Factor', ascending=False))"
   ]
  },
  {
   "cell_type": "markdown",
   "id": "5b06dcfc",
   "metadata": {},
   "source": [
    "##### ols 구해보기"
   ]
  },
  {
   "cell_type": "code",
   "execution_count": 70,
   "id": "5ee817f5",
   "metadata": {},
   "outputs": [
    {
     "data": {
      "text/html": [
       "<table class=\"simpletable\">\n",
       "<caption>OLS Regression Results</caption>\n",
       "<tr>\n",
       "  <th>Dep. Variable:</th>         <td>전화해지여부</td>      <th>  R-squared:         </th> <td>   0.018</td> \n",
       "</tr>\n",
       "<tr>\n",
       "  <th>Model:</th>                   <td>OLS</td>       <th>  Adj. R-squared:    </th> <td>   0.018</td> \n",
       "</tr>\n",
       "<tr>\n",
       "  <th>Method:</th>             <td>Least Squares</td>  <th>  F-statistic:       </th> <td>   69.84</td> \n",
       "</tr>\n",
       "<tr>\n",
       "  <th>Date:</th>             <td>Sun, 26 Mar 2023</td> <th>  Prob (F-statistic):</th> <td>2.10e-114</td>\n",
       "</tr>\n",
       "<tr>\n",
       "  <th>Time:</th>                 <td>04:40:34</td>     <th>  Log-Likelihood:    </th> <td> -7469.6</td> \n",
       "</tr>\n",
       "<tr>\n",
       "  <th>No. Observations:</th>      <td> 30200</td>      <th>  AIC:               </th> <td>1.496e+04</td>\n",
       "</tr>\n",
       "<tr>\n",
       "  <th>Df Residuals:</th>          <td> 30191</td>      <th>  BIC:               </th> <td>1.503e+04</td>\n",
       "</tr>\n",
       "<tr>\n",
       "  <th>Df Model:</th>              <td>     8</td>      <th>                     </th>     <td> </td>    \n",
       "</tr>\n",
       "<tr>\n",
       "  <th>Covariance Type:</th>      <td>nonrobust</td>    <th>                     </th>     <td> </td>    \n",
       "</tr>\n",
       "</table>\n",
       "<table class=\"simpletable\">\n",
       "<tr>\n",
       "      <td></td>         <th>coef</th>     <th>std err</th>      <th>t</th>      <th>P>|t|</th>  <th>[0.025</th>    <th>0.975]</th>  \n",
       "</tr>\n",
       "<tr>\n",
       "  <th>Intercept</th> <td>    0.1066</td> <td>    0.011</td> <td>    9.627</td> <td> 0.000</td> <td>    0.085</td> <td>    0.128</td>\n",
       "</tr>\n",
       "<tr>\n",
       "  <th>가입일</th>       <td>    0.0049</td> <td>    0.002</td> <td>    2.465</td> <td> 0.014</td> <td>    0.001</td> <td>    0.009</td>\n",
       "</tr>\n",
       "<tr>\n",
       "  <th>음성사서함이용</th>   <td>   -0.0153</td> <td>    0.001</td> <td>  -12.982</td> <td> 0.000</td> <td>   -0.018</td> <td>   -0.013</td>\n",
       "</tr>\n",
       "<tr>\n",
       "  <th>주간통화시간</th>    <td>    0.0002</td> <td> 2.63e-05</td> <td>    9.321</td> <td> 0.000</td> <td>    0.000</td> <td>    0.000</td>\n",
       "</tr>\n",
       "<tr>\n",
       "  <th>주간통화요금</th>    <td>   -0.0012</td> <td> 8.21e-05</td> <td>  -15.030</td> <td> 0.000</td> <td>   -0.001</td> <td>   -0.001</td>\n",
       "</tr>\n",
       "<tr>\n",
       "  <th>저녁통화요금</th>    <td>   -0.0003</td> <td>    0.000</td> <td>   -1.097</td> <td> 0.272</td> <td>   -0.001</td> <td>    0.000</td>\n",
       "</tr>\n",
       "<tr>\n",
       "  <th>밤통화시간</th>     <td>   -0.0001</td> <td> 3.24e-05</td> <td>   -3.809</td> <td> 0.000</td> <td>   -0.000</td> <td>-5.99e-05</td>\n",
       "</tr>\n",
       "<tr>\n",
       "  <th>밤통화요금</th>     <td>    0.0006</td> <td>    0.000</td> <td>    3.035</td> <td> 0.002</td> <td>    0.000</td> <td>    0.001</td>\n",
       "</tr>\n",
       "<tr>\n",
       "  <th>상담전화건수</th>    <td>    0.0092</td> <td>    0.001</td> <td>   10.329</td> <td> 0.000</td> <td>    0.007</td> <td>    0.011</td>\n",
       "</tr>\n",
       "</table>\n",
       "<table class=\"simpletable\">\n",
       "<tr>\n",
       "  <th>Omnibus:</th>       <td>13800.564</td> <th>  Durbin-Watson:     </th> <td>   2.005</td> \n",
       "</tr>\n",
       "<tr>\n",
       "  <th>Prob(Omnibus):</th>  <td> 0.000</td>   <th>  Jarque-Bera (JB):  </th> <td>50448.757</td>\n",
       "</tr>\n",
       "<tr>\n",
       "  <th>Skew:</th>           <td> 2.427</td>   <th>  Prob(JB):          </th> <td>    0.00</td> \n",
       "</tr>\n",
       "<tr>\n",
       "  <th>Kurtosis:</th>       <td> 7.066</td>   <th>  Cond. No.          </th> <td>2.38e+03</td> \n",
       "</tr>\n",
       "</table><br/><br/>Notes:<br/>[1] Standard Errors assume that the covariance matrix of the errors is correctly specified.<br/>[2] The condition number is large, 2.38e+03. This might indicate that there are<br/>strong multicollinearity or other numerical problems."
      ],
      "text/plain": [
       "<class 'statsmodels.iolib.summary.Summary'>\n",
       "\"\"\"\n",
       "                            OLS Regression Results                            \n",
       "==============================================================================\n",
       "Dep. Variable:                 전화해지여부   R-squared:                       0.018\n",
       "Model:                            OLS   Adj. R-squared:                  0.018\n",
       "Method:                 Least Squares   F-statistic:                     69.84\n",
       "Date:                Sun, 26 Mar 2023   Prob (F-statistic):          2.10e-114\n",
       "Time:                        04:40:34   Log-Likelihood:                -7469.6\n",
       "No. Observations:               30200   AIC:                         1.496e+04\n",
       "Df Residuals:                   30191   BIC:                         1.503e+04\n",
       "Df Model:                           8                                         \n",
       "Covariance Type:            nonrobust                                         \n",
       "==============================================================================\n",
       "                 coef    std err          t      P>|t|      [0.025      0.975]\n",
       "------------------------------------------------------------------------------\n",
       "Intercept      0.1066      0.011      9.627      0.000       0.085       0.128\n",
       "가입일            0.0049      0.002      2.465      0.014       0.001       0.009\n",
       "음성사서함이용       -0.0153      0.001    -12.982      0.000      -0.018      -0.013\n",
       "주간통화시간         0.0002   2.63e-05      9.321      0.000       0.000       0.000\n",
       "주간통화요금        -0.0012   8.21e-05    -15.030      0.000      -0.001      -0.001\n",
       "저녁통화요금        -0.0003      0.000     -1.097      0.272      -0.001       0.000\n",
       "밤통화시간         -0.0001   3.24e-05     -3.809      0.000      -0.000   -5.99e-05\n",
       "밤통화요금          0.0006      0.000      3.035      0.002       0.000       0.001\n",
       "상담전화건수         0.0092      0.001     10.329      0.000       0.007       0.011\n",
       "==============================================================================\n",
       "Omnibus:                    13800.564   Durbin-Watson:                   2.005\n",
       "Prob(Omnibus):                  0.000   Jarque-Bera (JB):            50448.757\n",
       "Skew:                           2.427   Prob(JB):                         0.00\n",
       "Kurtosis:                       7.066   Cond. No.                     2.38e+03\n",
       "==============================================================================\n",
       "\n",
       "Notes:\n",
       "[1] Standard Errors assume that the covariance matrix of the errors is correctly specified.\n",
       "[2] The condition number is large, 2.38e+03. This might indicate that there are\n",
       "strong multicollinearity or other numerical problems.\n",
       "\"\"\""
      ]
     },
     "execution_count": 70,
     "metadata": {},
     "output_type": "execute_result"
    }
   ],
   "source": [
    "res_dropped = smf.ols(formula='전화해지여부 ~ 가입일 + 음성사서함이용 + 주간통화시간 + 주간통화요금 + 저녁통화요금 + 밤통화시간 + 밤통화요금 + 상담전화건수',\n",
    "              data=pd.concat([X_log_dropped , y], axis=1)).fit()\n",
    "res_dropped.summary()"
   ]
  },
  {
   "cell_type": "markdown",
   "id": "21ac2a20",
   "metadata": {},
   "source": [
    "##### 예측해보기"
   ]
  },
  {
   "cell_type": "code",
   "execution_count": 71,
   "id": "900dd16b",
   "metadata": {},
   "outputs": [
    {
     "data": {
      "text/plain": [
       "((24160, 8), (6040, 8), (24160,), (6040,))"
      ]
     },
     "execution_count": 71,
     "metadata": {},
     "output_type": "execute_result"
    }
   ],
   "source": [
    "from sklearn.model_selection import train_test_split\n",
    "\n",
    "X_train, X_valid, y_train, y_valid = train_test_split(\n",
    "    X_log_dropped, y, test_size=0.2, random_state=42)\n",
    "\n",
    "X_train.shape, X_valid.shape, y_train.shape, y_valid.shape"
   ]
  },
  {
   "cell_type": "code",
   "execution_count": 72,
   "id": "8c948613",
   "metadata": {},
   "outputs": [
    {
     "data": {
      "text/plain": [
       "LGBMClassifier()"
      ]
     },
     "execution_count": 72,
     "metadata": {},
     "output_type": "execute_result"
    }
   ],
   "source": [
    "model_lgbm  = lightgbm.LGBMClassifier()\n",
    "model_lgbm "
   ]
  },
  {
   "cell_type": "code",
   "execution_count": 74,
   "id": "37f71c4e",
   "metadata": {},
   "outputs": [
    {
     "name": "stdout",
     "output_type": "stream",
     "text": [
      "Fitting 5 folds for each of 10 candidates, totalling 50 fits\n"
     ]
    },
    {
     "data": {
      "text/plain": [
       "LGBMClassifier(learning_rate=0.2982488646502258, n_estimators=767)"
      ]
     },
     "execution_count": 74,
     "metadata": {},
     "output_type": "execute_result"
    }
   ],
   "source": [
    "from sklearn.model_selection import RandomizedSearchCV\n",
    "\n",
    "param_distributions = {\"n_estimators\": list(range(100,1000)),\n",
    "                       \"learning_rate\": np.random.uniform(low=0.01, high=0.3, size=1000)\n",
    "                      }\n",
    "reg = RandomizedSearchCV(model_lgbm, \n",
    "                         param_distributions=param_distributions, \n",
    "                         n_iter=10,\n",
    "                         scoring='f1',\n",
    "                         cv=5, verbose=1, n_jobs=-1,\n",
    "                         random_state=42)\n",
    "\n",
    "reg.fit(X_train, y_train)\n",
    "reg.best_estimator_"
   ]
  },
  {
   "cell_type": "code",
   "execution_count": 75,
   "id": "0c7ef75f",
   "metadata": {},
   "outputs": [
    {
     "name": "stdout",
     "output_type": "stream",
     "text": [
      "Fitting 3 folds for each of 180 candidates, totalling 540 fits\n"
     ]
    },
    {
     "data": {
      "text/plain": [
       "LGBMClassifier(learning_rate=0.29021588688107297, n_estimators=1000)"
      ]
     },
     "execution_count": 75,
     "metadata": {},
     "output_type": "execute_result"
    }
   ],
   "source": [
    "from sklearn.model_selection import GridSearchCV\n",
    "\n",
    "param_distributions = {\"n_estimators\": [550,650,750,850,950,1000],\n",
    "                       \"learning_rate\": np.random.uniform(low=0.1, high=0.3, size=30)\n",
    "                      }\n",
    "reg_grid = GridSearchCV(model_lgbm, \n",
    "                         param_grid=param_distributions,\n",
    "                         scoring='f1',\n",
    "                         cv=3, verbose=1, n_jobs=-1)\n",
    "\n",
    "reg_grid.fit(X_train, y_train)\n",
    "\n",
    "reg_grid.best_estimator_"
   ]
  },
  {
   "cell_type": "code",
   "execution_count": 76,
   "id": "4477efa5",
   "metadata": {},
   "outputs": [
    {
     "data": {
      "text/plain": [
       "LGBMClassifier(learning_rate=0.29021588688107297, n_estimators=1000)"
      ]
     },
     "execution_count": 76,
     "metadata": {},
     "output_type": "execute_result"
    }
   ],
   "source": [
    "model_lgbm  = lightgbm.LGBMClassifier(learning_rate=0.29021588688107297, n_estimators=1000)\n",
    "model_lgbm "
   ]
  },
  {
   "cell_type": "code",
   "execution_count": 77,
   "id": "04a6cb54",
   "metadata": {},
   "outputs": [
    {
     "data": {
      "text/plain": [
       "LGBMClassifier(learning_rate=0.29021588688107297, n_estimators=1000)"
      ]
     },
     "execution_count": 77,
     "metadata": {},
     "output_type": "execute_result"
    }
   ],
   "source": [
    "model_lgbm.fit(X_train, y_train)"
   ]
  },
  {
   "cell_type": "code",
   "execution_count": 78,
   "id": "bbaf9bf7",
   "metadata": {},
   "outputs": [
    {
     "data": {
      "text/plain": [
       "<AxesSubplot:>"
      ]
     },
     "execution_count": 78,
     "metadata": {},
     "output_type": "execute_result"
    },
    {
     "data": {
      "image/png": "[encoded data removed]",
      "text/plain": [
       "<Figure size 640x480 with 1 Axes>"
      ]
     },
     "metadata": {},
     "output_type": "display_data"
    }
   ],
   "source": [
    "lgbm_fi = pd.Series(model_lgbm.feature_importances_)\n",
    "lgbm_fi.index = model_lgbm.feature_name_\n",
    "lgbm_fi.nlargest(20).sort_values().plot.barh()"
   ]
  },
  {
   "cell_type": "code",
   "execution_count": 79,
   "id": "b02f1b48",
   "metadata": {},
   "outputs": [
    {
     "name": "stderr",
     "output_type": "stream",
     "text": [
      "[Parallel(n_jobs=-1)]: Using backend LokyBackend with 6 concurrent workers.\n",
      "[Parallel(n_jobs=-1)]: Done   3 out of   3 | elapsed:    1.8s finished\n"
     ]
    },
    {
     "name": "stdout",
     "output_type": "stream",
     "text": [
      "cross_val_accuracy :  0.9117963576158941  cross_val_f1 :  0.7210170113430069\n",
      "valid_pred_accuracy :  0.9038079470198676 valid_pred_f1 :  0.6847150253248431\n"
     ]
    }
   ],
   "source": [
    "# 1 \n",
    "from sklearn.model_selection import cross_val_predict\n",
    "from sklearn.metrics import accuracy_score\n",
    "from sklearn.metrics import f1_score\n",
    "\n",
    "y_cross_val_pred = cross_val_predict(model_lgbm, X_train, y_train, n_jobs=-1, verbose=1,cv=3)\n",
    "# y_cross_val_pred[:5]\n",
    "\n",
    "cross_val_accuracy = accuracy_score(y_cross_val_pred, y_train) \n",
    "cross_val_f1_macro = f1_score(y_cross_val_pred, y_train, average='macro')\n",
    "print('cross_val_accuracy : ',cross_val_accuracy, ' cross_val_f1 : ', cross_val_f1_macro)\n",
    "\n",
    "# 2\n",
    "model_lgbm.fit(X_train_selected, y_train)\n",
    "\n",
    "y_valid_pred = model_lgbm.predict(X_valid_selected)\n",
    "# y_valid_pred[:5]\n",
    "\n",
    "valid_pred_accuracy = accuracy_score(y_valid_pred, y_valid) \n",
    "valid_pred_f1_macro = f1_score(y_valid_pred, y_valid, average='macro')\n",
    "print('valid_pred_accuracy : ',valid_pred_accuracy, 'valid_pred_f1 : ',valid_pred_f1_macro)"
   ]
  },
  {
   "cell_type": "markdown",
   "id": "18c8e4d8",
   "metadata": {},
   "source": [
    "#### '음성사서함이용' , '상담전화건수', '밤통화시간' 추가로 지워보기\n",
    "* 지울 column : ['저녁통화시간', '저녁통화횟수', '주간통화횟수', '밤통화횟수','밤통화시간', '음성사서함이용' , '상담전화건수']"
   ]
  },
  {
   "cell_type": "code",
   "execution_count": 97,
   "id": "71aea5d1",
   "metadata": {},
   "outputs": [
    {
     "data": {
      "text/plain": [
       "Index(['가입일', '주간통화시간', '주간통화요금', '저녁통화요금', '밤통화요금'], dtype='object')"
      ]
     },
     "execution_count": 97,
     "metadata": {},
     "output_type": "execute_result"
    }
   ],
   "source": [
    "drop_col = ['저녁통화시간', '저녁통화횟수', '주간통화횟수', '밤통화횟수', '밤통화시간', '음성사서함이용' , '상담전화건수']\n",
    "X_log_dropped = X_log.copy()\n",
    "X_log_dropped = X_log_dropped.drop(columns = drop_col)\n",
    "X_log_dropped.columns"
   ]
  },
  {
   "cell_type": "markdown",
   "id": "97e40a41",
   "metadata": {},
   "source": [
    "##### VIF 구해보기"
   ]
  },
  {
   "cell_type": "code",
   "execution_count": 98,
   "id": "88001105",
   "metadata": {},
   "outputs": [
    {
     "data": {
      "text/html": [
       "<div>\n",
       "<style scoped>\n",
       "    .dataframe tbody tr th:only-of-type {\n",
       "        vertical-align: middle;\n",
       "    }\n",
       "\n",
       "    .dataframe tbody tr th {\n",
       "        vertical-align: top;\n",
       "    }\n",
       "\n",
       "    .dataframe thead th {\n",
       "        text-align: right;\n",
       "    }\n",
       "</style>\n",
       "<table border=\"1\" class=\"dataframe\">\n",
       "  <thead>\n",
       "    <tr style=\"text-align: right;\">\n",
       "      <th></th>\n",
       "      <th>VIF Factor</th>\n",
       "      <th>features</th>\n",
       "    </tr>\n",
       "  </thead>\n",
       "  <tbody>\n",
       "    <tr>\n",
       "      <th>3</th>\n",
       "      <td>13.657944</td>\n",
       "      <td>저녁통화요금</td>\n",
       "    </tr>\n",
       "    <tr>\n",
       "      <th>1</th>\n",
       "      <td>13.492422</td>\n",
       "      <td>주간통화시간</td>\n",
       "    </tr>\n",
       "    <tr>\n",
       "      <th>0</th>\n",
       "      <td>11.286024</td>\n",
       "      <td>가입일</td>\n",
       "    </tr>\n",
       "    <tr>\n",
       "      <th>2</th>\n",
       "      <td>4.663734</td>\n",
       "      <td>주간통화요금</td>\n",
       "    </tr>\n",
       "    <tr>\n",
       "      <th>4</th>\n",
       "      <td>2.766953</td>\n",
       "      <td>밤통화요금</td>\n",
       "    </tr>\n",
       "  </tbody>\n",
       "</table>\n",
       "</div>"
      ],
      "text/plain": [
       "   VIF Factor features\n",
       "3   13.657944   저녁통화요금\n",
       "1   13.492422   주간통화시간\n",
       "0   11.286024      가입일\n",
       "2    4.663734   주간통화요금\n",
       "4    2.766953    밤통화요금"
      ]
     },
     "metadata": {},
     "output_type": "display_data"
    }
   ],
   "source": [
    "vif = pd.DataFrame()\n",
    "vif[\"VIF Factor\"] = [variance_inflation_factor(\n",
    "    X_log_dropped.values, i) for i in range(X_log_dropped.shape[1])]\n",
    "vif[\"features\"] = X_log_dropped.columns\n",
    "display(vif.sort_values(by='VIF Factor', ascending=False))"
   ]
  },
  {
   "cell_type": "markdown",
   "id": "09bea71c",
   "metadata": {},
   "source": [
    "##### ols 구해보기"
   ]
  },
  {
   "cell_type": "code",
   "execution_count": 100,
   "id": "aafa5710",
   "metadata": {},
   "outputs": [
    {
     "data": {
      "text/html": [
       "<table class=\"simpletable\">\n",
       "<caption>OLS Regression Results</caption>\n",
       "<tr>\n",
       "  <th>Dep. Variable:</th>         <td>전화해지여부</td>      <th>  R-squared:         </th> <td>   0.009</td> \n",
       "</tr>\n",
       "<tr>\n",
       "  <th>Model:</th>                   <td>OLS</td>       <th>  Adj. R-squared:    </th> <td>   0.009</td> \n",
       "</tr>\n",
       "<tr>\n",
       "  <th>Method:</th>             <td>Least Squares</td>  <th>  F-statistic:       </th> <td>   52.89</td> \n",
       "</tr>\n",
       "<tr>\n",
       "  <th>Date:</th>             <td>Sun, 26 Mar 2023</td> <th>  Prob (F-statistic):</th> <td>7.58e-55</td> \n",
       "</tr>\n",
       "<tr>\n",
       "  <th>Time:</th>                 <td>05:08:48</td>     <th>  Log-Likelihood:    </th> <td> -7614.8</td> \n",
       "</tr>\n",
       "<tr>\n",
       "  <th>No. Observations:</th>      <td> 30200</td>      <th>  AIC:               </th> <td>1.524e+04</td>\n",
       "</tr>\n",
       "<tr>\n",
       "  <th>Df Residuals:</th>          <td> 30194</td>      <th>  BIC:               </th> <td>1.529e+04</td>\n",
       "</tr>\n",
       "<tr>\n",
       "  <th>Df Model:</th>              <td>     5</td>      <th>                     </th>     <td> </td>    \n",
       "</tr>\n",
       "<tr>\n",
       "  <th>Covariance Type:</th>      <td>nonrobust</td>    <th>                     </th>     <td> </td>    \n",
       "</tr>\n",
       "</table>\n",
       "<table class=\"simpletable\">\n",
       "<tr>\n",
       "      <td></td>         <th>coef</th>     <th>std err</th>      <th>t</th>      <th>P>|t|</th>  <th>[0.025</th>    <th>0.975]</th>  \n",
       "</tr>\n",
       "<tr>\n",
       "  <th>Intercept</th> <td>    0.0901</td> <td>    0.011</td> <td>    8.276</td> <td> 0.000</td> <td>    0.069</td> <td>    0.111</td>\n",
       "</tr>\n",
       "<tr>\n",
       "  <th>가입일</th>       <td>    0.0041</td> <td>    0.002</td> <td>    2.042</td> <td> 0.041</td> <td>    0.000</td> <td>    0.008</td>\n",
       "</tr>\n",
       "<tr>\n",
       "  <th>주간통화시간</th>    <td>    0.0002</td> <td> 2.53e-05</td> <td>    9.301</td> <td> 0.000</td> <td>    0.000</td> <td>    0.000</td>\n",
       "</tr>\n",
       "<tr>\n",
       "  <th>주간통화요금</th>    <td>   -0.0012</td> <td> 8.23e-05</td> <td>  -14.976</td> <td> 0.000</td> <td>   -0.001</td> <td>   -0.001</td>\n",
       "</tr>\n",
       "<tr>\n",
       "  <th>저녁통화요금</th>    <td>   -0.0005</td> <td>    0.000</td> <td>   -2.003</td> <td> 0.045</td> <td>   -0.001</td> <td> -1.1e-05</td>\n",
       "</tr>\n",
       "<tr>\n",
       "  <th>밤통화요금</th>     <td>    0.0004</td> <td>    0.000</td> <td>    2.107</td> <td> 0.035</td> <td> 2.86e-05</td> <td>    0.001</td>\n",
       "</tr>\n",
       "</table>\n",
       "<table class=\"simpletable\">\n",
       "<tr>\n",
       "  <th>Omnibus:</th>       <td>14006.167</td> <th>  Durbin-Watson:     </th> <td>   2.005</td> \n",
       "</tr>\n",
       "<tr>\n",
       "  <th>Prob(Omnibus):</th>  <td> 0.000</td>   <th>  Jarque-Bera (JB):  </th> <td>52066.981</td>\n",
       "</tr>\n",
       "<tr>\n",
       "  <th>Skew:</th>           <td> 2.461</td>   <th>  Prob(JB):          </th> <td>    0.00</td> \n",
       "</tr>\n",
       "<tr>\n",
       "  <th>Kurtosis:</th>       <td> 7.141</td>   <th>  Cond. No.          </th> <td>1.65e+03</td> \n",
       "</tr>\n",
       "</table><br/><br/>Notes:<br/>[1] Standard Errors assume that the covariance matrix of the errors is correctly specified.<br/>[2] The condition number is large, 1.65e+03. This might indicate that there are<br/>strong multicollinearity or other numerical problems."
      ],
      "text/plain": [
       "<class 'statsmodels.iolib.summary.Summary'>\n",
       "\"\"\"\n",
       "                            OLS Regression Results                            \n",
       "==============================================================================\n",
       "Dep. Variable:                 전화해지여부   R-squared:                       0.009\n",
       "Model:                            OLS   Adj. R-squared:                  0.009\n",
       "Method:                 Least Squares   F-statistic:                     52.89\n",
       "Date:                Sun, 26 Mar 2023   Prob (F-statistic):           7.58e-55\n",
       "Time:                        05:08:48   Log-Likelihood:                -7614.8\n",
       "No. Observations:               30200   AIC:                         1.524e+04\n",
       "Df Residuals:                   30194   BIC:                         1.529e+04\n",
       "Df Model:                           5                                         \n",
       "Covariance Type:            nonrobust                                         \n",
       "==============================================================================\n",
       "                 coef    std err          t      P>|t|      [0.025      0.975]\n",
       "------------------------------------------------------------------------------\n",
       "Intercept      0.0901      0.011      8.276      0.000       0.069       0.111\n",
       "가입일            0.0041      0.002      2.042      0.041       0.000       0.008\n",
       "주간통화시간         0.0002   2.53e-05      9.301      0.000       0.000       0.000\n",
       "주간통화요금        -0.0012   8.23e-05    -14.976      0.000      -0.001      -0.001\n",
       "저녁통화요금        -0.0005      0.000     -2.003      0.045      -0.001    -1.1e-05\n",
       "밤통화요금          0.0004      0.000      2.107      0.035    2.86e-05       0.001\n",
       "==============================================================================\n",
       "Omnibus:                    14006.167   Durbin-Watson:                   2.005\n",
       "Prob(Omnibus):                  0.000   Jarque-Bera (JB):            52066.981\n",
       "Skew:                           2.461   Prob(JB):                         0.00\n",
       "Kurtosis:                       7.141   Cond. No.                     1.65e+03\n",
       "==============================================================================\n",
       "\n",
       "Notes:\n",
       "[1] Standard Errors assume that the covariance matrix of the errors is correctly specified.\n",
       "[2] The condition number is large, 1.65e+03. This might indicate that there are\n",
       "strong multicollinearity or other numerical problems.\n",
       "\"\"\""
      ]
     },
     "execution_count": 100,
     "metadata": {},
     "output_type": "execute_result"
    }
   ],
   "source": [
    "res_dropped = smf.ols(formula='전화해지여부 ~ 가입일 + 주간통화시간 + 주간통화요금 + 저녁통화요금 + 밤통화요금',\n",
    "              data=pd.concat([X_log_dropped , y], axis=1)).fit()\n",
    "res_dropped.summary()"
   ]
  },
  {
   "cell_type": "markdown",
   "id": "15f97251",
   "metadata": {},
   "source": [
    "##### 예측해보기"
   ]
  },
  {
   "cell_type": "code",
   "execution_count": 101,
   "id": "ffddfd8c",
   "metadata": {},
   "outputs": [
    {
     "data": {
      "text/plain": [
       "((24160, 5), (6040, 5), (24160,), (6040,))"
      ]
     },
     "execution_count": 101,
     "metadata": {},
     "output_type": "execute_result"
    }
   ],
   "source": [
    "from sklearn.model_selection import train_test_split\n",
    "\n",
    "X_train, X_valid, y_train, y_valid = train_test_split(\n",
    "    X_log_dropped, y, test_size=0.2, random_state=42)\n",
    "\n",
    "X_train.shape, X_valid.shape, y_train.shape, y_valid.shape"
   ]
  },
  {
   "cell_type": "code",
   "execution_count": 102,
   "id": "c8c5779d",
   "metadata": {},
   "outputs": [
    {
     "data": {
      "text/plain": [
       "LGBMClassifier()"
      ]
     },
     "execution_count": 102,
     "metadata": {},
     "output_type": "execute_result"
    }
   ],
   "source": [
    "model_lgbm  = lightgbm.LGBMClassifier()\n",
    "model_lgbm "
   ]
  },
  {
   "cell_type": "code",
   "execution_count": 103,
   "id": "e7b3014d",
   "metadata": {},
   "outputs": [
    {
     "name": "stdout",
     "output_type": "stream",
     "text": [
      "Fitting 5 folds for each of 10 candidates, totalling 50 fits\n"
     ]
    },
    {
     "data": {
      "text/plain": [
       "LGBMClassifier(learning_rate=0.2318702183811317, n_estimators=986)"
      ]
     },
     "execution_count": 103,
     "metadata": {},
     "output_type": "execute_result"
    }
   ],
   "source": [
    "from sklearn.model_selection import RandomizedSearchCV\n",
    "\n",
    "param_distributions = {\"n_estimators\": list(range(100,1000)),\n",
    "                       \"learning_rate\": np.random.uniform(low=0.01, high=0.3, size=1000)\n",
    "                      }\n",
    "reg = RandomizedSearchCV(model_lgbm, \n",
    "                         param_distributions=param_distributions, \n",
    "                         n_iter=10,\n",
    "                         scoring='f1',\n",
    "                         cv=5, verbose=1, n_jobs=-1,\n",
    "                         random_state=42)\n",
    "\n",
    "reg.fit(X_train, y_train)\n",
    "reg.best_estimator_"
   ]
  },
  {
   "cell_type": "code",
   "execution_count": 104,
   "id": "099b55ee",
   "metadata": {},
   "outputs": [
    {
     "name": "stdout",
     "output_type": "stream",
     "text": [
      "Fitting 3 folds for each of 180 candidates, totalling 540 fits\n"
     ]
    },
    {
     "data": {
      "text/plain": [
       "LGBMClassifier(learning_rate=0.29392022790458083, n_estimators=950)"
      ]
     },
     "execution_count": 104,
     "metadata": {},
     "output_type": "execute_result"
    }
   ],
   "source": [
    "from sklearn.model_selection import GridSearchCV\n",
    "\n",
    "param_distributions = {\"n_estimators\": [550,650,750,850,950,1000],\n",
    "                       \"learning_rate\": np.random.uniform(low=0.1, high=0.3, size=30)\n",
    "                      }\n",
    "reg_grid = GridSearchCV(model_lgbm, \n",
    "                         param_grid=param_distributions,\n",
    "                         scoring='f1',\n",
    "                         cv=3, verbose=1, n_jobs=-1)\n",
    "\n",
    "reg_grid.fit(X_train, y_train)\n",
    "\n",
    "reg_grid.best_estimator_"
   ]
  },
  {
   "cell_type": "code",
   "execution_count": 105,
   "id": "e72d85a6",
   "metadata": {},
   "outputs": [
    {
     "data": {
      "text/plain": [
       "LGBMClassifier(learning_rate=0.29392022790458083, n_estimators=950)"
      ]
     },
     "execution_count": 105,
     "metadata": {},
     "output_type": "execute_result"
    }
   ],
   "source": [
    "model_lgbm  = lightgbm.LGBMClassifier(learning_rate=0.29392022790458083, n_estimators=950)\n",
    "model_lgbm "
   ]
  },
  {
   "cell_type": "code",
   "execution_count": 106,
   "id": "93def16a",
   "metadata": {},
   "outputs": [
    {
     "data": {
      "text/plain": [
       "LGBMClassifier(learning_rate=0.29392022790458083, n_estimators=950)"
      ]
     },
     "execution_count": 106,
     "metadata": {},
     "output_type": "execute_result"
    }
   ],
   "source": [
    "model_lgbm.fit(X_train, y_train)"
   ]
  },
  {
   "cell_type": "code",
   "execution_count": 107,
   "id": "5d1291a2",
   "metadata": {},
   "outputs": [
    {
     "data": {
      "text/plain": [
       "<AxesSubplot:>"
      ]
     },
     "execution_count": 107,
     "metadata": {},
     "output_type": "execute_result"
    },
    {
     "data": {
      "image/png": "[encoded data removed]",
      "text/plain": [
       "<Figure size 640x480 with 1 Axes>"
      ]
     },
     "metadata": {},
     "output_type": "display_data"
    }
   ],
   "source": [
    "lgbm_fi = pd.Series(model_lgbm.feature_importances_)\n",
    "lgbm_fi.index = model_lgbm.feature_name_\n",
    "lgbm_fi.nlargest(20).sort_values().plot.barh()"
   ]
  },
  {
   "cell_type": "code",
   "execution_count": 108,
   "id": "638e6092",
   "metadata": {},
   "outputs": [
    {
     "name": "stderr",
     "output_type": "stream",
     "text": [
      "[Parallel(n_jobs=-1)]: Using backend LokyBackend with 6 concurrent workers.\n",
      "[Parallel(n_jobs=-1)]: Done   3 out of   3 | elapsed:    1.4s finished\n"
     ]
    },
    {
     "name": "stdout",
     "output_type": "stream",
     "text": [
      "cross_val_accuracy :  0.905091059602649  cross_val_f1 :  0.698239498545395\n",
      "valid_pred_accuracy :  0.9081125827814569 valid_pred_f1 :  0.7009866583961228\n"
     ]
    }
   ],
   "source": [
    "# 1 \n",
    "from sklearn.model_selection import cross_val_predict\n",
    "from sklearn.metrics import accuracy_score\n",
    "from sklearn.metrics import f1_score\n",
    "\n",
    "y_cross_val_pred = cross_val_predict(model_lgbm, X_train, y_train, n_jobs=-1, verbose=1,cv=3)\n",
    "# y_cross_val_pred[:5]\n",
    "\n",
    "cross_val_accuracy = accuracy_score(y_cross_val_pred, y_train) \n",
    "cross_val_f1_macro = f1_score(y_cross_val_pred, y_train, average='macro')\n",
    "print('cross_val_accuracy : ',cross_val_accuracy, ' cross_val_f1 : ', cross_val_f1_macro)\n",
    "\n",
    "# 2\n",
    "model_lgbm.fit(X_train_selected, y_train)\n",
    "\n",
    "y_valid_pred = model_lgbm.predict(X_valid_selected)\n",
    "# y_valid_pred[:5]\n",
    "\n",
    "valid_pred_accuracy = accuracy_score(y_valid_pred, y_valid) \n",
    "valid_pred_f1_macro = f1_score(y_valid_pred, y_valid, average='macro')\n",
    "print('valid_pred_accuracy : ',valid_pred_accuracy, 'valid_pred_f1 : ',valid_pred_f1_macro)"
   ]
  },
  {
   "cell_type": "markdown",
   "id": "a0ff6275",
   "metadata": {},
   "source": [
    "#### GA로 선택한 변수로 예측해보기\n",
    "* drop 할 변수 :  ['저녁통화시간', '주간통화요금']"
   ]
  },
  {
   "cell_type": "code",
   "execution_count": 492,
   "id": "d19156e8",
   "metadata": {},
   "outputs": [
    {
     "data": {
      "text/plain": [
       "Index(['가입일', '음성사서함이용', '주간통화시간', '주간통화횟수', '저녁통화횟수', '저녁통화요금', '밤통화시간',\n",
       "       '밤통화횟수', '밤통화요금', '상담전화건수'],\n",
       "      dtype='object')"
      ]
     },
     "execution_count": 492,
     "metadata": {},
     "output_type": "execute_result"
    }
   ],
   "source": [
    "X_dropped_byGA = X_log.copy()\n",
    "X_dropped_byGA = X_dropped_byGA.drop(columns = drop_col_byGA)\n",
    "X_dropped_byGA.columns"
   ]
  },
  {
   "cell_type": "markdown",
   "id": "362cc1fa",
   "metadata": {},
   "source": [
    "##### VIF 구해보기"
   ]
  },
  {
   "cell_type": "code",
   "execution_count": 493,
   "id": "17bce70d",
   "metadata": {},
   "outputs": [
    {
     "data": {
      "text/html": [
       "<div>\n",
       "<style scoped>\n",
       "    .dataframe tbody tr th:only-of-type {\n",
       "        vertical-align: middle;\n",
       "    }\n",
       "\n",
       "    .dataframe tbody tr th {\n",
       "        vertical-align: top;\n",
       "    }\n",
       "\n",
       "    .dataframe thead th {\n",
       "        text-align: right;\n",
       "    }\n",
       "</style>\n",
       "<table border=\"1\" class=\"dataframe\">\n",
       "  <thead>\n",
       "    <tr style=\"text-align: right;\">\n",
       "      <th></th>\n",
       "      <th>VIF Factor</th>\n",
       "      <th>features</th>\n",
       "    </tr>\n",
       "  </thead>\n",
       "  <tbody>\n",
       "    <tr>\n",
       "      <th>6</th>\n",
       "      <td>25.135459</td>\n",
       "      <td>밤통화시간</td>\n",
       "    </tr>\n",
       "    <tr>\n",
       "      <th>5</th>\n",
       "      <td>17.894597</td>\n",
       "      <td>저녁통화요금</td>\n",
       "    </tr>\n",
       "    <tr>\n",
       "      <th>2</th>\n",
       "      <td>14.258519</td>\n",
       "      <td>주간통화시간</td>\n",
       "    </tr>\n",
       "    <tr>\n",
       "      <th>0</th>\n",
       "      <td>13.334463</td>\n",
       "      <td>가입일</td>\n",
       "    </tr>\n",
       "    <tr>\n",
       "      <th>3</th>\n",
       "      <td>3.835604</td>\n",
       "      <td>주간통화횟수</td>\n",
       "    </tr>\n",
       "    <tr>\n",
       "      <th>4</th>\n",
       "      <td>3.815360</td>\n",
       "      <td>저녁통화횟수</td>\n",
       "    </tr>\n",
       "    <tr>\n",
       "      <th>7</th>\n",
       "      <td>3.787919</td>\n",
       "      <td>밤통화횟수</td>\n",
       "    </tr>\n",
       "    <tr>\n",
       "      <th>8</th>\n",
       "      <td>2.920869</td>\n",
       "      <td>밤통화요금</td>\n",
       "    </tr>\n",
       "    <tr>\n",
       "      <th>9</th>\n",
       "      <td>2.358837</td>\n",
       "      <td>상담전화건수</td>\n",
       "    </tr>\n",
       "    <tr>\n",
       "      <th>1</th>\n",
       "      <td>1.668799</td>\n",
       "      <td>음성사서함이용</td>\n",
       "    </tr>\n",
       "  </tbody>\n",
       "</table>\n",
       "</div>"
      ],
      "text/plain": [
       "   VIF Factor features\n",
       "6   25.135459    밤통화시간\n",
       "5   17.894597   저녁통화요금\n",
       "2   14.258519   주간통화시간\n",
       "0   13.334463      가입일\n",
       "3    3.835604   주간통화횟수\n",
       "4    3.815360   저녁통화횟수\n",
       "7    3.787919    밤통화횟수\n",
       "8    2.920869    밤통화요금\n",
       "9    2.358837   상담전화건수\n",
       "1    1.668799  음성사서함이용"
      ]
     },
     "metadata": {},
     "output_type": "display_data"
    }
   ],
   "source": [
    "vif = pd.DataFrame()\n",
    "vif[\"VIF Factor\"] = [variance_inflation_factor(\n",
    "    X_dropped_byGA.values, i) for i in range(X_dropped_byGA.shape[1])]\n",
    "vif[\"features\"] = X_dropped_byGA.columns\n",
    "display(vif.sort_values(by='VIF Factor', ascending=False))"
   ]
  },
  {
   "cell_type": "code",
   "execution_count": 494,
   "id": "58612982",
   "metadata": {},
   "outputs": [
    {
     "data": {
      "text/plain": [
       "Index(['가입일', '음성사서함이용', '주간통화시간', '주간통화횟수', '저녁통화횟수', '저녁통화요금', '밤통화시간',\n",
       "       '밤통화횟수', '밤통화요금', '상담전화건수'],\n",
       "      dtype='object')"
      ]
     },
     "execution_count": 494,
     "metadata": {},
     "output_type": "execute_result"
    }
   ],
   "source": [
    " X_dropped_byGA.columns\n",
    "    "
   ]
  },
  {
   "cell_type": "markdown",
   "id": "b49f6f27",
   "metadata": {},
   "source": [
    "##### ols 구해보기"
   ]
  },
  {
   "cell_type": "code",
   "execution_count": 495,
   "id": "f5d5f514",
   "metadata": {},
   "outputs": [
    {
     "data": {
      "text/html": [
       "<table class=\"simpletable\">\n",
       "<caption>OLS Regression Results</caption>\n",
       "<tr>\n",
       "  <th>Dep. Variable:</th>         <td>전화해지여부</td>      <th>  R-squared:         </th> <td>   0.011</td> \n",
       "</tr>\n",
       "<tr>\n",
       "  <th>Model:</th>                   <td>OLS</td>       <th>  Adj. R-squared:    </th> <td>   0.011</td> \n",
       "</tr>\n",
       "<tr>\n",
       "  <th>Method:</th>             <td>Least Squares</td>  <th>  F-statistic:       </th> <td>   33.57</td> \n",
       "</tr>\n",
       "<tr>\n",
       "  <th>Date:</th>             <td>Mon, 27 Mar 2023</td> <th>  Prob (F-statistic):</th> <td>1.04e-65</td> \n",
       "</tr>\n",
       "<tr>\n",
       "  <th>Time:</th>                 <td>02:59:13</td>     <th>  Log-Likelihood:    </th> <td> -7579.5</td> \n",
       "</tr>\n",
       "<tr>\n",
       "  <th>No. Observations:</th>      <td> 30200</td>      <th>  AIC:               </th> <td>1.518e+04</td>\n",
       "</tr>\n",
       "<tr>\n",
       "  <th>Df Residuals:</th>          <td> 30189</td>      <th>  BIC:               </th> <td>1.527e+04</td>\n",
       "</tr>\n",
       "<tr>\n",
       "  <th>Df Model:</th>              <td>    10</td>      <th>                     </th>     <td> </td>    \n",
       "</tr>\n",
       "<tr>\n",
       "  <th>Covariance Type:</th>      <td>nonrobust</td>    <th>                     </th>     <td> </td>    \n",
       "</tr>\n",
       "</table>\n",
       "<table class=\"simpletable\">\n",
       "<tr>\n",
       "      <td></td>         <th>coef</th>     <th>std err</th>      <th>t</th>      <th>P>|t|</th>  <th>[0.025</th>    <th>0.975]</th>  \n",
       "</tr>\n",
       "<tr>\n",
       "  <th>Intercept</th> <td>    0.0941</td> <td>    0.011</td> <td>    8.481</td> <td> 0.000</td> <td>    0.072</td> <td>    0.116</td>\n",
       "</tr>\n",
       "<tr>\n",
       "  <th>가입일</th>       <td>    0.0040</td> <td>    0.002</td> <td>    1.995</td> <td> 0.046</td> <td>    7e-05</td> <td>    0.008</td>\n",
       "</tr>\n",
       "<tr>\n",
       "  <th>음성사서함이용</th>   <td>   -0.0157</td> <td>    0.001</td> <td>  -13.313</td> <td> 0.000</td> <td>   -0.018</td> <td>   -0.013</td>\n",
       "</tr>\n",
       "<tr>\n",
       "  <th>주간통화시간</th>    <td>    0.0002</td> <td> 2.58e-05</td> <td>    5.823</td> <td> 0.000</td> <td> 9.97e-05</td> <td>    0.000</td>\n",
       "</tr>\n",
       "<tr>\n",
       "  <th>주간통화횟수</th>    <td> 3.104e-05</td> <td> 1.86e-05</td> <td>    1.671</td> <td> 0.095</td> <td>-5.37e-06</td> <td> 6.74e-05</td>\n",
       "</tr>\n",
       "<tr>\n",
       "  <th>저녁통화횟수</th>    <td> -2.71e-05</td> <td> 1.85e-05</td> <td>   -1.461</td> <td> 0.144</td> <td>-6.35e-05</td> <td> 9.26e-06</td>\n",
       "</tr>\n",
       "<tr>\n",
       "  <th>저녁통화요금</th>    <td>   -0.0004</td> <td>    0.000</td> <td>   -1.529</td> <td> 0.126</td> <td>   -0.001</td> <td>    0.000</td>\n",
       "</tr>\n",
       "<tr>\n",
       "  <th>밤통화시간</th>     <td>   -0.0001</td> <td> 3.33e-05</td> <td>   -4.072</td> <td> 0.000</td> <td>   -0.000</td> <td>-7.03e-05</td>\n",
       "</tr>\n",
       "<tr>\n",
       "  <th>밤통화횟수</th>     <td>-1.395e-05</td> <td> 1.86e-05</td> <td>   -0.749</td> <td> 0.454</td> <td>-5.05e-05</td> <td> 2.26e-05</td>\n",
       "</tr>\n",
       "<tr>\n",
       "  <th>밤통화요금</th>     <td>    0.0006</td> <td>    0.000</td> <td>    2.976</td> <td> 0.003</td> <td>    0.000</td> <td>    0.001</td>\n",
       "</tr>\n",
       "<tr>\n",
       "  <th>상담전화건수</th>    <td>    0.0087</td> <td>    0.001</td> <td>    9.671</td> <td> 0.000</td> <td>    0.007</td> <td>    0.010</td>\n",
       "</tr>\n",
       "</table>\n",
       "<table class=\"simpletable\">\n",
       "<tr>\n",
       "  <th>Omnibus:</th>       <td>13958.811</td> <th>  Durbin-Watson:     </th> <td>   2.005</td> \n",
       "</tr>\n",
       "<tr>\n",
       "  <th>Prob(Omnibus):</th>  <td> 0.000</td>   <th>  Jarque-Bera (JB):  </th> <td>51711.264</td>\n",
       "</tr>\n",
       "<tr>\n",
       "  <th>Skew:</th>           <td> 2.453</td>   <th>  Prob(JB):          </th> <td>    0.00</td> \n",
       "</tr>\n",
       "<tr>\n",
       "  <th>Kurtosis:</th>       <td> 7.127</td>   <th>  Cond. No.          </th> <td>2.96e+03</td> \n",
       "</tr>\n",
       "</table><br/><br/>Notes:<br/>[1] Standard Errors assume that the covariance matrix of the errors is correctly specified.<br/>[2] The condition number is large, 2.96e+03. This might indicate that there are<br/>strong multicollinearity or other numerical problems."
      ],
      "text/plain": [
       "<class 'statsmodels.iolib.summary.Summary'>\n",
       "\"\"\"\n",
       "                            OLS Regression Results                            \n",
       "==============================================================================\n",
       "Dep. Variable:                 전화해지여부   R-squared:                       0.011\n",
       "Model:                            OLS   Adj. R-squared:                  0.011\n",
       "Method:                 Least Squares   F-statistic:                     33.57\n",
       "Date:                Mon, 27 Mar 2023   Prob (F-statistic):           1.04e-65\n",
       "Time:                        02:59:13   Log-Likelihood:                -7579.5\n",
       "No. Observations:               30200   AIC:                         1.518e+04\n",
       "Df Residuals:                   30189   BIC:                         1.527e+04\n",
       "Df Model:                          10                                         \n",
       "Covariance Type:            nonrobust                                         \n",
       "==============================================================================\n",
       "                 coef    std err          t      P>|t|      [0.025      0.975]\n",
       "------------------------------------------------------------------------------\n",
       "Intercept      0.0941      0.011      8.481      0.000       0.072       0.116\n",
       "가입일            0.0040      0.002      1.995      0.046       7e-05       0.008\n",
       "음성사서함이용       -0.0157      0.001    -13.313      0.000      -0.018      -0.013\n",
       "주간통화시간         0.0002   2.58e-05      5.823      0.000    9.97e-05       0.000\n",
       "주간통화횟수      3.104e-05   1.86e-05      1.671      0.095   -5.37e-06    6.74e-05\n",
       "저녁통화횟수      -2.71e-05   1.85e-05     -1.461      0.144   -6.35e-05    9.26e-06\n",
       "저녁통화요금        -0.0004      0.000     -1.529      0.126      -0.001       0.000\n",
       "밤통화시간         -0.0001   3.33e-05     -4.072      0.000      -0.000   -7.03e-05\n",
       "밤통화횟수      -1.395e-05   1.86e-05     -0.749      0.454   -5.05e-05    2.26e-05\n",
       "밤통화요금          0.0006      0.000      2.976      0.003       0.000       0.001\n",
       "상담전화건수         0.0087      0.001      9.671      0.000       0.007       0.010\n",
       "==============================================================================\n",
       "Omnibus:                    13958.811   Durbin-Watson:                   2.005\n",
       "Prob(Omnibus):                  0.000   Jarque-Bera (JB):            51711.264\n",
       "Skew:                           2.453   Prob(JB):                         0.00\n",
       "Kurtosis:                       7.127   Cond. No.                     2.96e+03\n",
       "==============================================================================\n",
       "\n",
       "Notes:\n",
       "[1] Standard Errors assume that the covariance matrix of the errors is correctly specified.\n",
       "[2] The condition number is large, 2.96e+03. This might indicate that there are\n",
       "strong multicollinearity or other numerical problems.\n",
       "\"\"\""
      ]
     },
     "execution_count": 495,
     "metadata": {},
     "output_type": "execute_result"
    }
   ],
   "source": [
    "res_dropped = smf.ols(formula='전화해지여부 ~ 가입일 + 음성사서함이용 + 주간통화시간 + 주간통화횟수 + 저녁통화횟수 + 저녁통화요금 + 밤통화시간 + 밤통화횟수 + 밤통화요금 + 상담전화건수',\n",
    "              data=pd.concat([X_dropped_byGA , y], axis=1)).fit()\n",
    "res_dropped.summary()"
   ]
  },
  {
   "cell_type": "markdown",
   "id": "01edc4bd",
   "metadata": {},
   "source": [
    "##### 예측해보기"
   ]
  },
  {
   "cell_type": "code",
   "execution_count": 496,
   "id": "74f1e504",
   "metadata": {},
   "outputs": [
    {
     "data": {
      "text/plain": [
       "((24160, 10), (6040, 10), (24160,), (6040,))"
      ]
     },
     "execution_count": 496,
     "metadata": {},
     "output_type": "execute_result"
    }
   ],
   "source": [
    "from sklearn.model_selection import train_test_split\n",
    "\n",
    "X_train, X_valid, y_train, y_valid = train_test_split(\n",
    "    X_dropped_byGA, y, test_size=0.2, random_state=42)\n",
    "\n",
    "X_train.shape, X_valid.shape, y_train.shape, y_valid.shape"
   ]
  },
  {
   "cell_type": "code",
   "execution_count": 684,
   "id": "b7bcc563",
   "metadata": {},
   "outputs": [
    {
     "data": {
      "text/plain": [
       "LGBMClassifier()"
      ]
     },
     "execution_count": 684,
     "metadata": {},
     "output_type": "execute_result"
    }
   ],
   "source": [
    "model_lgbm  = lightgbm.LGBMClassifier()\n",
    "model_lgbm "
   ]
  },
  {
   "cell_type": "code",
   "execution_count": 139,
   "id": "1824ddec",
   "metadata": {},
   "outputs": [
    {
     "name": "stdout",
     "output_type": "stream",
     "text": [
      "Fitting 5 folds for each of 10 candidates, totalling 50 fits\n"
     ]
    },
    {
     "data": {
      "text/plain": [
       "LGBMClassifier(learning_rate=0.2635627619206155, n_estimators=986)"
      ]
     },
     "execution_count": 139,
     "metadata": {},
     "output_type": "execute_result"
    }
   ],
   "source": [
    "from sklearn.model_selection import RandomizedSearchCV\n",
    "\n",
    "param_distributions = {\"n_estimators\": list(range(100,1000)),\n",
    "                       \"learning_rate\": np.random.uniform(low=0.01, high=0.3, size=1000)\n",
    "                      }\n",
    "reg = RandomizedSearchCV(model_lgbm, \n",
    "                         param_distributions=param_distributions, \n",
    "                         n_iter=10,\n",
    "                         scoring='f1',\n",
    "                         cv=5, verbose=1, n_jobs=-1,\n",
    "                         random_state=42)\n",
    "\n",
    "reg.fit(X_train, y_train)\n",
    "reg.best_estimator_"
   ]
  },
  {
   "cell_type": "code",
   "execution_count": 140,
   "id": "e09e4016",
   "metadata": {},
   "outputs": [
    {
     "name": "stdout",
     "output_type": "stream",
     "text": [
      "Fitting 3 folds for each of 180 candidates, totalling 540 fits\n"
     ]
    },
    {
     "data": {
      "text/plain": [
       "LGBMClassifier(learning_rate=0.2641718029121834, n_estimators=850)"
      ]
     },
     "execution_count": 140,
     "metadata": {},
     "output_type": "execute_result"
    }
   ],
   "source": [
    "from sklearn.model_selection import GridSearchCV\n",
    "\n",
    "param_distributions = {\"n_estimators\": [550,650,750,850,950,1000],\n",
    "                       \"learning_rate\": np.random.uniform(low=0.1, high=0.3, size=30)\n",
    "                      }\n",
    "reg_grid = GridSearchCV(model_lgbm, \n",
    "                         param_grid=param_distributions,\n",
    "                         scoring='f1',\n",
    "                         cv=3, verbose=1, n_jobs=-1)\n",
    "\n",
    "reg_grid.fit(X_train, y_train)\n",
    "\n",
    "reg_grid.best_estimator_"
   ]
  },
  {
   "cell_type": "code",
   "execution_count": 694,
   "id": "3050431b",
   "metadata": {},
   "outputs": [
    {
     "data": {
      "text/plain": [
       "LGBMClassifier(learning_rate=0.2895, n_estimators=775)"
      ]
     },
     "execution_count": 694,
     "metadata": {},
     "output_type": "execute_result"
    }
   ],
   "source": [
    "model_lgbm  = lightgbm.LGBMClassifier(learning_rate=0.2895, n_estimators=775)\n",
    "model_lgbm "
   ]
  },
  {
   "cell_type": "code",
   "execution_count": 695,
   "id": "01626e21",
   "metadata": {},
   "outputs": [
    {
     "data": {
      "text/plain": [
       "LGBMClassifier(learning_rate=0.2895, n_estimators=775)"
      ]
     },
     "execution_count": 695,
     "metadata": {},
     "output_type": "execute_result"
    }
   ],
   "source": [
    "model_lgbm.fit(X_train, y_train)"
   ]
  },
  {
   "cell_type": "code",
   "execution_count": 696,
   "id": "2c2bdd56",
   "metadata": {},
   "outputs": [
    {
     "data": {
      "text/plain": [
       "<AxesSubplot:>"
      ]
     },
     "execution_count": 696,
     "metadata": {},
     "output_type": "execute_result"
    },
    {
     "data": {
      "image/png": "[encoded data removed]",
      "text/plain": [
       "<Figure size 640x480 with 1 Axes>"
      ]
     },
     "metadata": {},
     "output_type": "display_data"
    }
   ],
   "source": [
    "lgbm_fi = pd.Series(model_lgbm.feature_importances_)\n",
    "lgbm_fi.index = model_lgbm.feature_name_\n",
    "lgbm_fi.nlargest(20).sort_values().plot.barh()"
   ]
  },
  {
   "cell_type": "code",
   "execution_count": 697,
   "id": "4d185e72",
   "metadata": {},
   "outputs": [
    {
     "name": "stderr",
     "output_type": "stream",
     "text": [
      "[Parallel(n_jobs=-1)]: Using backend LokyBackend with 6 concurrent workers.\n",
      "[Parallel(n_jobs=-1)]: Done   3 out of   3 | elapsed:    1.4s finished\n"
     ]
    },
    {
     "name": "stdout",
     "output_type": "stream",
     "text": [
      "cross_val_accuracy :  0.9151076158940398  cross_val_f1 :  0.7370560805322373\n",
      "valid_pred_accuracy :  0.9274834437086092 valid_pred_f1 :  0.7773131313131313\n"
     ]
    }
   ],
   "source": [
    "# 1 \n",
    "from sklearn.model_selection import cross_val_predict\n",
    "from sklearn.metrics import accuracy_score\n",
    "from sklearn.metrics import f1_score\n",
    "\n",
    "y_cross_val_pred = cross_val_predict(model_lgbm, X_train, y_train, n_jobs=-1, verbose=1,cv=3)\n",
    "# y_cross_val_pred[:5]\n",
    "\n",
    "cross_val_accuracy = accuracy_score(y_cross_val_pred, y_train) \n",
    "cross_val_f1_macro = f1_score(y_cross_val_pred, y_train, average='macro')\n",
    "print('cross_val_accuracy : ',cross_val_accuracy, ' cross_val_f1 : ', cross_val_f1_macro)\n",
    "\n",
    "# 2\n",
    "model_lgbm.fit(X_train, y_train)\n",
    "\n",
    "y_valid_pred = model_lgbm.predict(X_valid)\n",
    "# y_valid_pred[:5]\n",
    "\n",
    "valid_pred_accuracy = accuracy_score(y_valid_pred, y_valid) \n",
    "valid_pred_f1_macro = f1_score(y_valid_pred, y_valid, average='macro')\n",
    "print('valid_pred_accuracy : ',valid_pred_accuracy, 'valid_pred_f1 : ',valid_pred_f1_macro)"
   ]
  },
  {
   "cell_type": "code",
   "execution_count": 698,
   "id": "aebe5ac1",
   "metadata": {},
   "outputs": [],
   "source": [
    "pred_score =0.7773131313131313"
   ]
  },
  {
   "cell_type": "code",
   "execution_count": 699,
   "id": "037a84c0",
   "metadata": {},
   "outputs": [
    {
     "data": {
      "text/plain": [
       "(12943, 10)"
      ]
     },
     "execution_count": 699,
     "metadata": {},
     "output_type": "execute_result"
    }
   ],
   "source": [
    "X_test_dropped = X_test.drop(columns = drop_col_byGA)\n",
    "X_test_dropped.shape"
   ]
  },
  {
   "cell_type": "code",
   "execution_count": 700,
   "id": "963d62b6",
   "metadata": {},
   "outputs": [
    {
     "data": {
      "text/plain": [
       "array([0, 0, 0, 0, 0], dtype=int64)"
      ]
     },
     "execution_count": 700,
     "metadata": {},
     "output_type": "execute_result"
    }
   ],
   "source": [
    "y_pred = model_lgbm.predict(X_test_dropped)\n",
    "y_pred[:5]"
   ]
  },
  {
   "cell_type": "code",
   "execution_count": 701,
   "id": "9a402e6d",
   "metadata": {},
   "outputs": [
    {
     "data": {
      "text/plain": [
       "'data/전화해지여부_0.77731.csv'"
      ]
     },
     "execution_count": 701,
     "metadata": {},
     "output_type": "execute_result"
    }
   ],
   "source": [
    "file_name_ = f'data/전화해지여부_{pred_score:.5f}.csv'\n",
    "file_name_"
   ]
  },
  {
   "cell_type": "code",
   "execution_count": 702,
   "id": "1b622b75",
   "metadata": {},
   "outputs": [
    {
     "data": {
      "text/html": [
       "<div>\n",
       "<style scoped>\n",
       "    .dataframe tbody tr th:only-of-type {\n",
       "        vertical-align: middle;\n",
       "    }\n",
       "\n",
       "    .dataframe tbody tr th {\n",
       "        vertical-align: top;\n",
       "    }\n",
       "\n",
       "    .dataframe thead th {\n",
       "        text-align: right;\n",
       "    }\n",
       "</style>\n",
       "<table border=\"1\" class=\"dataframe\">\n",
       "  <thead>\n",
       "    <tr style=\"text-align: right;\">\n",
       "      <th></th>\n",
       "      <th>ID</th>\n",
       "      <th>전화해지여부</th>\n",
       "    </tr>\n",
       "  </thead>\n",
       "  <tbody>\n",
       "    <tr>\n",
       "      <th>0</th>\n",
       "      <td>TEST_00000</td>\n",
       "      <td>0</td>\n",
       "    </tr>\n",
       "    <tr>\n",
       "      <th>1</th>\n",
       "      <td>TEST_00001</td>\n",
       "      <td>0</td>\n",
       "    </tr>\n",
       "    <tr>\n",
       "      <th>2</th>\n",
       "      <td>TEST_00002</td>\n",
       "      <td>0</td>\n",
       "    </tr>\n",
       "    <tr>\n",
       "      <th>3</th>\n",
       "      <td>TEST_00003</td>\n",
       "      <td>0</td>\n",
       "    </tr>\n",
       "    <tr>\n",
       "      <th>4</th>\n",
       "      <td>TEST_00004</td>\n",
       "      <td>0</td>\n",
       "    </tr>\n",
       "    <tr>\n",
       "      <th>...</th>\n",
       "      <td>...</td>\n",
       "      <td>...</td>\n",
       "    </tr>\n",
       "    <tr>\n",
       "      <th>12938</th>\n",
       "      <td>TEST_12938</td>\n",
       "      <td>0</td>\n",
       "    </tr>\n",
       "    <tr>\n",
       "      <th>12939</th>\n",
       "      <td>TEST_12939</td>\n",
       "      <td>0</td>\n",
       "    </tr>\n",
       "    <tr>\n",
       "      <th>12940</th>\n",
       "      <td>TEST_12940</td>\n",
       "      <td>0</td>\n",
       "    </tr>\n",
       "    <tr>\n",
       "      <th>12941</th>\n",
       "      <td>TEST_12941</td>\n",
       "      <td>0</td>\n",
       "    </tr>\n",
       "    <tr>\n",
       "      <th>12942</th>\n",
       "      <td>TEST_12942</td>\n",
       "      <td>0</td>\n",
       "    </tr>\n",
       "  </tbody>\n",
       "</table>\n",
       "<p>12943 rows × 2 columns</p>\n",
       "</div>"
      ],
      "text/plain": [
       "               ID  전화해지여부\n",
       "0      TEST_00000       0\n",
       "1      TEST_00001       0\n",
       "2      TEST_00002       0\n",
       "3      TEST_00003       0\n",
       "4      TEST_00004       0\n",
       "...           ...     ...\n",
       "12938  TEST_12938       0\n",
       "12939  TEST_12939       0\n",
       "12940  TEST_12940       0\n",
       "12941  TEST_12941       0\n",
       "12942  TEST_12942       0\n",
       "\n",
       "[12943 rows x 2 columns]"
      ]
     },
     "execution_count": 702,
     "metadata": {},
     "output_type": "execute_result"
    }
   ],
   "source": [
    "submission[label_name] = y_pred\n",
    "submission.to_csv(file_name_,index=False)\n",
    "pd.read_csv(file_name_)"
   ]
  },
  {
   "cell_type": "markdown",
   "id": "5876dc81",
   "metadata": {},
   "source": [
    "##### 최적의 파라미터 찾아보기"
   ]
  },
  {
   "cell_type": "code",
   "execution_count": 630,
   "id": "2b927926",
   "metadata": {},
   "outputs": [
    {
     "data": {
      "text/plain": [
       "array([0.19942651, 0.19765028, 0.05014996, 0.24250222, 0.28514616,\n",
       "       0.03768209, 0.21561114, 0.1717761 , 0.28947188, 0.11753339,\n",
       "       0.18504195, 0.02255493, 0.10592515, 0.16656294, 0.0321877 ,\n",
       "       0.12962176, 0.25472249, 0.2938214 , 0.16352378, 0.04028088,\n",
       "       0.23959246, 0.01006313, 0.07557841, 0.23345523, 0.09524214,\n",
       "       0.13862126, 0.10237281, 0.08488485, 0.1490052 , 0.13411863])"
      ]
     },
     "execution_count": 630,
     "metadata": {},
     "output_type": "execute_result"
    }
   ],
   "source": [
    "np.random.uniform(low=0.01, high=0.3, size=30)"
   ]
  },
  {
   "cell_type": "code",
   "execution_count": 629,
   "id": "131047af",
   "metadata": {},
   "outputs": [
    {
     "data": {
      "text/plain": [
       "<scipy.stats._distn_infrastructure.rv_discrete_frozen at 0x1cfc68ab370>"
      ]
     },
     "execution_count": 629,
     "metadata": {},
     "output_type": "execute_result"
    }
   ],
   "source": [
    "from scipy.stats import randint as sp_randint\n",
    "sp_randint(50, 500)"
   ]
  },
  {
   "cell_type": "code",
   "execution_count": 679,
   "id": "8ec69223",
   "metadata": {},
   "outputs": [
    {
     "name": "stdout",
     "output_type": "stream",
     "text": [
      "{'colsample_bytree': 0.7, 'learning_rate': 0.1974986433809394, 'max_depth': 11, 'min_child_samples': 16, 'n_estimators': 500, 'num_leaves': 148, 'random_state': 42, 'reg_alpha': 0.1, 'reg_lambda': 0.1, 'subsample': 0.5}\n"
     ]
    }
   ],
   "source": [
    "from sklearn.model_selection import RandomizedSearchCV\n",
    "from lightgbm import LGBMClassifier\n",
    "\n",
    "model_lgbm  = lightgbm.LGBMClassifier()\n",
    "model_lgbm \n",
    "\n",
    "# 파라미터 그리드 설정\n",
    "params = {\n",
    "    'learning_rate': np.random.uniform(low=0.01, high=0.3, size=50),\n",
    "    'n_estimators': np.arange(100, 1000, 100),\n",
    "    'max_depth': sp_randint(3, 20),\n",
    "    'num_leaves': sp_randint(20, 200),\n",
    "    'min_child_samples': sp_randint(5, 50),\n",
    "    'reg_alpha': [0, 0.1, 0.5, 1, 2, 5],\n",
    "    'reg_lambda': [0, 0.1, 0.5, 1, 2, 5],\n",
    "    'colsample_bytree': [0.5, 0.7, 0.9, 1],\n",
    "    'subsample': [0.5, 0.7, 0.9, 1],\n",
    "    'random_state': [42]\n",
    "}\n",
    "\n",
    "# 모델 생성\n",
    "model = LGBMClassifier()\n",
    "\n",
    "# RandomizedSearchCV 객체 생성\n",
    "random_search = RandomizedSearchCV(\n",
    "    estimator=model, \n",
    "    param_distributions=params, \n",
    "    n_iter=100,\n",
    "    scoring='accuracy',\n",
    "    n_jobs=-1,\n",
    "    cv=5,\n",
    "    random_state=42\n",
    ")\n",
    "\n",
    "# 모델 학습 및 검증\n",
    "random_search.fit(X_train, y_train)\n",
    "\n",
    "# 최적의 파라미터 출력\n",
    "print(random_search.best_params_)\n"
   ]
  },
  {
   "cell_type": "code",
   "execution_count": 681,
   "id": "42bd7cbf",
   "metadata": {},
   "outputs": [
    {
     "data": {
      "text/plain": [
       "LGBMClassifier(colsample_bytree=0.7, learning_rate=0.1974986433809394,\n",
       "               max_depth=11, min_child_samples=16, n_estimators=500,\n",
       "               num_leaves=148, random_state=42, reg_alpha=0.1, reg_lambda=0.1,\n",
       "               subsample=0.5)"
      ]
     },
     "execution_count": 681,
     "metadata": {},
     "output_type": "execute_result"
    }
   ],
   "source": [
    "model_lgbm  = lightgbm.LGBMClassifier(colsample_bytree= 0.7, learning_rate= 0.1974986433809394, max_depth= 11, min_child_samples= 16, n_estimators= 500, num_leaves= 148, random_state= 42, reg_alpha= 0.1, reg_lambda= 0.1, subsample= 0.5)\n",
    "model_lgbm "
   ]
  },
  {
   "cell_type": "code",
   "execution_count": 682,
   "id": "ec1f7946",
   "metadata": {},
   "outputs": [
    {
     "data": {
      "text/plain": [
       "LGBMClassifier(colsample_bytree=0.7, learning_rate=0.1974986433809394,\n",
       "               max_depth=11, min_child_samples=16, n_estimators=500,\n",
       "               num_leaves=148, random_state=42, reg_alpha=0.1, reg_lambda=0.1,\n",
       "               subsample=0.5)"
      ]
     },
     "execution_count": 682,
     "metadata": {},
     "output_type": "execute_result"
    }
   ],
   "source": [
    "model_lgbm.fit(X_train, y_train)"
   ]
  },
  {
   "cell_type": "code",
   "execution_count": 683,
   "id": "60d1e768",
   "metadata": {},
   "outputs": [
    {
     "name": "stderr",
     "output_type": "stream",
     "text": [
      "[Parallel(n_jobs=-1)]: Using backend LokyBackend with 6 concurrent workers.\n",
      "[Parallel(n_jobs=-1)]: Done   3 out of   3 | elapsed:    2.1s finished\n"
     ]
    },
    {
     "name": "stdout",
     "output_type": "stream",
     "text": [
      "cross_val_accuracy :  0.9155629139072847  cross_val_f1 :  0.7384111163047029\n",
      "valid_pred_accuracy :  0.927317880794702 valid_pred_f1 :  0.7731995604541859\n"
     ]
    }
   ],
   "source": [
    "# 1 \n",
    "from sklearn.model_selection import cross_val_predict\n",
    "from sklearn.metrics import accuracy_score\n",
    "from sklearn.metrics import f1_score\n",
    "\n",
    "y_cross_val_pred = cross_val_predict(model_lgbm, X_train, y_train, n_jobs=-1, verbose=1,cv=3)\n",
    "# y_cross_val_pred[:5]\n",
    "\n",
    "cross_val_accuracy = accuracy_score(y_cross_val_pred, y_train) \n",
    "cross_val_f1_macro = f1_score(y_cross_val_pred, y_train, average='macro')\n",
    "print('cross_val_accuracy : ',cross_val_accuracy, ' cross_val_f1 : ', cross_val_f1_macro)\n",
    "\n",
    "# 2\n",
    "model_lgbm.fit(X_train, y_train)\n",
    "\n",
    "y_valid_pred = model_lgbm.predict(X_valid)\n",
    "# y_valid_pred[:5]\n",
    "\n",
    "valid_pred_accuracy = accuracy_score(y_valid_pred, y_valid) \n",
    "valid_pred_f1_macro = f1_score(y_valid_pred, y_valid, average='macro')\n",
    "print('valid_pred_accuracy : ',valid_pred_accuracy, 'valid_pred_f1 : ',valid_pred_f1_macro)"
   ]
  },
  {
   "cell_type": "code",
   "execution_count": 678,
   "id": "67d7ce6d",
   "metadata": {},
   "outputs": [
    {
     "ename": "SyntaxError",
     "evalue": "invalid syntax (860154233.py, line 1)",
     "output_type": "error",
     "traceback": [
      "\u001b[1;36m  File \u001b[1;32m\"C:\\Users\\juku\\AppData\\Local\\Temp\\ipykernel_16328\\860154233.py\"\u001b[1;36m, line \u001b[1;32m1\u001b[0m\n\u001b[1;33m    valid_pred_accuracy : 0.9274834437086092 valid_pred_f1 : 0.7773131313131313\u001b[0m\n\u001b[1;37m                                             ^\u001b[0m\n\u001b[1;31mSyntaxError\u001b[0m\u001b[1;31m:\u001b[0m invalid syntax\n"
     ]
    }
   ],
   "source": [
    "valid_pred_accuracy : 0.9274834437086092 valid_pred_f1 : 0.7773131313131313"
   ]
  },
  {
   "cell_type": "markdown",
   "id": "fcc49d94",
   "metadata": {},
   "source": [
    "##### 경우의 수 나눠서 진행\n",
    "건드리지 않은 것\n",
    ">  valid_pred_accuracy :  0.9274834437086092 valid_pred_f1 :  0.7773131313131313\n",
    "1. '밤통화시간' 과 '주간통화시간'의 VIF가 높았으므로 둘을 합쳐주고 예측해보기\n",
    "> valid_pred_accuracy :  0.9230132450331126 valid_pred_f1 :  0.7597671881804019\n",
    "2. 1에다가 '음성사서함이용' 변수 지워보기\n",
    "> * learning_rate=0.289, n_estimators=1000\n",
    "> * valid_pred_accuracy :  0.9248344370860927 valid_pred_f1 :  0.7710879782287484\n",
    "3. 1에다가 '상담전화건수' 변수 지워보기\n",
    "> * learning_rate=0.28158111403441993, n_estimators=1000\n",
    "> * valid_pred_accuracy :  0.9211920529801324 valid_pred_f1 :  0.7504648666363931\n",
    "4. 둘 다 지워보기\n",
    "> * learning_rate=0.3, n_estimators=1000\n",
    "> * valid_pred_accuracy :  0.9238410596026491 valid_pred_f1 :  0.7661279461279462\n",
    "5. 4에 가입일도 지워보기\n",
    "> * lightgbm.LGBMClassifier(learning_rate=0.29, n_estimators=1000)\n",
    "> * valid_pred_accuracy :  0.921523178807947 valid_pred_f1 :  0.7561554780526644\n",
    "6. '밤통화시간' 과 '주간통화시간' 그대로 나두고 '음성사서함이용' 변수만 지워보기\n",
    "> * learning_rate=0.29, n_estimators=1000\n",
    "> * valid_pred_accuracy :  0.9251655629139073 valid_pred_f1 :  0.7717190041955646\n",
    "7. 6에 '가입일' 지워보기\n",
    "> * learning_rate=0.289, n_estimators=1000\n",
    "> * valid_pred_accuracy :  0.9254966887417219 valid_pred_f1 :  0.7677144641588032"
   ]
  },
  {
   "cell_type": "code",
   "execution_count": 436,
   "id": "bcdc6957",
   "metadata": {},
   "outputs": [
    {
     "data": {
      "text/plain": [
       "Index(['주간통화시간', '주간통화횟수', '저녁통화횟수', '저녁통화요금', '밤통화시간', '밤통화횟수', '밤통화요금',\n",
       "       '상담전화건수'],\n",
       "      dtype='object')"
      ]
     },
     "execution_count": 436,
     "metadata": {},
     "output_type": "execute_result"
    }
   ],
   "source": [
    "X_dropped_byGA = X_log.copy()\n",
    "X_dropped_byGA = X_dropped_byGA.drop(columns = drop_col_byGA)\n",
    "# X_dropped_byGA['밤주간통화시간'] = X_dropped_byGA['밤통화시간'] + X_dropped_byGA['주간통화시간']\n",
    "X_dropped_byGA = X_dropped_byGA.drop(columns = ['음성사서함이용', '가입일'])\n",
    "X_dropped_byGA.columns"
   ]
  },
  {
   "cell_type": "code",
   "execution_count": 437,
   "id": "ab5ced20",
   "metadata": {},
   "outputs": [
    {
     "data": {
      "text/html": [
       "<div>\n",
       "<style scoped>\n",
       "    .dataframe tbody tr th:only-of-type {\n",
       "        vertical-align: middle;\n",
       "    }\n",
       "\n",
       "    .dataframe tbody tr th {\n",
       "        vertical-align: top;\n",
       "    }\n",
       "\n",
       "    .dataframe thead th {\n",
       "        text-align: right;\n",
       "    }\n",
       "</style>\n",
       "<table border=\"1\" class=\"dataframe\">\n",
       "  <thead>\n",
       "    <tr style=\"text-align: right;\">\n",
       "      <th></th>\n",
       "      <th>VIF Factor</th>\n",
       "      <th>features</th>\n",
       "    </tr>\n",
       "  </thead>\n",
       "  <tbody>\n",
       "    <tr>\n",
       "      <th>4</th>\n",
       "      <td>22.362994</td>\n",
       "      <td>밤통화시간</td>\n",
       "    </tr>\n",
       "    <tr>\n",
       "      <th>3</th>\n",
       "      <td>17.388841</td>\n",
       "      <td>저녁통화요금</td>\n",
       "    </tr>\n",
       "    <tr>\n",
       "      <th>0</th>\n",
       "      <td>13.752422</td>\n",
       "      <td>주간통화시간</td>\n",
       "    </tr>\n",
       "    <tr>\n",
       "      <th>1</th>\n",
       "      <td>3.807417</td>\n",
       "      <td>주간통화횟수</td>\n",
       "    </tr>\n",
       "    <tr>\n",
       "      <th>2</th>\n",
       "      <td>3.798721</td>\n",
       "      <td>저녁통화횟수</td>\n",
       "    </tr>\n",
       "    <tr>\n",
       "      <th>5</th>\n",
       "      <td>3.770012</td>\n",
       "      <td>밤통화횟수</td>\n",
       "    </tr>\n",
       "    <tr>\n",
       "      <th>6</th>\n",
       "      <td>2.920008</td>\n",
       "      <td>밤통화요금</td>\n",
       "    </tr>\n",
       "    <tr>\n",
       "      <th>7</th>\n",
       "      <td>2.350081</td>\n",
       "      <td>상담전화건수</td>\n",
       "    </tr>\n",
       "  </tbody>\n",
       "</table>\n",
       "</div>"
      ],
      "text/plain": [
       "   VIF Factor features\n",
       "4   22.362994    밤통화시간\n",
       "3   17.388841   저녁통화요금\n",
       "0   13.752422   주간통화시간\n",
       "1    3.807417   주간통화횟수\n",
       "2    3.798721   저녁통화횟수\n",
       "5    3.770012    밤통화횟수\n",
       "6    2.920008    밤통화요금\n",
       "7    2.350081   상담전화건수"
      ]
     },
     "metadata": {},
     "output_type": "display_data"
    }
   ],
   "source": [
    "vif = pd.DataFrame()\n",
    "vif[\"VIF Factor\"] = [variance_inflation_factor(\n",
    "    X_dropped_byGA.values, i) for i in range(X_dropped_byGA.shape[1])]\n",
    "vif[\"features\"] = X_dropped_byGA.columns\n",
    "display(vif.sort_values(by='VIF Factor', ascending=False))"
   ]
  },
  {
   "cell_type": "code",
   "execution_count": 439,
   "id": "22ac0dc3",
   "metadata": {},
   "outputs": [
    {
     "data": {
      "text/html": [
       "<table class=\"simpletable\">\n",
       "<caption>OLS Regression Results</caption>\n",
       "<tr>\n",
       "  <th>Dep. Variable:</th>         <td>전화해지여부</td>      <th>  R-squared:         </th> <td>   0.005</td> \n",
       "</tr>\n",
       "<tr>\n",
       "  <th>Model:</th>                   <td>OLS</td>       <th>  Adj. R-squared:    </th> <td>   0.005</td> \n",
       "</tr>\n",
       "<tr>\n",
       "  <th>Method:</th>             <td>Least Squares</td>  <th>  F-statistic:       </th> <td>   19.31</td> \n",
       "</tr>\n",
       "<tr>\n",
       "  <th>Date:</th>             <td>Mon, 27 Mar 2023</td> <th>  Prob (F-statistic):</th> <td>2.69e-29</td> \n",
       "</tr>\n",
       "<tr>\n",
       "  <th>Time:</th>                 <td>02:00:57</td>     <th>  Log-Likelihood:    </th> <td> -7669.4</td> \n",
       "</tr>\n",
       "<tr>\n",
       "  <th>No. Observations:</th>      <td> 30200</td>      <th>  AIC:               </th> <td>1.536e+04</td>\n",
       "</tr>\n",
       "<tr>\n",
       "  <th>Df Residuals:</th>          <td> 30191</td>      <th>  BIC:               </th> <td>1.543e+04</td>\n",
       "</tr>\n",
       "<tr>\n",
       "  <th>Df Model:</th>              <td>     8</td>      <th>                     </th>     <td> </td>    \n",
       "</tr>\n",
       "<tr>\n",
       "  <th>Covariance Type:</th>      <td>nonrobust</td>    <th>                     </th>     <td> </td>    \n",
       "</tr>\n",
       "</table>\n",
       "<table class=\"simpletable\">\n",
       "<tr>\n",
       "      <td></td>         <th>coef</th>     <th>std err</th>      <th>t</th>      <th>P>|t|</th>  <th>[0.025</th>    <th>0.975]</th>  \n",
       "</tr>\n",
       "<tr>\n",
       "  <th>Intercept</th> <td>    0.0943</td> <td>    0.007</td> <td>   12.792</td> <td> 0.000</td> <td>    0.080</td> <td>    0.109</td>\n",
       "</tr>\n",
       "<tr>\n",
       "  <th>주간통화횟수</th>    <td> 3.221e-05</td> <td> 1.86e-05</td> <td>    1.730</td> <td> 0.084</td> <td>-4.28e-06</td> <td> 6.87e-05</td>\n",
       "</tr>\n",
       "<tr>\n",
       "  <th>저녁통화횟수</th>    <td>-2.697e-05</td> <td> 1.86e-05</td> <td>   -1.450</td> <td> 0.147</td> <td>-6.34e-05</td> <td> 9.48e-06</td>\n",
       "</tr>\n",
       "<tr>\n",
       "  <th>저녁통화요금</th>    <td>   -0.0005</td> <td>    0.000</td> <td>   -1.734</td> <td> 0.083</td> <td>   -0.001</td> <td> 6.46e-05</td>\n",
       "</tr>\n",
       "<tr>\n",
       "  <th>밤통화횟수</th>     <td>-2.064e-05</td> <td> 1.87e-05</td> <td>   -1.106</td> <td> 0.269</td> <td>-5.72e-05</td> <td>  1.6e-05</td>\n",
       "</tr>\n",
       "<tr>\n",
       "  <th>밤통화요금</th>     <td>    0.0006</td> <td>    0.000</td> <td>    2.852</td> <td> 0.004</td> <td>    0.000</td> <td>    0.001</td>\n",
       "</tr>\n",
       "<tr>\n",
       "  <th>상담전화건수</th>    <td>    0.0090</td> <td>    0.001</td> <td>    9.992</td> <td> 0.000</td> <td>    0.007</td> <td>    0.011</td>\n",
       "</tr>\n",
       "<tr>\n",
       "  <th>밤통화시간</th>     <td>   -0.0001</td> <td> 3.32e-05</td> <td>   -4.028</td> <td> 0.000</td> <td>   -0.000</td> <td>-6.87e-05</td>\n",
       "</tr>\n",
       "<tr>\n",
       "  <th>주간통화시간</th>    <td>    0.0002</td> <td> 2.59e-05</td> <td>    5.930</td> <td> 0.000</td> <td>    0.000</td> <td>    0.000</td>\n",
       "</tr>\n",
       "</table>\n",
       "<table class=\"simpletable\">\n",
       "<tr>\n",
       "  <th>Omnibus:</th>       <td>14102.817</td> <th>  Durbin-Watson:     </th> <td>   2.006</td> \n",
       "</tr>\n",
       "<tr>\n",
       "  <th>Prob(Omnibus):</th>  <td> 0.000</td>   <th>  Jarque-Bera (JB):  </th> <td>52902.124</td>\n",
       "</tr>\n",
       "<tr>\n",
       "  <th>Skew:</th>           <td> 2.476</td>   <th>  Prob(JB):          </th> <td>    0.00</td> \n",
       "</tr>\n",
       "<tr>\n",
       "  <th>Kurtosis:</th>       <td> 7.185</td>   <th>  Cond. No.          </th> <td>1.94e+03</td> \n",
       "</tr>\n",
       "</table><br/><br/>Notes:<br/>[1] Standard Errors assume that the covariance matrix of the errors is correctly specified.<br/>[2] The condition number is large, 1.94e+03. This might indicate that there are<br/>strong multicollinearity or other numerical problems."
      ],
      "text/plain": [
       "<class 'statsmodels.iolib.summary.Summary'>\n",
       "\"\"\"\n",
       "                            OLS Regression Results                            \n",
       "==============================================================================\n",
       "Dep. Variable:                 전화해지여부   R-squared:                       0.005\n",
       "Model:                            OLS   Adj. R-squared:                  0.005\n",
       "Method:                 Least Squares   F-statistic:                     19.31\n",
       "Date:                Mon, 27 Mar 2023   Prob (F-statistic):           2.69e-29\n",
       "Time:                        02:00:57   Log-Likelihood:                -7669.4\n",
       "No. Observations:               30200   AIC:                         1.536e+04\n",
       "Df Residuals:                   30191   BIC:                         1.543e+04\n",
       "Df Model:                           8                                         \n",
       "Covariance Type:            nonrobust                                         \n",
       "==============================================================================\n",
       "                 coef    std err          t      P>|t|      [0.025      0.975]\n",
       "------------------------------------------------------------------------------\n",
       "Intercept      0.0943      0.007     12.792      0.000       0.080       0.109\n",
       "주간통화횟수      3.221e-05   1.86e-05      1.730      0.084   -4.28e-06    6.87e-05\n",
       "저녁통화횟수     -2.697e-05   1.86e-05     -1.450      0.147   -6.34e-05    9.48e-06\n",
       "저녁통화요금        -0.0005      0.000     -1.734      0.083      -0.001    6.46e-05\n",
       "밤통화횟수      -2.064e-05   1.87e-05     -1.106      0.269   -5.72e-05     1.6e-05\n",
       "밤통화요금          0.0006      0.000      2.852      0.004       0.000       0.001\n",
       "상담전화건수         0.0090      0.001      9.992      0.000       0.007       0.011\n",
       "밤통화시간         -0.0001   3.32e-05     -4.028      0.000      -0.000   -6.87e-05\n",
       "주간통화시간         0.0002   2.59e-05      5.930      0.000       0.000       0.000\n",
       "==============================================================================\n",
       "Omnibus:                    14102.817   Durbin-Watson:                   2.006\n",
       "Prob(Omnibus):                  0.000   Jarque-Bera (JB):            52902.124\n",
       "Skew:                           2.476   Prob(JB):                         0.00\n",
       "Kurtosis:                       7.185   Cond. No.                     1.94e+03\n",
       "==============================================================================\n",
       "\n",
       "Notes:\n",
       "[1] Standard Errors assume that the covariance matrix of the errors is correctly specified.\n",
       "[2] The condition number is large, 1.94e+03. This might indicate that there are\n",
       "strong multicollinearity or other numerical problems.\n",
       "\"\"\""
      ]
     },
     "execution_count": 439,
     "metadata": {},
     "output_type": "execute_result"
    }
   ],
   "source": [
    "res_dropped = smf.ols(formula='전화해지여부 ~  주간통화횟수 + 저녁통화횟수 + 저녁통화요금 + 밤통화횟수 + 밤통화요금 + 상담전화건수 + 밤통화시간 + 주간통화시간',\n",
    "              data=pd.concat([X_dropped_byGA , y], axis=1)).fit()\n",
    "res_dropped.summary()"
   ]
  },
  {
   "cell_type": "code",
   "execution_count": 440,
   "id": "e59019ef",
   "metadata": {},
   "outputs": [
    {
     "data": {
      "text/plain": [
       "((24160, 8), (6040, 8), (24160,), (6040,))"
      ]
     },
     "execution_count": 440,
     "metadata": {},
     "output_type": "execute_result"
    }
   ],
   "source": [
    "from sklearn.model_selection import train_test_split\n",
    "\n",
    "X_train, X_valid, y_train, y_valid = train_test_split(\n",
    "    X_dropped_byGA, y, test_size=0.2, random_state=42)\n",
    "\n",
    "X_train.shape, X_valid.shape, y_train.shape, y_valid.shape"
   ]
  },
  {
   "cell_type": "code",
   "execution_count": 441,
   "id": "157610be",
   "metadata": {},
   "outputs": [
    {
     "data": {
      "text/plain": [
       "LGBMClassifier()"
      ]
     },
     "execution_count": 441,
     "metadata": {},
     "output_type": "execute_result"
    }
   ],
   "source": [
    "model_lgbm  = lightgbm.LGBMClassifier()\n",
    "model_lgbm "
   ]
  },
  {
   "cell_type": "code",
   "execution_count": 442,
   "id": "47f89add",
   "metadata": {},
   "outputs": [
    {
     "name": "stdout",
     "output_type": "stream",
     "text": [
      "Fitting 3 folds for each of 180 candidates, totalling 540 fits\n"
     ]
    },
    {
     "data": {
      "text/plain": [
       "LGBMClassifier(learning_rate=0.2890658047231487, n_estimators=850)"
      ]
     },
     "execution_count": 442,
     "metadata": {},
     "output_type": "execute_result"
    }
   ],
   "source": [
    "from sklearn.model_selection import GridSearchCV\n",
    "\n",
    "param_distributions = {\"n_estimators\": [550,650,750,850,950,1000],\n",
    "                       \"learning_rate\": np.random.uniform(low=0.1, high=0.3, size=30)\n",
    "                      }\n",
    "reg_grid = GridSearchCV(model_lgbm, \n",
    "                         param_grid=param_distributions,\n",
    "                         scoring='f1',\n",
    "                         cv=3, verbose=1, n_jobs=-1)\n",
    "\n",
    "reg_grid.fit(X_train, y_train)\n",
    "\n",
    "reg_grid.best_estimator_"
   ]
  },
  {
   "cell_type": "code",
   "execution_count": 476,
   "id": "1977f758",
   "metadata": {},
   "outputs": [
    {
     "data": {
      "text/plain": [
       "LGBMClassifier(learning_rate=0.289, n_estimators=1000)"
      ]
     },
     "execution_count": 476,
     "metadata": {},
     "output_type": "execute_result"
    }
   ],
   "source": [
    "model_lgbm  = lightgbm.LGBMClassifier(learning_rate=0.289, n_estimators=1000)\n",
    "# 0.7692479045111859\n",
    "model_lgbm "
   ]
  },
  {
   "cell_type": "code",
   "execution_count": 477,
   "id": "6a679b88",
   "metadata": {},
   "outputs": [
    {
     "data": {
      "text/plain": [
       "LGBMClassifier(learning_rate=0.289, n_estimators=1000)"
      ]
     },
     "execution_count": 477,
     "metadata": {},
     "output_type": "execute_result"
    }
   ],
   "source": [
    "model_lgbm.fit(X_train, y_train)"
   ]
  },
  {
   "cell_type": "code",
   "execution_count": 478,
   "id": "8399ad41",
   "metadata": {},
   "outputs": [
    {
     "data": {
      "text/plain": [
       "<AxesSubplot:>"
      ]
     },
     "execution_count": 478,
     "metadata": {},
     "output_type": "execute_result"
    },
    {
     "data": {
      "image/png": "[encoded data removed]",
      "text/plain": [
       "<Figure size 640x480 with 1 Axes>"
      ]
     },
     "metadata": {},
     "output_type": "display_data"
    }
   ],
   "source": [
    "lgbm_fi = pd.Series(model_lgbm.feature_importances_)\n",
    "lgbm_fi.index = model_lgbm.feature_name_\n",
    "lgbm_fi.nlargest(20).sort_values().plot.barh()"
   ]
  },
  {
   "cell_type": "code",
   "execution_count": 479,
   "id": "0284b002",
   "metadata": {},
   "outputs": [
    {
     "name": "stderr",
     "output_type": "stream",
     "text": [
      "[Parallel(n_jobs=-1)]: Using backend LokyBackend with 6 concurrent workers.\n",
      "[Parallel(n_jobs=-1)]: Done   3 out of   3 | elapsed:    1.8s finished\n"
     ]
    },
    {
     "name": "stdout",
     "output_type": "stream",
     "text": [
      "cross_val_accuracy :  0.9120033112582782  cross_val_f1 :  0.7256449726675643\n",
      "valid_pred_accuracy :  0.9254966887417219 valid_pred_f1 :  0.7677144641588032\n"
     ]
    }
   ],
   "source": [
    "# 1 \n",
    "from sklearn.model_selection import cross_val_predict\n",
    "from sklearn.metrics import accuracy_score\n",
    "from sklearn.metrics import f1_score\n",
    "\n",
    "y_cross_val_pred = cross_val_predict(model_lgbm, X_train, y_train, n_jobs=-1, verbose=1,cv=3)\n",
    "# y_cross_val_pred[:5]\n",
    "\n",
    "cross_val_accuracy = accuracy_score(y_cross_val_pred, y_train) \n",
    "cross_val_f1_macro = f1_score(y_cross_val_pred, y_train, average='macro')\n",
    "print('cross_val_accuracy : ',cross_val_accuracy, ' cross_val_f1 : ', cross_val_f1_macro)\n",
    "\n",
    "# 2\n",
    "model_lgbm.fit(X_train, y_train)\n",
    "\n",
    "y_valid_pred = model_lgbm.predict(X_valid)\n",
    "# y_valid_pred[:5]\n",
    "\n",
    "valid_pred_accuracy = accuracy_score(y_valid_pred, y_valid) \n",
    "valid_pred_f1_macro = f1_score(y_valid_pred, y_valid, average='macro')\n",
    "print('valid_pred_accuracy : ',valid_pred_accuracy, 'valid_pred_f1 : ',valid_pred_f1_macro)"
   ]
  },
  {
   "cell_type": "code",
   "execution_count": 480,
   "id": "b7adef56",
   "metadata": {},
   "outputs": [
    {
     "data": {
      "text/plain": [
       "0.7677144641588032"
      ]
     },
     "execution_count": 480,
     "metadata": {},
     "output_type": "execute_result"
    }
   ],
   "source": [
    "0.7677144641588032"
   ]
  },
  {
   "cell_type": "markdown",
   "id": "c4e8e337",
   "metadata": {},
   "source": [
    "#### '밤통화시간' 과 '주간통화시간' 그대로 나두고 '음성사서함이용' 변수만 지우고 예측까지 해보기"
   ]
  },
  {
   "cell_type": "code",
   "execution_count": 481,
   "id": "7d3a1cd9",
   "metadata": {},
   "outputs": [
    {
     "data": {
      "text/plain": [
       "Index(['가입일', '주간통화시간', '주간통화횟수', '저녁통화횟수', '저녁통화요금', '밤통화시간', '밤통화횟수',\n",
       "       '밤통화요금', '상담전화건수'],\n",
       "      dtype='object')"
      ]
     },
     "execution_count": 481,
     "metadata": {},
     "output_type": "execute_result"
    }
   ],
   "source": [
    "X_dropped_byGA = X_log.copy()\n",
    "X_dropped_byGA = X_dropped_byGA.drop(columns = drop_col_byGA)\n",
    "# X_dropped_byGA['밤주간통화시간'] = X_dropped_byGA['밤통화시간'] + X_dropped_byGA['주간통화시간']\n",
    "X_dropped_byGA = X_dropped_byGA.drop(columns = ['음성사서함이용'])\n",
    "X_dropped_byGA.columns"
   ]
  },
  {
   "cell_type": "code",
   "execution_count": 482,
   "id": "92342847",
   "metadata": {},
   "outputs": [
    {
     "data": {
      "text/html": [
       "<div>\n",
       "<style scoped>\n",
       "    .dataframe tbody tr th:only-of-type {\n",
       "        vertical-align: middle;\n",
       "    }\n",
       "\n",
       "    .dataframe tbody tr th {\n",
       "        vertical-align: top;\n",
       "    }\n",
       "\n",
       "    .dataframe thead th {\n",
       "        text-align: right;\n",
       "    }\n",
       "</style>\n",
       "<table border=\"1\" class=\"dataframe\">\n",
       "  <thead>\n",
       "    <tr style=\"text-align: right;\">\n",
       "      <th></th>\n",
       "      <th>VIF Factor</th>\n",
       "      <th>features</th>\n",
       "    </tr>\n",
       "  </thead>\n",
       "  <tbody>\n",
       "    <tr>\n",
       "      <th>5</th>\n",
       "      <td>25.120029</td>\n",
       "      <td>밤통화시간</td>\n",
       "    </tr>\n",
       "    <tr>\n",
       "      <th>4</th>\n",
       "      <td>17.878497</td>\n",
       "      <td>저녁통화요금</td>\n",
       "    </tr>\n",
       "    <tr>\n",
       "      <th>1</th>\n",
       "      <td>14.257837</td>\n",
       "      <td>주간통화시간</td>\n",
       "    </tr>\n",
       "    <tr>\n",
       "      <th>0</th>\n",
       "      <td>13.089713</td>\n",
       "      <td>가입일</td>\n",
       "    </tr>\n",
       "    <tr>\n",
       "      <th>2</th>\n",
       "      <td>3.835577</td>\n",
       "      <td>주간통화횟수</td>\n",
       "    </tr>\n",
       "    <tr>\n",
       "      <th>3</th>\n",
       "      <td>3.815258</td>\n",
       "      <td>저녁통화횟수</td>\n",
       "    </tr>\n",
       "    <tr>\n",
       "      <th>6</th>\n",
       "      <td>3.784010</td>\n",
       "      <td>밤통화횟수</td>\n",
       "    </tr>\n",
       "    <tr>\n",
       "      <th>7</th>\n",
       "      <td>2.920584</td>\n",
       "      <td>밤통화요금</td>\n",
       "    </tr>\n",
       "    <tr>\n",
       "      <th>8</th>\n",
       "      <td>2.357800</td>\n",
       "      <td>상담전화건수</td>\n",
       "    </tr>\n",
       "  </tbody>\n",
       "</table>\n",
       "</div>"
      ],
      "text/plain": [
       "   VIF Factor features\n",
       "5   25.120029    밤통화시간\n",
       "4   17.878497   저녁통화요금\n",
       "1   14.257837   주간통화시간\n",
       "0   13.089713      가입일\n",
       "2    3.835577   주간통화횟수\n",
       "3    3.815258   저녁통화횟수\n",
       "6    3.784010    밤통화횟수\n",
       "7    2.920584    밤통화요금\n",
       "8    2.357800   상담전화건수"
      ]
     },
     "metadata": {},
     "output_type": "display_data"
    }
   ],
   "source": [
    "vif = pd.DataFrame()\n",
    "vif[\"VIF Factor\"] = [variance_inflation_factor(\n",
    "    X_dropped_byGA.values, i) for i in range(X_dropped_byGA.shape[1])]\n",
    "vif[\"features\"] = X_dropped_byGA.columns\n",
    "display(vif.sort_values(by='VIF Factor', ascending=False))"
   ]
  },
  {
   "cell_type": "code",
   "execution_count": 483,
   "id": "1d620e10",
   "metadata": {},
   "outputs": [
    {
     "data": {
      "text/html": [
       "<table class=\"simpletable\">\n",
       "<caption>OLS Regression Results</caption>\n",
       "<tr>\n",
       "  <th>Dep. Variable:</th>         <td>전화해지여부</td>      <th>  R-squared:         </th> <td>   0.005</td> \n",
       "</tr>\n",
       "<tr>\n",
       "  <th>Model:</th>                   <td>OLS</td>       <th>  Adj. R-squared:    </th> <td>   0.005</td> \n",
       "</tr>\n",
       "<tr>\n",
       "  <th>Method:</th>             <td>Least Squares</td>  <th>  F-statistic:       </th> <td>   17.50</td> \n",
       "</tr>\n",
       "<tr>\n",
       "  <th>Date:</th>             <td>Mon, 27 Mar 2023</td> <th>  Prob (F-statistic):</th> <td>2.91e-29</td> \n",
       "</tr>\n",
       "<tr>\n",
       "  <th>Time:</th>                 <td>02:50:26</td>     <th>  Log-Likelihood:    </th> <td> -7667.9</td> \n",
       "</tr>\n",
       "<tr>\n",
       "  <th>No. Observations:</th>      <td> 30200</td>      <th>  AIC:               </th> <td>1.536e+04</td>\n",
       "</tr>\n",
       "<tr>\n",
       "  <th>Df Residuals:</th>          <td> 30190</td>      <th>  BIC:               </th> <td>1.544e+04</td>\n",
       "</tr>\n",
       "<tr>\n",
       "  <th>Df Model:</th>              <td>     9</td>      <th>                     </th>     <td> </td>    \n",
       "</tr>\n",
       "<tr>\n",
       "  <th>Covariance Type:</th>      <td>nonrobust</td>    <th>                     </th>     <td> </td>    \n",
       "</tr>\n",
       "</table>\n",
       "<table class=\"simpletable\">\n",
       "<tr>\n",
       "      <td></td>         <th>coef</th>     <th>std err</th>      <th>t</th>      <th>P>|t|</th>  <th>[0.025</th>    <th>0.975]</th>  \n",
       "</tr>\n",
       "<tr>\n",
       "  <th>Intercept</th> <td>    0.0799</td> <td>    0.011</td> <td>    7.210</td> <td> 0.000</td> <td>    0.058</td> <td>    0.102</td>\n",
       "</tr>\n",
       "<tr>\n",
       "  <th>가입일</th>       <td>    0.0035</td> <td>    0.002</td> <td>    1.737</td> <td> 0.082</td> <td>   -0.000</td> <td>    0.007</td>\n",
       "</tr>\n",
       "<tr>\n",
       "  <th>주간통화횟수</th>    <td> 3.115e-05</td> <td> 1.86e-05</td> <td>    1.672</td> <td> 0.095</td> <td>-5.37e-06</td> <td> 6.77e-05</td>\n",
       "</tr>\n",
       "<tr>\n",
       "  <th>저녁통화횟수</th>    <td>-2.772e-05</td> <td> 1.86e-05</td> <td>   -1.490</td> <td> 0.136</td> <td>-6.42e-05</td> <td> 8.74e-06</td>\n",
       "</tr>\n",
       "<tr>\n",
       "  <th>저녁통화요금</th>    <td>   -0.0005</td> <td>    0.000</td> <td>   -1.773</td> <td> 0.076</td> <td>   -0.001</td> <td> 5.37e-05</td>\n",
       "</tr>\n",
       "<tr>\n",
       "  <th>밤통화횟수</th>     <td>-2.118e-05</td> <td> 1.87e-05</td> <td>   -1.134</td> <td> 0.257</td> <td>-5.78e-05</td> <td> 1.54e-05</td>\n",
       "</tr>\n",
       "<tr>\n",
       "  <th>밤통화요금</th>     <td>    0.0006</td> <td>    0.000</td> <td>    2.882</td> <td> 0.004</td> <td>    0.000</td> <td>    0.001</td>\n",
       "</tr>\n",
       "<tr>\n",
       "  <th>상담전화건수</th>    <td>    0.0089</td> <td>    0.001</td> <td>    9.966</td> <td> 0.000</td> <td>    0.007</td> <td>    0.011</td>\n",
       "</tr>\n",
       "<tr>\n",
       "  <th>밤통화시간</th>     <td>   -0.0001</td> <td> 3.34e-05</td> <td>   -4.172</td> <td> 0.000</td> <td>   -0.000</td> <td>-7.38e-05</td>\n",
       "</tr>\n",
       "<tr>\n",
       "  <th>주간통화시간</th>    <td>    0.0002</td> <td> 2.59e-05</td> <td>    5.890</td> <td> 0.000</td> <td>    0.000</td> <td>    0.000</td>\n",
       "</tr>\n",
       "</table>\n",
       "<table class=\"simpletable\">\n",
       "<tr>\n",
       "  <th>Omnibus:</th>       <td>14100.967</td> <th>  Durbin-Watson:     </th> <td>   2.006</td> \n",
       "</tr>\n",
       "<tr>\n",
       "  <th>Prob(Omnibus):</th>  <td> 0.000</td>   <th>  Jarque-Bera (JB):  </th> <td>52888.050</td>\n",
       "</tr>\n",
       "<tr>\n",
       "  <th>Skew:</th>           <td> 2.476</td>   <th>  Prob(JB):          </th> <td>    0.00</td> \n",
       "</tr>\n",
       "<tr>\n",
       "  <th>Kurtosis:</th>       <td> 7.184</td>   <th>  Cond. No.          </th> <td>2.95e+03</td> \n",
       "</tr>\n",
       "</table><br/><br/>Notes:<br/>[1] Standard Errors assume that the covariance matrix of the errors is correctly specified.<br/>[2] The condition number is large, 2.95e+03. This might indicate that there are<br/>strong multicollinearity or other numerical problems."
      ],
      "text/plain": [
       "<class 'statsmodels.iolib.summary.Summary'>\n",
       "\"\"\"\n",
       "                            OLS Regression Results                            \n",
       "==============================================================================\n",
       "Dep. Variable:                 전화해지여부   R-squared:                       0.005\n",
       "Model:                            OLS   Adj. R-squared:                  0.005\n",
       "Method:                 Least Squares   F-statistic:                     17.50\n",
       "Date:                Mon, 27 Mar 2023   Prob (F-statistic):           2.91e-29\n",
       "Time:                        02:50:26   Log-Likelihood:                -7667.9\n",
       "No. Observations:               30200   AIC:                         1.536e+04\n",
       "Df Residuals:                   30190   BIC:                         1.544e+04\n",
       "Df Model:                           9                                         \n",
       "Covariance Type:            nonrobust                                         \n",
       "==============================================================================\n",
       "                 coef    std err          t      P>|t|      [0.025      0.975]\n",
       "------------------------------------------------------------------------------\n",
       "Intercept      0.0799      0.011      7.210      0.000       0.058       0.102\n",
       "가입일            0.0035      0.002      1.737      0.082      -0.000       0.007\n",
       "주간통화횟수      3.115e-05   1.86e-05      1.672      0.095   -5.37e-06    6.77e-05\n",
       "저녁통화횟수     -2.772e-05   1.86e-05     -1.490      0.136   -6.42e-05    8.74e-06\n",
       "저녁통화요금        -0.0005      0.000     -1.773      0.076      -0.001    5.37e-05\n",
       "밤통화횟수      -2.118e-05   1.87e-05     -1.134      0.257   -5.78e-05    1.54e-05\n",
       "밤통화요금          0.0006      0.000      2.882      0.004       0.000       0.001\n",
       "상담전화건수         0.0089      0.001      9.966      0.000       0.007       0.011\n",
       "밤통화시간         -0.0001   3.34e-05     -4.172      0.000      -0.000   -7.38e-05\n",
       "주간통화시간         0.0002   2.59e-05      5.890      0.000       0.000       0.000\n",
       "==============================================================================\n",
       "Omnibus:                    14100.967   Durbin-Watson:                   2.006\n",
       "Prob(Omnibus):                  0.000   Jarque-Bera (JB):            52888.050\n",
       "Skew:                           2.476   Prob(JB):                         0.00\n",
       "Kurtosis:                       7.184   Cond. No.                     2.95e+03\n",
       "==============================================================================\n",
       "\n",
       "Notes:\n",
       "[1] Standard Errors assume that the covariance matrix of the errors is correctly specified.\n",
       "[2] The condition number is large, 2.95e+03. This might indicate that there are\n",
       "strong multicollinearity or other numerical problems.\n",
       "\"\"\""
      ]
     },
     "execution_count": 483,
     "metadata": {},
     "output_type": "execute_result"
    }
   ],
   "source": [
    "res_dropped = smf.ols(formula='전화해지여부 ~  가입일 + 주간통화횟수 + 저녁통화횟수 + 저녁통화요금 + 밤통화횟수 + 밤통화요금 + 상담전화건수 + 밤통화시간 + 주간통화시간',\n",
    "              data=pd.concat([X_dropped_byGA , y], axis=1)).fit()\n",
    "res_dropped.summary()"
   ]
  },
  {
   "cell_type": "code",
   "execution_count": 484,
   "id": "ab2bb59d",
   "metadata": {},
   "outputs": [
    {
     "data": {
      "text/plain": [
       "((24160, 9), (6040, 9), (24160,), (6040,))"
      ]
     },
     "execution_count": 484,
     "metadata": {},
     "output_type": "execute_result"
    }
   ],
   "source": [
    "from sklearn.model_selection import train_test_split\n",
    "\n",
    "X_train, X_valid, y_train, y_valid = train_test_split(\n",
    "    X_dropped_byGA, y, test_size=0.2, random_state=42)\n",
    "\n",
    "X_train.shape, X_valid.shape, y_train.shape, y_valid.shape"
   ]
  },
  {
   "cell_type": "code",
   "execution_count": 485,
   "id": "c66fe835",
   "metadata": {},
   "outputs": [
    {
     "data": {
      "text/plain": [
       "LGBMClassifier(learning_rate=0.29, n_estimators=1000)"
      ]
     },
     "execution_count": 485,
     "metadata": {},
     "output_type": "execute_result"
    }
   ],
   "source": [
    "model_lgbm  = lightgbm.LGBMClassifier(learning_rate=0.29, n_estimators=1000)\n",
    "# 0.7692479045111859\n",
    "model_lgbm "
   ]
  },
  {
   "cell_type": "code",
   "execution_count": 486,
   "id": "0900da89",
   "metadata": {},
   "outputs": [
    {
     "data": {
      "text/plain": [
       "LGBMClassifier(learning_rate=0.29, n_estimators=1000)"
      ]
     },
     "execution_count": 486,
     "metadata": {},
     "output_type": "execute_result"
    }
   ],
   "source": [
    "model_lgbm.fit(X_train, y_train)"
   ]
  },
  {
   "cell_type": "code",
   "execution_count": 487,
   "id": "17c78f7f",
   "metadata": {},
   "outputs": [
    {
     "name": "stderr",
     "output_type": "stream",
     "text": [
      "[Parallel(n_jobs=-1)]: Using backend LokyBackend with 6 concurrent workers.\n",
      "[Parallel(n_jobs=-1)]: Done   3 out of   3 | elapsed:    5.7s finished\n"
     ]
    },
    {
     "name": "stdout",
     "output_type": "stream",
     "text": [
      "cross_val_accuracy :  0.9128725165562914  cross_val_f1 :  0.7296767468768777\n",
      "valid_pred_accuracy :  0.9251655629139073 valid_pred_f1 :  0.7717190041955646\n"
     ]
    }
   ],
   "source": [
    "# 1 \n",
    "from sklearn.model_selection import cross_val_predict\n",
    "from sklearn.metrics import accuracy_score\n",
    "from sklearn.metrics import f1_score\n",
    "\n",
    "y_cross_val_pred = cross_val_predict(model_lgbm, X_train, y_train, n_jobs=-1, verbose=1,cv=3)\n",
    "# y_cross_val_pred[:5]\n",
    "\n",
    "cross_val_accuracy = accuracy_score(y_cross_val_pred, y_train) \n",
    "cross_val_f1_macro = f1_score(y_cross_val_pred, y_train, average='macro')\n",
    "print('cross_val_accuracy : ',cross_val_accuracy, ' cross_val_f1 : ', cross_val_f1_macro)\n",
    "\n",
    "# 2\n",
    "model_lgbm.fit(X_train, y_train)\n",
    "\n",
    "y_valid_pred = model_lgbm.predict(X_valid)\n",
    "# y_valid_pred[:5]\n",
    "\n",
    "valid_pred_accuracy = accuracy_score(y_valid_pred, y_valid) \n",
    "valid_pred_f1_macro = f1_score(y_valid_pred, y_valid, average='macro')\n",
    "print('valid_pred_accuracy : ',valid_pred_accuracy, 'valid_pred_f1 : ',valid_pred_f1_macro)"
   ]
  },
  {
   "cell_type": "code",
   "execution_count": 488,
   "id": "6afa98f4",
   "metadata": {},
   "outputs": [
    {
     "data": {
      "text/plain": [
       "(12943, 9)"
      ]
     },
     "execution_count": 488,
     "metadata": {},
     "output_type": "execute_result"
    }
   ],
   "source": [
    "X_test_dropped = X_test.drop(columns = drop_col_byGA)\n",
    "X_test_dropped = X_test_dropped.drop(columns = ['음성사서함이용'])\n",
    "X_test_dropped"
   ]
  },
  {
   "cell_type": "code",
   "execution_count": 489,
   "id": "a6021cef",
   "metadata": {},
   "outputs": [
    {
     "data": {
      "text/plain": [
       "array([0, 0, 0, 0, 0], dtype=int64)"
      ]
     },
     "execution_count": 489,
     "metadata": {},
     "output_type": "execute_result"
    }
   ],
   "source": [
    "y_pred = model_lgbm.predict(X_test_dropped)\n",
    "y_pred[:5]"
   ]
  },
  {
   "cell_type": "code",
   "execution_count": 490,
   "id": "04a1d5a5",
   "metadata": {},
   "outputs": [
    {
     "data": {
      "text/plain": [
       "'data/전화해지여부_0.77172.csv'"
      ]
     },
     "execution_count": 490,
     "metadata": {},
     "output_type": "execute_result"
    }
   ],
   "source": [
    "pred_score = 0.7717190041955646\n",
    "file_name_ = f'data/전화해지여부_{pred_score:.5f}.csv'\n",
    "file_name_"
   ]
  },
  {
   "cell_type": "code",
   "execution_count": 491,
   "id": "e8667bf7",
   "metadata": {},
   "outputs": [
    {
     "data": {
      "text/html": [
       "<div>\n",
       "<style scoped>\n",
       "    .dataframe tbody tr th:only-of-type {\n",
       "        vertical-align: middle;\n",
       "    }\n",
       "\n",
       "    .dataframe tbody tr th {\n",
       "        vertical-align: top;\n",
       "    }\n",
       "\n",
       "    .dataframe thead th {\n",
       "        text-align: right;\n",
       "    }\n",
       "</style>\n",
       "<table border=\"1\" class=\"dataframe\">\n",
       "  <thead>\n",
       "    <tr style=\"text-align: right;\">\n",
       "      <th></th>\n",
       "      <th>ID</th>\n",
       "      <th>전화해지여부</th>\n",
       "    </tr>\n",
       "  </thead>\n",
       "  <tbody>\n",
       "    <tr>\n",
       "      <th>0</th>\n",
       "      <td>TEST_00000</td>\n",
       "      <td>0</td>\n",
       "    </tr>\n",
       "    <tr>\n",
       "      <th>1</th>\n",
       "      <td>TEST_00001</td>\n",
       "      <td>0</td>\n",
       "    </tr>\n",
       "    <tr>\n",
       "      <th>2</th>\n",
       "      <td>TEST_00002</td>\n",
       "      <td>0</td>\n",
       "    </tr>\n",
       "    <tr>\n",
       "      <th>3</th>\n",
       "      <td>TEST_00003</td>\n",
       "      <td>0</td>\n",
       "    </tr>\n",
       "    <tr>\n",
       "      <th>4</th>\n",
       "      <td>TEST_00004</td>\n",
       "      <td>0</td>\n",
       "    </tr>\n",
       "    <tr>\n",
       "      <th>...</th>\n",
       "      <td>...</td>\n",
       "      <td>...</td>\n",
       "    </tr>\n",
       "    <tr>\n",
       "      <th>12938</th>\n",
       "      <td>TEST_12938</td>\n",
       "      <td>0</td>\n",
       "    </tr>\n",
       "    <tr>\n",
       "      <th>12939</th>\n",
       "      <td>TEST_12939</td>\n",
       "      <td>0</td>\n",
       "    </tr>\n",
       "    <tr>\n",
       "      <th>12940</th>\n",
       "      <td>TEST_12940</td>\n",
       "      <td>0</td>\n",
       "    </tr>\n",
       "    <tr>\n",
       "      <th>12941</th>\n",
       "      <td>TEST_12941</td>\n",
       "      <td>0</td>\n",
       "    </tr>\n",
       "    <tr>\n",
       "      <th>12942</th>\n",
       "      <td>TEST_12942</td>\n",
       "      <td>0</td>\n",
       "    </tr>\n",
       "  </tbody>\n",
       "</table>\n",
       "<p>12943 rows × 2 columns</p>\n",
       "</div>"
      ],
      "text/plain": [
       "               ID  전화해지여부\n",
       "0      TEST_00000       0\n",
       "1      TEST_00001       0\n",
       "2      TEST_00002       0\n",
       "3      TEST_00003       0\n",
       "4      TEST_00004       0\n",
       "...           ...     ...\n",
       "12938  TEST_12938       0\n",
       "12939  TEST_12939       0\n",
       "12940  TEST_12940       0\n",
       "12941  TEST_12941       0\n",
       "12942  TEST_12942       0\n",
       "\n",
       "[12943 rows x 2 columns]"
      ]
     },
     "execution_count": 491,
     "metadata": {},
     "output_type": "execute_result"
    }
   ],
   "source": [
    "submission[label_name] = y_pred\n",
    "submission.to_csv(file_name_,index=False)\n",
    "pd.read_csv(file_name_)"
   ]
  },
  {
   "cell_type": "markdown",
   "id": "cc64b4c8",
   "metadata": {},
   "source": [
    "#### 찐 해보기"
   ]
  },
  {
   "cell_type": "code",
   "execution_count": 712,
   "id": "15371a4e",
   "metadata": {},
   "outputs": [
    {
     "data": {
      "text/plain": [
       "(30200, 10)"
      ]
     },
     "execution_count": 712,
     "metadata": {},
     "output_type": "execute_result"
    }
   ],
   "source": [
    "X_last = X_log.copy()\n",
    "X_last = X_last.drop(columns=drop_col_byGA)\n",
    "X_last.shape"
   ]
  },
  {
   "cell_type": "code",
   "execution_count": 713,
   "id": "035ecb09",
   "metadata": {},
   "outputs": [
    {
     "name": "stdout",
     "output_type": "stream",
     "text": [
      "{'colsample_bytree': 1, 'learning_rate': 0.2855422299655514, 'max_depth': 7, 'min_child_samples': 39, 'n_estimators': 800, 'num_leaves': 54, 'random_state': 42, 'reg_alpha': 0, 'reg_lambda': 0.5, 'subsample': 0.5}\n"
     ]
    }
   ],
   "source": [
    "from sklearn.model_selection import RandomizedSearchCV\n",
    "from lightgbm import LGBMClassifier\n",
    "\n",
    "model_lgbm  = lightgbm.LGBMClassifier()\n",
    "model_lgbm \n",
    "\n",
    "# 파라미터 그리드 설정\n",
    "params = {\n",
    "    'learning_rate': np.random.uniform(low=0.01, high=0.3, size=50),\n",
    "    'n_estimators': np.arange(100, 1000, 100),\n",
    "    'max_depth': sp_randint(3, 20),\n",
    "    'num_leaves': sp_randint(20, 200),\n",
    "    'min_child_samples': sp_randint(5, 50),\n",
    "    'reg_alpha': [0, 0.1, 0.5, 1, 2, 5],\n",
    "    'reg_lambda': [0, 0.1, 0.5, 1, 2, 5],\n",
    "    'colsample_bytree': [0.5, 0.7, 0.9, 1],\n",
    "    'subsample': [0.5, 0.7, 0.9, 1],\n",
    "    'random_state': [42]\n",
    "}\n",
    "\n",
    "# 모델 생성\n",
    "model = LGBMClassifier()\n",
    "\n",
    "# RandomizedSearchCV 객체 생성\n",
    "random_search = RandomizedSearchCV(\n",
    "    estimator=model, \n",
    "    param_distributions=params, \n",
    "    n_iter=100,\n",
    "    scoring='accuracy',\n",
    "    n_jobs=-1,\n",
    "    cv=5,\n",
    "    random_state=42\n",
    ")\n",
    "\n",
    "# 모델 학습 및 검증\n",
    "random_search.fit(X_last, y)\n",
    "\n",
    "# 최적의 파라미터 출력\n",
    "print(random_search.best_params_)\n"
   ]
  },
  {
   "cell_type": "code",
   "execution_count": 714,
   "id": "acf45dba",
   "metadata": {},
   "outputs": [
    {
     "data": {
      "text/plain": [
       "LGBMClassifier(colsample_bytree=1, learning_rate=0.2855422299655514,\n",
       "               max_depth=7, min_child_samples=39, n_estimators=800,\n",
       "               num_leaves=54, random_state=42, reg_alpha=0, reg_lambda=0.5,\n",
       "               subsample=0.5)"
      ]
     },
     "execution_count": 714,
     "metadata": {},
     "output_type": "execute_result"
    }
   ],
   "source": [
    "model_lgbm  = lightgbm.LGBMClassifier(colsample_bytree = 1,\n",
    "                                      learning_rate = 0.2855422299655514,\n",
    "                                      max_depth = 7, min_child_samples = 39,\n",
    "                                      n_estimators = 800, num_leaves = 54,\n",
    "                                      random_state = 42, reg_alpha = 0,\n",
    "                                      reg_lambda = 0.5, subsample = 0.5)\n",
    "model_lgbm "
   ]
  },
  {
   "cell_type": "code",
   "execution_count": 715,
   "id": "e290eee7",
   "metadata": {},
   "outputs": [
    {
     "data": {
      "text/plain": [
       "LGBMClassifier(colsample_bytree=1, learning_rate=0.2855422299655514,\n",
       "               max_depth=7, min_child_samples=39, n_estimators=800,\n",
       "               num_leaves=54, random_state=42, reg_alpha=0, reg_lambda=0.5,\n",
       "               subsample=0.5)"
      ]
     },
     "execution_count": 715,
     "metadata": {},
     "output_type": "execute_result"
    }
   ],
   "source": [
    "model_lgbm.fit(X_last, y)"
   ]
  },
  {
   "cell_type": "code",
   "execution_count": 716,
   "id": "fffd8ff4",
   "metadata": {},
   "outputs": [
    {
     "data": {
      "text/plain": [
       "(12943, 10)"
      ]
     },
     "execution_count": 716,
     "metadata": {},
     "output_type": "execute_result"
    }
   ],
   "source": [
    "X_test_dropped = X_test.drop(columns = drop_col_byGA)\n",
    "X_test_dropped.shape"
   ]
  },
  {
   "cell_type": "code",
   "execution_count": 717,
   "id": "9e2d56fa",
   "metadata": {},
   "outputs": [
    {
     "data": {
      "text/plain": [
       "array([0, 0, 0, 0, 1], dtype=int64)"
      ]
     },
     "execution_count": 717,
     "metadata": {},
     "output_type": "execute_result"
    }
   ],
   "source": [
    "y_pred = model_lgbm.predict(X_test_dropped)\n",
    "y_pred[:5]"
   ]
  },
  {
   "cell_type": "code",
   "execution_count": 718,
   "id": "d2c3df81",
   "metadata": {},
   "outputs": [
    {
     "data": {
      "text/plain": [
       "'data/전화해지여부_rand_accuracy.csv'"
      ]
     },
     "execution_count": 718,
     "metadata": {},
     "output_type": "execute_result"
    }
   ],
   "source": [
    "file_name_ = f'data/전화해지여부_rand_accuracy.csv'\n",
    "file_name_"
   ]
  },
  {
   "cell_type": "code",
   "execution_count": 719,
   "id": "4b295052",
   "metadata": {},
   "outputs": [
    {
     "data": {
      "text/html": [
       "<div>\n",
       "<style scoped>\n",
       "    .dataframe tbody tr th:only-of-type {\n",
       "        vertical-align: middle;\n",
       "    }\n",
       "\n",
       "    .dataframe tbody tr th {\n",
       "        vertical-align: top;\n",
       "    }\n",
       "\n",
       "    .dataframe thead th {\n",
       "        text-align: right;\n",
       "    }\n",
       "</style>\n",
       "<table border=\"1\" class=\"dataframe\">\n",
       "  <thead>\n",
       "    <tr style=\"text-align: right;\">\n",
       "      <th></th>\n",
       "      <th>ID</th>\n",
       "      <th>전화해지여부</th>\n",
       "    </tr>\n",
       "  </thead>\n",
       "  <tbody>\n",
       "    <tr>\n",
       "      <th>0</th>\n",
       "      <td>TEST_00000</td>\n",
       "      <td>0</td>\n",
       "    </tr>\n",
       "    <tr>\n",
       "      <th>1</th>\n",
       "      <td>TEST_00001</td>\n",
       "      <td>0</td>\n",
       "    </tr>\n",
       "    <tr>\n",
       "      <th>2</th>\n",
       "      <td>TEST_00002</td>\n",
       "      <td>0</td>\n",
       "    </tr>\n",
       "    <tr>\n",
       "      <th>3</th>\n",
       "      <td>TEST_00003</td>\n",
       "      <td>0</td>\n",
       "    </tr>\n",
       "    <tr>\n",
       "      <th>4</th>\n",
       "      <td>TEST_00004</td>\n",
       "      <td>1</td>\n",
       "    </tr>\n",
       "    <tr>\n",
       "      <th>...</th>\n",
       "      <td>...</td>\n",
       "      <td>...</td>\n",
       "    </tr>\n",
       "    <tr>\n",
       "      <th>12938</th>\n",
       "      <td>TEST_12938</td>\n",
       "      <td>0</td>\n",
       "    </tr>\n",
       "    <tr>\n",
       "      <th>12939</th>\n",
       "      <td>TEST_12939</td>\n",
       "      <td>0</td>\n",
       "    </tr>\n",
       "    <tr>\n",
       "      <th>12940</th>\n",
       "      <td>TEST_12940</td>\n",
       "      <td>0</td>\n",
       "    </tr>\n",
       "    <tr>\n",
       "      <th>12941</th>\n",
       "      <td>TEST_12941</td>\n",
       "      <td>0</td>\n",
       "    </tr>\n",
       "    <tr>\n",
       "      <th>12942</th>\n",
       "      <td>TEST_12942</td>\n",
       "      <td>0</td>\n",
       "    </tr>\n",
       "  </tbody>\n",
       "</table>\n",
       "<p>12943 rows × 2 columns</p>\n",
       "</div>"
      ],
      "text/plain": [
       "               ID  전화해지여부\n",
       "0      TEST_00000       0\n",
       "1      TEST_00001       0\n",
       "2      TEST_00002       0\n",
       "3      TEST_00003       0\n",
       "4      TEST_00004       1\n",
       "...           ...     ...\n",
       "12938  TEST_12938       0\n",
       "12939  TEST_12939       0\n",
       "12940  TEST_12940       0\n",
       "12941  TEST_12941       0\n",
       "12942  TEST_12942       0\n",
       "\n",
       "[12943 rows x 2 columns]"
      ]
     },
     "execution_count": 719,
     "metadata": {},
     "output_type": "execute_result"
    }
   ],
   "source": [
    "submission[label_name] = y_pred\n",
    "submission.to_csv(file_name_,index=False)\n",
    "pd.read_csv(file_name_)"
   ]
  }
 ],
 "metadata": {
  "kernelspec": {
   "display_name": "Python 3 (ipykernel)",
   "language": "python",
   "name": "python3"
  },
  "language_info": {
   "codemirror_mode": {
    "name": "ipython",
    "version": 3
   },
   "file_extension": ".py",
   "mimetype": "text/x-python",
   "name": "python",
   "nbconvert_exporter": "python",
   "pygments_lexer": "ipython3",
   "version": "3.9.13"
  },
  "toc": {
   "base_numbering": 1,
   "nav_menu": {},
   "number_sections": true,
   "sideBar": true,
   "skip_h1_title": false,
   "title_cell": "Table of Contents",
   "title_sidebar": "Contents",
   "toc_cell": false,
   "toc_position": {
    "height": "621.775px",
    "left": "212px",
    "top": "90.5875px",
    "width": "341.3px"
   },
   "toc_section_display": true,
   "toc_window_display": true
  }
 },
 "nbformat": 4,
 "nbformat_minor": 5
}
