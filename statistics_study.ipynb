{
 "cells": [
  {
   "cell_type": "code",
   "execution_count": 1,
   "id": "676284f9",
   "metadata": {},
   "outputs": [],
   "source": [
    "from scipy.stats import binom\n",
    "import matplotlib.pyplot as plt\n",
    "import numpy as np"
   ]
  },
  {
   "cell_type": "code",
   "execution_count": 2,
   "id": "de5d813c",
   "metadata": {},
   "outputs": [
    {
     "data": {
      "image/png": "[encoded data removed]",
      "text/plain": [
       "<Figure size 640x480 with 1 Axes>"
      ]
     },
     "metadata": {},
     "output_type": "display_data"
    }
   ],
   "source": [
    "data =  binom.rvs(n = 100, p = 0.3, size = 365)\n",
    "# 100의 고객이 오고, 30%의 구매율, 365일 시뮬레이션\n",
    "plt.hist(data, bins = 40, range = [10,50]);"
   ]
  },
  {
   "cell_type": "code",
   "execution_count": 3,
   "id": "d2648291",
   "metadata": {},
   "outputs": [
    {
     "data": {
      "text/plain": [
       "0.08678386475342813"
      ]
     },
     "execution_count": 3,
     "metadata": {},
     "output_type": "execute_result"
    }
   ],
   "source": [
    "binom.pmf(k = 30, n = 100, p = 0.3)\n",
    "# 구매율이 30%, 100명 방문, 그 중 딱 30명이 구매할 확률"
   ]
  },
  {
   "cell_type": "code",
   "execution_count": 4,
   "id": "9d67356c",
   "metadata": {},
   "outputs": [
    {
     "data": {
      "text/plain": [
       "0.5491236007687914"
      ]
     },
     "execution_count": 4,
     "metadata": {},
     "output_type": "execute_result"
    }
   ],
   "source": [
    "binom.cdf(k = 30, n = 100, p = 0.3)\n",
    "# 구매율이 30%, 100명 방문, 그 중 30명 이하의 인원이 구매할 확률"
   ]
  },
  {
   "cell_type": "code",
   "execution_count": 5,
   "id": "358b7839",
   "metadata": {},
   "outputs": [
    {
     "data": {
      "text/plain": [
       "200.43011428060888"
      ]
     },
     "execution_count": 5,
     "metadata": {},
     "output_type": "execute_result"
    }
   ],
   "source": [
    "0.5491236007687914 * 365"
   ]
  },
  {
   "cell_type": "code",
   "execution_count": 6,
   "id": "e5692237",
   "metadata": {},
   "outputs": [],
   "source": [
    "from scipy.stats import norm"
   ]
  },
  {
   "cell_type": "code",
   "execution_count": 7,
   "id": "3f82d20a",
   "metadata": {},
   "outputs": [],
   "source": [
    "m = 100*0.3\n",
    "s = np.sqrt(100 * 0.3 * 0.7)\n",
    "data = norm.rvs(loc = m, scale = s,  size = 365)"
   ]
  },
  {
   "cell_type": "code",
   "execution_count": 8,
   "id": "0a26542e",
   "metadata": {},
   "outputs": [
    {
     "data": {
      "image/png": "[encoded data removed]",
      "text/plain": [
       "<Figure size 640x480 with 1 Axes>"
      ]
     },
     "metadata": {},
     "output_type": "display_data"
    }
   ],
   "source": [
    "plt.hist(data, bins = 40, range = [10,50]);"
   ]
  },
  {
   "cell_type": "code",
   "execution_count": 9,
   "id": "9692ece4",
   "metadata": {},
   "outputs": [],
   "source": [
    "import pandas as pd\n",
    "df = pd.read_excel('data/car.xlsx')"
   ]
  },
  {
   "cell_type": "code",
   "execution_count": 10,
   "id": "44f814f7",
   "metadata": {},
   "outputs": [
    {
     "data": {
      "text/html": [
       "<div>\n",
       "<style scoped>\n",
       "    .dataframe tbody tr th:only-of-type {\n",
       "        vertical-align: middle;\n",
       "    }\n",
       "\n",
       "    .dataframe tbody tr th {\n",
       "        vertical-align: top;\n",
       "    }\n",
       "\n",
       "    .dataframe thead th {\n",
       "        text-align: right;\n",
       "    }\n",
       "</style>\n",
       "<table border=\"1\" class=\"dataframe\">\n",
       "  <thead>\n",
       "    <tr style=\"text-align: right;\">\n",
       "      <th></th>\n",
       "      <th>mileage</th>\n",
       "      <th>model</th>\n",
       "      <th>price</th>\n",
       "      <th>year</th>\n",
       "      <th>my_car_damage</th>\n",
       "      <th>other_car_damage</th>\n",
       "    </tr>\n",
       "  </thead>\n",
       "  <tbody>\n",
       "    <tr>\n",
       "      <th>0</th>\n",
       "      <td>63608</td>\n",
       "      <td>K3</td>\n",
       "      <td>970</td>\n",
       "      <td>2017</td>\n",
       "      <td>0</td>\n",
       "      <td>564596</td>\n",
       "    </tr>\n",
       "    <tr>\n",
       "      <th>1</th>\n",
       "      <td>69336</td>\n",
       "      <td>K3</td>\n",
       "      <td>1130</td>\n",
       "      <td>2015</td>\n",
       "      <td>1839700</td>\n",
       "      <td>1140150</td>\n",
       "    </tr>\n",
       "    <tr>\n",
       "      <th>2</th>\n",
       "      <td>36000</td>\n",
       "      <td>K3</td>\n",
       "      <td>1380</td>\n",
       "      <td>2016</td>\n",
       "      <td>446520</td>\n",
       "      <td>2244910</td>\n",
       "    </tr>\n",
       "    <tr>\n",
       "      <th>3</th>\n",
       "      <td>19029</td>\n",
       "      <td>K3</td>\n",
       "      <td>1390</td>\n",
       "      <td>2017</td>\n",
       "      <td>889000</td>\n",
       "      <td>4196110</td>\n",
       "    </tr>\n",
       "    <tr>\n",
       "      <th>4</th>\n",
       "      <td>97090</td>\n",
       "      <td>K3</td>\n",
       "      <td>760</td>\n",
       "      <td>2015</td>\n",
       "      <td>2339137</td>\n",
       "      <td>2029570</td>\n",
       "    </tr>\n",
       "  </tbody>\n",
       "</table>\n",
       "</div>"
      ],
      "text/plain": [
       "   mileage model  price  year  my_car_damage  other_car_damage\n",
       "0    63608    K3    970  2017              0            564596\n",
       "1    69336    K3   1130  2015        1839700           1140150\n",
       "2    36000    K3   1380  2016         446520           2244910\n",
       "3    19029    K3   1390  2017         889000           4196110\n",
       "4    97090    K3    760  2015        2339137           2029570"
      ]
     },
     "execution_count": 10,
     "metadata": {},
     "output_type": "execute_result"
    }
   ],
   "source": [
    "df.head()\n",
    "# 중고차 가격 데이터\n",
    "# mileage: 주행거리(Km)\n",
    "# model: 모델(K3, 아반떼)\n",
    "# price: 가격(만원)\n",
    "# year: 연식\n",
    "# my_car_damage: 내 차 피해액(원)\n",
    "# other_car_damage: 다른 차 피해액(원)"
   ]
  },
  {
   "cell_type": "code",
   "execution_count": 11,
   "id": "a756fbbc",
   "metadata": {},
   "outputs": [
    {
     "data": {
      "text/plain": [
       "853.6605839416059"
      ]
     },
     "execution_count": 11,
     "metadata": {},
     "output_type": "execute_result"
    }
   ],
   "source": [
    "df.price.mean() # 가격의 평균"
   ]
  },
  {
   "cell_type": "code",
   "execution_count": 12,
   "id": "2e8603d0",
   "metadata": {},
   "outputs": [
    {
     "data": {
      "text/plain": [
       "805.0"
      ]
     },
     "execution_count": 12,
     "metadata": {},
     "output_type": "execute_result"
    }
   ],
   "source": [
    "df.price.median() # 가격의 중간값"
   ]
  },
  {
   "cell_type": "code",
   "execution_count": 13,
   "id": "c8a1d53a",
   "metadata": {},
   "outputs": [
    {
     "data": {
      "text/plain": [
       "True"
      ]
     },
     "execution_count": 13,
     "metadata": {},
     "output_type": "execute_result"
    }
   ],
   "source": [
    "df.price.median() == df['price'].median()"
   ]
  },
  {
   "cell_type": "code",
   "execution_count": 14,
   "id": "c349be39",
   "metadata": {},
   "outputs": [
    {
     "data": {
      "text/plain": [
       "Avante    205\n",
       "K3         69\n",
       "Name: model, dtype: int64"
      ]
     },
     "execution_count": 14,
     "metadata": {},
     "output_type": "execute_result"
    }
   ],
   "source": [
    "df.model.value_counts()"
   ]
  },
  {
   "cell_type": "code",
   "execution_count": 15,
   "id": "ef754172",
   "metadata": {},
   "outputs": [
    {
     "name": "stdout",
     "output_type": "stream",
     "text": [
      "마일리지    평균: 77483.22  /  중앙값: 71649.0\n",
      "내 차 데미지    평균: 2319452.67  /  중앙값: 1100410.0\n",
      "다른 차 데미지    평균: 1807992.34  /  중앙값: 398619.0\n"
     ]
    }
   ],
   "source": [
    "## 실습\n",
    "print('마일리지   ','평균:',round(df['mileage'].mean(),2),' / ', '중앙값:',df['mileage'].median() )\n",
    "print('내 차 데미지   ','평균:',round(df['my_car_damage'].mean(),2),' / ', '중앙값:', df['my_car_damage'].median())\n",
    "print('다른 차 데미지   ','평균:',round(df['other_car_damage'].mean(),2),' / ', '중앙값:', df['other_car_damage'].median())"
   ]
  },
  {
   "cell_type": "code",
   "execution_count": 16,
   "id": "cf98faf0",
   "metadata": {},
   "outputs": [
    {
     "data": {
      "text/html": [
       "<div>\n",
       "<style scoped>\n",
       "    .dataframe tbody tr th:only-of-type {\n",
       "        vertical-align: middle;\n",
       "    }\n",
       "\n",
       "    .dataframe tbody tr th {\n",
       "        vertical-align: top;\n",
       "    }\n",
       "\n",
       "    .dataframe thead th {\n",
       "        text-align: right;\n",
       "    }\n",
       "</style>\n",
       "<table border=\"1\" class=\"dataframe\">\n",
       "  <thead>\n",
       "    <tr style=\"text-align: right;\">\n",
       "      <th></th>\n",
       "      <th>mileage</th>\n",
       "      <th>price</th>\n",
       "      <th>year</th>\n",
       "      <th>my_car_damage</th>\n",
       "      <th>other_car_damage</th>\n",
       "    </tr>\n",
       "  </thead>\n",
       "  <tbody>\n",
       "    <tr>\n",
       "      <th>count</th>\n",
       "      <td>274.000000</td>\n",
       "      <td>274.000000</td>\n",
       "      <td>274.000000</td>\n",
       "      <td>2.740000e+02</td>\n",
       "      <td>2.740000e+02</td>\n",
       "    </tr>\n",
       "    <tr>\n",
       "      <th>mean</th>\n",
       "      <td>77483.222628</td>\n",
       "      <td>853.660584</td>\n",
       "      <td>2013.273723</td>\n",
       "      <td>2.319453e+06</td>\n",
       "      <td>1.807992e+06</td>\n",
       "    </tr>\n",
       "    <tr>\n",
       "      <th>std</th>\n",
       "      <td>43015.794453</td>\n",
       "      <td>332.613127</td>\n",
       "      <td>2.589406</td>\n",
       "      <td>3.080107e+06</td>\n",
       "      <td>4.655390e+06</td>\n",
       "    </tr>\n",
       "    <tr>\n",
       "      <th>min</th>\n",
       "      <td>2287.000000</td>\n",
       "      <td>190.000000</td>\n",
       "      <td>2006.000000</td>\n",
       "      <td>0.000000e+00</td>\n",
       "      <td>0.000000e+00</td>\n",
       "    </tr>\n",
       "    <tr>\n",
       "      <th>25%</th>\n",
       "      <td>47597.500000</td>\n",
       "      <td>620.000000</td>\n",
       "      <td>2011.000000</td>\n",
       "      <td>0.000000e+00</td>\n",
       "      <td>0.000000e+00</td>\n",
       "    </tr>\n",
       "    <tr>\n",
       "      <th>50%</th>\n",
       "      <td>71649.000000</td>\n",
       "      <td>805.000000</td>\n",
       "      <td>2014.000000</td>\n",
       "      <td>1.100410e+06</td>\n",
       "      <td>3.986190e+05</td>\n",
       "    </tr>\n",
       "    <tr>\n",
       "      <th>75%</th>\n",
       "      <td>103193.750000</td>\n",
       "      <td>1090.000000</td>\n",
       "      <td>2015.000000</td>\n",
       "      <td>3.002840e+06</td>\n",
       "      <td>1.640666e+06</td>\n",
       "    </tr>\n",
       "    <tr>\n",
       "      <th>max</th>\n",
       "      <td>310000.000000</td>\n",
       "      <td>1820.000000</td>\n",
       "      <td>2018.000000</td>\n",
       "      <td>1.536732e+07</td>\n",
       "      <td>5.510890e+07</td>\n",
       "    </tr>\n",
       "  </tbody>\n",
       "</table>\n",
       "</div>"
      ],
      "text/plain": [
       "             mileage        price         year  my_car_damage  \\\n",
       "count     274.000000   274.000000   274.000000   2.740000e+02   \n",
       "mean    77483.222628   853.660584  2013.273723   2.319453e+06   \n",
       "std     43015.794453   332.613127     2.589406   3.080107e+06   \n",
       "min      2287.000000   190.000000  2006.000000   0.000000e+00   \n",
       "25%     47597.500000   620.000000  2011.000000   0.000000e+00   \n",
       "50%     71649.000000   805.000000  2014.000000   1.100410e+06   \n",
       "75%    103193.750000  1090.000000  2015.000000   3.002840e+06   \n",
       "max    310000.000000  1820.000000  2018.000000   1.536732e+07   \n",
       "\n",
       "       other_car_damage  \n",
       "count      2.740000e+02  \n",
       "mean       1.807992e+06  \n",
       "std        4.655390e+06  \n",
       "min        0.000000e+00  \n",
       "25%        0.000000e+00  \n",
       "50%        3.986190e+05  \n",
       "75%        1.640666e+06  \n",
       "max        5.510890e+07  "
      ]
     },
     "execution_count": 16,
     "metadata": {},
     "output_type": "execute_result"
    }
   ],
   "source": [
    "df.mileage.mean() # 주행거리 평균\n",
    "df['mileage'].median() # 주행거리 중간값\n",
    "df.describe()  # 한 번에 기술통계 구하기"
   ]
  },
  {
   "cell_type": "code",
   "execution_count": 17,
   "id": "a44ca1a4",
   "metadata": {},
   "outputs": [
    {
     "data": {
      "text/plain": [
       "805.0"
      ]
     },
     "execution_count": 17,
     "metadata": {},
     "output_type": "execute_result"
    }
   ],
   "source": [
    "df.price.quantile(.5)"
   ]
  },
  {
   "cell_type": "code",
   "execution_count": 18,
   "id": "9c83ed0d",
   "metadata": {},
   "outputs": [
    {
     "data": {
      "text/plain": [
       "805.0"
      ]
     },
     "execution_count": 18,
     "metadata": {},
     "output_type": "execute_result"
    }
   ],
   "source": [
    "df.price.median()"
   ]
  },
  {
   "cell_type": "code",
   "execution_count": 19,
   "id": "d1b92fd5",
   "metadata": {},
   "outputs": [
    {
     "data": {
      "text/plain": [
       "129097.0"
      ]
     },
     "execution_count": 19,
     "metadata": {},
     "output_type": "execute_result"
    }
   ],
   "source": [
    "# mileage가 많은 걸로 상위 10%에 들어가려면 얼마 이상이 되어야 할까?\n",
    "round(df['mileage'].quantile(.9),2)"
   ]
  },
  {
   "cell_type": "code",
   "execution_count": 20,
   "id": "656a5b8f",
   "metadata": {},
   "outputs": [
    {
     "data": {
      "text/plain": [
       "(190, 1820)"
      ]
     },
     "execution_count": 20,
     "metadata": {},
     "output_type": "execute_result"
    }
   ],
   "source": [
    "df.price.min(), df.price.max() # (일상적인 의미에서) 범위"
   ]
  },
  {
   "cell_type": "code",
   "execution_count": 21,
   "id": "bdcbeafb",
   "metadata": {},
   "outputs": [
    {
     "data": {
      "text/plain": [
       "1630"
      ]
     },
     "execution_count": 21,
     "metadata": {},
     "output_type": "execute_result"
    }
   ],
   "source": [
    "df.price.max() - df.price.min() # (통계적인 의미에서) 범위"
   ]
  },
  {
   "cell_type": "code",
   "execution_count": 22,
   "id": "1df94954",
   "metadata": {},
   "outputs": [
    {
     "data": {
      "text/plain": [
       "470.0"
      ]
     },
     "execution_count": 22,
     "metadata": {},
     "output_type": "execute_result"
    }
   ],
   "source": [
    "df.price.quantile(.75) - df.price.quantile(.25) # 사분위간 범위(IQR)"
   ]
  },
  {
   "cell_type": "code",
   "execution_count": 23,
   "id": "5b84b82f",
   "metadata": {},
   "outputs": [
    {
     "data": {
      "text/plain": [
       "<AxesSubplot:xlabel='price'>"
      ]
     },
     "execution_count": 23,
     "metadata": {},
     "output_type": "execute_result"
    },
    {
     "data": {
      "image/png": "[encoded data removed]",
      "text/plain": [
       "<Figure size 640x480 with 1 Axes>"
      ]
     },
     "metadata": {},
     "output_type": "display_data"
    }
   ],
   "source": [
    "import seaborn as sns\n",
    "sns.boxplot(data = df, x = 'price')"
   ]
  },
  {
   "cell_type": "code",
   "execution_count": 24,
   "id": "d552e65d",
   "metadata": {},
   "outputs": [
    {
     "data": {
      "text/plain": [
       "<AxesSubplot:xlabel='price', ylabel='model'>"
      ]
     },
     "execution_count": 24,
     "metadata": {},
     "output_type": "execute_result"
    },
    {
     "data": {
      "image/png": "[encoded data removed]",
      "text/plain": [
       "<Figure size 640x480 with 1 Axes>"
      ]
     },
     "metadata": {},
     "output_type": "display_data"
    }
   ],
   "source": [
    "sns.boxplot(data = df, x = 'price', y = 'model')"
   ]
  },
  {
   "cell_type": "code",
   "execution_count": 25,
   "id": "61eea30e",
   "metadata": {
    "scrolled": true
   },
   "outputs": [
    {
     "data": {
      "text/plain": [
       "<AxesSubplot:xlabel='mileage', ylabel='model'>"
      ]
     },
     "execution_count": 25,
     "metadata": {},
     "output_type": "execute_result"
    },
    {
     "data": {
      "image/png": "[encoded data removed]",
      "text/plain": [
       "<Figure size 640x480 with 1 Axes>"
      ]
     },
     "metadata": {},
     "output_type": "display_data"
    }
   ],
   "source": [
    "sns.violinplot(data = df,  x = 'mileage',  y = 'model')"
   ]
  },
  {
   "cell_type": "code",
   "execution_count": 26,
   "id": "fce4a59d",
   "metadata": {},
   "outputs": [
    {
     "data": {
      "text/plain": [
       "110631.49243335734"
      ]
     },
     "execution_count": 26,
     "metadata": {},
     "output_type": "execute_result"
    }
   ],
   "source": [
    "df.price.var() # 분산"
   ]
  },
  {
   "cell_type": "code",
   "execution_count": 27,
   "id": "df1ceeb0",
   "metadata": {},
   "outputs": [
    {
     "data": {
      "text/plain": [
       "332.6131272715455"
      ]
     },
     "execution_count": 27,
     "metadata": {},
     "output_type": "execute_result"
    }
   ],
   "source": [
    "df.price.std() # 표준 편차"
   ]
  },
  {
   "cell_type": "code",
   "execution_count": 28,
   "id": "f473ff72",
   "metadata": {},
   "outputs": [
    {
     "name": "stdout",
     "output_type": "stream",
     "text": [
      "mileage의 분산 :  1850358572.437435\n",
      "mileage의 표준편차 :  43015.79445317075\n"
     ]
    },
    {
     "data": {
      "text/plain": [
       "43015.79445317075"
      ]
     },
     "execution_count": 28,
     "metadata": {},
     "output_type": "execute_result"
    }
   ],
   "source": [
    "print('mileage의 분산 : ', df['mileage'].var())\n",
    "print('mileage의 표준편차 : ', df['mileage'].std())\n",
    "np.sqrt(df['mileage'].var()) # 표춘편차는 분산의 제곱근\n"
   ]
  },
  {
   "cell_type": "code",
   "execution_count": 29,
   "id": "2383fd4e",
   "metadata": {
    "scrolled": true
   },
   "outputs": [
    {
     "data": {
      "text/plain": [
       "<AxesSubplot:xlabel='price', ylabel='Count'>"
      ]
     },
     "execution_count": 29,
     "metadata": {},
     "output_type": "execute_result"
    },
    {
     "data": {
      "image/png": "[encoded data removed]",
      "text/plain": [
       "<Figure size 640x480 with 1 Axes>"
      ]
     },
     "metadata": {},
     "output_type": "display_data"
    }
   ],
   "source": [
    "sns.histplot(data = df, x = 'price')"
   ]
  },
  {
   "cell_type": "code",
   "execution_count": 30,
   "id": "9298e497",
   "metadata": {},
   "outputs": [
    {
     "data": {
      "text/plain": [
       "<AxesSubplot:xlabel='price', ylabel='Count'>"
      ]
     },
     "execution_count": 30,
     "metadata": {},
     "output_type": "execute_result"
    },
    {
     "data": {
      "image/png": "[encoded data removed]",
      "text/plain": [
       "<Figure size 640x480 with 1 Axes>"
      ]
     },
     "metadata": {},
     "output_type": "display_data"
    }
   ],
   "source": [
    "sns.histplot(data = df, x = 'price', bins = 30,  kde = True)"
   ]
  },
  {
   "cell_type": "code",
   "execution_count": 31,
   "id": "36bbbceb",
   "metadata": {},
   "outputs": [
    {
     "data": {
      "text/plain": [
       "<AxesSubplot:xlabel='price', ylabel='Count'>"
      ]
     },
     "execution_count": 31,
     "metadata": {},
     "output_type": "execute_result"
    },
    {
     "data": {
      "image/png": "[encoded data removed]",
      "text/plain": [
       "<Figure size 640x480 with 1 Axes>"
      ]
     },
     "metadata": {},
     "output_type": "display_data"
    }
   ],
   "source": [
    "sns.histplot(data = df, x = 'price', bins = [0,500,1000,1500,2000,2500])"
   ]
  },
  {
   "cell_type": "code",
   "execution_count": 32,
   "id": "bf22b410",
   "metadata": {},
   "outputs": [
    {
     "data": {
      "image/png": "[encoded data removed]",
      "text/plain": [
       "<Figure size 640x480 with 1 Axes>"
      ]
     },
     "metadata": {},
     "output_type": "display_data"
    }
   ],
   "source": [
    "xs =  list(range(200,2100,200))\n",
    "sns.histplot(data = df, x = 'price', bins = xs);"
   ]
  },
  {
   "cell_type": "code",
   "execution_count": 33,
   "id": "706c5bf9",
   "metadata": {},
   "outputs": [
    {
     "data": {
      "image/png": "[encoded data removed]",
      "text/plain": [
       "<Figure size 640x480 with 1 Axes>"
      ]
     },
     "metadata": {},
     "output_type": "display_data"
    }
   ],
   "source": [
    "xs =  list(range(200,2100,200))\n",
    "sns.histplot(data = df, x = 'price', bins = xs)\n",
    "plt.xticks(xs);"
   ]
  },
  {
   "cell_type": "code",
   "execution_count": 34,
   "id": "8e3ecfb6",
   "metadata": {},
   "outputs": [
    {
     "data": {
      "text/html": [
       "<div>\n",
       "<style scoped>\n",
       "    .dataframe tbody tr th:only-of-type {\n",
       "        vertical-align: middle;\n",
       "    }\n",
       "\n",
       "    .dataframe tbody tr th {\n",
       "        vertical-align: top;\n",
       "    }\n",
       "\n",
       "    .dataframe thead th {\n",
       "        text-align: right;\n",
       "    }\n",
       "</style>\n",
       "<table border=\"1\" class=\"dataframe\">\n",
       "  <thead>\n",
       "    <tr style=\"text-align: right;\">\n",
       "      <th></th>\n",
       "      <th>mileage</th>\n",
       "      <th>price</th>\n",
       "      <th>year</th>\n",
       "      <th>my_car_damage</th>\n",
       "      <th>other_car_damage</th>\n",
       "    </tr>\n",
       "  </thead>\n",
       "  <tbody>\n",
       "    <tr>\n",
       "      <th>count</th>\n",
       "      <td>274.000000</td>\n",
       "      <td>274.000000</td>\n",
       "      <td>274.000000</td>\n",
       "      <td>2.740000e+02</td>\n",
       "      <td>2.740000e+02</td>\n",
       "    </tr>\n",
       "    <tr>\n",
       "      <th>mean</th>\n",
       "      <td>77483.222628</td>\n",
       "      <td>853.660584</td>\n",
       "      <td>2013.273723</td>\n",
       "      <td>2.319453e+06</td>\n",
       "      <td>1.807992e+06</td>\n",
       "    </tr>\n",
       "    <tr>\n",
       "      <th>std</th>\n",
       "      <td>43015.794453</td>\n",
       "      <td>332.613127</td>\n",
       "      <td>2.589406</td>\n",
       "      <td>3.080107e+06</td>\n",
       "      <td>4.655390e+06</td>\n",
       "    </tr>\n",
       "    <tr>\n",
       "      <th>min</th>\n",
       "      <td>2287.000000</td>\n",
       "      <td>190.000000</td>\n",
       "      <td>2006.000000</td>\n",
       "      <td>0.000000e+00</td>\n",
       "      <td>0.000000e+00</td>\n",
       "    </tr>\n",
       "    <tr>\n",
       "      <th>25%</th>\n",
       "      <td>47597.500000</td>\n",
       "      <td>620.000000</td>\n",
       "      <td>2011.000000</td>\n",
       "      <td>0.000000e+00</td>\n",
       "      <td>0.000000e+00</td>\n",
       "    </tr>\n",
       "    <tr>\n",
       "      <th>50%</th>\n",
       "      <td>71649.000000</td>\n",
       "      <td>805.000000</td>\n",
       "      <td>2014.000000</td>\n",
       "      <td>1.100410e+06</td>\n",
       "      <td>3.986190e+05</td>\n",
       "    </tr>\n",
       "    <tr>\n",
       "      <th>75%</th>\n",
       "      <td>103193.750000</td>\n",
       "      <td>1090.000000</td>\n",
       "      <td>2015.000000</td>\n",
       "      <td>3.002840e+06</td>\n",
       "      <td>1.640666e+06</td>\n",
       "    </tr>\n",
       "    <tr>\n",
       "      <th>max</th>\n",
       "      <td>310000.000000</td>\n",
       "      <td>1820.000000</td>\n",
       "      <td>2018.000000</td>\n",
       "      <td>1.536732e+07</td>\n",
       "      <td>5.510890e+07</td>\n",
       "    </tr>\n",
       "  </tbody>\n",
       "</table>\n",
       "</div>"
      ],
      "text/plain": [
       "             mileage        price         year  my_car_damage  \\\n",
       "count     274.000000   274.000000   274.000000   2.740000e+02   \n",
       "mean    77483.222628   853.660584  2013.273723   2.319453e+06   \n",
       "std     43015.794453   332.613127     2.589406   3.080107e+06   \n",
       "min      2287.000000   190.000000  2006.000000   0.000000e+00   \n",
       "25%     47597.500000   620.000000  2011.000000   0.000000e+00   \n",
       "50%     71649.000000   805.000000  2014.000000   1.100410e+06   \n",
       "75%    103193.750000  1090.000000  2015.000000   3.002840e+06   \n",
       "max    310000.000000  1820.000000  2018.000000   1.536732e+07   \n",
       "\n",
       "       other_car_damage  \n",
       "count      2.740000e+02  \n",
       "mean       1.807992e+06  \n",
       "std        4.655390e+06  \n",
       "min        0.000000e+00  \n",
       "25%        0.000000e+00  \n",
       "50%        3.986190e+05  \n",
       "75%        1.640666e+06  \n",
       "max        5.510890e+07  "
      ]
     },
     "execution_count": 34,
     "metadata": {},
     "output_type": "execute_result"
    }
   ],
   "source": [
    "df.describe()"
   ]
  },
  {
   "cell_type": "code",
   "execution_count": 38,
   "id": "3d8e68f4",
   "metadata": {},
   "outputs": [],
   "source": [
    "import pingouin as pg\n",
    "# pip install pingouin"
   ]
  },
  {
   "cell_type": "code",
   "execution_count": 39,
   "id": "4b91ca7e",
   "metadata": {},
   "outputs": [
    {
     "data": {
      "text/html": [
       "<div>\n",
       "<style scoped>\n",
       "    .dataframe tbody tr th:only-of-type {\n",
       "        vertical-align: middle;\n",
       "    }\n",
       "\n",
       "    .dataframe tbody tr th {\n",
       "        vertical-align: top;\n",
       "    }\n",
       "\n",
       "    .dataframe thead th {\n",
       "        text-align: right;\n",
       "    }\n",
       "</style>\n",
       "<table border=\"1\" class=\"dataframe\">\n",
       "  <thead>\n",
       "    <tr style=\"text-align: right;\">\n",
       "      <th></th>\n",
       "      <th>T</th>\n",
       "      <th>dof</th>\n",
       "      <th>alternative</th>\n",
       "      <th>p-val</th>\n",
       "      <th>CI95%</th>\n",
       "      <th>cohen-d</th>\n",
       "      <th>BF10</th>\n",
       "      <th>power</th>\n",
       "    </tr>\n",
       "  </thead>\n",
       "  <tbody>\n",
       "    <tr>\n",
       "      <th>T-test</th>\n",
       "      <td>42.483582</td>\n",
       "      <td>273</td>\n",
       "      <td>two-sided</td>\n",
       "      <td>2.486212e-122</td>\n",
       "      <td>[814.1, 893.22]</td>\n",
       "      <td>2.566527</td>\n",
       "      <td>2.773e+118</td>\n",
       "      <td>1.0</td>\n",
       "    </tr>\n",
       "  </tbody>\n",
       "</table>\n",
       "</div>"
      ],
      "text/plain": [
       "                T  dof alternative          p-val            CI95%   cohen-d  \\\n",
       "T-test  42.483582  273   two-sided  2.486212e-122  [814.1, 893.22]  2.566527   \n",
       "\n",
       "              BF10  power  \n",
       "T-test  2.773e+118    1.0  "
      ]
     },
     "execution_count": 39,
     "metadata": {},
     "output_type": "execute_result"
    }
   ],
   "source": [
    "pg.ttest(df.price, 0, confidence = 0.95) # 평균의 95% 신뢰구간"
   ]
  },
  {
   "cell_type": "code",
   "execution_count": 52,
   "id": "6d45ce94",
   "metadata": {},
   "outputs": [
    {
     "name": "stdout",
     "output_type": "stream",
     "text": [
      "mileage의 95% 신뢰구간 :  T-test    [72367.22, 82599.22]\n",
      "Name: CI95%, dtype: object\n",
      "mileage의 99% 신뢰구간 :  T-test    [70742.35856441465, 84224.0866910598]\n",
      "Name: CI99%, dtype: object\n"
     ]
    }
   ],
   "source": [
    "print('mileage의 95% 신뢰구간 : ', pg.ttest(df['mileage'], 0, confidence = 0.95)['CI95%'])\n",
    "print('mileage의 99% 신뢰구간 : ', pg.ttest(df['mileage'], 0, confidence = 0.99)['CI99%'])"
   ]
  },
  {
   "cell_type": "code",
   "execution_count": 54,
   "id": "bce87562",
   "metadata": {},
   "outputs": [
    {
     "data": {
      "text/html": [
       "<div>\n",
       "<style scoped>\n",
       "    .dataframe tbody tr th:only-of-type {\n",
       "        vertical-align: middle;\n",
       "    }\n",
       "\n",
       "    .dataframe tbody tr th {\n",
       "        vertical-align: top;\n",
       "    }\n",
       "\n",
       "    .dataframe thead th {\n",
       "        text-align: right;\n",
       "    }\n",
       "</style>\n",
       "<table border=\"1\" class=\"dataframe\">\n",
       "  <thead>\n",
       "    <tr style=\"text-align: right;\">\n",
       "      <th></th>\n",
       "      <th>T</th>\n",
       "      <th>dof</th>\n",
       "      <th>alternative</th>\n",
       "      <th>p-val</th>\n",
       "      <th>CI95%</th>\n",
       "      <th>cohen-d</th>\n",
       "      <th>BF10</th>\n",
       "      <th>power</th>\n",
       "    </tr>\n",
       "  </thead>\n",
       "  <tbody>\n",
       "    <tr>\n",
       "      <th>0</th>\n",
       "      <td>33.011035</td>\n",
       "      <td>204</td>\n",
       "      <td>two-sided</td>\n",
       "      <td>9.072793e-84</td>\n",
       "      <td>[783.64, 883.19]</td>\n",
       "      <td>2.305591</td>\n",
       "      <td>1.149e+80</td>\n",
       "      <td>1.0</td>\n",
       "    </tr>\n",
       "  </tbody>\n",
       "</table>\n",
       "</div>"
      ],
      "text/plain": [
       "           T  dof alternative         p-val             CI95%   cohen-d  \\\n",
       "0  33.011035  204   two-sided  9.072793e-84  [783.64, 883.19]  2.305591   \n",
       "\n",
       "        BF10  power  \n",
       "0  1.149e+80    1.0  "
      ]
     },
     "execution_count": 54,
     "metadata": {},
     "output_type": "execute_result"
    }
   ],
   "source": [
    "pg.ttest(df[df['model'] == 'Avante']['price'], 0, confidence = 0.95).reset_index(drop = True)"
   ]
  },
  {
   "cell_type": "code",
   "execution_count": 58,
   "id": "8ae1ebda",
   "metadata": {},
   "outputs": [
    {
     "name": "stdout",
     "output_type": "stream",
     "text": [
      "Avante :  T-test    [783.64, 883.19]\n",
      "Name: CI95%, dtype: object\n",
      "K3 :  T-test    [861.59, 966.03]\n",
      "Name: CI95%, dtype: object\n"
     ]
    }
   ],
   "source": [
    "print('Avante : ', pg.ttest(df[df['model'] == 'Avante']['price'], 0, confidence = 0.95)['CI95%'])\n",
    "print('K3 : ', pg.ttest(df[df['model'] == 'K3']['price'], 0, confidence = 0.95)['CI95%'])"
   ]
  },
  {
   "cell_type": "code",
   "execution_count": 59,
   "id": "689e3c58",
   "metadata": {},
   "outputs": [
    {
     "data": {
      "text/plain": [
       "BootstrapResult(confidence_interval=ConfidenceInterval(low=815.3915900670546, high=893.8596741305391), standard_error=19.962034555934952)"
      ]
     },
     "execution_count": 59,
     "metadata": {},
     "output_type": "execute_result"
    }
   ],
   "source": [
    "import scipy\n",
    "import numpy as np\n",
    "scipy.stats.bootstrap([df['price']], np.mean)"
   ]
  },
  {
   "cell_type": "code",
   "execution_count": 63,
   "id": "e882306b",
   "metadata": {},
   "outputs": [],
   "source": [
    "# 통계 이론을 이용해서 구한 평균의 95% 신뢰구간:      814.1, 893.22\n",
    "# 부트스트랩(시뮬레이션)으로 구한 평균의 95% 신뢰구간: 815.1, 892.5"
   ]
  },
  {
   "cell_type": "code",
   "execution_count": 61,
   "id": "468d98dd",
   "metadata": {},
   "outputs": [
    {
     "data": {
      "text/plain": [
       "BootstrapResult(confidence_interval=ConfidenceInterval(low=770.0, high=860.0), standard_error=22.580646326530278)"
      ]
     },
     "execution_count": 61,
     "metadata": {},
     "output_type": "execute_result"
    }
   ],
   "source": [
    "scipy.stats.bootstrap([df['price']], np.median)\n",
    "# 부트스트랩을 활용한 중간값의 95% 신뢰구간 구하기"
   ]
  },
  {
   "cell_type": "code",
   "execution_count": 62,
   "id": "50081a4c",
   "metadata": {},
   "outputs": [
    {
     "data": {
      "text/plain": [
       "805.0"
      ]
     },
     "execution_count": 62,
     "metadata": {},
     "output_type": "execute_result"
    }
   ],
   "source": [
    "df['price'].median()"
   ]
  },
  {
   "cell_type": "code",
   "execution_count": 64,
   "id": "f0ebdbd8",
   "metadata": {},
   "outputs": [
    {
     "data": {
      "text/plain": [
       "3.0990321069650117"
      ]
     },
     "execution_count": 64,
     "metadata": {},
     "output_type": "execute_result"
    }
   ],
   "source": [
    "196 * 0.5 / np.sqrt(1000) # 1000명을 조사했을 때 오차범위 %p"
   ]
  },
  {
   "cell_type": "code",
   "execution_count": 65,
   "id": "bc00a899",
   "metadata": {},
   "outputs": [
    {
     "data": {
      "text/plain": [
       "4.887795746927401"
      ]
     },
     "execution_count": 65,
     "metadata": {},
     "output_type": "execute_result"
    }
   ],
   "source": [
    "196 * 0.5 / np.sqrt(402) # 402명을 조사했을 때 오차범위 %p"
   ]
  },
  {
   "cell_type": "code",
   "execution_count": 68,
   "id": "a6d3785f",
   "metadata": {},
   "outputs": [
    {
     "data": {
      "text/plain": [
       "9604.0"
      ]
     },
     "execution_count": 68,
     "metadata": {},
     "output_type": "execute_result"
    }
   ],
   "source": [
    "오차범위 = 1  # 퍼센트 포인트\n",
    "인원수= (98 / 오차범위)**2\n",
    "인원수"
   ]
  },
  {
   "cell_type": "code",
   "execution_count": 223,
   "id": "26411466",
   "metadata": {},
   "outputs": [
    {
     "data": {
      "text/html": [
       "<div>\n",
       "<style scoped>\n",
       "    .dataframe tbody tr th:only-of-type {\n",
       "        vertical-align: middle;\n",
       "    }\n",
       "\n",
       "    .dataframe tbody tr th {\n",
       "        vertical-align: top;\n",
       "    }\n",
       "\n",
       "    .dataframe thead th {\n",
       "        text-align: right;\n",
       "    }\n",
       "</style>\n",
       "<table border=\"1\" class=\"dataframe\">\n",
       "  <thead>\n",
       "    <tr style=\"text-align: right;\">\n",
       "      <th></th>\n",
       "      <th>T</th>\n",
       "      <th>dof</th>\n",
       "      <th>alternative</th>\n",
       "      <th>p-val</th>\n",
       "      <th>CI95%</th>\n",
       "      <th>cohen-d</th>\n",
       "      <th>BF10</th>\n",
       "      <th>power</th>\n",
       "    </tr>\n",
       "  </thead>\n",
       "  <tbody>\n",
       "    <tr>\n",
       "      <th>T-test</th>\n",
       "      <td>-2.306144</td>\n",
       "      <td>273</td>\n",
       "      <td>two-sided</td>\n",
       "      <td>0.021852</td>\n",
       "      <td>[814.1, 893.22]</td>\n",
       "      <td>0.139319</td>\n",
       "      <td>0.917</td>\n",
       "      <td>0.632352</td>\n",
       "    </tr>\n",
       "  </tbody>\n",
       "</table>\n",
       "</div>"
      ],
      "text/plain": [
       "               T  dof alternative     p-val            CI95%   cohen-d   BF10  \\\n",
       "T-test -2.306144  273   two-sided  0.021852  [814.1, 893.22]  0.139319  0.917   \n",
       "\n",
       "           power  \n",
       "T-test  0.632352  "
      ]
     },
     "execution_count": 223,
     "metadata": {},
     "output_type": "execute_result"
    }
   ],
   "source": [
    "pg.ttest(df.price, 900) # 귀무가설(앖애버릴거야!) 모평균 = 900\n",
    "# p-val(0.021852) < 유의수즌(0.05) : 부숴버려!"
   ]
  },
  {
   "cell_type": "code",
   "execution_count": 71,
   "id": "4d1b2ee6",
   "metadata": {},
   "outputs": [
    {
     "data": {
      "text/plain": [
       "True"
      ]
     },
     "execution_count": 71,
     "metadata": {},
     "output_type": "execute_result"
    }
   ],
   "source": [
    "p = 0.021852\n",
    "유의수준 = 0.05\n",
    "p < 유의수준"
   ]
  },
  {
   "cell_type": "code",
   "execution_count": 73,
   "id": "c2a9eb63",
   "metadata": {},
   "outputs": [
    {
     "data": {
      "text/html": [
       "<div>\n",
       "<style scoped>\n",
       "    .dataframe tbody tr th:only-of-type {\n",
       "        vertical-align: middle;\n",
       "    }\n",
       "\n",
       "    .dataframe tbody tr th {\n",
       "        vertical-align: top;\n",
       "    }\n",
       "\n",
       "    .dataframe thead th {\n",
       "        text-align: right;\n",
       "    }\n",
       "</style>\n",
       "<table border=\"1\" class=\"dataframe\">\n",
       "  <thead>\n",
       "    <tr style=\"text-align: right;\">\n",
       "      <th></th>\n",
       "      <th>department</th>\n",
       "      <th>job_level</th>\n",
       "      <th>marriage</th>\n",
       "      <th>rating</th>\n",
       "      <th>overtime</th>\n",
       "    </tr>\n",
       "  </thead>\n",
       "  <tbody>\n",
       "    <tr>\n",
       "      <th>0</th>\n",
       "      <td>Sales</td>\n",
       "      <td>Salaried</td>\n",
       "      <td>single</td>\n",
       "      <td>4</td>\n",
       "      <td>14</td>\n",
       "    </tr>\n",
       "    <tr>\n",
       "      <th>1</th>\n",
       "      <td>Engineering</td>\n",
       "      <td>Hourly</td>\n",
       "      <td>single</td>\n",
       "      <td>4</td>\n",
       "      <td>8</td>\n",
       "    </tr>\n",
       "  </tbody>\n",
       "</table>\n",
       "</div>"
      ],
      "text/plain": [
       "    department job_level marriage  rating  overtime\n",
       "0        Sales  Salaried   single       4        14\n",
       "1  Engineering    Hourly   single       4         8"
      ]
     },
     "execution_count": 73,
     "metadata": {},
     "output_type": "execute_result"
    }
   ],
   "source": [
    "hr = pd.read_excel('data/hr.xlsx')\n",
    "hr.head(2)"
   ]
  },
  {
   "cell_type": "code",
   "execution_count": 88,
   "id": "dc9d4be6",
   "metadata": {},
   "outputs": [
    {
     "data": {
      "text/plain": [
       "1.5395780953415657e-29"
      ]
     },
     "execution_count": 88,
     "metadata": {},
     "output_type": "execute_result"
    }
   ],
   "source": [
    "p_val = pg.ttest(hr['overtime'], 12).loc['T-test','p-val']\n",
    "p_val"
   ]
  },
  {
   "cell_type": "code",
   "execution_count": 89,
   "id": "d18508fe",
   "metadata": {},
   "outputs": [
    {
     "data": {
      "text/plain": [
       "True"
      ]
     },
     "execution_count": 89,
     "metadata": {},
     "output_type": "execute_result"
    }
   ],
   "source": [
    "유의수준 = 0.05\n",
    "p_val < 유의수준"
   ]
  },
  {
   "cell_type": "code",
   "execution_count": 90,
   "id": "d5a02e95",
   "metadata": {},
   "outputs": [
    {
     "data": {
      "text/html": [
       "<div>\n",
       "<style scoped>\n",
       "    .dataframe tbody tr th:only-of-type {\n",
       "        vertical-align: middle;\n",
       "    }\n",
       "\n",
       "    .dataframe tbody tr th {\n",
       "        vertical-align: top;\n",
       "    }\n",
       "\n",
       "    .dataframe thead th {\n",
       "        text-align: right;\n",
       "    }\n",
       "</style>\n",
       "<table border=\"1\" class=\"dataframe\">\n",
       "  <thead>\n",
       "    <tr style=\"text-align: right;\">\n",
       "      <th></th>\n",
       "      <th>T</th>\n",
       "      <th>dof</th>\n",
       "      <th>alternative</th>\n",
       "      <th>p-val</th>\n",
       "      <th>CI95%</th>\n",
       "      <th>cohen-d</th>\n",
       "      <th>BF10</th>\n",
       "      <th>power</th>\n",
       "    </tr>\n",
       "  </thead>\n",
       "  <tbody>\n",
       "    <tr>\n",
       "      <th>T-test</th>\n",
       "      <td>-2.21101</td>\n",
       "      <td>196.691919</td>\n",
       "      <td>two-sided</td>\n",
       "      <td>0.028187</td>\n",
       "      <td>[-152.11, -8.69]</td>\n",
       "      <td>0.242614</td>\n",
       "      <td>1.482</td>\n",
       "      <td>0.4119</td>\n",
       "    </tr>\n",
       "  </tbody>\n",
       "</table>\n",
       "</div>"
      ],
      "text/plain": [
       "              T         dof alternative     p-val             CI95%   cohen-d  \\\n",
       "T-test -2.21101  196.691919   two-sided  0.028187  [-152.11, -8.69]  0.242614   \n",
       "\n",
       "         BF10   power  \n",
       "T-test  1.482  0.4119  "
      ]
     },
     "execution_count": 90,
     "metadata": {},
     "output_type": "execute_result"
    }
   ],
   "source": [
    "# 귀무가설: Avante 와 K3\n",
    "Avante = df[df['model'] == 'Avante'].price\n",
    "K3 = df[df['model'] == 'K3'].price\n",
    "pg.ttest(Avante, K3)"
   ]
  },
  {
   "cell_type": "code",
   "execution_count": 91,
   "id": "018462b8",
   "metadata": {},
   "outputs": [
    {
     "data": {
      "text/plain": [
       "True"
      ]
     },
     "execution_count": 91,
     "metadata": {},
     "output_type": "execute_result"
    }
   ],
   "source": [
    "0.028187 < 0.05 # p < 유의수준 -> 귀무가설 기각 -> 평균에는 차이가 있긴 하다"
   ]
  },
  {
   "cell_type": "code",
   "execution_count": 92,
   "id": "ec412d9d",
   "metadata": {},
   "outputs": [],
   "source": [
    "# 평균 차이가 신뢰구간 -152.11 ~ -8.69\n",
    "# 모집단에서는 Avante 평균이 많으면 152먼원, 못해도 8만원은 싸다\n",
    "# 하여간 Avante 가 K3보다 싸다."
   ]
  },
  {
   "cell_type": "code",
   "execution_count": 93,
   "id": "a77bcbda",
   "metadata": {},
   "outputs": [
    {
     "data": {
      "text/html": [
       "<div>\n",
       "<style scoped>\n",
       "    .dataframe tbody tr th:only-of-type {\n",
       "        vertical-align: middle;\n",
       "    }\n",
       "\n",
       "    .dataframe tbody tr th {\n",
       "        vertical-align: top;\n",
       "    }\n",
       "\n",
       "    .dataframe thead th {\n",
       "        text-align: right;\n",
       "    }\n",
       "</style>\n",
       "<table border=\"1\" class=\"dataframe\">\n",
       "  <thead>\n",
       "    <tr style=\"text-align: right;\">\n",
       "      <th></th>\n",
       "      <th>T</th>\n",
       "      <th>dof</th>\n",
       "      <th>alternative</th>\n",
       "      <th>p-val</th>\n",
       "      <th>CI95%</th>\n",
       "      <th>cohen-d</th>\n",
       "      <th>BF10</th>\n",
       "      <th>power</th>\n",
       "    </tr>\n",
       "  </thead>\n",
       "  <tbody>\n",
       "    <tr>\n",
       "      <th>T-test</th>\n",
       "      <td>-0.114323</td>\n",
       "      <td>198</td>\n",
       "      <td>two-sided</td>\n",
       "      <td>0.909097</td>\n",
       "      <td>[-0.09, 0.08]</td>\n",
       "      <td>0.016168</td>\n",
       "      <td>0.155</td>\n",
       "      <td>0.051484</td>\n",
       "    </tr>\n",
       "  </tbody>\n",
       "</table>\n",
       "</div>"
      ],
      "text/plain": [
       "               T  dof alternative     p-val          CI95%   cohen-d   BF10  \\\n",
       "T-test -0.114323  198   two-sided  0.909097  [-0.09, 0.08]  0.016168  0.155   \n",
       "\n",
       "           power  \n",
       "T-test  0.051484  "
      ]
     },
     "execution_count": 93,
     "metadata": {},
     "output_type": "execute_result"
    }
   ],
   "source": [
    "x1 = np.random.random(100)\n",
    "x2 = np.random.random(100)\n",
    "pg.ttest(x1, x2)\n",
    "\n",
    "# 신뢰구간 -0.11 ~ 0 ~ 0.06 \n",
    "#  => p > 0.05 \n",
    "#  => 귀무가설 기각X \n",
    "#  => 통계적으로 유의한 차이가 없다"
   ]
  },
  {
   "cell_type": "code",
   "execution_count": 96,
   "id": "76b9fdc3",
   "metadata": {},
   "outputs": [
    {
     "data": {
      "text/html": [
       "<div>\n",
       "<style scoped>\n",
       "    .dataframe tbody tr th:only-of-type {\n",
       "        vertical-align: middle;\n",
       "    }\n",
       "\n",
       "    .dataframe tbody tr th {\n",
       "        vertical-align: top;\n",
       "    }\n",
       "\n",
       "    .dataframe thead th {\n",
       "        text-align: right;\n",
       "    }\n",
       "</style>\n",
       "<table border=\"1\" class=\"dataframe\">\n",
       "  <thead>\n",
       "    <tr style=\"text-align: right;\">\n",
       "      <th></th>\n",
       "      <th>department</th>\n",
       "      <th>job_level</th>\n",
       "      <th>marriage</th>\n",
       "      <th>rating</th>\n",
       "      <th>overtime</th>\n",
       "    </tr>\n",
       "  </thead>\n",
       "  <tbody>\n",
       "    <tr>\n",
       "      <th>0</th>\n",
       "      <td>Sales</td>\n",
       "      <td>Salaried</td>\n",
       "      <td>single</td>\n",
       "      <td>4</td>\n",
       "      <td>14</td>\n",
       "    </tr>\n",
       "    <tr>\n",
       "      <th>1</th>\n",
       "      <td>Engineering</td>\n",
       "      <td>Hourly</td>\n",
       "      <td>single</td>\n",
       "      <td>4</td>\n",
       "      <td>8</td>\n",
       "    </tr>\n",
       "    <tr>\n",
       "      <th>2</th>\n",
       "      <td>Engineering</td>\n",
       "      <td>Hourly</td>\n",
       "      <td>single</td>\n",
       "      <td>4</td>\n",
       "      <td>4</td>\n",
       "    </tr>\n",
       "    <tr>\n",
       "      <th>3</th>\n",
       "      <td>Engineering</td>\n",
       "      <td>Salaried</td>\n",
       "      <td>married</td>\n",
       "      <td>4</td>\n",
       "      <td>0</td>\n",
       "    </tr>\n",
       "    <tr>\n",
       "      <th>4</th>\n",
       "      <td>Engineering</td>\n",
       "      <td>Hourly</td>\n",
       "      <td>married</td>\n",
       "      <td>2</td>\n",
       "      <td>21</td>\n",
       "    </tr>\n",
       "  </tbody>\n",
       "</table>\n",
       "</div>"
      ],
      "text/plain": [
       "    department job_level marriage  rating  overtime\n",
       "0        Sales  Salaried   single       4        14\n",
       "1  Engineering    Hourly   single       4         8\n",
       "2  Engineering    Hourly   single       4         4\n",
       "3  Engineering  Salaried  married       4         0\n",
       "4  Engineering    Hourly  married       2        21"
      ]
     },
     "execution_count": 96,
     "metadata": {},
     "output_type": "execute_result"
    }
   ],
   "source": [
    "hr.head()"
   ]
  },
  {
   "cell_type": "code",
   "execution_count": 100,
   "id": "4c0632eb",
   "metadata": {},
   "outputs": [
    {
     "data": {
      "text/html": [
       "<div>\n",
       "<style scoped>\n",
       "    .dataframe tbody tr th:only-of-type {\n",
       "        vertical-align: middle;\n",
       "    }\n",
       "\n",
       "    .dataframe tbody tr th {\n",
       "        vertical-align: top;\n",
       "    }\n",
       "\n",
       "    .dataframe thead th {\n",
       "        text-align: right;\n",
       "    }\n",
       "</style>\n",
       "<table border=\"1\" class=\"dataframe\">\n",
       "  <thead>\n",
       "    <tr style=\"text-align: right;\">\n",
       "      <th></th>\n",
       "      <th>T</th>\n",
       "      <th>dof</th>\n",
       "      <th>alternative</th>\n",
       "      <th>p-val</th>\n",
       "      <th>CI95%</th>\n",
       "      <th>cohen-d</th>\n",
       "      <th>BF10</th>\n",
       "      <th>power</th>\n",
       "    </tr>\n",
       "  </thead>\n",
       "  <tbody>\n",
       "    <tr>\n",
       "      <th>T-test</th>\n",
       "      <td>0.498229</td>\n",
       "      <td>1465.031434</td>\n",
       "      <td>two-sided</td>\n",
       "      <td>0.618398</td>\n",
       "      <td>[-0.72, 1.21]</td>\n",
       "      <td>0.025978</td>\n",
       "      <td>0.066</td>\n",
       "      <td>0.078781</td>\n",
       "    </tr>\n",
       "  </tbody>\n",
       "</table>\n",
       "</div>"
      ],
      "text/plain": [
       "               T          dof alternative     p-val          CI95%   cohen-d  \\\n",
       "T-test  0.498229  1465.031434   two-sided  0.618398  [-0.72, 1.21]  0.025978   \n",
       "\n",
       "         BF10     power  \n",
       "T-test  0.066  0.078781  "
      ]
     },
     "execution_count": 100,
     "metadata": {},
     "output_type": "execute_result"
    }
   ],
   "source": [
    "## 실습\n",
    "# hr.xlsx에서 marrige 변수는 미혼(single)과 기혼(married)을 나타냅니다.\n",
    "# 미혼직원과 기혼직원 사이에 overtime을 독립표본 t검정으로 비교해보세요\n",
    "pg.ttest(hr[hr['marriage']=='single']['overtime'], hr[hr['marriage']=='married']['overtime'])"
   ]
  },
  {
   "cell_type": "code",
   "execution_count": 103,
   "id": "b2c0dd65",
   "metadata": {},
   "outputs": [
    {
     "data": {
      "text/html": [
       "<div>\n",
       "<style scoped>\n",
       "    .dataframe tbody tr th:only-of-type {\n",
       "        vertical-align: middle;\n",
       "    }\n",
       "\n",
       "    .dataframe tbody tr th {\n",
       "        vertical-align: top;\n",
       "    }\n",
       "\n",
       "    .dataframe thead th {\n",
       "        text-align: right;\n",
       "    }\n",
       "</style>\n",
       "<table border=\"1\" class=\"dataframe\">\n",
       "  <thead>\n",
       "    <tr style=\"text-align: right;\">\n",
       "      <th></th>\n",
       "      <th>gpa</th>\n",
       "      <th>test</th>\n",
       "      <th>major</th>\n",
       "      <th>hire</th>\n",
       "    </tr>\n",
       "  </thead>\n",
       "  <tbody>\n",
       "    <tr>\n",
       "      <th>0</th>\n",
       "      <td>3.27</td>\n",
       "      <td>45</td>\n",
       "      <td>1</td>\n",
       "      <td>F</td>\n",
       "    </tr>\n",
       "    <tr>\n",
       "      <th>1</th>\n",
       "      <td>3.04</td>\n",
       "      <td>43</td>\n",
       "      <td>1</td>\n",
       "      <td>P</td>\n",
       "    </tr>\n",
       "  </tbody>\n",
       "</table>\n",
       "</div>"
      ],
      "text/plain": [
       "    gpa  test  major hire\n",
       "0  3.27    45      1    F\n",
       "1  3.04    43      1    P"
      ]
     },
     "execution_count": 103,
     "metadata": {},
     "output_type": "execute_result"
    }
   ],
   "source": [
    "hi = pd.read_excel('data/hiring.xlsx')\n",
    "hi.head(2)"
   ]
  },
  {
   "cell_type": "code",
   "execution_count": 108,
   "id": "79e39585",
   "metadata": {},
   "outputs": [
    {
     "data": {
      "text/html": [
       "<div>\n",
       "<style scoped>\n",
       "    .dataframe tbody tr th:only-of-type {\n",
       "        vertical-align: middle;\n",
       "    }\n",
       "\n",
       "    .dataframe tbody tr th {\n",
       "        vertical-align: top;\n",
       "    }\n",
       "\n",
       "    .dataframe thead th {\n",
       "        text-align: right;\n",
       "    }\n",
       "</style>\n",
       "<table border=\"1\" class=\"dataframe\">\n",
       "  <thead>\n",
       "    <tr style=\"text-align: right;\">\n",
       "      <th></th>\n",
       "      <th>T</th>\n",
       "      <th>dof</th>\n",
       "      <th>alternative</th>\n",
       "      <th>p-val</th>\n",
       "      <th>CI95%</th>\n",
       "      <th>cohen-d</th>\n",
       "      <th>BF10</th>\n",
       "      <th>power</th>\n",
       "    </tr>\n",
       "  </thead>\n",
       "  <tbody>\n",
       "    <tr>\n",
       "      <th>T-test</th>\n",
       "      <td>-0.507503</td>\n",
       "      <td>998</td>\n",
       "      <td>two-sided</td>\n",
       "      <td>0.611914</td>\n",
       "      <td>[-3.24, 1.91]</td>\n",
       "      <td>0.032097</td>\n",
       "      <td>0.08</td>\n",
       "      <td>0.079932</td>\n",
       "    </tr>\n",
       "  </tbody>\n",
       "</table>\n",
       "</div>"
      ],
      "text/plain": [
       "               T  dof alternative     p-val          CI95%   cohen-d  BF10  \\\n",
       "T-test -0.507503  998   two-sided  0.611914  [-3.24, 1.91]  0.032097  0.08   \n",
       "\n",
       "           power  \n",
       "T-test  0.079932  "
      ]
     },
     "execution_count": 108,
     "metadata": {},
     "output_type": "execute_result"
    }
   ],
   "source": [
    "# 귀무가설 : 전공자와 비전공자의 차이가 없다.\n",
    "전공자 = hi[hi['major'] == 1]['test']\n",
    "비전공자 = hi[hi['major'] == 0]['test']\n",
    "pg.ttest(전공자,비전공자)"
   ]
  },
  {
   "cell_type": "code",
   "execution_count": 109,
   "id": "acc11a38",
   "metadata": {},
   "outputs": [
    {
     "data": {
      "text/html": [
       "<div>\n",
       "<style scoped>\n",
       "    .dataframe tbody tr th:only-of-type {\n",
       "        vertical-align: middle;\n",
       "    }\n",
       "\n",
       "    .dataframe tbody tr th {\n",
       "        vertical-align: top;\n",
       "    }\n",
       "\n",
       "    .dataframe thead th {\n",
       "        text-align: right;\n",
       "    }\n",
       "</style>\n",
       "<table border=\"1\" class=\"dataframe\">\n",
       "  <thead>\n",
       "    <tr style=\"text-align: right;\">\n",
       "      <th></th>\n",
       "      <th>T</th>\n",
       "      <th>dof</th>\n",
       "      <th>alternative</th>\n",
       "      <th>p-val</th>\n",
       "      <th>CI95%</th>\n",
       "      <th>cohen-d</th>\n",
       "      <th>BF10</th>\n",
       "      <th>power</th>\n",
       "    </tr>\n",
       "  </thead>\n",
       "  <tbody>\n",
       "    <tr>\n",
       "      <th>T-test</th>\n",
       "      <td>-2.986887</td>\n",
       "      <td>19</td>\n",
       "      <td>two-sided</td>\n",
       "      <td>0.007578</td>\n",
       "      <td>[-13.61, -2.39]</td>\n",
       "      <td>0.84451</td>\n",
       "      <td>6.46</td>\n",
       "      <td>0.947372</td>\n",
       "    </tr>\n",
       "  </tbody>\n",
       "</table>\n",
       "</div>"
      ],
      "text/plain": [
       "               T  dof alternative     p-val            CI95%  cohen-d  BF10  \\\n",
       "T-test -2.986887   19   two-sided  0.007578  [-13.61, -2.39]  0.84451  6.46   \n",
       "\n",
       "           power  \n",
       "T-test  0.947372  "
      ]
     },
     "execution_count": 109,
     "metadata": {},
     "output_type": "execute_result"
    }
   ],
   "source": [
    "cp = pd.read_excel('data/couple.xlsx')\n",
    "pg.ttest(cp['husband'], cp['wife'], paired=True)"
   ]
  },
  {
   "cell_type": "code",
   "execution_count": 110,
   "id": "09ea1a34",
   "metadata": {},
   "outputs": [
    {
     "data": {
      "text/html": [
       "<div>\n",
       "<style scoped>\n",
       "    .dataframe tbody tr th:only-of-type {\n",
       "        vertical-align: middle;\n",
       "    }\n",
       "\n",
       "    .dataframe tbody tr th {\n",
       "        vertical-align: top;\n",
       "    }\n",
       "\n",
       "    .dataframe thead th {\n",
       "        text-align: right;\n",
       "    }\n",
       "</style>\n",
       "<table border=\"1\" class=\"dataframe\">\n",
       "  <thead>\n",
       "    <tr style=\"text-align: right;\">\n",
       "      <th></th>\n",
       "      <th>W</th>\n",
       "      <th>pval</th>\n",
       "      <th>equal_var</th>\n",
       "    </tr>\n",
       "  </thead>\n",
       "  <tbody>\n",
       "    <tr>\n",
       "      <th>levene</th>\n",
       "      <td>22.092071</td>\n",
       "      <td>0.000004</td>\n",
       "      <td>False</td>\n",
       "    </tr>\n",
       "  </tbody>\n",
       "</table>\n",
       "</div>"
      ],
      "text/plain": [
       "                W      pval  equal_var\n",
       "levene  22.092071  0.000004      False"
      ]
     },
     "execution_count": 110,
     "metadata": {},
     "output_type": "execute_result"
    }
   ],
   "source": [
    "pg.homoscedasticity(dv='price', group='model', data=df)"
   ]
  },
  {
   "cell_type": "code",
   "execution_count": 111,
   "id": "ed57cf33",
   "metadata": {},
   "outputs": [
    {
     "data": {
      "text/html": [
       "<div>\n",
       "<style scoped>\n",
       "    .dataframe tbody tr th:only-of-type {\n",
       "        vertical-align: middle;\n",
       "    }\n",
       "\n",
       "    .dataframe tbody tr th {\n",
       "        vertical-align: top;\n",
       "    }\n",
       "\n",
       "    .dataframe thead th {\n",
       "        text-align: right;\n",
       "    }\n",
       "</style>\n",
       "<table border=\"1\" class=\"dataframe\">\n",
       "  <thead>\n",
       "    <tr style=\"text-align: right;\">\n",
       "      <th></th>\n",
       "      <th>Source</th>\n",
       "      <th>ddof1</th>\n",
       "      <th>ddof2</th>\n",
       "      <th>F</th>\n",
       "      <th>p-unc</th>\n",
       "      <th>np2</th>\n",
       "    </tr>\n",
       "  </thead>\n",
       "  <tbody>\n",
       "    <tr>\n",
       "      <th>0</th>\n",
       "      <td>model</td>\n",
       "      <td>1</td>\n",
       "      <td>196.691919</td>\n",
       "      <td>4.888567</td>\n",
       "      <td>0.028187</td>\n",
       "      <td>0.011048</td>\n",
       "    </tr>\n",
       "  </tbody>\n",
       "</table>\n",
       "</div>"
      ],
      "text/plain": [
       "  Source  ddof1       ddof2         F     p-unc       np2\n",
       "0  model      1  196.691919  4.888567  0.028187  0.011048"
      ]
     },
     "execution_count": 111,
     "metadata": {},
     "output_type": "execute_result"
    }
   ],
   "source": [
    "pg.welch_anova(dv='price', between='model', data=df)"
   ]
  },
  {
   "cell_type": "code",
   "execution_count": 113,
   "id": "f1059da4",
   "metadata": {
    "scrolled": true
   },
   "outputs": [
    {
     "data": {
      "text/html": [
       "<div>\n",
       "<style scoped>\n",
       "    .dataframe tbody tr th:only-of-type {\n",
       "        vertical-align: middle;\n",
       "    }\n",
       "\n",
       "    .dataframe tbody tr th {\n",
       "        vertical-align: top;\n",
       "    }\n",
       "\n",
       "    .dataframe thead th {\n",
       "        text-align: right;\n",
       "    }\n",
       "</style>\n",
       "<table border=\"1\" class=\"dataframe\">\n",
       "  <thead>\n",
       "    <tr style=\"text-align: right;\">\n",
       "      <th></th>\n",
       "      <th>T</th>\n",
       "      <th>dof</th>\n",
       "      <th>alternative</th>\n",
       "      <th>p-val</th>\n",
       "      <th>CI95%</th>\n",
       "      <th>cohen-d</th>\n",
       "      <th>BF10</th>\n",
       "      <th>power</th>\n",
       "    </tr>\n",
       "  </thead>\n",
       "  <tbody>\n",
       "    <tr>\n",
       "      <th>T-test</th>\n",
       "      <td>-2.21101</td>\n",
       "      <td>196.691919</td>\n",
       "      <td>two-sided</td>\n",
       "      <td>0.028187</td>\n",
       "      <td>[-152.11, -8.69]</td>\n",
       "      <td>0.242614</td>\n",
       "      <td>1.482</td>\n",
       "      <td>0.4119</td>\n",
       "    </tr>\n",
       "  </tbody>\n",
       "</table>\n",
       "</div>"
      ],
      "text/plain": [
       "              T         dof alternative     p-val             CI95%   cohen-d  \\\n",
       "T-test -2.21101  196.691919   two-sided  0.028187  [-152.11, -8.69]  0.242614   \n",
       "\n",
       "         BF10   power  \n",
       "T-test  1.482  0.4119  "
      ]
     },
     "execution_count": 113,
     "metadata": {},
     "output_type": "execute_result"
    }
   ],
   "source": [
    "pg.ttest(Avante, K3)"
   ]
  },
  {
   "cell_type": "code",
   "execution_count": 115,
   "id": "ffbefbd0",
   "metadata": {},
   "outputs": [],
   "source": [
    "# 집단이 2개일 때는 t-검정 p와 분산분석의 p가 같음\n",
    "# 분산분석을 해도 되지만,  굳이 할 필요가 없다."
   ]
  },
  {
   "cell_type": "code",
   "execution_count": 118,
   "id": "ad01d2e0",
   "metadata": {},
   "outputs": [
    {
     "data": {
      "text/html": [
       "<div>\n",
       "<style scoped>\n",
       "    .dataframe tbody tr th:only-of-type {\n",
       "        vertical-align: middle;\n",
       "    }\n",
       "\n",
       "    .dataframe tbody tr th {\n",
       "        vertical-align: top;\n",
       "    }\n",
       "\n",
       "    .dataframe thead th {\n",
       "        text-align: right;\n",
       "    }\n",
       "</style>\n",
       "<table border=\"1\" class=\"dataframe\">\n",
       "  <thead>\n",
       "    <tr style=\"text-align: right;\">\n",
       "      <th></th>\n",
       "      <th>department</th>\n",
       "      <th>job_level</th>\n",
       "      <th>marriage</th>\n",
       "      <th>rating</th>\n",
       "      <th>overtime</th>\n",
       "    </tr>\n",
       "  </thead>\n",
       "  <tbody>\n",
       "    <tr>\n",
       "      <th>0</th>\n",
       "      <td>Sales</td>\n",
       "      <td>Salaried</td>\n",
       "      <td>single</td>\n",
       "      <td>4</td>\n",
       "      <td>14</td>\n",
       "    </tr>\n",
       "    <tr>\n",
       "      <th>1</th>\n",
       "      <td>Engineering</td>\n",
       "      <td>Hourly</td>\n",
       "      <td>single</td>\n",
       "      <td>4</td>\n",
       "      <td>8</td>\n",
       "    </tr>\n",
       "    <tr>\n",
       "      <th>2</th>\n",
       "      <td>Engineering</td>\n",
       "      <td>Hourly</td>\n",
       "      <td>single</td>\n",
       "      <td>4</td>\n",
       "      <td>4</td>\n",
       "    </tr>\n",
       "  </tbody>\n",
       "</table>\n",
       "</div>"
      ],
      "text/plain": [
       "    department job_level marriage  rating  overtime\n",
       "0        Sales  Salaried   single       4        14\n",
       "1  Engineering    Hourly   single       4         8\n",
       "2  Engineering    Hourly   single       4         4"
      ]
     },
     "execution_count": 118,
     "metadata": {},
     "output_type": "execute_result"
    }
   ],
   "source": [
    "hr.head(3)"
   ]
  },
  {
   "cell_type": "code",
   "execution_count": 121,
   "id": "0423cfe7",
   "metadata": {},
   "outputs": [
    {
     "data": {
      "text/plain": [
       "array(['Salaried', 'Hourly', 'Manager'], dtype=object)"
      ]
     },
     "execution_count": 121,
     "metadata": {},
     "output_type": "execute_result"
    }
   ],
   "source": [
    "hr['job_level'].unique()"
   ]
  },
  {
   "cell_type": "code",
   "execution_count": 122,
   "id": "a3c9adba",
   "metadata": {},
   "outputs": [
    {
     "data": {
      "text/html": [
       "<div>\n",
       "<style scoped>\n",
       "    .dataframe tbody tr th:only-of-type {\n",
       "        vertical-align: middle;\n",
       "    }\n",
       "\n",
       "    .dataframe tbody tr th {\n",
       "        vertical-align: top;\n",
       "    }\n",
       "\n",
       "    .dataframe thead th {\n",
       "        text-align: right;\n",
       "    }\n",
       "</style>\n",
       "<table border=\"1\" class=\"dataframe\">\n",
       "  <thead>\n",
       "    <tr style=\"text-align: right;\">\n",
       "      <th></th>\n",
       "      <th>W</th>\n",
       "      <th>pval</th>\n",
       "      <th>equal_var</th>\n",
       "    </tr>\n",
       "  </thead>\n",
       "  <tbody>\n",
       "    <tr>\n",
       "      <th>levene</th>\n",
       "      <td>6.138372</td>\n",
       "      <td>0.002214</td>\n",
       "      <td>False</td>\n",
       "    </tr>\n",
       "  </tbody>\n",
       "</table>\n",
       "</div>"
      ],
      "text/plain": [
       "               W      pval  equal_var\n",
       "levene  6.138372  0.002214      False"
      ]
     },
     "execution_count": 122,
     "metadata": {},
     "output_type": "execute_result"
    }
   ],
   "source": [
    "pg.homoscedasticity(dv='rating', group='job_level', data=hr)\n",
    "# 등분산성 검정: 귀무가설 기각 -> 분산이 다름"
   ]
  },
  {
   "cell_type": "code",
   "execution_count": 123,
   "id": "4f46d89c",
   "metadata": {},
   "outputs": [
    {
     "data": {
      "text/html": [
       "<div>\n",
       "<style scoped>\n",
       "    .dataframe tbody tr th:only-of-type {\n",
       "        vertical-align: middle;\n",
       "    }\n",
       "\n",
       "    .dataframe tbody tr th {\n",
       "        vertical-align: top;\n",
       "    }\n",
       "\n",
       "    .dataframe thead th {\n",
       "        text-align: right;\n",
       "    }\n",
       "</style>\n",
       "<table border=\"1\" class=\"dataframe\">\n",
       "  <thead>\n",
       "    <tr style=\"text-align: right;\">\n",
       "      <th></th>\n",
       "      <th>Source</th>\n",
       "      <th>ddof1</th>\n",
       "      <th>ddof2</th>\n",
       "      <th>F</th>\n",
       "      <th>p-unc</th>\n",
       "      <th>np2</th>\n",
       "    </tr>\n",
       "  </thead>\n",
       "  <tbody>\n",
       "    <tr>\n",
       "      <th>0</th>\n",
       "      <td>job_level</td>\n",
       "      <td>2</td>\n",
       "      <td>273.23336</td>\n",
       "      <td>198.666881</td>\n",
       "      <td>5.394990e-54</td>\n",
       "      <td>0.183206</td>\n",
       "    </tr>\n",
       "  </tbody>\n",
       "</table>\n",
       "</div>"
      ],
      "text/plain": [
       "      Source  ddof1      ddof2           F         p-unc       np2\n",
       "0  job_level      2  273.23336  198.666881  5.394990e-54  0.183206"
      ]
     },
     "execution_count": 123,
     "metadata": {},
     "output_type": "execute_result"
    }
   ],
   "source": [
    "pg.welch_anova(dv='rating', between='job_level', data=hr)\n",
    "# 이분산성을 보정하기 위해 웰치의 분산분석\n",
    "# 귀무가설 기각 -> 결론: 어떤 집단의 평균이 다름"
   ]
  },
  {
   "cell_type": "code",
   "execution_count": 124,
   "id": "f4e2928d",
   "metadata": {},
   "outputs": [
    {
     "data": {
      "text/html": [
       "<div>\n",
       "<style scoped>\n",
       "    .dataframe tbody tr th:only-of-type {\n",
       "        vertical-align: middle;\n",
       "    }\n",
       "\n",
       "    .dataframe tbody tr th {\n",
       "        vertical-align: top;\n",
       "    }\n",
       "\n",
       "    .dataframe thead th {\n",
       "        text-align: right;\n",
       "    }\n",
       "</style>\n",
       "<table border=\"1\" class=\"dataframe\">\n",
       "  <thead>\n",
       "    <tr style=\"text-align: right;\">\n",
       "      <th></th>\n",
       "      <th>A</th>\n",
       "      <th>B</th>\n",
       "      <th>mean(A)</th>\n",
       "      <th>mean(B)</th>\n",
       "      <th>diff</th>\n",
       "      <th>se</th>\n",
       "      <th>T</th>\n",
       "      <th>df</th>\n",
       "      <th>pval</th>\n",
       "      <th>hedges</th>\n",
       "    </tr>\n",
       "  </thead>\n",
       "  <tbody>\n",
       "    <tr>\n",
       "      <th>0</th>\n",
       "      <td>Hourly</td>\n",
       "      <td>Manager</td>\n",
       "      <td>2.566891</td>\n",
       "      <td>4.142857</td>\n",
       "      <td>-1.575966</td>\n",
       "      <td>0.086197</td>\n",
       "      <td>-18.283232</td>\n",
       "      <td>136.073046</td>\n",
       "      <td>0.0</td>\n",
       "      <td>-1.615057</td>\n",
       "    </tr>\n",
       "    <tr>\n",
       "      <th>1</th>\n",
       "      <td>Hourly</td>\n",
       "      <td>Salaried</td>\n",
       "      <td>2.566891</td>\n",
       "      <td>3.245399</td>\n",
       "      <td>-0.678508</td>\n",
       "      <td>0.060834</td>\n",
       "      <td>-11.153506</td>\n",
       "      <td>563.974875</td>\n",
       "      <td>0.0</td>\n",
       "      <td>-0.692385</td>\n",
       "    </tr>\n",
       "    <tr>\n",
       "      <th>2</th>\n",
       "      <td>Manager</td>\n",
       "      <td>Salaried</td>\n",
       "      <td>4.142857</td>\n",
       "      <td>3.245399</td>\n",
       "      <td>0.897458</td>\n",
       "      <td>0.096168</td>\n",
       "      <td>9.332215</td>\n",
       "      <td>199.708018</td>\n",
       "      <td>0.0</td>\n",
       "      <td>0.973631</td>\n",
       "    </tr>\n",
       "  </tbody>\n",
       "</table>\n",
       "</div>"
      ],
      "text/plain": [
       "         A         B   mean(A)   mean(B)      diff        se          T  \\\n",
       "0   Hourly   Manager  2.566891  4.142857 -1.575966  0.086197 -18.283232   \n",
       "1   Hourly  Salaried  2.566891  3.245399 -0.678508  0.060834 -11.153506   \n",
       "2  Manager  Salaried  4.142857  3.245399  0.897458  0.096168   9.332215   \n",
       "\n",
       "           df  pval    hedges  \n",
       "0  136.073046   0.0 -1.615057  \n",
       "1  563.974875   0.0 -0.692385  \n",
       "2  199.708018   0.0  0.973631  "
      ]
     },
     "execution_count": 124,
     "metadata": {},
     "output_type": "execute_result"
    }
   ],
   "source": [
    "pg.pairwise_gameshowell(dv='rating', between='job_level', data=hr)\n",
    "# 어느 집단과 어느 집단이 다른지 알기 위해 사후 분석\n",
    "# 분산이 다르므로 Games-Howel 검정\n",
    "# 분석 결과: 모든 집단이 서로 다른 것을 확인"
   ]
  },
  {
   "cell_type": "code",
   "execution_count": 128,
   "id": "7901e1db",
   "metadata": {},
   "outputs": [
    {
     "data": {
      "text/html": [
       "<div>\n",
       "<style scoped>\n",
       "    .dataframe tbody tr th:only-of-type {\n",
       "        vertical-align: middle;\n",
       "    }\n",
       "\n",
       "    .dataframe tbody tr th {\n",
       "        vertical-align: top;\n",
       "    }\n",
       "\n",
       "    .dataframe thead th {\n",
       "        text-align: right;\n",
       "    }\n",
       "</style>\n",
       "<table border=\"1\" class=\"dataframe\">\n",
       "  <thead>\n",
       "    <tr style=\"text-align: right;\">\n",
       "      <th></th>\n",
       "      <th>age</th>\n",
       "      <th>workclass</th>\n",
       "      <th>fnlwgt</th>\n",
       "      <th>education</th>\n",
       "      <th>education_num</th>\n",
       "      <th>marital_status</th>\n",
       "      <th>occupation</th>\n",
       "      <th>relationship</th>\n",
       "      <th>race</th>\n",
       "      <th>sex</th>\n",
       "      <th>capital_gain</th>\n",
       "      <th>capital_loss</th>\n",
       "      <th>hours_per_week</th>\n",
       "      <th>native_country</th>\n",
       "      <th>income</th>\n",
       "    </tr>\n",
       "  </thead>\n",
       "  <tbody>\n",
       "    <tr>\n",
       "      <th>0</th>\n",
       "      <td>39</td>\n",
       "      <td>State-gov</td>\n",
       "      <td>77516</td>\n",
       "      <td>Bachelors</td>\n",
       "      <td>13</td>\n",
       "      <td>Never-married</td>\n",
       "      <td>Adm-clerical</td>\n",
       "      <td>Not-in-family</td>\n",
       "      <td>White</td>\n",
       "      <td>Male</td>\n",
       "      <td>2174</td>\n",
       "      <td>0</td>\n",
       "      <td>40</td>\n",
       "      <td>United-States</td>\n",
       "      <td>&lt;=50K</td>\n",
       "    </tr>\n",
       "    <tr>\n",
       "      <th>1</th>\n",
       "      <td>50</td>\n",
       "      <td>Self-emp-not-inc</td>\n",
       "      <td>83311</td>\n",
       "      <td>Bachelors</td>\n",
       "      <td>13</td>\n",
       "      <td>Married-civ-spouse</td>\n",
       "      <td>Exec-managerial</td>\n",
       "      <td>Husband</td>\n",
       "      <td>White</td>\n",
       "      <td>Male</td>\n",
       "      <td>0</td>\n",
       "      <td>0</td>\n",
       "      <td>13</td>\n",
       "      <td>United-States</td>\n",
       "      <td>&lt;=50K</td>\n",
       "    </tr>\n",
       "    <tr>\n",
       "      <th>2</th>\n",
       "      <td>38</td>\n",
       "      <td>Private</td>\n",
       "      <td>215646</td>\n",
       "      <td>HS-grad</td>\n",
       "      <td>9</td>\n",
       "      <td>Divorced</td>\n",
       "      <td>Handlers-cleaners</td>\n",
       "      <td>Not-in-family</td>\n",
       "      <td>White</td>\n",
       "      <td>Male</td>\n",
       "      <td>0</td>\n",
       "      <td>0</td>\n",
       "      <td>40</td>\n",
       "      <td>United-States</td>\n",
       "      <td>&lt;=50K</td>\n",
       "    </tr>\n",
       "  </tbody>\n",
       "</table>\n",
       "</div>"
      ],
      "text/plain": [
       "   age         workclass  fnlwgt  education  education_num  \\\n",
       "0   39         State-gov   77516  Bachelors             13   \n",
       "1   50  Self-emp-not-inc   83311  Bachelors             13   \n",
       "2   38           Private  215646    HS-grad              9   \n",
       "\n",
       "       marital_status         occupation   relationship   race   sex  \\\n",
       "0       Never-married       Adm-clerical  Not-in-family  White  Male   \n",
       "1  Married-civ-spouse    Exec-managerial        Husband  White  Male   \n",
       "2            Divorced  Handlers-cleaners  Not-in-family  White  Male   \n",
       "\n",
       "   capital_gain  capital_loss  hours_per_week native_country income  \n",
       "0          2174             0              40  United-States  <=50K  \n",
       "1             0             0              13  United-States  <=50K  \n",
       "2             0             0              40  United-States  <=50K  "
      ]
     },
     "execution_count": 128,
     "metadata": {},
     "output_type": "execute_result"
    }
   ],
   "source": [
    "census = pd.read_excel('data/census.xlsx')\n",
    "census.head(3)"
   ]
  },
  {
   "cell_type": "code",
   "execution_count": 129,
   "id": "676ef0dc",
   "metadata": {},
   "outputs": [
    {
     "data": {
      "text/plain": [
       "White                 27816\n",
       "Black                  3124\n",
       "Asian-Pac-Islander     1039\n",
       "Amer-Indian-Eskimo      311\n",
       "Other                   271\n",
       "Name: race, dtype: int64"
      ]
     },
     "execution_count": 129,
     "metadata": {},
     "output_type": "execute_result"
    }
   ],
   "source": [
    "census['race'].value_counts()"
   ]
  },
  {
   "cell_type": "code",
   "execution_count": 134,
   "id": "c91bd2e6",
   "metadata": {},
   "outputs": [
    {
     "data": {
      "text/html": [
       "<div>\n",
       "<style scoped>\n",
       "    .dataframe tbody tr th:only-of-type {\n",
       "        vertical-align: middle;\n",
       "    }\n",
       "\n",
       "    .dataframe tbody tr th {\n",
       "        vertical-align: top;\n",
       "    }\n",
       "\n",
       "    .dataframe thead th {\n",
       "        text-align: right;\n",
       "    }\n",
       "</style>\n",
       "<table border=\"1\" class=\"dataframe\">\n",
       "  <thead>\n",
       "    <tr style=\"text-align: right;\">\n",
       "      <th></th>\n",
       "      <th>W</th>\n",
       "      <th>pval</th>\n",
       "      <th>equal_var</th>\n",
       "    </tr>\n",
       "  </thead>\n",
       "  <tbody>\n",
       "    <tr>\n",
       "      <th>levene</th>\n",
       "      <td>45.022712</td>\n",
       "      <td>9.087050e-38</td>\n",
       "      <td>False</td>\n",
       "    </tr>\n",
       "  </tbody>\n",
       "</table>\n",
       "</div>"
      ],
      "text/plain": [
       "                W          pval  equal_var\n",
       "levene  45.022712  9.087050e-38      False"
      ]
     },
     "execution_count": 134,
     "metadata": {},
     "output_type": "execute_result"
    }
   ],
   "source": [
    "# 등분산성 검정\n",
    "pg.homoscedasticity(dv='education_num', group='race', data=census)"
   ]
  },
  {
   "cell_type": "code",
   "execution_count": 137,
   "id": "e71f6afd",
   "metadata": {},
   "outputs": [
    {
     "data": {
      "text/html": [
       "<div>\n",
       "<style scoped>\n",
       "    .dataframe tbody tr th:only-of-type {\n",
       "        vertical-align: middle;\n",
       "    }\n",
       "\n",
       "    .dataframe tbody tr th {\n",
       "        vertical-align: top;\n",
       "    }\n",
       "\n",
       "    .dataframe thead th {\n",
       "        text-align: right;\n",
       "    }\n",
       "</style>\n",
       "<table border=\"1\" class=\"dataframe\">\n",
       "  <thead>\n",
       "    <tr style=\"text-align: right;\">\n",
       "      <th></th>\n",
       "      <th>Source</th>\n",
       "      <th>ddof1</th>\n",
       "      <th>ddof2</th>\n",
       "      <th>F</th>\n",
       "      <th>p-unc</th>\n",
       "      <th>np2</th>\n",
       "    </tr>\n",
       "  </thead>\n",
       "  <tbody>\n",
       "    <tr>\n",
       "      <th>0</th>\n",
       "      <td>race</td>\n",
       "      <td>4</td>\n",
       "      <td>1002.461498</td>\n",
       "      <td>98.900787</td>\n",
       "      <td>5.587944e-71</td>\n",
       "      <td>0.012023</td>\n",
       "    </tr>\n",
       "  </tbody>\n",
       "</table>\n",
       "</div>"
      ],
      "text/plain": [
       "  Source  ddof1        ddof2          F         p-unc       np2\n",
       "0   race      4  1002.461498  98.900787  5.587944e-71  0.012023"
      ]
     },
     "execution_count": 137,
     "metadata": {},
     "output_type": "execute_result"
    }
   ],
   "source": [
    "# 분산 분석: 집단 간 분산 / 집단 내 분산\n",
    "pg.welch_anova(dv='education_num', between='race', data=census)\n",
    "# 집단 내 분산이 같은 것처럼 보정해줌\n",
    "# F가 약 99임 >> 집단 내 분산 보다 집단 간 분산이 크다 즉, 집단 간의 차이가 크다는 의미\n",
    "# 에타제곱 >> 0.01 이므로 인종에 따른 차이는 작다는 것을 의미."
   ]
  },
  {
   "cell_type": "code",
   "execution_count": 131,
   "id": "de952e24",
   "metadata": {},
   "outputs": [
    {
     "data": {
      "text/html": [
       "<div>\n",
       "<style scoped>\n",
       "    .dataframe tbody tr th:only-of-type {\n",
       "        vertical-align: middle;\n",
       "    }\n",
       "\n",
       "    .dataframe tbody tr th {\n",
       "        vertical-align: top;\n",
       "    }\n",
       "\n",
       "    .dataframe thead th {\n",
       "        text-align: right;\n",
       "    }\n",
       "</style>\n",
       "<table border=\"1\" class=\"dataframe\">\n",
       "  <thead>\n",
       "    <tr style=\"text-align: right;\">\n",
       "      <th></th>\n",
       "      <th>A</th>\n",
       "      <th>B</th>\n",
       "      <th>mean(A)</th>\n",
       "      <th>mean(B)</th>\n",
       "      <th>diff</th>\n",
       "      <th>se</th>\n",
       "      <th>T</th>\n",
       "      <th>df</th>\n",
       "      <th>pval</th>\n",
       "      <th>hedges</th>\n",
       "    </tr>\n",
       "  </thead>\n",
       "  <tbody>\n",
       "    <tr>\n",
       "      <th>0</th>\n",
       "      <td>Amer-Indian-Eskimo</td>\n",
       "      <td>Asian-Pac-Islander</td>\n",
       "      <td>9.311897</td>\n",
       "      <td>10.960539</td>\n",
       "      <td>-1.648642</td>\n",
       "      <td>0.157391</td>\n",
       "      <td>-10.474821</td>\n",
       "      <td>609.952107</td>\n",
       "      <td>6.716849e-14</td>\n",
       "      <td>-0.609240</td>\n",
       "    </tr>\n",
       "    <tr>\n",
       "      <th>1</th>\n",
       "      <td>Amer-Indian-Eskimo</td>\n",
       "      <td>Black</td>\n",
       "      <td>9.311897</td>\n",
       "      <td>9.486236</td>\n",
       "      <td>-0.174338</td>\n",
       "      <td>0.137309</td>\n",
       "      <td>-1.269676</td>\n",
       "      <td>373.702957</td>\n",
       "      <td>7.100158e-01</td>\n",
       "      <td>-0.075815</td>\n",
       "    </tr>\n",
       "    <tr>\n",
       "      <th>2</th>\n",
       "      <td>Amer-Indian-Eskimo</td>\n",
       "      <td>Other</td>\n",
       "      <td>9.311897</td>\n",
       "      <td>8.841328</td>\n",
       "      <td>0.470569</td>\n",
       "      <td>0.235732</td>\n",
       "      <td>1.996198</td>\n",
       "      <td>481.494003</td>\n",
       "      <td>2.693623e-01</td>\n",
       "      <td>0.169382</td>\n",
       "    </tr>\n",
       "    <tr>\n",
       "      <th>3</th>\n",
       "      <td>Amer-Indian-Eskimo</td>\n",
       "      <td>White</td>\n",
       "      <td>9.311897</td>\n",
       "      <td>10.135246</td>\n",
       "      <td>-0.823349</td>\n",
       "      <td>0.131913</td>\n",
       "      <td>-6.241587</td>\n",
       "      <td>318.638097</td>\n",
       "      <td>1.377793e-08</td>\n",
       "      <td>-0.320662</td>\n",
       "    </tr>\n",
       "    <tr>\n",
       "      <th>4</th>\n",
       "      <td>Asian-Pac-Islander</td>\n",
       "      <td>Black</td>\n",
       "      <td>10.960539</td>\n",
       "      <td>9.486236</td>\n",
       "      <td>1.474303</td>\n",
       "      <td>0.096429</td>\n",
       "      <td>15.289039</td>\n",
       "      <td>1525.407513</td>\n",
       "      <td>0.000000e+00</td>\n",
       "      <td>0.605057</td>\n",
       "    </tr>\n",
       "    <tr>\n",
       "      <th>5</th>\n",
       "      <td>Asian-Pac-Islander</td>\n",
       "      <td>Other</td>\n",
       "      <td>10.960539</td>\n",
       "      <td>8.841328</td>\n",
       "      <td>2.119211</td>\n",
       "      <td>0.214510</td>\n",
       "      <td>9.879323</td>\n",
       "      <td>383.653706</td>\n",
       "      <td>1.132427e-13</td>\n",
       "      <td>0.729836</td>\n",
       "    </tr>\n",
       "    <tr>\n",
       "      <th>6</th>\n",
       "      <td>Asian-Pac-Islander</td>\n",
       "      <td>White</td>\n",
       "      <td>10.960539</td>\n",
       "      <td>10.135246</td>\n",
       "      <td>0.825293</td>\n",
       "      <td>0.088576</td>\n",
       "      <td>9.317304</td>\n",
       "      <td>1103.777621</td>\n",
       "      <td>0.000000e+00</td>\n",
       "      <td>0.319950</td>\n",
       "    </tr>\n",
       "    <tr>\n",
       "      <th>7</th>\n",
       "      <td>Black</td>\n",
       "      <td>Other</td>\n",
       "      <td>9.486236</td>\n",
       "      <td>8.841328</td>\n",
       "      <td>0.644907</td>\n",
       "      <td>0.200241</td>\n",
       "      <td>3.220658</td>\n",
       "      <td>294.238881</td>\n",
       "      <td>1.230253e-02</td>\n",
       "      <td>0.270338</td>\n",
       "    </tr>\n",
       "    <tr>\n",
       "      <th>8</th>\n",
       "      <td>Black</td>\n",
       "      <td>White</td>\n",
       "      <td>9.486236</td>\n",
       "      <td>10.135246</td>\n",
       "      <td>-0.649010</td>\n",
       "      <td>0.043906</td>\n",
       "      <td>-14.781777</td>\n",
       "      <td>4053.342645</td>\n",
       "      <td>2.768563e-12</td>\n",
       "      <td>-0.255095</td>\n",
       "    </tr>\n",
       "    <tr>\n",
       "      <th>9</th>\n",
       "      <td>Other</td>\n",
       "      <td>White</td>\n",
       "      <td>8.841328</td>\n",
       "      <td>10.135246</td>\n",
       "      <td>-1.293917</td>\n",
       "      <td>0.196580</td>\n",
       "      <td>-6.582146</td>\n",
       "      <td>273.349624</td>\n",
       "      <td>2.357437e-09</td>\n",
       "      <td>-0.502010</td>\n",
       "    </tr>\n",
       "  </tbody>\n",
       "</table>\n",
       "</div>"
      ],
      "text/plain": [
       "                    A                   B    mean(A)    mean(B)      diff  \\\n",
       "0  Amer-Indian-Eskimo  Asian-Pac-Islander   9.311897  10.960539 -1.648642   \n",
       "1  Amer-Indian-Eskimo               Black   9.311897   9.486236 -0.174338   \n",
       "2  Amer-Indian-Eskimo               Other   9.311897   8.841328  0.470569   \n",
       "3  Amer-Indian-Eskimo               White   9.311897  10.135246 -0.823349   \n",
       "4  Asian-Pac-Islander               Black  10.960539   9.486236  1.474303   \n",
       "5  Asian-Pac-Islander               Other  10.960539   8.841328  2.119211   \n",
       "6  Asian-Pac-Islander               White  10.960539  10.135246  0.825293   \n",
       "7               Black               Other   9.486236   8.841328  0.644907   \n",
       "8               Black               White   9.486236  10.135246 -0.649010   \n",
       "9               Other               White   8.841328  10.135246 -1.293917   \n",
       "\n",
       "         se          T           df          pval    hedges  \n",
       "0  0.157391 -10.474821   609.952107  6.716849e-14 -0.609240  \n",
       "1  0.137309  -1.269676   373.702957  7.100158e-01 -0.075815  \n",
       "2  0.235732   1.996198   481.494003  2.693623e-01  0.169382  \n",
       "3  0.131913  -6.241587   318.638097  1.377793e-08 -0.320662  \n",
       "4  0.096429  15.289039  1525.407513  0.000000e+00  0.605057  \n",
       "5  0.214510   9.879323   383.653706  1.132427e-13  0.729836  \n",
       "6  0.088576   9.317304  1103.777621  0.000000e+00  0.319950  \n",
       "7  0.200241   3.220658   294.238881  1.230253e-02  0.270338  \n",
       "8  0.043906 -14.781777  4053.342645  2.768563e-12 -0.255095  \n",
       "9  0.196580  -6.582146   273.349624  2.357437e-09 -0.502010  "
      ]
     },
     "execution_count": 131,
     "metadata": {},
     "output_type": "execute_result"
    }
   ],
   "source": [
    "pg.pairwise_gameshowell(dv='education_num', between='race', data=census)"
   ]
  },
  {
   "cell_type": "code",
   "execution_count": 138,
   "id": "2aec6e6c",
   "metadata": {},
   "outputs": [
    {
     "data": {
      "text/html": [
       "<div>\n",
       "<style scoped>\n",
       "    .dataframe tbody tr th:only-of-type {\n",
       "        vertical-align: middle;\n",
       "    }\n",
       "\n",
       "    .dataframe tbody tr th {\n",
       "        vertical-align: top;\n",
       "    }\n",
       "\n",
       "    .dataframe thead th {\n",
       "        text-align: right;\n",
       "    }\n",
       "</style>\n",
       "<table border=\"1\" class=\"dataframe\">\n",
       "  <thead>\n",
       "    <tr style=\"text-align: right;\">\n",
       "      <th></th>\n",
       "      <th>W</th>\n",
       "      <th>pval</th>\n",
       "      <th>equal_var</th>\n",
       "    </tr>\n",
       "  </thead>\n",
       "  <tbody>\n",
       "    <tr>\n",
       "      <th>levene</th>\n",
       "      <td>0.720903</td>\n",
       "      <td>0.396873</td>\n",
       "      <td>True</td>\n",
       "    </tr>\n",
       "  </tbody>\n",
       "</table>\n",
       "</div>"
      ],
      "text/plain": [
       "               W      pval  equal_var\n",
       "levene  0.720903  0.396873       True"
      ]
     },
     "execution_count": 138,
     "metadata": {},
     "output_type": "execute_result"
    },
    {
     "data": {
      "image/png": "[encoded data removed]",
      "text/plain": [
       "<Figure size 640x480 with 1 Axes>"
      ]
     },
     "metadata": {},
     "output_type": "display_data"
    }
   ],
   "source": [
    "from scipy.stats import norm\n",
    "import seaborn as sns\n",
    "\n",
    "# 데이터 만들기\n",
    "x1 = norm.rvs(loc=0.0, scale=1.0, size=100)\n",
    "x2 = norm.rvs(loc=1.0, scale=1.0, size=100)\n",
    "d = pd.concat([pd.DataFrame({'x': x1, 'group': 'A'}), pd.DataFrame({'x': x2, 'group': 'B'})]).reset_index()\n",
    "\n",
    "# 히스토그램\n",
    "sns.histplot(x='x', hue='group', data=d, kde=True)\n",
    "\n",
    "# 등분산성 검정\n",
    "pg.homoscedasticity(dv='x', group='group', data=d)"
   ]
  },
  {
   "cell_type": "code",
   "execution_count": 142,
   "id": "863e70df",
   "metadata": {},
   "outputs": [],
   "source": [
    "x1 = norm.rvs(loc=0.0, scale=1.0, size=100)  # 표준편차가 1.0\n",
    "x2 = norm.rvs(loc=1.0, scale=2.0, size=100)  # 표준편차가 2.0"
   ]
  },
  {
   "cell_type": "code",
   "execution_count": 143,
   "id": "61973ebb",
   "metadata": {},
   "outputs": [
    {
     "data": {
      "text/html": [
       "<div>\n",
       "<style scoped>\n",
       "    .dataframe tbody tr th:only-of-type {\n",
       "        vertical-align: middle;\n",
       "    }\n",
       "\n",
       "    .dataframe tbody tr th {\n",
       "        vertical-align: top;\n",
       "    }\n",
       "\n",
       "    .dataframe thead th {\n",
       "        text-align: right;\n",
       "    }\n",
       "</style>\n",
       "<table border=\"1\" class=\"dataframe\">\n",
       "  <thead>\n",
       "    <tr style=\"text-align: right;\">\n",
       "      <th></th>\n",
       "      <th>W</th>\n",
       "      <th>pval</th>\n",
       "      <th>equal_var</th>\n",
       "    </tr>\n",
       "  </thead>\n",
       "  <tbody>\n",
       "    <tr>\n",
       "      <th>levene</th>\n",
       "      <td>0.720903</td>\n",
       "      <td>0.396873</td>\n",
       "      <td>True</td>\n",
       "    </tr>\n",
       "  </tbody>\n",
       "</table>\n",
       "</div>"
      ],
      "text/plain": [
       "               W      pval  equal_var\n",
       "levene  0.720903  0.396873       True"
      ]
     },
     "execution_count": 143,
     "metadata": {},
     "output_type": "execute_result"
    },
    {
     "data": {
      "image/png": "[encoded data removed]",
      "text/plain": [
       "<Figure size 640x480 with 1 Axes>"
      ]
     },
     "metadata": {},
     "output_type": "display_data"
    }
   ],
   "source": [
    "# 히스토그램\n",
    "sns.histplot(x='x', hue='group', data=d, kde=True)  \n",
    "\n",
    "# 등분산성 검정\n",
    "pg.homoscedasticity(dv='x', group='group', data=d)  "
   ]
  },
  {
   "cell_type": "code",
   "execution_count": 140,
   "id": "31ca6c65",
   "metadata": {},
   "outputs": [
    {
     "data": {
      "text/plain": [
       "Power_divergenceResult(statistic=2.88, pvalue=0.08968602177036435)"
      ]
     },
     "execution_count": 140,
     "metadata": {},
     "output_type": "execute_result"
    }
   ],
   "source": [
    "from scipy.stats import chisquare\n",
    "\n",
    "# 50명에게 브랜드 선호도를 물었는데 A 브랜드를 선호하는 사람이 31명, B를 선호하는 사람이 19명\n",
    "# 귀무가설: 두 브랜드에 차이가 없을 것이다 25:25일거다\n",
    "chisquare([31, 19], [25, 25])  # p > 0.05 => 결론을 유보"
   ]
  },
  {
   "cell_type": "code",
   "execution_count": 141,
   "id": "5c5801c4",
   "metadata": {},
   "outputs": [
    {
     "data": {
      "text/plain": [
       "Power_divergenceResult(statistic=5.76, pvalue=0.01639507184919225)"
      ]
     },
     "execution_count": 141,
     "metadata": {},
     "output_type": "execute_result"
    }
   ],
   "source": [
    "# 100명에게 브랜드 선호도를 물었는데 A 브랜드를 선호하는 사람이 62명, B를 선호하는 사람이 38명\n",
    "# 귀무가설: 두 브랜드에 차이가 없을 것이다 50:50일거다\n",
    "chisquare([62, 38], [50, 50])  # p < 0.05 => 귀무가설 기각 => 브랜드 선호도에 차이가 있다"
   ]
  },
  {
   "cell_type": "code",
   "execution_count": 162,
   "id": "a32df699",
   "metadata": {},
   "outputs": [
    {
     "data": {
      "text/html": [
       "<div>\n",
       "<style scoped>\n",
       "    .dataframe tbody tr th:only-of-type {\n",
       "        vertical-align: middle;\n",
       "    }\n",
       "\n",
       "    .dataframe tbody tr th {\n",
       "        vertical-align: top;\n",
       "    }\n",
       "\n",
       "    .dataframe thead th {\n",
       "        text-align: right;\n",
       "    }\n",
       "</style>\n",
       "<table border=\"1\" class=\"dataframe\">\n",
       "  <thead>\n",
       "    <tr style=\"text-align: right;\">\n",
       "      <th>department</th>\n",
       "      <th>Engineering</th>\n",
       "      <th>Finance</th>\n",
       "      <th>Sales</th>\n",
       "    </tr>\n",
       "    <tr>\n",
       "      <th>marriage</th>\n",
       "      <th></th>\n",
       "      <th></th>\n",
       "      <th></th>\n",
       "    </tr>\n",
       "  </thead>\n",
       "  <tbody>\n",
       "    <tr>\n",
       "      <th>married</th>\n",
       "      <td>462</td>\n",
       "      <td>36</td>\n",
       "      <td>209</td>\n",
       "    </tr>\n",
       "    <tr>\n",
       "      <th>single</th>\n",
       "      <td>499</td>\n",
       "      <td>27</td>\n",
       "      <td>237</td>\n",
       "    </tr>\n",
       "  </tbody>\n",
       "</table>\n",
       "</div>"
      ],
      "text/plain": [
       "department  Engineering  Finance  Sales\n",
       "marriage                               \n",
       "married             462       36    209\n",
       "single              499       27    237"
      ]
     },
     "execution_count": 162,
     "metadata": {},
     "output_type": "execute_result"
    }
   ],
   "source": [
    "# hr.set_index('marriage')\n",
    "# hr.set_axis('department')\n",
    "hr.pivot_table(index = 'marriage', columns = 'department', aggfunc = 'size')"
   ]
  },
  {
   "cell_type": "code",
   "execution_count": 167,
   "id": "d876c4ad",
   "metadata": {},
   "outputs": [
    {
     "data": {
      "text/html": [
       "<div>\n",
       "<style scoped>\n",
       "    .dataframe tbody tr th:only-of-type {\n",
       "        vertical-align: middle;\n",
       "    }\n",
       "\n",
       "    .dataframe tbody tr th {\n",
       "        vertical-align: top;\n",
       "    }\n",
       "\n",
       "    .dataframe thead th {\n",
       "        text-align: right;\n",
       "    }\n",
       "</style>\n",
       "<table border=\"1\" class=\"dataframe\">\n",
       "  <thead>\n",
       "    <tr style=\"text-align: right;\">\n",
       "      <th></th>\n",
       "      <th>test</th>\n",
       "      <th>lambda</th>\n",
       "      <th>chi2</th>\n",
       "      <th>dof</th>\n",
       "      <th>pval</th>\n",
       "      <th>cramer</th>\n",
       "      <th>power</th>\n",
       "    </tr>\n",
       "  </thead>\n",
       "  <tbody>\n",
       "    <tr>\n",
       "      <th>0</th>\n",
       "      <td>pearson</td>\n",
       "      <td>1.000000</td>\n",
       "      <td>2.338180</td>\n",
       "      <td>2.0</td>\n",
       "      <td>0.310650</td>\n",
       "      <td>0.039882</td>\n",
       "      <td>0.257948</td>\n",
       "    </tr>\n",
       "    <tr>\n",
       "      <th>1</th>\n",
       "      <td>cressie-read</td>\n",
       "      <td>0.666667</td>\n",
       "      <td>2.337586</td>\n",
       "      <td>2.0</td>\n",
       "      <td>0.310742</td>\n",
       "      <td>0.039877</td>\n",
       "      <td>0.257891</td>\n",
       "    </tr>\n",
       "    <tr>\n",
       "      <th>2</th>\n",
       "      <td>log-likelihood</td>\n",
       "      <td>0.000000</td>\n",
       "      <td>2.340188</td>\n",
       "      <td>2.0</td>\n",
       "      <td>0.310338</td>\n",
       "      <td>0.039899</td>\n",
       "      <td>0.258141</td>\n",
       "    </tr>\n",
       "    <tr>\n",
       "      <th>3</th>\n",
       "      <td>freeman-tukey</td>\n",
       "      <td>-0.500000</td>\n",
       "      <td>2.345475</td>\n",
       "      <td>2.0</td>\n",
       "      <td>0.309518</td>\n",
       "      <td>0.039944</td>\n",
       "      <td>0.258649</td>\n",
       "    </tr>\n",
       "    <tr>\n",
       "      <th>4</th>\n",
       "      <td>mod-log-likelihood</td>\n",
       "      <td>-1.000000</td>\n",
       "      <td>2.353653</td>\n",
       "      <td>2.0</td>\n",
       "      <td>0.308255</td>\n",
       "      <td>0.040014</td>\n",
       "      <td>0.259435</td>\n",
       "    </tr>\n",
       "    <tr>\n",
       "      <th>5</th>\n",
       "      <td>neyman</td>\n",
       "      <td>-2.000000</td>\n",
       "      <td>2.378838</td>\n",
       "      <td>2.0</td>\n",
       "      <td>0.304398</td>\n",
       "      <td>0.040228</td>\n",
       "      <td>0.261856</td>\n",
       "    </tr>\n",
       "  </tbody>\n",
       "</table>\n",
       "</div>"
      ],
      "text/plain": [
       "                 test    lambda      chi2  dof      pval    cramer     power\n",
       "0             pearson  1.000000  2.338180  2.0  0.310650  0.039882  0.257948\n",
       "1        cressie-read  0.666667  2.337586  2.0  0.310742  0.039877  0.257891\n",
       "2      log-likelihood  0.000000  2.340188  2.0  0.310338  0.039899  0.258141\n",
       "3       freeman-tukey -0.500000  2.345475  2.0  0.309518  0.039944  0.258649\n",
       "4  mod-log-likelihood -1.000000  2.353653  2.0  0.308255  0.040014  0.259435\n",
       "5              neyman -2.000000  2.378838  2.0  0.304398  0.040228  0.261856"
      ]
     },
     "execution_count": 167,
     "metadata": {},
     "output_type": "execute_result"
    }
   ],
   "source": [
    "expected, observed, stats = pg.chi2_independence(x = 'department',y = 'marriage', data = hr)\n",
    "stats\n",
    "# 귀무가설: 부서별 결혼 비율에 차이가 없다\n",
    "# p > 0.05 => 결론을 유보"
   ]
  },
  {
   "cell_type": "code",
   "execution_count": 168,
   "id": "4281b82c",
   "metadata": {},
   "outputs": [
    {
     "data": {
      "text/html": [
       "<div>\n",
       "<style scoped>\n",
       "    .dataframe tbody tr th:only-of-type {\n",
       "        vertical-align: middle;\n",
       "    }\n",
       "\n",
       "    .dataframe tbody tr th {\n",
       "        vertical-align: top;\n",
       "    }\n",
       "\n",
       "    .dataframe thead th {\n",
       "        text-align: right;\n",
       "    }\n",
       "</style>\n",
       "<table border=\"1\" class=\"dataframe\">\n",
       "  <thead>\n",
       "    <tr style=\"text-align: right;\">\n",
       "      <th>marriage</th>\n",
       "      <th>married</th>\n",
       "      <th>single</th>\n",
       "    </tr>\n",
       "    <tr>\n",
       "      <th>department</th>\n",
       "      <th></th>\n",
       "      <th></th>\n",
       "    </tr>\n",
       "  </thead>\n",
       "  <tbody>\n",
       "    <tr>\n",
       "      <th>Engineering</th>\n",
       "      <td>462.195238</td>\n",
       "      <td>498.804762</td>\n",
       "    </tr>\n",
       "    <tr>\n",
       "      <th>Finance</th>\n",
       "      <td>30.300000</td>\n",
       "      <td>32.700000</td>\n",
       "    </tr>\n",
       "    <tr>\n",
       "      <th>Sales</th>\n",
       "      <td>214.504762</td>\n",
       "      <td>231.495238</td>\n",
       "    </tr>\n",
       "  </tbody>\n",
       "</table>\n",
       "</div>"
      ],
      "text/plain": [
       "marriage        married      single\n",
       "department                         \n",
       "Engineering  462.195238  498.804762\n",
       "Finance       30.300000   32.700000\n",
       "Sales        214.504762  231.495238"
      ]
     },
     "execution_count": 168,
     "metadata": {},
     "output_type": "execute_result"
    }
   ],
   "source": [
    "expected"
   ]
  },
  {
   "cell_type": "code",
   "execution_count": null,
   "id": "aed1a5ec",
   "metadata": {},
   "outputs": [],
   "source": [
    "# conda install -c conda-forge statsmodels"
   ]
  },
  {
   "cell_type": "code",
   "execution_count": 169,
   "id": "8b687c8a",
   "metadata": {},
   "outputs": [
    {
     "name": "stdout",
     "output_type": "stream",
     "text": [
      "pvalue      0.06788915486182893\n",
      "statistic   3.3333333333333335\n"
     ]
    }
   ],
   "source": [
    "from statsmodels.stats.contingency_tables import mcnemar\n",
    "table = [[40, 10], [20, 30]]\n",
    "m = mcnemar(table, exact=False, correction=False)\n",
    "print(m)\n",
    "# 귀무가설: 전후에 차이가 없다\n",
    "# 결과 p > 0.05 귀무가설 기각 못함\n",
    "# 결론을 유보"
   ]
  },
  {
   "cell_type": "code",
   "execution_count": null,
   "id": "2aaae30d",
   "metadata": {},
   "outputs": [],
   "source": []
  },
  {
   "cell_type": "markdown",
   "id": "17197533",
   "metadata": {},
   "source": [
    "* 카이제곱, 맥니마 : 비율에 대해 분석\n",
    "* t-검정, 분산 분석 등 : 평균이 다른지 분석"
   ]
  },
  {
   "cell_type": "code",
   "execution_count": 201,
   "id": "73b9035e",
   "metadata": {},
   "outputs": [
    {
     "data": {
      "text/html": [
       "<div>\n",
       "<style scoped>\n",
       "    .dataframe tbody tr th:only-of-type {\n",
       "        vertical-align: middle;\n",
       "    }\n",
       "\n",
       "    .dataframe tbody tr th {\n",
       "        vertical-align: top;\n",
       "    }\n",
       "\n",
       "    .dataframe thead th {\n",
       "        text-align: right;\n",
       "    }\n",
       "</style>\n",
       "<table border=\"1\" class=\"dataframe\">\n",
       "  <thead>\n",
       "    <tr style=\"text-align: right;\">\n",
       "      <th></th>\n",
       "      <th>Creativity</th>\n",
       "      <th>Position</th>\n",
       "      <th>Novice</th>\n",
       "    </tr>\n",
       "  </thead>\n",
       "  <tbody>\n",
       "    <tr>\n",
       "      <th>0</th>\n",
       "      <td>53</td>\n",
       "      <td>1</td>\n",
       "      <td>0</td>\n",
       "    </tr>\n",
       "    <tr>\n",
       "      <th>1</th>\n",
       "      <td>36</td>\n",
       "      <td>3</td>\n",
       "      <td>1</td>\n",
       "    </tr>\n",
       "    <tr>\n",
       "      <th>2</th>\n",
       "      <td>31</td>\n",
       "      <td>4</td>\n",
       "      <td>0</td>\n",
       "    </tr>\n",
       "  </tbody>\n",
       "</table>\n",
       "</div>"
      ],
      "text/plain": [
       "   Creativity  Position  Novice\n",
       "0          53         1       0\n",
       "1          36         3       1\n",
       "2          31         4       0"
      ]
     },
     "execution_count": 201,
     "metadata": {},
     "output_type": "execute_result"
    }
   ],
   "source": [
    "liar = pd.read_excel('data/liar.xlsx')\n",
    "liar.head(3)\n",
    "# Creativity : 창의성 | 연속변수\n",
    "# Position : 등급 | 서열-순서가 있는 범주형\n",
    "# Novice : 초보자 | 0 : 처음 나온 사람, 1 : 경험이 있는 사람"
   ]
  },
  {
   "cell_type": "code",
   "execution_count": 198,
   "id": "2c894076",
   "metadata": {},
   "outputs": [
    {
     "data": {
      "text/plain": [
       "array([1, 3, 4, 2, 5, 6], dtype=int64)"
      ]
     },
     "execution_count": 198,
     "metadata": {},
     "output_type": "execute_result"
    }
   ],
   "source": [
    "liar.Position.unique()"
   ]
  },
  {
   "cell_type": "code",
   "execution_count": 200,
   "id": "617fc17a",
   "metadata": {},
   "outputs": [
    {
     "data": {
      "text/html": [
       "<div>\n",
       "<style scoped>\n",
       "    .dataframe tbody tr th:only-of-type {\n",
       "        vertical-align: middle;\n",
       "    }\n",
       "\n",
       "    .dataframe tbody tr th {\n",
       "        vertical-align: top;\n",
       "    }\n",
       "\n",
       "    .dataframe thead th {\n",
       "        text-align: right;\n",
       "    }\n",
       "</style>\n",
       "<table border=\"1\" class=\"dataframe\">\n",
       "  <thead>\n",
       "    <tr style=\"text-align: right;\">\n",
       "      <th></th>\n",
       "      <th>W</th>\n",
       "      <th>pval</th>\n",
       "      <th>equal_var</th>\n",
       "    </tr>\n",
       "  </thead>\n",
       "  <tbody>\n",
       "    <tr>\n",
       "      <th>levene</th>\n",
       "      <td>1.671988</td>\n",
       "      <td>0.15468</td>\n",
       "      <td>True</td>\n",
       "    </tr>\n",
       "  </tbody>\n",
       "</table>\n",
       "</div>"
      ],
      "text/plain": [
       "               W     pval  equal_var\n",
       "levene  1.671988  0.15468       True"
      ]
     },
     "execution_count": 200,
     "metadata": {},
     "output_type": "execute_result"
    }
   ],
   "source": [
    "# Position 별로 Creativity의 평균이 다른가?\n",
    "# 여러 집단의 평균이 다른가? >> *분산 분석*!!\n",
    "# 분산 분석 >> 등분산 검정\n",
    "pg.homoscedasticity(dv='Creativity', group='Position', data=liar)"
   ]
  },
  {
   "cell_type": "code",
   "execution_count": 194,
   "id": "9f7a6917",
   "metadata": {},
   "outputs": [
    {
     "data": {
      "text/html": [
       "<div>\n",
       "<style scoped>\n",
       "    .dataframe tbody tr th:only-of-type {\n",
       "        vertical-align: middle;\n",
       "    }\n",
       "\n",
       "    .dataframe tbody tr th {\n",
       "        vertical-align: top;\n",
       "    }\n",
       "\n",
       "    .dataframe thead th {\n",
       "        text-align: right;\n",
       "    }\n",
       "</style>\n",
       "<table border=\"1\" class=\"dataframe\">\n",
       "  <thead>\n",
       "    <tr style=\"text-align: right;\">\n",
       "      <th></th>\n",
       "      <th>Source</th>\n",
       "      <th>ddof1</th>\n",
       "      <th>ddof2</th>\n",
       "      <th>F</th>\n",
       "      <th>p-unc</th>\n",
       "      <th>np2</th>\n",
       "    </tr>\n",
       "  </thead>\n",
       "  <tbody>\n",
       "    <tr>\n",
       "      <th>0</th>\n",
       "      <td>Position</td>\n",
       "      <td>5</td>\n",
       "      <td>62</td>\n",
       "      <td>4.808166</td>\n",
       "      <td>0.000887</td>\n",
       "      <td>0.279412</td>\n",
       "    </tr>\n",
       "  </tbody>\n",
       "</table>\n",
       "</div>"
      ],
      "text/plain": [
       "     Source  ddof1  ddof2         F     p-unc       np2\n",
       "0  Position      5     62  4.808166  0.000887  0.279412"
      ]
     },
     "execution_count": 194,
     "metadata": {},
     "output_type": "execute_result"
    }
   ],
   "source": [
    "# 등분산이므로 등분산 분산 분석 사용\n",
    "pg.anova(dv='Creativity', between='Position', data=liar)\n",
    "# p < 0.05 : 귀무가설 기각 >> 어떤 Position의 평균이 다르다."
   ]
  },
  {
   "cell_type": "code",
   "execution_count": 199,
   "id": "1370b24a",
   "metadata": {},
   "outputs": [
    {
     "data": {
      "text/html": [
       "<div>\n",
       "<style scoped>\n",
       "    .dataframe tbody tr th:only-of-type {\n",
       "        vertical-align: middle;\n",
       "    }\n",
       "\n",
       "    .dataframe tbody tr th {\n",
       "        vertical-align: top;\n",
       "    }\n",
       "\n",
       "    .dataframe thead th {\n",
       "        text-align: right;\n",
       "    }\n",
       "</style>\n",
       "<table border=\"1\" class=\"dataframe\">\n",
       "  <thead>\n",
       "    <tr style=\"text-align: right;\">\n",
       "      <th></th>\n",
       "      <th>A</th>\n",
       "      <th>B</th>\n",
       "      <th>mean(A)</th>\n",
       "      <th>mean(B)</th>\n",
       "      <th>diff</th>\n",
       "      <th>se</th>\n",
       "      <th>T</th>\n",
       "      <th>p-tukey</th>\n",
       "      <th>hedges</th>\n",
       "    </tr>\n",
       "  </thead>\n",
       "  <tbody>\n",
       "    <tr>\n",
       "      <th>0</th>\n",
       "      <td>1</td>\n",
       "      <td>2</td>\n",
       "      <td>42.793103</td>\n",
       "      <td>42.200000</td>\n",
       "      <td>0.593103</td>\n",
       "      <td>2.278212</td>\n",
       "      <td>0.260337</td>\n",
       "      <td>0.999829</td>\n",
       "      <td>0.080492</td>\n",
       "    </tr>\n",
       "    <tr>\n",
       "      <th>1</th>\n",
       "      <td>1</td>\n",
       "      <td>3</td>\n",
       "      <td>42.793103</td>\n",
       "      <td>34.454545</td>\n",
       "      <td>8.338558</td>\n",
       "      <td>2.536571</td>\n",
       "      <td>3.287335</td>\n",
       "      <td>0.019798</td>\n",
       "      <td>1.211460</td>\n",
       "    </tr>\n",
       "    <tr>\n",
       "      <th>2</th>\n",
       "      <td>1</td>\n",
       "      <td>4</td>\n",
       "      <td>42.793103</td>\n",
       "      <td>32.750000</td>\n",
       "      <td>10.043103</td>\n",
       "      <td>2.860679</td>\n",
       "      <td>3.510741</td>\n",
       "      <td>0.010397</td>\n",
       "      <td>1.362572</td>\n",
       "    </tr>\n",
       "    <tr>\n",
       "      <th>3</th>\n",
       "      <td>1</td>\n",
       "      <td>5</td>\n",
       "      <td>42.793103</td>\n",
       "      <td>36.000000</td>\n",
       "      <td>6.793103</td>\n",
       "      <td>4.344379</td>\n",
       "      <td>1.563654</td>\n",
       "      <td>0.625067</td>\n",
       "      <td>0.808835</td>\n",
       "    </tr>\n",
       "    <tr>\n",
       "      <th>4</th>\n",
       "      <td>1</td>\n",
       "      <td>6</td>\n",
       "      <td>42.793103</td>\n",
       "      <td>48.000000</td>\n",
       "      <td>-5.206897</td>\n",
       "      <td>5.236959</td>\n",
       "      <td>-0.994260</td>\n",
       "      <td>0.918073</td>\n",
       "      <td>-0.696619</td>\n",
       "    </tr>\n",
       "    <tr>\n",
       "      <th>5</th>\n",
       "      <td>2</td>\n",
       "      <td>3</td>\n",
       "      <td>42.200000</td>\n",
       "      <td>34.454545</td>\n",
       "      <td>7.745455</td>\n",
       "      <td>2.843525</td>\n",
       "      <td>2.723892</td>\n",
       "      <td>0.084853</td>\n",
       "      <td>1.245019</td>\n",
       "    </tr>\n",
       "    <tr>\n",
       "      <th>6</th>\n",
       "      <td>2</td>\n",
       "      <td>4</td>\n",
       "      <td>42.200000</td>\n",
       "      <td>32.750000</td>\n",
       "      <td>9.450000</td>\n",
       "      <td>3.136069</td>\n",
       "      <td>3.013326</td>\n",
       "      <td>0.041506</td>\n",
       "      <td>1.345824</td>\n",
       "    </tr>\n",
       "    <tr>\n",
       "      <th>7</th>\n",
       "      <td>2</td>\n",
       "      <td>5</td>\n",
       "      <td>42.200000</td>\n",
       "      <td>36.000000</td>\n",
       "      <td>6.200000</td>\n",
       "      <td>4.530460</td>\n",
       "      <td>1.368514</td>\n",
       "      <td>0.745355</td>\n",
       "      <td>0.695762</td>\n",
       "    </tr>\n",
       "    <tr>\n",
       "      <th>8</th>\n",
       "      <td>2</td>\n",
       "      <td>6</td>\n",
       "      <td>42.200000</td>\n",
       "      <td>48.000000</td>\n",
       "      <td>-5.800000</td>\n",
       "      <td>5.392326</td>\n",
       "      <td>-1.075603</td>\n",
       "      <td>0.889197</td>\n",
       "      <td>-0.818591</td>\n",
       "    </tr>\n",
       "    <tr>\n",
       "      <th>9</th>\n",
       "      <td>3</td>\n",
       "      <td>4</td>\n",
       "      <td>34.454545</td>\n",
       "      <td>32.750000</td>\n",
       "      <td>1.704545</td>\n",
       "      <td>3.328494</td>\n",
       "      <td>0.512107</td>\n",
       "      <td>0.995521</td>\n",
       "      <td>0.302591</td>\n",
       "    </tr>\n",
       "    <tr>\n",
       "      <th>10</th>\n",
       "      <td>3</td>\n",
       "      <td>5</td>\n",
       "      <td>34.454545</td>\n",
       "      <td>36.000000</td>\n",
       "      <td>-1.545455</td>\n",
       "      <td>4.665728</td>\n",
       "      <td>-0.331235</td>\n",
       "      <td>0.999445</td>\n",
       "      <td>-0.191813</td>\n",
       "    </tr>\n",
       "    <tr>\n",
       "      <th>11</th>\n",
       "      <td>3</td>\n",
       "      <td>6</td>\n",
       "      <td>34.454545</td>\n",
       "      <td>48.000000</td>\n",
       "      <td>-13.545455</td>\n",
       "      <td>5.506462</td>\n",
       "      <td>-2.459920</td>\n",
       "      <td>0.152291</td>\n",
       "      <td>-2.892623</td>\n",
       "    </tr>\n",
       "    <tr>\n",
       "      <th>12</th>\n",
       "      <td>4</td>\n",
       "      <td>5</td>\n",
       "      <td>32.750000</td>\n",
       "      <td>36.000000</td>\n",
       "      <td>-3.250000</td>\n",
       "      <td>4.849568</td>\n",
       "      <td>-0.670163</td>\n",
       "      <td>0.984576</td>\n",
       "      <td>-0.320521</td>\n",
       "    </tr>\n",
       "    <tr>\n",
       "      <th>13</th>\n",
       "      <td>4</td>\n",
       "      <td>6</td>\n",
       "      <td>32.750000</td>\n",
       "      <td>48.000000</td>\n",
       "      <td>-15.250000</td>\n",
       "      <td>5.663075</td>\n",
       "      <td>-2.692883</td>\n",
       "      <td>0.091204</td>\n",
       "      <td>-2.251193</td>\n",
       "    </tr>\n",
       "    <tr>\n",
       "      <th>14</th>\n",
       "      <td>5</td>\n",
       "      <td>6</td>\n",
       "      <td>36.000000</td>\n",
       "      <td>48.000000</td>\n",
       "      <td>-12.000000</td>\n",
       "      <td>6.539156</td>\n",
       "      <td>-1.835099</td>\n",
       "      <td>0.451412</td>\n",
       "      <td>-0.682875</td>\n",
       "    </tr>\n",
       "  </tbody>\n",
       "</table>\n",
       "</div>"
      ],
      "text/plain": [
       "    A  B    mean(A)    mean(B)       diff        se         T   p-tukey  \\\n",
       "0   1  2  42.793103  42.200000   0.593103  2.278212  0.260337  0.999829   \n",
       "1   1  3  42.793103  34.454545   8.338558  2.536571  3.287335  0.019798   \n",
       "2   1  4  42.793103  32.750000  10.043103  2.860679  3.510741  0.010397   \n",
       "3   1  5  42.793103  36.000000   6.793103  4.344379  1.563654  0.625067   \n",
       "4   1  6  42.793103  48.000000  -5.206897  5.236959 -0.994260  0.918073   \n",
       "5   2  3  42.200000  34.454545   7.745455  2.843525  2.723892  0.084853   \n",
       "6   2  4  42.200000  32.750000   9.450000  3.136069  3.013326  0.041506   \n",
       "7   2  5  42.200000  36.000000   6.200000  4.530460  1.368514  0.745355   \n",
       "8   2  6  42.200000  48.000000  -5.800000  5.392326 -1.075603  0.889197   \n",
       "9   3  4  34.454545  32.750000   1.704545  3.328494  0.512107  0.995521   \n",
       "10  3  5  34.454545  36.000000  -1.545455  4.665728 -0.331235  0.999445   \n",
       "11  3  6  34.454545  48.000000 -13.545455  5.506462 -2.459920  0.152291   \n",
       "12  4  5  32.750000  36.000000  -3.250000  4.849568 -0.670163  0.984576   \n",
       "13  4  6  32.750000  48.000000 -15.250000  5.663075 -2.692883  0.091204   \n",
       "14  5  6  36.000000  48.000000 -12.000000  6.539156 -1.835099  0.451412   \n",
       "\n",
       "      hedges  \n",
       "0   0.080492  \n",
       "1   1.211460  \n",
       "2   1.362572  \n",
       "3   0.808835  \n",
       "4  -0.696619  \n",
       "5   1.245019  \n",
       "6   1.345824  \n",
       "7   0.695762  \n",
       "8  -0.818591  \n",
       "9   0.302591  \n",
       "10 -0.191813  \n",
       "11 -2.892623  \n",
       "12 -0.320521  \n",
       "13 -2.251193  \n",
       "14 -0.682875  "
      ]
     },
     "execution_count": 199,
     "metadata": {},
     "output_type": "execute_result"
    }
   ],
   "source": [
    "pg.pairwise_tukey(dv='Creativity', between='Position', data=liar)"
   ]
  },
  {
   "cell_type": "code",
   "execution_count": 212,
   "id": "a2531cc6",
   "metadata": {},
   "outputs": [
    {
     "data": {
      "text/html": [
       "<div>\n",
       "<style scoped>\n",
       "    .dataframe tbody tr th:only-of-type {\n",
       "        vertical-align: middle;\n",
       "    }\n",
       "\n",
       "    .dataframe tbody tr th {\n",
       "        vertical-align: top;\n",
       "    }\n",
       "\n",
       "    .dataframe thead th {\n",
       "        text-align: right;\n",
       "    }\n",
       "</style>\n",
       "<table border=\"1\" class=\"dataframe\">\n",
       "  <thead>\n",
       "    <tr style=\"text-align: right;\">\n",
       "      <th></th>\n",
       "      <th>T</th>\n",
       "      <th>dof</th>\n",
       "      <th>alternative</th>\n",
       "      <th>p-val</th>\n",
       "      <th>CI95%</th>\n",
       "      <th>cohen-d</th>\n",
       "      <th>BF10</th>\n",
       "      <th>power</th>\n",
       "    </tr>\n",
       "  </thead>\n",
       "  <tbody>\n",
       "    <tr>\n",
       "      <th>T-test</th>\n",
       "      <td>2.188868</td>\n",
       "      <td>63.88066</td>\n",
       "      <td>two-sided</td>\n",
       "      <td>0.032268</td>\n",
       "      <td>[0.37, 8.05]</td>\n",
       "      <td>0.533061</td>\n",
       "      <td>1.856</td>\n",
       "      <td>0.581197</td>\n",
       "    </tr>\n",
       "  </tbody>\n",
       "</table>\n",
       "</div>"
      ],
      "text/plain": [
       "               T       dof alternative     p-val         CI95%   cohen-d  \\\n",
       "T-test  2.188868  63.88066   two-sided  0.032268  [0.37, 8.05]  0.533061   \n",
       "\n",
       "         BF10     power  \n",
       "T-test  1.856  0.581197  "
      ]
     },
     "execution_count": 212,
     "metadata": {},
     "output_type": "execute_result"
    }
   ],
   "source": [
    "# Novice와 아닌 사람 사이에 Creativity가 다른가?\n",
    "# 두 집단 사이의 평균이 다른가? >> 독립표본 t-검점\n",
    "# 독립표본 t-검정\n",
    "초보자 = liar[liar['Novice'] == 1]['Creativity']\n",
    "숙련자 = liar[liar['Novice'] == 0]['Creativity']\n",
    "pg.ttest(숙련자, 초보자)"
   ]
  },
  {
   "cell_type": "code",
   "execution_count": 209,
   "id": "7d9b3454",
   "metadata": {},
   "outputs": [
    {
     "name": "stderr",
     "output_type": "stream",
     "text": [
      "C:\\Users\\juku\\anaconda3\\lib\\site-packages\\pingouin\\contingency.py:150: UserWarning: Low count on observed frequencies.\n",
      "  warnings.warn(\"Low count on {} frequencies.\".format(name))\n",
      "C:\\Users\\juku\\anaconda3\\lib\\site-packages\\pingouin\\contingency.py:150: UserWarning: Low count on expected frequencies.\n",
      "  warnings.warn(\"Low count on {} frequencies.\".format(name))\n"
     ]
    },
    {
     "data": {
      "text/html": [
       "<div>\n",
       "<style scoped>\n",
       "    .dataframe tbody tr th:only-of-type {\n",
       "        vertical-align: middle;\n",
       "    }\n",
       "\n",
       "    .dataframe tbody tr th {\n",
       "        vertical-align: top;\n",
       "    }\n",
       "\n",
       "    .dataframe thead th {\n",
       "        text-align: right;\n",
       "    }\n",
       "</style>\n",
       "<table border=\"1\" class=\"dataframe\">\n",
       "  <thead>\n",
       "    <tr style=\"text-align: right;\">\n",
       "      <th></th>\n",
       "      <th>test</th>\n",
       "      <th>lambda</th>\n",
       "      <th>chi2</th>\n",
       "      <th>dof</th>\n",
       "      <th>pval</th>\n",
       "      <th>cramer</th>\n",
       "      <th>power</th>\n",
       "    </tr>\n",
       "  </thead>\n",
       "  <tbody>\n",
       "    <tr>\n",
       "      <th>0</th>\n",
       "      <td>pearson</td>\n",
       "      <td>1.000000</td>\n",
       "      <td>1.470976</td>\n",
       "      <td>5.0</td>\n",
       "      <td>0.916395</td>\n",
       "      <td>0.147078</td>\n",
       "      <td>0.125049</td>\n",
       "    </tr>\n",
       "    <tr>\n",
       "      <th>1</th>\n",
       "      <td>cressie-read</td>\n",
       "      <td>0.666667</td>\n",
       "      <td>1.474931</td>\n",
       "      <td>5.0</td>\n",
       "      <td>0.915945</td>\n",
       "      <td>0.147276</td>\n",
       "      <td>0.125280</td>\n",
       "    </tr>\n",
       "    <tr>\n",
       "      <th>2</th>\n",
       "      <td>log-likelihood</td>\n",
       "      <td>0.000000</td>\n",
       "      <td>1.487222</td>\n",
       "      <td>5.0</td>\n",
       "      <td>0.914540</td>\n",
       "      <td>0.147888</td>\n",
       "      <td>0.125997</td>\n",
       "    </tr>\n",
       "    <tr>\n",
       "      <th>3</th>\n",
       "      <td>freeman-tukey</td>\n",
       "      <td>-0.500000</td>\n",
       "      <td>1.500421</td>\n",
       "      <td>5.0</td>\n",
       "      <td>0.913021</td>\n",
       "      <td>0.148543</td>\n",
       "      <td>0.126769</td>\n",
       "    </tr>\n",
       "    <tr>\n",
       "      <th>4</th>\n",
       "      <td>mod-log-likelihood</td>\n",
       "      <td>-1.000000</td>\n",
       "      <td>1.517203</td>\n",
       "      <td>5.0</td>\n",
       "      <td>0.911076</td>\n",
       "      <td>0.149371</td>\n",
       "      <td>0.127752</td>\n",
       "    </tr>\n",
       "    <tr>\n",
       "      <th>5</th>\n",
       "      <td>neyman</td>\n",
       "      <td>-2.000000</td>\n",
       "      <td>1.562302</td>\n",
       "      <td>5.0</td>\n",
       "      <td>0.905770</td>\n",
       "      <td>0.151575</td>\n",
       "      <td>0.130406</td>\n",
       "    </tr>\n",
       "  </tbody>\n",
       "</table>\n",
       "</div>"
      ],
      "text/plain": [
       "                 test    lambda      chi2  dof      pval    cramer     power\n",
       "0             pearson  1.000000  1.470976  5.0  0.916395  0.147078  0.125049\n",
       "1        cressie-read  0.666667  1.474931  5.0  0.915945  0.147276  0.125280\n",
       "2      log-likelihood  0.000000  1.487222  5.0  0.914540  0.147888  0.125997\n",
       "3       freeman-tukey -0.500000  1.500421  5.0  0.913021  0.148543  0.126769\n",
       "4  mod-log-likelihood -1.000000  1.517203  5.0  0.911076  0.149371  0.127752\n",
       "5              neyman -2.000000  1.562302  5.0  0.905770  0.151575  0.130406"
      ]
     },
     "execution_count": 209,
     "metadata": {},
     "output_type": "execute_result"
    }
   ],
   "source": [
    "# Novice와 아닌 사람 사이에 Position이 다른가?\n",
    "# 맨휘트니 U 검정 및 카이제곱 독립성 검정.\n",
    "# 1. 카이제곱 독립성 검정\n",
    "expected, observed, stats = pg.chi2_independence(x = 'Novice',y = 'Position', data = liar)\n",
    "stats"
   ]
  },
  {
   "cell_type": "code",
   "execution_count": 210,
   "id": "20e7bdd8",
   "metadata": {},
   "outputs": [
    {
     "data": {
      "text/html": [
       "<div>\n",
       "<style scoped>\n",
       "    .dataframe tbody tr th:only-of-type {\n",
       "        vertical-align: middle;\n",
       "    }\n",
       "\n",
       "    .dataframe tbody tr th {\n",
       "        vertical-align: top;\n",
       "    }\n",
       "\n",
       "    .dataframe thead th {\n",
       "        text-align: right;\n",
       "    }\n",
       "</style>\n",
       "<table border=\"1\" class=\"dataframe\">\n",
       "  <thead>\n",
       "    <tr style=\"text-align: right;\">\n",
       "      <th></th>\n",
       "      <th>U-val</th>\n",
       "      <th>alternative</th>\n",
       "      <th>p-val</th>\n",
       "      <th>RBC</th>\n",
       "      <th>CLES</th>\n",
       "    </tr>\n",
       "  </thead>\n",
       "  <tbody>\n",
       "    <tr>\n",
       "      <th>MWU</th>\n",
       "      <td>508.5</td>\n",
       "      <td>two-sided</td>\n",
       "      <td>0.377171</td>\n",
       "      <td>0.119481</td>\n",
       "      <td>0.44026</td>\n",
       "    </tr>\n",
       "  </tbody>\n",
       "</table>\n",
       "</div>"
      ],
      "text/plain": [
       "     U-val alternative     p-val       RBC     CLES\n",
       "MWU  508.5   two-sided  0.377171  0.119481  0.44026"
      ]
     },
     "execution_count": 210,
     "metadata": {},
     "output_type": "execute_result"
    }
   ],
   "source": [
    "# 2. 맨휘트니 U 검정\n",
    "pg.mwu(liar[liar['Novice']==0]['Position'], liar[liar['Novice']==1]['Position'])"
   ]
  },
  {
   "cell_type": "markdown",
   "id": "4599942a",
   "metadata": {},
   "source": [
    "* 상관분석에서의 귀무가설 : 모집단에서 상관계수 = 0 >> 상관이 없다\n",
    "* 기각 >> 상관이 있긴 하다!"
   ]
  },
  {
   "cell_type": "code",
   "execution_count": 213,
   "id": "f6e6f451",
   "metadata": {},
   "outputs": [
    {
     "data": {
      "text/html": [
       "<div>\n",
       "<style scoped>\n",
       "    .dataframe tbody tr th:only-of-type {\n",
       "        vertical-align: middle;\n",
       "    }\n",
       "\n",
       "    .dataframe tbody tr th {\n",
       "        vertical-align: top;\n",
       "    }\n",
       "\n",
       "    .dataframe thead th {\n",
       "        text-align: right;\n",
       "    }\n",
       "</style>\n",
       "<table border=\"1\" class=\"dataframe\">\n",
       "  <thead>\n",
       "    <tr style=\"text-align: right;\">\n",
       "      <th></th>\n",
       "      <th>mileage</th>\n",
       "      <th>model</th>\n",
       "      <th>price</th>\n",
       "      <th>year</th>\n",
       "      <th>my_car_damage</th>\n",
       "      <th>other_car_damage</th>\n",
       "    </tr>\n",
       "  </thead>\n",
       "  <tbody>\n",
       "    <tr>\n",
       "      <th>0</th>\n",
       "      <td>63608</td>\n",
       "      <td>K3</td>\n",
       "      <td>970</td>\n",
       "      <td>2017</td>\n",
       "      <td>0</td>\n",
       "      <td>564596</td>\n",
       "    </tr>\n",
       "    <tr>\n",
       "      <th>1</th>\n",
       "      <td>69336</td>\n",
       "      <td>K3</td>\n",
       "      <td>1130</td>\n",
       "      <td>2015</td>\n",
       "      <td>1839700</td>\n",
       "      <td>1140150</td>\n",
       "    </tr>\n",
       "    <tr>\n",
       "      <th>2</th>\n",
       "      <td>36000</td>\n",
       "      <td>K3</td>\n",
       "      <td>1380</td>\n",
       "      <td>2016</td>\n",
       "      <td>446520</td>\n",
       "      <td>2244910</td>\n",
       "    </tr>\n",
       "    <tr>\n",
       "      <th>3</th>\n",
       "      <td>19029</td>\n",
       "      <td>K3</td>\n",
       "      <td>1390</td>\n",
       "      <td>2017</td>\n",
       "      <td>889000</td>\n",
       "      <td>4196110</td>\n",
       "    </tr>\n",
       "    <tr>\n",
       "      <th>4</th>\n",
       "      <td>97090</td>\n",
       "      <td>K3</td>\n",
       "      <td>760</td>\n",
       "      <td>2015</td>\n",
       "      <td>2339137</td>\n",
       "      <td>2029570</td>\n",
       "    </tr>\n",
       "  </tbody>\n",
       "</table>\n",
       "</div>"
      ],
      "text/plain": [
       "   mileage model  price  year  my_car_damage  other_car_damage\n",
       "0    63608    K3    970  2017              0            564596\n",
       "1    69336    K3   1130  2015        1839700           1140150\n",
       "2    36000    K3   1380  2016         446520           2244910\n",
       "3    19029    K3   1390  2017         889000           4196110\n",
       "4    97090    K3    760  2015        2339137           2029570"
      ]
     },
     "execution_count": 213,
     "metadata": {},
     "output_type": "execute_result"
    }
   ],
   "source": [
    "import pingouin as pg\n",
    "import pandas as pd\n",
    "df = pd.read_excel('data/car.xlsx')\n",
    "df.head()"
   ]
  },
  {
   "cell_type": "code",
   "execution_count": 214,
   "id": "0790c3cd",
   "metadata": {},
   "outputs": [
    {
     "data": {
      "text/plain": [
       "<AxesSubplot:xlabel='mileage', ylabel='price'>"
      ]
     },
     "execution_count": 214,
     "metadata": {},
     "output_type": "execute_result"
    },
    {
     "data": {
      "image/png": "[encoded data removed]",
      "text/plain": [
       "<Figure size 640x480 with 1 Axes>"
      ]
     },
     "metadata": {},
     "output_type": "display_data"
    }
   ],
   "source": [
    "import seaborn as sns\n",
    "sns.scatterplot(x='mileage', y='price', data=df)"
   ]
  },
  {
   "cell_type": "code",
   "execution_count": 216,
   "id": "2f50d5b1",
   "metadata": {},
   "outputs": [
    {
     "data": {
      "text/html": [
       "<div>\n",
       "<style scoped>\n",
       "    .dataframe tbody tr th:only-of-type {\n",
       "        vertical-align: middle;\n",
       "    }\n",
       "\n",
       "    .dataframe tbody tr th {\n",
       "        vertical-align: top;\n",
       "    }\n",
       "\n",
       "    .dataframe thead th {\n",
       "        text-align: right;\n",
       "    }\n",
       "</style>\n",
       "<table border=\"1\" class=\"dataframe\">\n",
       "  <thead>\n",
       "    <tr style=\"text-align: right;\">\n",
       "      <th></th>\n",
       "      <th>n</th>\n",
       "      <th>r</th>\n",
       "      <th>CI95%</th>\n",
       "      <th>p-val</th>\n",
       "      <th>BF10</th>\n",
       "      <th>power</th>\n",
       "    </tr>\n",
       "  </thead>\n",
       "  <tbody>\n",
       "    <tr>\n",
       "      <th>pearson</th>\n",
       "      <td>274</td>\n",
       "      <td>-0.67616</td>\n",
       "      <td>[-0.74, -0.61]</td>\n",
       "      <td>5.809388e-38</td>\n",
       "      <td>5.069e+34</td>\n",
       "      <td>1.0</td>\n",
       "    </tr>\n",
       "  </tbody>\n",
       "</table>\n",
       "</div>"
      ],
      "text/plain": [
       "           n        r           CI95%         p-val       BF10  power\n",
       "pearson  274 -0.67616  [-0.74, -0.61]  5.809388e-38  5.069e+34    1.0"
      ]
     },
     "execution_count": 216,
     "metadata": {},
     "output_type": "execute_result"
    }
   ],
   "source": [
    "pg.corr(df['mileage'], df['price']) # 피어슨 상관계수: -0.67616"
   ]
  },
  {
   "cell_type": "code",
   "execution_count": 218,
   "id": "3f24023d",
   "metadata": {},
   "outputs": [],
   "source": [
    "## 실습 \n",
    "# 연식(year) 과 가격(price) 상관관계"
   ]
  },
  {
   "cell_type": "code",
   "execution_count": 219,
   "id": "088ec37f",
   "metadata": {},
   "outputs": [
    {
     "data": {
      "text/html": [
       "<div>\n",
       "<style scoped>\n",
       "    .dataframe tbody tr th:only-of-type {\n",
       "        vertical-align: middle;\n",
       "    }\n",
       "\n",
       "    .dataframe tbody tr th {\n",
       "        vertical-align: top;\n",
       "    }\n",
       "\n",
       "    .dataframe thead th {\n",
       "        text-align: right;\n",
       "    }\n",
       "</style>\n",
       "<table border=\"1\" class=\"dataframe\">\n",
       "  <thead>\n",
       "    <tr style=\"text-align: right;\">\n",
       "      <th></th>\n",
       "      <th>n</th>\n",
       "      <th>r</th>\n",
       "      <th>CI95%</th>\n",
       "      <th>p-val</th>\n",
       "      <th>BF10</th>\n",
       "      <th>power</th>\n",
       "    </tr>\n",
       "  </thead>\n",
       "  <tbody>\n",
       "    <tr>\n",
       "      <th>pearson</th>\n",
       "      <td>274</td>\n",
       "      <td>0.828908</td>\n",
       "      <td>[0.79, 0.86]</td>\n",
       "      <td>1.388002e-70</td>\n",
       "      <td>1.004e+67</td>\n",
       "      <td>1.0</td>\n",
       "    </tr>\n",
       "  </tbody>\n",
       "</table>\n",
       "</div>"
      ],
      "text/plain": [
       "           n         r         CI95%         p-val       BF10  power\n",
       "pearson  274  0.828908  [0.79, 0.86]  1.388002e-70  1.004e+67    1.0"
      ]
     },
     "execution_count": 219,
     "metadata": {},
     "output_type": "execute_result"
    }
   ],
   "source": [
    "pg.corr(df['year'], df['price'])"
   ]
  },
  {
   "cell_type": "code",
   "execution_count": 220,
   "id": "5caefe4a",
   "metadata": {
    "scrolled": false
   },
   "outputs": [
    {
     "data": {
      "text/plain": [
       "<AxesSubplot:xlabel='year', ylabel='price'>"
      ]
     },
     "execution_count": 220,
     "metadata": {},
     "output_type": "execute_result"
    },
    {
     "data": {
      "image/png": "[encoded data removed]",
      "text/plain": [
       "<Figure size 640x480 with 1 Axes>"
      ]
     },
     "metadata": {},
     "output_type": "display_data"
    }
   ],
   "source": [
    "sns.scatterplot(data = df, x = df['year'], y = df['price'])"
   ]
  },
  {
   "cell_type": "code",
   "execution_count": 224,
   "id": "3b347b8e",
   "metadata": {},
   "outputs": [
    {
     "data": {
      "text/html": [
       "<div>\n",
       "<style scoped>\n",
       "    .dataframe tbody tr th:only-of-type {\n",
       "        vertical-align: middle;\n",
       "    }\n",
       "\n",
       "    .dataframe tbody tr th {\n",
       "        vertical-align: top;\n",
       "    }\n",
       "\n",
       "    .dataframe thead th {\n",
       "        text-align: right;\n",
       "    }\n",
       "</style>\n",
       "<table border=\"1\" class=\"dataframe\">\n",
       "  <thead>\n",
       "    <tr style=\"text-align: right;\">\n",
       "      <th></th>\n",
       "      <th>n</th>\n",
       "      <th>r</th>\n",
       "      <th>CI95%</th>\n",
       "      <th>p-val</th>\n",
       "      <th>BF10</th>\n",
       "      <th>power</th>\n",
       "    </tr>\n",
       "  </thead>\n",
       "  <tbody>\n",
       "    <tr>\n",
       "      <th>pearson</th>\n",
       "      <td>274</td>\n",
       "      <td>0.00795</td>\n",
       "      <td>[-0.11, 0.13]</td>\n",
       "      <td>0.895775</td>\n",
       "      <td>0.076</td>\n",
       "      <td>0.051912</td>\n",
       "    </tr>\n",
       "  </tbody>\n",
       "</table>\n",
       "</div>"
      ],
      "text/plain": [
       "           n        r          CI95%     p-val   BF10     power\n",
       "pearson  274  0.00795  [-0.11, 0.13]  0.895775  0.076  0.051912"
      ]
     },
     "execution_count": 224,
     "metadata": {},
     "output_type": "execute_result"
    }
   ],
   "source": [
    "pg.corr(df.mileage, df.other_car_damage)\n",
    "#귀무가설: 상관 없다 -> 기각 못함 -> 결론 유보\n",
    "#신뢰구간 -0.1  0  +0.1"
   ]
  },
  {
   "cell_type": "code",
   "execution_count": 226,
   "id": "5cbbd388",
   "metadata": {},
   "outputs": [
    {
     "data": {
      "text/html": [
       "<div>\n",
       "<style scoped>\n",
       "    .dataframe tbody tr th:only-of-type {\n",
       "        vertical-align: middle;\n",
       "    }\n",
       "\n",
       "    .dataframe tbody tr th {\n",
       "        vertical-align: top;\n",
       "    }\n",
       "\n",
       "    .dataframe thead th {\n",
       "        text-align: right;\n",
       "    }\n",
       "</style>\n",
       "<table border=\"1\" class=\"dataframe\">\n",
       "  <thead>\n",
       "    <tr style=\"text-align: right;\">\n",
       "      <th></th>\n",
       "      <th>mileage</th>\n",
       "      <th>price</th>\n",
       "      <th>year</th>\n",
       "      <th>my_car_damage</th>\n",
       "      <th>other_car_damage</th>\n",
       "    </tr>\n",
       "  </thead>\n",
       "  <tbody>\n",
       "    <tr>\n",
       "      <th>mileage</th>\n",
       "      <td>1.000000</td>\n",
       "      <td>-0.676160</td>\n",
       "      <td>-0.569850</td>\n",
       "      <td>0.192549</td>\n",
       "      <td>0.007950</td>\n",
       "    </tr>\n",
       "    <tr>\n",
       "      <th>price</th>\n",
       "      <td>-0.676160</td>\n",
       "      <td>1.000000</td>\n",
       "      <td>0.828908</td>\n",
       "      <td>-0.418789</td>\n",
       "      <td>-0.245997</td>\n",
       "    </tr>\n",
       "    <tr>\n",
       "      <th>year</th>\n",
       "      <td>-0.569850</td>\n",
       "      <td>0.828908</td>\n",
       "      <td>1.000000</td>\n",
       "      <td>-0.318469</td>\n",
       "      <td>-0.204411</td>\n",
       "    </tr>\n",
       "    <tr>\n",
       "      <th>my_car_damage</th>\n",
       "      <td>0.192549</td>\n",
       "      <td>-0.418789</td>\n",
       "      <td>-0.318469</td>\n",
       "      <td>1.000000</td>\n",
       "      <td>0.243626</td>\n",
       "    </tr>\n",
       "    <tr>\n",
       "      <th>other_car_damage</th>\n",
       "      <td>0.007950</td>\n",
       "      <td>-0.245997</td>\n",
       "      <td>-0.204411</td>\n",
       "      <td>0.243626</td>\n",
       "      <td>1.000000</td>\n",
       "    </tr>\n",
       "  </tbody>\n",
       "</table>\n",
       "</div>"
      ],
      "text/plain": [
       "                   mileage     price      year  my_car_damage  \\\n",
       "mileage           1.000000 -0.676160 -0.569850       0.192549   \n",
       "price            -0.676160  1.000000  0.828908      -0.418789   \n",
       "year             -0.569850  0.828908  1.000000      -0.318469   \n",
       "my_car_damage     0.192549 -0.418789 -0.318469       1.000000   \n",
       "other_car_damage  0.007950 -0.245997 -0.204411       0.243626   \n",
       "\n",
       "                  other_car_damage  \n",
       "mileage                   0.007950  \n",
       "price                    -0.245997  \n",
       "year                     -0.204411  \n",
       "my_car_damage             0.243626  \n",
       "other_car_damage          1.000000  "
      ]
     },
     "execution_count": 226,
     "metadata": {},
     "output_type": "execute_result"
    }
   ],
   "source": [
    "df.corr() # 한번에 전부 비교 >>  상관행렬 !"
   ]
  },
  {
   "cell_type": "markdown",
   "id": "37767f33",
   "metadata": {},
   "source": [
    "* 상관행렬을 볼 때 조심할 것!\n",
    "* 상관행렬은 사실상 상관분석을 아~주 많이 한 것 => 다중비교 문제!\n",
    "* \n",
    "* 상상 : 데이터 분석을 많이 하면 좋은 거다\n",
    "* 통계적 진실 : 데이터 분석을 많이 하면 반드시 이상한 결과가 나온다\n",
    "* \n",
    "* A : 제가 밤을 새서 데이터 분석을 했습니다 !\n",
    "* B (상식인) : 와 훌륭하네요 !\n",
    "* C (통계인) : 미친 거 아니야? 큰일 낼 사람이네 ..."
   ]
  },
  {
   "cell_type": "code",
   "execution_count": 251,
   "id": "bb1ddf62",
   "metadata": {},
   "outputs": [
    {
     "data": {
      "text/html": [
       "<div>\n",
       "<style scoped>\n",
       "    .dataframe tbody tr th:only-of-type {\n",
       "        vertical-align: middle;\n",
       "    }\n",
       "\n",
       "    .dataframe tbody tr th {\n",
       "        vertical-align: top;\n",
       "    }\n",
       "\n",
       "    .dataframe thead th {\n",
       "        text-align: right;\n",
       "    }\n",
       "</style>\n",
       "<table border=\"1\" class=\"dataframe\">\n",
       "  <thead>\n",
       "    <tr style=\"text-align: right;\">\n",
       "      <th></th>\n",
       "      <th>Date</th>\n",
       "      <th>GLD</th>\n",
       "      <th>SPX</th>\n",
       "    </tr>\n",
       "  </thead>\n",
       "  <tbody>\n",
       "    <tr>\n",
       "      <th>0</th>\n",
       "      <td>44958</td>\n",
       "      <td>1850.6</td>\n",
       "      <td>4147.60</td>\n",
       "    </tr>\n",
       "    <tr>\n",
       "      <th>1</th>\n",
       "      <td>44927</td>\n",
       "      <td>1929.5</td>\n",
       "      <td>4076.60</td>\n",
       "    </tr>\n",
       "    <tr>\n",
       "      <th>2</th>\n",
       "      <td>44896</td>\n",
       "      <td>1826.2</td>\n",
       "      <td>3839.50</td>\n",
       "    </tr>\n",
       "    <tr>\n",
       "      <th>3</th>\n",
       "      <td>44866</td>\n",
       "      <td>1759.9</td>\n",
       "      <td>4080.11</td>\n",
       "    </tr>\n",
       "    <tr>\n",
       "      <th>4</th>\n",
       "      <td>44835</td>\n",
       "      <td>1640.7</td>\n",
       "      <td>3871.98</td>\n",
       "    </tr>\n",
       "  </tbody>\n",
       "</table>\n",
       "</div>"
      ],
      "text/plain": [
       "    Date     GLD      SPX\n",
       "0  44958  1850.6  4147.60\n",
       "1  44927  1929.5  4076.60\n",
       "2  44896  1826.2  3839.50\n",
       "3  44866  1759.9  4080.11\n",
       "4  44835  1640.7  3871.98"
      ]
     },
     "execution_count": 251,
     "metadata": {},
     "output_type": "execute_result"
    }
   ],
   "source": [
    "asset = pd.read_excel('data/asset.xlsx')\n",
    "asset .head()"
   ]
  },
  {
   "cell_type": "code",
   "execution_count": 252,
   "id": "a5c54f2c",
   "metadata": {},
   "outputs": [
    {
     "data": {
      "text/html": [
       "<div>\n",
       "<style scoped>\n",
       "    .dataframe tbody tr th:only-of-type {\n",
       "        vertical-align: middle;\n",
       "    }\n",
       "\n",
       "    .dataframe tbody tr th {\n",
       "        vertical-align: top;\n",
       "    }\n",
       "\n",
       "    .dataframe thead th {\n",
       "        text-align: right;\n",
       "    }\n",
       "</style>\n",
       "<table border=\"1\" class=\"dataframe\">\n",
       "  <thead>\n",
       "    <tr style=\"text-align: right;\">\n",
       "      <th></th>\n",
       "      <th>n</th>\n",
       "      <th>r</th>\n",
       "      <th>CI95%</th>\n",
       "      <th>p-val</th>\n",
       "      <th>BF10</th>\n",
       "      <th>power</th>\n",
       "    </tr>\n",
       "  </thead>\n",
       "  <tbody>\n",
       "    <tr>\n",
       "      <th>pearson</th>\n",
       "      <td>240</td>\n",
       "      <td>0.686535</td>\n",
       "      <td>[0.61, 0.75]</td>\n",
       "      <td>8.580001e-35</td>\n",
       "      <td>3.763e+31</td>\n",
       "      <td>1.0</td>\n",
       "    </tr>\n",
       "  </tbody>\n",
       "</table>\n",
       "</div>"
      ],
      "text/plain": [
       "           n         r         CI95%         p-val       BF10  power\n",
       "pearson  240  0.686535  [0.61, 0.75]  8.580001e-35  3.763e+31    1.0"
      ]
     },
     "execution_count": 252,
     "metadata": {},
     "output_type": "execute_result"
    }
   ],
   "source": [
    "pg.corr(asset['GLD'], asset['SPX'])"
   ]
  },
  {
   "cell_type": "code",
   "execution_count": 253,
   "id": "31615464",
   "metadata": {},
   "outputs": [
    {
     "data": {
      "text/plain": [
       "<AxesSubplot:xlabel='GLD', ylabel='SPX'>"
      ]
     },
     "execution_count": 253,
     "metadata": {},
     "output_type": "execute_result"
    },
    {
     "data": {
      "image/png": "[encoded data removed]",
      "text/plain": [
       "<Figure size 640x480 with 1 Axes>"
      ]
     },
     "metadata": {},
     "output_type": "display_data"
    }
   ],
   "source": [
    "sns.set_palette('bright')\n",
    "sns.scatterplot(data = asset, x = asset['GLD'], y = asset['SPX'])"
   ]
  },
  {
   "cell_type": "code",
   "execution_count": 254,
   "id": "f8d8bfec",
   "metadata": {},
   "outputs": [
    {
     "data": {
      "text/plain": [
       "0        NaN\n",
       "1       78.9\n",
       "2     -103.3\n",
       "3      -66.3\n",
       "4     -119.2\n",
       "       ...  \n",
       "235    -21.3\n",
       "236     -8.3\n",
       "237     18.9\n",
       "238    -25.8\n",
       "239     -2.9\n",
       "Name: GLD, Length: 240, dtype: float64"
      ]
     },
     "execution_count": 254,
     "metadata": {},
     "output_type": "execute_result"
    }
   ],
   "source": [
    " asset['GLD'].diff() # 차분(이후 기간 - 이전 기간)"
   ]
  },
  {
   "cell_type": "code",
   "execution_count": 255,
   "id": "3a2bcb17",
   "metadata": {},
   "outputs": [
    {
     "data": {
      "text/plain": [
       "0           NaN\n",
       "1      0.042635\n",
       "2     -0.053537\n",
       "3     -0.036305\n",
       "4     -0.067731\n",
       "         ...   \n",
       "235   -0.056604\n",
       "236   -0.023380\n",
       "237    0.054514\n",
       "238   -0.070569\n",
       "239   -0.008534\n",
       "Name: GLD, Length: 240, dtype: float64"
      ]
     },
     "execution_count": 255,
     "metadata": {},
     "output_type": "execute_result"
    }
   ],
   "source": [
    "asset['GLD'].pct_change() # 차분 / (이전 기간) = 비율 변화"
   ]
  },
  {
   "cell_type": "code",
   "execution_count": 256,
   "id": "675e6d74",
   "metadata": {
    "scrolled": false
   },
   "outputs": [
    {
     "data": {
      "text/plain": [
       "<AxesSubplot:xlabel='Date', ylabel='GLD'>"
      ]
     },
     "execution_count": 256,
     "metadata": {},
     "output_type": "execute_result"
    },
    {
     "data": {
      "image/png": "[encoded data removed]",
      "text/plain": [
       "<Figure size 640x480 with 1 Axes>"
      ]
     },
     "metadata": {},
     "output_type": "display_data"
    }
   ],
   "source": [
    "sns.scatterplot(x = asset['Date'], y = asset['GLD'].pct_change()) # 시간에 따른 금 수익률"
   ]
  },
  {
   "cell_type": "code",
   "execution_count": 257,
   "id": "d2d3b5c9",
   "metadata": {},
   "outputs": [
    {
     "data": {
      "text/plain": [
       "<AxesSubplot:xlabel='Date', ylabel='SPX'>"
      ]
     },
     "execution_count": 257,
     "metadata": {},
     "output_type": "execute_result"
    },
    {
     "data": {
      "image/png": "[encoded data removed]",
      "text/plain": [
       "<Figure size 640x480 with 1 Axes>"
      ]
     },
     "metadata": {},
     "output_type": "display_data"
    }
   ],
   "source": [
    "sns.scatterplot(x=asset.Date, y=asset.SPX.pct_change())  # 시간에 따른 주식 수익률"
   ]
  },
  {
   "cell_type": "code",
   "execution_count": 258,
   "id": "b1d6bf04",
   "metadata": {},
   "outputs": [
    {
     "data": {
      "text/plain": [
       "<AxesSubplot:xlabel='GLD', ylabel='SPX'>"
      ]
     },
     "execution_count": 258,
     "metadata": {},
     "output_type": "execute_result"
    },
    {
     "data": {
      "image/png": "[encoded data removed]",
      "text/plain": [
       "<Figure size 640x480 with 1 Axes>"
      ]
     },
     "metadata": {},
     "output_type": "display_data"
    }
   ],
   "source": [
    "# 금과 주식의 수익률 산점도\n",
    "sns.scatterplot(x=asset.GLD.pct_change(),  y=asset.SPX.pct_change())"
   ]
  },
  {
   "cell_type": "code",
   "execution_count": 259,
   "id": "3bd82549",
   "metadata": {},
   "outputs": [
    {
     "data": {
      "text/html": [
       "<div>\n",
       "<style scoped>\n",
       "    .dataframe tbody tr th:only-of-type {\n",
       "        vertical-align: middle;\n",
       "    }\n",
       "\n",
       "    .dataframe tbody tr th {\n",
       "        vertical-align: top;\n",
       "    }\n",
       "\n",
       "    .dataframe thead th {\n",
       "        text-align: right;\n",
       "    }\n",
       "</style>\n",
       "<table border=\"1\" class=\"dataframe\">\n",
       "  <thead>\n",
       "    <tr style=\"text-align: right;\">\n",
       "      <th></th>\n",
       "      <th>n</th>\n",
       "      <th>r</th>\n",
       "      <th>CI95%</th>\n",
       "      <th>p-val</th>\n",
       "      <th>BF10</th>\n",
       "      <th>power</th>\n",
       "    </tr>\n",
       "  </thead>\n",
       "  <tbody>\n",
       "    <tr>\n",
       "      <th>pearson</th>\n",
       "      <td>239</td>\n",
       "      <td>0.10955</td>\n",
       "      <td>[-0.02, 0.23]</td>\n",
       "      <td>0.091065</td>\n",
       "      <td>0.335</td>\n",
       "      <td>0.394753</td>\n",
       "    </tr>\n",
       "  </tbody>\n",
       "</table>\n",
       "</div>"
      ],
      "text/plain": [
       "           n        r          CI95%     p-val   BF10     power\n",
       "pearson  239  0.10955  [-0.02, 0.23]  0.091065  0.335  0.394753"
      ]
     },
     "execution_count": 259,
     "metadata": {},
     "output_type": "execute_result"
    }
   ],
   "source": [
    "pg.corr(asset.GLD.pct_change(), asset.SPX.pct_change())\n",
    "# 귀무가설: 주가와 금의 수익률은 상관이 없다\n",
    "# 귀무가설 기각 X\n",
    "# 결론을 유보\n",
    "# 투자 관점: 주식과 금은 같은 포트폴리오에 넣을만하다(실제로 넣으라는 것은 아님)"
   ]
  },
  {
   "cell_type": "code",
   "execution_count": 260,
   "id": "fe97d6d4",
   "metadata": {},
   "outputs": [
    {
     "data": {
      "text/html": [
       "<div>\n",
       "<style scoped>\n",
       "    .dataframe tbody tr th:only-of-type {\n",
       "        vertical-align: middle;\n",
       "    }\n",
       "\n",
       "    .dataframe tbody tr th {\n",
       "        vertical-align: top;\n",
       "    }\n",
       "\n",
       "    .dataframe thead th {\n",
       "        text-align: right;\n",
       "    }\n",
       "</style>\n",
       "<table border=\"1\" class=\"dataframe\">\n",
       "  <thead>\n",
       "    <tr style=\"text-align: right;\">\n",
       "      <th></th>\n",
       "      <th>n</th>\n",
       "      <th>r</th>\n",
       "      <th>CI95%</th>\n",
       "      <th>p-val</th>\n",
       "      <th>BF10</th>\n",
       "      <th>power</th>\n",
       "    </tr>\n",
       "  </thead>\n",
       "  <tbody>\n",
       "    <tr>\n",
       "      <th>pearson</th>\n",
       "      <td>274</td>\n",
       "      <td>-0.67616</td>\n",
       "      <td>[-0.74, -0.61]</td>\n",
       "      <td>5.809388e-38</td>\n",
       "      <td>5.069e+34</td>\n",
       "      <td>1.0</td>\n",
       "    </tr>\n",
       "  </tbody>\n",
       "</table>\n",
       "</div>"
      ],
      "text/plain": [
       "           n        r           CI95%         p-val       BF10  power\n",
       "pearson  274 -0.67616  [-0.74, -0.61]  5.809388e-38  5.069e+34    1.0"
      ]
     },
     "execution_count": 260,
     "metadata": {},
     "output_type": "execute_result"
    }
   ],
   "source": [
    "pg.corr(df['mileage'], df['price']) # 피어슨 상관계수: -0.67616"
   ]
  },
  {
   "cell_type": "code",
   "execution_count": 261,
   "id": "62af2c3f",
   "metadata": {},
   "outputs": [
    {
     "data": {
      "text/html": [
       "<div>\n",
       "<style scoped>\n",
       "    .dataframe tbody tr th:only-of-type {\n",
       "        vertical-align: middle;\n",
       "    }\n",
       "\n",
       "    .dataframe tbody tr th {\n",
       "        vertical-align: top;\n",
       "    }\n",
       "\n",
       "    .dataframe thead th {\n",
       "        text-align: right;\n",
       "    }\n",
       "</style>\n",
       "<table border=\"1\" class=\"dataframe\">\n",
       "  <thead>\n",
       "    <tr style=\"text-align: right;\">\n",
       "      <th></th>\n",
       "      <th>n</th>\n",
       "      <th>r</th>\n",
       "      <th>CI95%</th>\n",
       "      <th>p-val</th>\n",
       "      <th>power</th>\n",
       "    </tr>\n",
       "  </thead>\n",
       "  <tbody>\n",
       "    <tr>\n",
       "      <th>spearman</th>\n",
       "      <td>274</td>\n",
       "      <td>-0.692834</td>\n",
       "      <td>[-0.75, -0.63]</td>\n",
       "      <td>1.645376e-40</td>\n",
       "      <td>1.0</td>\n",
       "    </tr>\n",
       "  </tbody>\n",
       "</table>\n",
       "</div>"
      ],
      "text/plain": [
       "            n         r           CI95%         p-val  power\n",
       "spearman  274 -0.692834  [-0.75, -0.63]  1.645376e-40    1.0"
      ]
     },
     "execution_count": 261,
     "metadata": {},
     "output_type": "execute_result"
    }
   ],
   "source": [
    "pg.corr(df['mileage'], df['price'], method = 'spearman') # 피어슨 상관계수: -0.67616"
   ]
  },
  {
   "cell_type": "code",
   "execution_count": 262,
   "id": "15224825",
   "metadata": {},
   "outputs": [
    {
     "data": {
      "text/html": [
       "<div>\n",
       "<style scoped>\n",
       "    .dataframe tbody tr th:only-of-type {\n",
       "        vertical-align: middle;\n",
       "    }\n",
       "\n",
       "    .dataframe tbody tr th {\n",
       "        vertical-align: top;\n",
       "    }\n",
       "\n",
       "    .dataframe thead th {\n",
       "        text-align: right;\n",
       "    }\n",
       "</style>\n",
       "<table border=\"1\" class=\"dataframe\">\n",
       "  <thead>\n",
       "    <tr style=\"text-align: right;\">\n",
       "      <th></th>\n",
       "      <th>n</th>\n",
       "      <th>r</th>\n",
       "      <th>CI95%</th>\n",
       "      <th>p-val</th>\n",
       "      <th>power</th>\n",
       "    </tr>\n",
       "  </thead>\n",
       "  <tbody>\n",
       "    <tr>\n",
       "      <th>kendall</th>\n",
       "      <td>274</td>\n",
       "      <td>-0.507709</td>\n",
       "      <td>[-0.59, -0.41]</td>\n",
       "      <td>1.119123e-35</td>\n",
       "      <td>1.0</td>\n",
       "    </tr>\n",
       "  </tbody>\n",
       "</table>\n",
       "</div>"
      ],
      "text/plain": [
       "           n         r           CI95%         p-val  power\n",
       "kendall  274 -0.507709  [-0.59, -0.41]  1.119123e-35    1.0"
      ]
     },
     "execution_count": 262,
     "metadata": {},
     "output_type": "execute_result"
    }
   ],
   "source": [
    "pg.corr(df['mileage'], df['price'], method = 'kendall') # 피어슨 상관계수: -0.67616\n",
    "# "
   ]
  },
  {
   "cell_type": "markdown",
   "id": "17343bc5",
   "metadata": {},
   "source": [
    "* 한국주식 vs 미국주식"
   ]
  },
  {
   "cell_type": "code",
   "execution_count": 264,
   "id": "cd6a003b",
   "metadata": {},
   "outputs": [],
   "source": [
    "asset_2 = pd.read_excel('data/asset2.xlsx')"
   ]
  },
  {
   "cell_type": "code",
   "execution_count": 265,
   "id": "001afe4e",
   "metadata": {},
   "outputs": [
    {
     "data": {
      "text/html": [
       "<div>\n",
       "<style scoped>\n",
       "    .dataframe tbody tr th:only-of-type {\n",
       "        vertical-align: middle;\n",
       "    }\n",
       "\n",
       "    .dataframe tbody tr th {\n",
       "        vertical-align: top;\n",
       "    }\n",
       "\n",
       "    .dataframe thead th {\n",
       "        text-align: right;\n",
       "    }\n",
       "</style>\n",
       "<table border=\"1\" class=\"dataframe\">\n",
       "  <thead>\n",
       "    <tr style=\"text-align: right;\">\n",
       "      <th></th>\n",
       "      <th>n</th>\n",
       "      <th>r</th>\n",
       "      <th>CI95%</th>\n",
       "      <th>p-val</th>\n",
       "      <th>BF10</th>\n",
       "      <th>power</th>\n",
       "    </tr>\n",
       "  </thead>\n",
       "  <tbody>\n",
       "    <tr>\n",
       "      <th>pearson</th>\n",
       "      <td>239</td>\n",
       "      <td>0.696451</td>\n",
       "      <td>[0.62, 0.76]</td>\n",
       "      <td>5.177694e-36</td>\n",
       "      <td>6.016e+32</td>\n",
       "      <td>1.0</td>\n",
       "    </tr>\n",
       "  </tbody>\n",
       "</table>\n",
       "</div>"
      ],
      "text/plain": [
       "           n         r         CI95%         p-val       BF10  power\n",
       "pearson  239  0.696451  [0.62, 0.76]  5.177694e-36  6.016e+32    1.0"
      ]
     },
     "execution_count": 265,
     "metadata": {},
     "output_type": "execute_result"
    },
    {
     "data": {
      "image/png": "[encoded data removed]",
      "text/plain": [
       "<Figure size 640x480 with 1 Axes>"
      ]
     },
     "metadata": {},
     "output_type": "display_data"
    }
   ],
   "source": [
    "sns.scatterplot(x=asset_2.Date, y=asset_2.KOSPI200)  # 시간에 따른 한국 주가\n",
    "sns.scatterplot(x=asset_2.Date, y=asset_2.KOSPI200.pct_change())  # 수익률\n",
    "\n",
    "# 한국과 미국의 주식 수익률 산점도\n",
    "sns.scatterplot(x=asset_2.KOSPI200.pct_change(),  y=asset_2.SPX.pct_change())\n",
    "\n",
    "pg.corr(asset_2.KOSPI200.pct_change(), asset_2.SPX.pct_change())  # 한국, 미국 주식 수익률 상관계수\n",
    "# 귀무가설: 상관없다 -> 기각 -> 상관있다\n",
    "# 한국 주식과 미국 주식을 함께 투자하는 것은 위험 분산이 잘 안됨"
   ]
  },
  {
   "cell_type": "code",
   "execution_count": 308,
   "id": "02819907",
   "metadata": {
    "scrolled": true
   },
   "outputs": [
    {
     "data": {
      "text/html": [
       "<table class=\"simpletable\">\n",
       "<caption>OLS Regression Results</caption>\n",
       "<tr>\n",
       "  <th>Dep. Variable:</th>          <td>price</td>      <th>  R-squared:         </th> <td>   0.457</td>\n",
       "</tr>\n",
       "<tr>\n",
       "  <th>Model:</th>                   <td>OLS</td>       <th>  Adj. R-squared:    </th> <td>   0.455</td>\n",
       "</tr>\n",
       "<tr>\n",
       "  <th>Method:</th>             <td>Least Squares</td>  <th>  F-statistic:       </th> <td>   229.1</td>\n",
       "</tr>\n",
       "<tr>\n",
       "  <th>Date:</th>             <td>Thu, 16 Feb 2023</td> <th>  Prob (F-statistic):</th> <td>5.81e-38</td>\n",
       "</tr>\n",
       "<tr>\n",
       "  <th>Time:</th>                 <td>15:28:17</td>     <th>  Log-Likelihood:    </th> <td> -1895.7</td>\n",
       "</tr>\n",
       "<tr>\n",
       "  <th>No. Observations:</th>      <td>   274</td>      <th>  AIC:               </th> <td>   3795.</td>\n",
       "</tr>\n",
       "<tr>\n",
       "  <th>Df Residuals:</th>          <td>   272</td>      <th>  BIC:               </th> <td>   3803.</td>\n",
       "</tr>\n",
       "<tr>\n",
       "  <th>Df Model:</th>              <td>     1</td>      <th>                     </th>     <td> </td>   \n",
       "</tr>\n",
       "<tr>\n",
       "  <th>Covariance Type:</th>      <td>nonrobust</td>    <th>                     </th>     <td> </td>   \n",
       "</tr>\n",
       "</table>\n",
       "<table class=\"simpletable\">\n",
       "<tr>\n",
       "      <td></td>         <th>coef</th>     <th>std err</th>      <th>t</th>      <th>P>|t|</th>  <th>[0.025</th>    <th>0.975]</th>  \n",
       "</tr>\n",
       "<tr>\n",
       "  <th>Intercept</th> <td> 1258.7668</td> <td>   30.599</td> <td>   41.137</td> <td> 0.000</td> <td> 1198.526</td> <td> 1319.008</td>\n",
       "</tr>\n",
       "<tr>\n",
       "  <th>mileage</th>   <td>   -0.0052</td> <td>    0.000</td> <td>  -15.136</td> <td> 0.000</td> <td>   -0.006</td> <td>   -0.005</td>\n",
       "</tr>\n",
       "</table>\n",
       "<table class=\"simpletable\">\n",
       "<tr>\n",
       "  <th>Omnibus:</th>       <td> 0.258</td> <th>  Durbin-Watson:     </th> <td>   1.101</td>\n",
       "</tr>\n",
       "<tr>\n",
       "  <th>Prob(Omnibus):</th> <td> 0.879</td> <th>  Jarque-Bera (JB):  </th> <td>   0.108</td>\n",
       "</tr>\n",
       "<tr>\n",
       "  <th>Skew:</th>          <td> 0.032</td> <th>  Prob(JB):          </th> <td>   0.947</td>\n",
       "</tr>\n",
       "<tr>\n",
       "  <th>Kurtosis:</th>      <td> 3.074</td> <th>  Cond. No.          </th> <td>1.83e+05</td>\n",
       "</tr>\n",
       "</table><br/><br/>Notes:<br/>[1] Standard Errors assume that the covariance matrix of the errors is correctly specified.<br/>[2] The condition number is large, 1.83e+05. This might indicate that there are<br/>strong multicollinearity or other numerical problems."
      ],
      "text/plain": [
       "<class 'statsmodels.iolib.summary.Summary'>\n",
       "\"\"\"\n",
       "                            OLS Regression Results                            \n",
       "==============================================================================\n",
       "Dep. Variable:                  price   R-squared:                       0.457\n",
       "Model:                            OLS   Adj. R-squared:                  0.455\n",
       "Method:                 Least Squares   F-statistic:                     229.1\n",
       "Date:                Thu, 16 Feb 2023   Prob (F-statistic):           5.81e-38\n",
       "Time:                        15:28:17   Log-Likelihood:                -1895.7\n",
       "No. Observations:                 274   AIC:                             3795.\n",
       "Df Residuals:                     272   BIC:                             3803.\n",
       "Df Model:                           1                                         \n",
       "Covariance Type:            nonrobust                                         \n",
       "==============================================================================\n",
       "                 coef    std err          t      P>|t|      [0.025      0.975]\n",
       "------------------------------------------------------------------------------\n",
       "Intercept   1258.7668     30.599     41.137      0.000    1198.526    1319.008\n",
       "mileage       -0.0052      0.000    -15.136      0.000      -0.006      -0.005\n",
       "==============================================================================\n",
       "Omnibus:                        0.258   Durbin-Watson:                   1.101\n",
       "Prob(Omnibus):                  0.879   Jarque-Bera (JB):                0.108\n",
       "Skew:                           0.032   Prob(JB):                        0.947\n",
       "Kurtosis:                       3.074   Cond. No.                     1.83e+05\n",
       "==============================================================================\n",
       "\n",
       "Notes:\n",
       "[1] Standard Errors assume that the covariance matrix of the errors is correctly specified.\n",
       "[2] The condition number is large, 1.83e+05. This might indicate that there are\n",
       "strong multicollinearity or other numerical problems.\n",
       "\"\"\""
      ]
     },
     "execution_count": 308,
     "metadata": {},
     "output_type": "execute_result"
    }
   ],
   "source": [
    "from statsmodels.formula.api import ols # OLS : 최소제곱법\n",
    "# 회귀분석\n",
    "m = ols('price ~ mileage', df).fit()\n",
    "m.summary()\n",
    "# Intercept(절편) 1258.7668  주행거리 0Km일 때 1258만원 \n",
    "# mileage (기울기)  -0.0052  1만Km마다 52만원 꼴로 가격이 떨어짐\n",
    "# 잔차 분산은 작을 수록 좋음\n",
    "# R-squared (R 제곱) : 회귀 분석에서 예측의 정확성을 알기 쉽게 판단할 수 있게 만든 지표 0 ~ !\n",
    "# R 제곱 = 0 : 분석결과가 y 예측에 도움이 안 됨\n",
    "# R 제곱 = 1 : Y를 완벽하게 정확히 예측할 수 있음\n",
    "# 결과적으로 의미하는 바가 R제곱과 에타제곱이 같음 !!\n",
    "# 상관계수**2 = R제곱 = 에타제곱"
   ]
  },
  {
   "cell_type": "code",
   "execution_count": 309,
   "id": "d01e6fc5",
   "metadata": {},
   "outputs": [
    {
     "data": {
      "text/plain": [
       "<AxesSubplot:xlabel='mileage', ylabel='price'>"
      ]
     },
     "execution_count": 309,
     "metadata": {},
     "output_type": "execute_result"
    },
    {
     "data": {
      "image/png": "[encoded data removed]",
      "text/plain": [
       "<Figure size 640x480 with 1 Axes>"
      ]
     },
     "metadata": {},
     "output_type": "display_data"
    }
   ],
   "source": [
    "# %matplotlib inline\n",
    "sns.regplot(x='mileage', y='price', data=df) # 주행거리와 가격의 관계 시각화"
   ]
  },
  {
   "cell_type": "code",
   "execution_count": 310,
   "id": "a34a32d9",
   "metadata": {},
   "outputs": [
    {
     "data": {
      "text/html": [
       "<div>\n",
       "<style scoped>\n",
       "    .dataframe tbody tr th:only-of-type {\n",
       "        vertical-align: middle;\n",
       "    }\n",
       "\n",
       "    .dataframe tbody tr th {\n",
       "        vertical-align: top;\n",
       "    }\n",
       "\n",
       "    .dataframe thead th {\n",
       "        text-align: right;\n",
       "    }\n",
       "</style>\n",
       "<table border=\"1\" class=\"dataframe\">\n",
       "  <thead>\n",
       "    <tr style=\"text-align: right;\">\n",
       "      <th></th>\n",
       "      <th>mileage</th>\n",
       "    </tr>\n",
       "  </thead>\n",
       "  <tbody>\n",
       "    <tr>\n",
       "      <th>0</th>\n",
       "      <td>10000</td>\n",
       "    </tr>\n",
       "    <tr>\n",
       "      <th>1</th>\n",
       "      <td>20000</td>\n",
       "    </tr>\n",
       "  </tbody>\n",
       "</table>\n",
       "</div>"
      ],
      "text/plain": [
       "   mileage\n",
       "0    10000\n",
       "1    20000"
      ]
     },
     "execution_count": 310,
     "metadata": {},
     "output_type": "execute_result"
    }
   ],
   "source": [
    "# 가격 에측\n",
    "new_df = pd.DataFrame({'mileage': [10000, 20000]})\n",
    "new_df"
   ]
  },
  {
   "cell_type": "code",
   "execution_count": 311,
   "id": "f42f0e94",
   "metadata": {},
   "outputs": [
    {
     "data": {
      "text/plain": [
       "0    1206.483684\n",
       "1    1154.200600\n",
       "dtype: float64"
      ]
     },
     "execution_count": 311,
     "metadata": {},
     "output_type": "execute_result"
    }
   ],
   "source": [
    "m.predict(new_df)"
   ]
  },
  {
   "cell_type": "code",
   "execution_count": 313,
   "id": "8eef7717",
   "metadata": {},
   "outputs": [
    {
     "data": {
      "text/html": [
       "<div>\n",
       "<style scoped>\n",
       "    .dataframe tbody tr th:only-of-type {\n",
       "        vertical-align: middle;\n",
       "    }\n",
       "\n",
       "    .dataframe tbody tr th {\n",
       "        vertical-align: top;\n",
       "    }\n",
       "\n",
       "    .dataframe thead th {\n",
       "        text-align: right;\n",
       "    }\n",
       "</style>\n",
       "<table border=\"1\" class=\"dataframe\">\n",
       "  <thead>\n",
       "    <tr style=\"text-align: right;\">\n",
       "      <th></th>\n",
       "      <th>speed</th>\n",
       "      <th>dist</th>\n",
       "    </tr>\n",
       "  </thead>\n",
       "  <tbody>\n",
       "    <tr>\n",
       "      <th>0</th>\n",
       "      <td>4</td>\n",
       "      <td>2</td>\n",
       "    </tr>\n",
       "    <tr>\n",
       "      <th>1</th>\n",
       "      <td>4</td>\n",
       "      <td>10</td>\n",
       "    </tr>\n",
       "    <tr>\n",
       "      <th>2</th>\n",
       "      <td>7</td>\n",
       "      <td>4</td>\n",
       "    </tr>\n",
       "    <tr>\n",
       "      <th>3</th>\n",
       "      <td>7</td>\n",
       "      <td>22</td>\n",
       "    </tr>\n",
       "    <tr>\n",
       "      <th>4</th>\n",
       "      <td>8</td>\n",
       "      <td>16</td>\n",
       "    </tr>\n",
       "  </tbody>\n",
       "</table>\n",
       "</div>"
      ],
      "text/plain": [
       "   speed  dist\n",
       "0      4     2\n",
       "1      4    10\n",
       "2      7     4\n",
       "3      7    22\n",
       "4      8    16"
      ]
     },
     "execution_count": 313,
     "metadata": {},
     "output_type": "execute_result"
    }
   ],
   "source": [
    "## 실습\n",
    "# 속도 (speed) 독립변수 \n",
    "# 제동거리 (dist) 종속변수\n",
    "speed = pd.read_excel('data/speed.xlsx')\n",
    "speed.head()"
   ]
  },
  {
   "cell_type": "code",
   "execution_count": 314,
   "id": "1df8d303",
   "metadata": {},
   "outputs": [
    {
     "data": {
      "text/html": [
       "<table class=\"simpletable\">\n",
       "<caption>OLS Regression Results</caption>\n",
       "<tr>\n",
       "  <th>Dep. Variable:</th>          <td>dist</td>       <th>  R-squared:         </th> <td>   0.651</td>\n",
       "</tr>\n",
       "<tr>\n",
       "  <th>Model:</th>                   <td>OLS</td>       <th>  Adj. R-squared:    </th> <td>   0.644</td>\n",
       "</tr>\n",
       "<tr>\n",
       "  <th>Method:</th>             <td>Least Squares</td>  <th>  F-statistic:       </th> <td>   89.57</td>\n",
       "</tr>\n",
       "<tr>\n",
       "  <th>Date:</th>             <td>Thu, 16 Feb 2023</td> <th>  Prob (F-statistic):</th> <td>1.49e-12</td>\n",
       "</tr>\n",
       "<tr>\n",
       "  <th>Time:</th>                 <td>15:38:04</td>     <th>  Log-Likelihood:    </th> <td> -206.58</td>\n",
       "</tr>\n",
       "<tr>\n",
       "  <th>No. Observations:</th>      <td>    50</td>      <th>  AIC:               </th> <td>   417.2</td>\n",
       "</tr>\n",
       "<tr>\n",
       "  <th>Df Residuals:</th>          <td>    48</td>      <th>  BIC:               </th> <td>   421.0</td>\n",
       "</tr>\n",
       "<tr>\n",
       "  <th>Df Model:</th>              <td>     1</td>      <th>                     </th>     <td> </td>   \n",
       "</tr>\n",
       "<tr>\n",
       "  <th>Covariance Type:</th>      <td>nonrobust</td>    <th>                     </th>     <td> </td>   \n",
       "</tr>\n",
       "</table>\n",
       "<table class=\"simpletable\">\n",
       "<tr>\n",
       "      <td></td>         <th>coef</th>     <th>std err</th>      <th>t</th>      <th>P>|t|</th>  <th>[0.025</th>    <th>0.975]</th>  \n",
       "</tr>\n",
       "<tr>\n",
       "  <th>Intercept</th> <td>  -17.5791</td> <td>    6.758</td> <td>   -2.601</td> <td> 0.012</td> <td>  -31.168</td> <td>   -3.990</td>\n",
       "</tr>\n",
       "<tr>\n",
       "  <th>speed</th>     <td>    3.9324</td> <td>    0.416</td> <td>    9.464</td> <td> 0.000</td> <td>    3.097</td> <td>    4.768</td>\n",
       "</tr>\n",
       "</table>\n",
       "<table class=\"simpletable\">\n",
       "<tr>\n",
       "  <th>Omnibus:</th>       <td> 8.975</td> <th>  Durbin-Watson:     </th> <td>   1.676</td>\n",
       "</tr>\n",
       "<tr>\n",
       "  <th>Prob(Omnibus):</th> <td> 0.011</td> <th>  Jarque-Bera (JB):  </th> <td>   8.189</td>\n",
       "</tr>\n",
       "<tr>\n",
       "  <th>Skew:</th>          <td> 0.885</td> <th>  Prob(JB):          </th> <td>  0.0167</td>\n",
       "</tr>\n",
       "<tr>\n",
       "  <th>Kurtosis:</th>      <td> 3.893</td> <th>  Cond. No.          </th> <td>    50.7</td>\n",
       "</tr>\n",
       "</table><br/><br/>Notes:<br/>[1] Standard Errors assume that the covariance matrix of the errors is correctly specified."
      ],
      "text/plain": [
       "<class 'statsmodels.iolib.summary.Summary'>\n",
       "\"\"\"\n",
       "                            OLS Regression Results                            \n",
       "==============================================================================\n",
       "Dep. Variable:                   dist   R-squared:                       0.651\n",
       "Model:                            OLS   Adj. R-squared:                  0.644\n",
       "Method:                 Least Squares   F-statistic:                     89.57\n",
       "Date:                Thu, 16 Feb 2023   Prob (F-statistic):           1.49e-12\n",
       "Time:                        15:38:04   Log-Likelihood:                -206.58\n",
       "No. Observations:                  50   AIC:                             417.2\n",
       "Df Residuals:                      48   BIC:                             421.0\n",
       "Df Model:                           1                                         \n",
       "Covariance Type:            nonrobust                                         \n",
       "==============================================================================\n",
       "                 coef    std err          t      P>|t|      [0.025      0.975]\n",
       "------------------------------------------------------------------------------\n",
       "Intercept    -17.5791      6.758     -2.601      0.012     -31.168      -3.990\n",
       "speed          3.9324      0.416      9.464      0.000       3.097       4.768\n",
       "==============================================================================\n",
       "Omnibus:                        8.975   Durbin-Watson:                   1.676\n",
       "Prob(Omnibus):                  0.011   Jarque-Bera (JB):                8.189\n",
       "Skew:                           0.885   Prob(JB):                       0.0167\n",
       "Kurtosis:                       3.893   Cond. No.                         50.7\n",
       "==============================================================================\n",
       "\n",
       "Notes:\n",
       "[1] Standard Errors assume that the covariance matrix of the errors is correctly specified.\n",
       "\"\"\""
      ]
     },
     "execution_count": 314,
     "metadata": {},
     "output_type": "execute_result"
    }
   ],
   "source": [
    "s = ols('dist ~ speed', speed).fit()\n",
    "s.summary()\n",
    "# 절편(intercept) : -17.5791\n",
    "# 기울기(speed) : 3.9324 : t값 >> 귀무가설 = 기울기가 0 이다.\n",
    "# R제곱 : 0.651"
   ]
  },
  {
   "cell_type": "code",
   "execution_count": 304,
   "id": "2307b874",
   "metadata": {},
   "outputs": [
    {
     "data": {
      "text/plain": [
       "<AxesSubplot:xlabel='speed', ylabel='dist'>"
      ]
     },
     "execution_count": 304,
     "metadata": {},
     "output_type": "execute_result"
    },
    {
     "data": {
      "image/png": "[encoded data removed]",
      "text/plain": [
       "<Figure size 640x480 with 1 Axes>"
      ]
     },
     "metadata": {},
     "output_type": "display_data"
    }
   ],
   "source": [
    "sns.regplot(x = 'speed', y = 'dist', data = speed)"
   ]
  },
  {
   "cell_type": "code",
   "execution_count": 305,
   "id": "53ae6d61",
   "metadata": {},
   "outputs": [
    {
     "data": {
      "text/html": [
       "<div>\n",
       "<style scoped>\n",
       "    .dataframe tbody tr th:only-of-type {\n",
       "        vertical-align: middle;\n",
       "    }\n",
       "\n",
       "    .dataframe tbody tr th {\n",
       "        vertical-align: top;\n",
       "    }\n",
       "\n",
       "    .dataframe thead th {\n",
       "        text-align: right;\n",
       "    }\n",
       "</style>\n",
       "<table border=\"1\" class=\"dataframe\">\n",
       "  <thead>\n",
       "    <tr style=\"text-align: right;\">\n",
       "      <th></th>\n",
       "      <th>speed</th>\n",
       "    </tr>\n",
       "  </thead>\n",
       "  <tbody>\n",
       "    <tr>\n",
       "      <th>0</th>\n",
       "      <td>10</td>\n",
       "    </tr>\n",
       "  </tbody>\n",
       "</table>\n",
       "</div>"
      ],
      "text/plain": [
       "   speed\n",
       "0     10"
      ]
     },
     "execution_count": 305,
     "metadata": {},
     "output_type": "execute_result"
    }
   ],
   "source": [
    "predict_speed = pd.DataFrame({'speed' : [10]})\n",
    "# new_df = pd.DataFrame({'mileage': [10000, 20000]})\n",
    "predict_speed"
   ]
  },
  {
   "cell_type": "code",
   "execution_count": 307,
   "id": "e98a8d47",
   "metadata": {},
   "outputs": [
    {
     "data": {
      "text/plain": [
       "0    21.744993\n",
       "dtype: float64"
      ]
     },
     "execution_count": 307,
     "metadata": {},
     "output_type": "execute_result"
    }
   ],
   "source": [
    "s.predict(predict_speed)"
   ]
  },
  {
   "cell_type": "code",
   "execution_count": 316,
   "id": "99afc86f",
   "metadata": {},
   "outputs": [
    {
     "data": {
      "text/html": [
       "<div>\n",
       "<style scoped>\n",
       "    .dataframe tbody tr th:only-of-type {\n",
       "        vertical-align: middle;\n",
       "    }\n",
       "\n",
       "    .dataframe tbody tr th {\n",
       "        vertical-align: top;\n",
       "    }\n",
       "\n",
       "    .dataframe thead th {\n",
       "        text-align: right;\n",
       "    }\n",
       "</style>\n",
       "<table border=\"1\" class=\"dataframe\">\n",
       "  <thead>\n",
       "    <tr style=\"text-align: right;\">\n",
       "      <th></th>\n",
       "      <th>mileage</th>\n",
       "      <th>model</th>\n",
       "      <th>price</th>\n",
       "      <th>year</th>\n",
       "      <th>my_car_damage</th>\n",
       "      <th>other_car_damage</th>\n",
       "    </tr>\n",
       "  </thead>\n",
       "  <tbody>\n",
       "    <tr>\n",
       "      <th>0</th>\n",
       "      <td>63608</td>\n",
       "      <td>K3</td>\n",
       "      <td>970</td>\n",
       "      <td>2017</td>\n",
       "      <td>0</td>\n",
       "      <td>564596</td>\n",
       "    </tr>\n",
       "    <tr>\n",
       "      <th>1</th>\n",
       "      <td>69336</td>\n",
       "      <td>K3</td>\n",
       "      <td>1130</td>\n",
       "      <td>2015</td>\n",
       "      <td>1839700</td>\n",
       "      <td>1140150</td>\n",
       "    </tr>\n",
       "    <tr>\n",
       "      <th>2</th>\n",
       "      <td>36000</td>\n",
       "      <td>K3</td>\n",
       "      <td>1380</td>\n",
       "      <td>2016</td>\n",
       "      <td>446520</td>\n",
       "      <td>2244910</td>\n",
       "    </tr>\n",
       "    <tr>\n",
       "      <th>3</th>\n",
       "      <td>19029</td>\n",
       "      <td>K3</td>\n",
       "      <td>1390</td>\n",
       "      <td>2017</td>\n",
       "      <td>889000</td>\n",
       "      <td>4196110</td>\n",
       "    </tr>\n",
       "    <tr>\n",
       "      <th>4</th>\n",
       "      <td>97090</td>\n",
       "      <td>K3</td>\n",
       "      <td>760</td>\n",
       "      <td>2015</td>\n",
       "      <td>2339137</td>\n",
       "      <td>2029570</td>\n",
       "    </tr>\n",
       "  </tbody>\n",
       "</table>\n",
       "</div>"
      ],
      "text/plain": [
       "   mileage model  price  year  my_car_damage  other_car_damage\n",
       "0    63608    K3    970  2017              0            564596\n",
       "1    69336    K3   1130  2015        1839700           1140150\n",
       "2    36000    K3   1380  2016         446520           2244910\n",
       "3    19029    K3   1390  2017         889000           4196110\n",
       "4    97090    K3    760  2015        2339137           2029570"
      ]
     },
     "execution_count": 316,
     "metadata": {},
     "output_type": "execute_result"
    }
   ],
   "source": [
    "df.head()"
   ]
  },
  {
   "cell_type": "code",
   "execution_count": 315,
   "id": "bf96d84a",
   "metadata": {},
   "outputs": [
    {
     "data": {
      "text/html": [
       "<table class=\"simpletable\">\n",
       "<caption>OLS Regression Results</caption>\n",
       "<tr>\n",
       "  <th>Dep. Variable:</th>          <td>price</td>      <th>  R-squared:         </th> <td>   0.749</td>\n",
       "</tr>\n",
       "<tr>\n",
       "  <th>Model:</th>                   <td>OLS</td>       <th>  Adj. R-squared:    </th> <td>   0.747</td>\n",
       "</tr>\n",
       "<tr>\n",
       "  <th>Method:</th>             <td>Least Squares</td>  <th>  F-statistic:       </th> <td>   403.5</td>\n",
       "</tr>\n",
       "<tr>\n",
       "  <th>Date:</th>             <td>Thu, 16 Feb 2023</td> <th>  Prob (F-statistic):</th> <td>5.62e-82</td>\n",
       "</tr>\n",
       "<tr>\n",
       "  <th>Time:</th>                 <td>16:14:25</td>     <th>  Log-Likelihood:    </th> <td> -1790.2</td>\n",
       "</tr>\n",
       "<tr>\n",
       "  <th>No. Observations:</th>      <td>   274</td>      <th>  AIC:               </th> <td>   3586.</td>\n",
       "</tr>\n",
       "<tr>\n",
       "  <th>Df Residuals:</th>          <td>   271</td>      <th>  BIC:               </th> <td>   3597.</td>\n",
       "</tr>\n",
       "<tr>\n",
       "  <th>Df Model:</th>              <td>     2</td>      <th>                     </th>     <td> </td>   \n",
       "</tr>\n",
       "<tr>\n",
       "  <th>Covariance Type:</th>      <td>nonrobust</td>    <th>                     </th>     <td> </td>   \n",
       "</tr>\n",
       "</table>\n",
       "<table class=\"simpletable\">\n",
       "<tr>\n",
       "      <td></td>         <th>coef</th>     <th>std err</th>      <th>t</th>      <th>P>|t|</th>  <th>[0.025</th>    <th>0.975]</th>  \n",
       "</tr>\n",
       "<tr>\n",
       "  <th>Intercept</th> <td>-1.688e+05</td> <td> 9597.865</td> <td>  -17.592</td> <td> 0.000</td> <td>-1.88e+05</td> <td> -1.5e+05</td>\n",
       "</tr>\n",
       "<tr>\n",
       "  <th>mileage</th>   <td>   -0.0023</td> <td>    0.000</td> <td>   -8.143</td> <td> 0.000</td> <td>   -0.003</td> <td>   -0.002</td>\n",
       "</tr>\n",
       "<tr>\n",
       "  <th>year</th>      <td>   84.3822</td> <td>    4.761</td> <td>   17.724</td> <td> 0.000</td> <td>   75.009</td> <td>   93.755</td>\n",
       "</tr>\n",
       "</table>\n",
       "<table class=\"simpletable\">\n",
       "<tr>\n",
       "  <th>Omnibus:</th>       <td>11.272</td> <th>  Durbin-Watson:     </th> <td>   1.598</td>\n",
       "</tr>\n",
       "<tr>\n",
       "  <th>Prob(Omnibus):</th> <td> 0.004</td> <th>  Jarque-Bera (JB):  </th> <td>  11.786</td>\n",
       "</tr>\n",
       "<tr>\n",
       "  <th>Skew:</th>          <td> 0.435</td> <th>  Prob(JB):          </th> <td> 0.00276</td>\n",
       "</tr>\n",
       "<tr>\n",
       "  <th>Kurtosis:</th>      <td> 3.523</td> <th>  Cond. No.          </th> <td>8.41e+07</td>\n",
       "</tr>\n",
       "</table><br/><br/>Notes:<br/>[1] Standard Errors assume that the covariance matrix of the errors is correctly specified.<br/>[2] The condition number is large, 8.41e+07. This might indicate that there are<br/>strong multicollinearity or other numerical problems."
      ],
      "text/plain": [
       "<class 'statsmodels.iolib.summary.Summary'>\n",
       "\"\"\"\n",
       "                            OLS Regression Results                            \n",
       "==============================================================================\n",
       "Dep. Variable:                  price   R-squared:                       0.749\n",
       "Model:                            OLS   Adj. R-squared:                  0.747\n",
       "Method:                 Least Squares   F-statistic:                     403.5\n",
       "Date:                Thu, 16 Feb 2023   Prob (F-statistic):           5.62e-82\n",
       "Time:                        16:14:25   Log-Likelihood:                -1790.2\n",
       "No. Observations:                 274   AIC:                             3586.\n",
       "Df Residuals:                     271   BIC:                             3597.\n",
       "Df Model:                           2                                         \n",
       "Covariance Type:            nonrobust                                         \n",
       "==============================================================================\n",
       "                 coef    std err          t      P>|t|      [0.025      0.975]\n",
       "------------------------------------------------------------------------------\n",
       "Intercept  -1.688e+05   9597.865    -17.592      0.000   -1.88e+05    -1.5e+05\n",
       "mileage       -0.0023      0.000     -8.143      0.000      -0.003      -0.002\n",
       "year          84.3822      4.761     17.724      0.000      75.009      93.755\n",
       "==============================================================================\n",
       "Omnibus:                       11.272   Durbin-Watson:                   1.598\n",
       "Prob(Omnibus):                  0.004   Jarque-Bera (JB):               11.786\n",
       "Skew:                           0.435   Prob(JB):                      0.00276\n",
       "Kurtosis:                       3.523   Cond. No.                     8.41e+07\n",
       "==============================================================================\n",
       "\n",
       "Notes:\n",
       "[1] Standard Errors assume that the covariance matrix of the errors is correctly specified.\n",
       "[2] The condition number is large, 8.41e+07. This might indicate that there are\n",
       "strong multicollinearity or other numerical problems.\n",
       "\"\"\""
      ]
     },
     "execution_count": 315,
     "metadata": {},
     "output_type": "execute_result"
    }
   ],
   "source": [
    "m = ols('price ~ mileage + year', df).fit()\n",
    "m.summary()\n",
    "# price = a            +  b * mileage + c * year\n",
    "#      -1.688e+5      -0.0023        +84.3822"
   ]
  },
  {
   "cell_type": "code",
   "execution_count": 323,
   "id": "bfb6c916",
   "metadata": {},
   "outputs": [
    {
     "data": {
      "text/html": [
       "<div>\n",
       "<style scoped>\n",
       "    .dataframe tbody tr th:only-of-type {\n",
       "        vertical-align: middle;\n",
       "    }\n",
       "\n",
       "    .dataframe tbody tr th {\n",
       "        vertical-align: top;\n",
       "    }\n",
       "\n",
       "    .dataframe thead th {\n",
       "        text-align: right;\n",
       "    }\n",
       "</style>\n",
       "<table border=\"1\" class=\"dataframe\">\n",
       "  <thead>\n",
       "    <tr style=\"text-align: right;\">\n",
       "      <th></th>\n",
       "      <th>PIQ</th>\n",
       "      <th>Brain</th>\n",
       "      <th>Height</th>\n",
       "      <th>Weight</th>\n",
       "    </tr>\n",
       "  </thead>\n",
       "  <tbody>\n",
       "    <tr>\n",
       "      <th>0</th>\n",
       "      <td>124</td>\n",
       "      <td>81.69</td>\n",
       "      <td>64.5</td>\n",
       "      <td>118</td>\n",
       "    </tr>\n",
       "    <tr>\n",
       "      <th>1</th>\n",
       "      <td>150</td>\n",
       "      <td>103.84</td>\n",
       "      <td>73.3</td>\n",
       "      <td>143</td>\n",
       "    </tr>\n",
       "    <tr>\n",
       "      <th>2</th>\n",
       "      <td>128</td>\n",
       "      <td>96.54</td>\n",
       "      <td>68.8</td>\n",
       "      <td>172</td>\n",
       "    </tr>\n",
       "    <tr>\n",
       "      <th>3</th>\n",
       "      <td>134</td>\n",
       "      <td>95.15</td>\n",
       "      <td>65.0</td>\n",
       "      <td>147</td>\n",
       "    </tr>\n",
       "    <tr>\n",
       "      <th>4</th>\n",
       "      <td>110</td>\n",
       "      <td>92.88</td>\n",
       "      <td>69.0</td>\n",
       "      <td>146</td>\n",
       "    </tr>\n",
       "  </tbody>\n",
       "</table>\n",
       "</div>"
      ],
      "text/plain": [
       "   PIQ   Brain  Height  Weight\n",
       "0  124   81.69    64.5     118\n",
       "1  150  103.84    73.3     143\n",
       "2  128   96.54    68.8     172\n",
       "3  134   95.15    65.0     147\n",
       "4  110   92.88    69.0     146"
      ]
     },
     "execution_count": 323,
     "metadata": {},
     "output_type": "execute_result"
    }
   ],
   "source": [
    "iqsize = pd.read_excel('data/iqsize.xlsx')\n",
    "iqsize.head()"
   ]
  },
  {
   "cell_type": "code",
   "execution_count": 328,
   "id": "7900630d",
   "metadata": {
    "scrolled": true
   },
   "outputs": [
    {
     "data": {
      "text/html": [
       "<table class=\"simpletable\">\n",
       "<caption>OLS Regression Results</caption>\n",
       "<tr>\n",
       "  <th>Dep. Variable:</th>           <td>PIQ</td>       <th>  R-squared:         </th> <td>   0.018</td>\n",
       "</tr>\n",
       "<tr>\n",
       "  <th>Model:</th>                   <td>OLS</td>       <th>  Adj. R-squared:    </th> <td>  -0.038</td>\n",
       "</tr>\n",
       "<tr>\n",
       "  <th>Method:</th>             <td>Least Squares</td>  <th>  F-statistic:       </th> <td>  0.3144</td>\n",
       "</tr>\n",
       "<tr>\n",
       "  <th>Date:</th>             <td>Thu, 16 Feb 2023</td> <th>  Prob (F-statistic):</th>  <td> 0.732</td> \n",
       "</tr>\n",
       "<tr>\n",
       "  <th>Time:</th>                 <td>17:32:45</td>     <th>  Log-Likelihood:    </th> <td> -171.55</td>\n",
       "</tr>\n",
       "<tr>\n",
       "  <th>No. Observations:</th>      <td>    38</td>      <th>  AIC:               </th> <td>   349.1</td>\n",
       "</tr>\n",
       "<tr>\n",
       "  <th>Df Residuals:</th>          <td>    35</td>      <th>  BIC:               </th> <td>   354.0</td>\n",
       "</tr>\n",
       "<tr>\n",
       "  <th>Df Model:</th>              <td>     2</td>      <th>                     </th>     <td> </td>   \n",
       "</tr>\n",
       "<tr>\n",
       "  <th>Covariance Type:</th>      <td>nonrobust</td>    <th>                     </th>     <td> </td>   \n",
       "</tr>\n",
       "</table>\n",
       "<table class=\"simpletable\">\n",
       "<tr>\n",
       "      <td></td>         <th>coef</th>     <th>std err</th>      <th>t</th>      <th>P>|t|</th>  <th>[0.025</th>    <th>0.975]</th>  \n",
       "</tr>\n",
       "<tr>\n",
       "  <th>Intercept</th> <td>  164.0402</td> <td>   71.316</td> <td>    2.300</td> <td> 0.028</td> <td>   19.260</td> <td>  308.820</td>\n",
       "</tr>\n",
       "<tr>\n",
       "  <th>Height</th>    <td>   -1.0519</td> <td>    1.327</td> <td>   -0.793</td> <td> 0.433</td> <td>   -3.745</td> <td>    1.641</td>\n",
       "</tr>\n",
       "<tr>\n",
       "  <th>Weight</th>    <td>    0.1276</td> <td>    0.226</td> <td>    0.565</td> <td> 0.575</td> <td>   -0.331</td> <td>    0.586</td>\n",
       "</tr>\n",
       "</table>\n",
       "<table class=\"simpletable\">\n",
       "<tr>\n",
       "  <th>Omnibus:</th>       <td> 6.646</td> <th>  Durbin-Watson:     </th> <td>   1.611</td>\n",
       "</tr>\n",
       "<tr>\n",
       "  <th>Prob(Omnibus):</th> <td> 0.036</td> <th>  Jarque-Bera (JB):  </th> <td>   2.149</td>\n",
       "</tr>\n",
       "<tr>\n",
       "  <th>Skew:</th>          <td>-0.057</td> <th>  Prob(JB):          </th> <td>   0.341</td>\n",
       "</tr>\n",
       "<tr>\n",
       "  <th>Kurtosis:</th>      <td> 1.841</td> <th>  Cond. No.          </th> <td>3.19e+03</td>\n",
       "</tr>\n",
       "</table><br/><br/>Notes:<br/>[1] Standard Errors assume that the covariance matrix of the errors is correctly specified.<br/>[2] The condition number is large, 3.19e+03. This might indicate that there are<br/>strong multicollinearity or other numerical problems."
      ],
      "text/plain": [
       "<class 'statsmodels.iolib.summary.Summary'>\n",
       "\"\"\"\n",
       "                            OLS Regression Results                            \n",
       "==============================================================================\n",
       "Dep. Variable:                    PIQ   R-squared:                       0.018\n",
       "Model:                            OLS   Adj. R-squared:                 -0.038\n",
       "Method:                 Least Squares   F-statistic:                    0.3144\n",
       "Date:                Thu, 16 Feb 2023   Prob (F-statistic):              0.732\n",
       "Time:                        17:32:45   Log-Likelihood:                -171.55\n",
       "No. Observations:                  38   AIC:                             349.1\n",
       "Df Residuals:                      35   BIC:                             354.0\n",
       "Df Model:                           2                                         \n",
       "Covariance Type:            nonrobust                                         \n",
       "==============================================================================\n",
       "                 coef    std err          t      P>|t|      [0.025      0.975]\n",
       "------------------------------------------------------------------------------\n",
       "Intercept    164.0402     71.316      2.300      0.028      19.260     308.820\n",
       "Height        -1.0519      1.327     -0.793      0.433      -3.745       1.641\n",
       "Weight         0.1276      0.226      0.565      0.575      -0.331       0.586\n",
       "==============================================================================\n",
       "Omnibus:                        6.646   Durbin-Watson:                   1.611\n",
       "Prob(Omnibus):                  0.036   Jarque-Bera (JB):                2.149\n",
       "Skew:                          -0.057   Prob(JB):                        0.341\n",
       "Kurtosis:                       1.841   Cond. No.                     3.19e+03\n",
       "==============================================================================\n",
       "\n",
       "Notes:\n",
       "[1] Standard Errors assume that the covariance matrix of the errors is correctly specified.\n",
       "[2] The condition number is large, 3.19e+03. This might indicate that there are\n",
       "strong multicollinearity or other numerical problems.\n",
       "\"\"\""
      ]
     },
     "execution_count": 328,
     "metadata": {},
     "output_type": "execute_result"
    }
   ],
   "source": [
    "iq_1 = ols('PIQ ~ Height + Weight', iqsize).fit()\n",
    "iq.summary()\n",
    "# 키 p =  0.433 > 0.05 : 귀무가설(기울기 = 0) 기각 X"
   ]
  },
  {
   "cell_type": "code",
   "execution_count": 327,
   "id": "1edcbbdd",
   "metadata": {
    "scrolled": true
   },
   "outputs": [
    {
     "data": {
      "text/html": [
       "<table class=\"simpletable\">\n",
       "<caption>OLS Regression Results</caption>\n",
       "<tr>\n",
       "  <th>Dep. Variable:</th>           <td>PIQ</td>       <th>  R-squared:         </th> <td>   0.295</td>\n",
       "</tr>\n",
       "<tr>\n",
       "  <th>Model:</th>                   <td>OLS</td>       <th>  Adj. R-squared:    </th> <td>   0.233</td>\n",
       "</tr>\n",
       "<tr>\n",
       "  <th>Method:</th>             <td>Least Squares</td>  <th>  F-statistic:       </th> <td>   4.741</td>\n",
       "</tr>\n",
       "<tr>\n",
       "  <th>Date:</th>             <td>Thu, 16 Feb 2023</td> <th>  Prob (F-statistic):</th>  <td>0.00722</td>\n",
       "</tr>\n",
       "<tr>\n",
       "  <th>Time:</th>                 <td>17:07:02</td>     <th>  Log-Likelihood:    </th> <td> -165.25</td>\n",
       "</tr>\n",
       "<tr>\n",
       "  <th>No. Observations:</th>      <td>    38</td>      <th>  AIC:               </th> <td>   338.5</td>\n",
       "</tr>\n",
       "<tr>\n",
       "  <th>Df Residuals:</th>          <td>    34</td>      <th>  BIC:               </th> <td>   345.1</td>\n",
       "</tr>\n",
       "<tr>\n",
       "  <th>Df Model:</th>              <td>     3</td>      <th>                     </th>     <td> </td>   \n",
       "</tr>\n",
       "<tr>\n",
       "  <th>Covariance Type:</th>      <td>nonrobust</td>    <th>                     </th>     <td> </td>   \n",
       "</tr>\n",
       "</table>\n",
       "<table class=\"simpletable\">\n",
       "<tr>\n",
       "      <td></td>         <th>coef</th>     <th>std err</th>      <th>t</th>      <th>P>|t|</th>  <th>[0.025</th>    <th>0.975]</th>  \n",
       "</tr>\n",
       "<tr>\n",
       "  <th>Intercept</th> <td>  111.3536</td> <td>   62.971</td> <td>    1.768</td> <td> 0.086</td> <td>  -16.619</td> <td>  239.326</td>\n",
       "</tr>\n",
       "<tr>\n",
       "  <th>Height</th>    <td>   -2.7319</td> <td>    1.229</td> <td>   -2.222</td> <td> 0.033</td> <td>   -5.230</td> <td>   -0.233</td>\n",
       "</tr>\n",
       "<tr>\n",
       "  <th>Weight</th>    <td>    0.0006</td> <td>    0.197</td> <td>    0.003</td> <td> 0.998</td> <td>   -0.400</td> <td>    0.401</td>\n",
       "</tr>\n",
       "<tr>\n",
       "  <th>Brain</th>     <td>    2.0604</td> <td>    0.563</td> <td>    3.657</td> <td> 0.001</td> <td>    0.915</td> <td>    3.205</td>\n",
       "</tr>\n",
       "</table>\n",
       "<table class=\"simpletable\">\n",
       "<tr>\n",
       "  <th>Omnibus:</th>       <td> 1.379</td> <th>  Durbin-Watson:     </th> <td>   1.827</td>\n",
       "</tr>\n",
       "<tr>\n",
       "  <th>Prob(Omnibus):</th> <td> 0.502</td> <th>  Jarque-Bera (JB):  </th> <td>   1.088</td>\n",
       "</tr>\n",
       "<tr>\n",
       "  <th>Skew:</th>          <td> 0.409</td> <th>  Prob(JB):          </th> <td>   0.580</td>\n",
       "</tr>\n",
       "<tr>\n",
       "  <th>Kurtosis:</th>      <td> 2.859</td> <th>  Cond. No.          </th> <td>3.73e+03</td>\n",
       "</tr>\n",
       "</table><br/><br/>Notes:<br/>[1] Standard Errors assume that the covariance matrix of the errors is correctly specified.<br/>[2] The condition number is large, 3.73e+03. This might indicate that there are<br/>strong multicollinearity or other numerical problems."
      ],
      "text/plain": [
       "<class 'statsmodels.iolib.summary.Summary'>\n",
       "\"\"\"\n",
       "                            OLS Regression Results                            \n",
       "==============================================================================\n",
       "Dep. Variable:                    PIQ   R-squared:                       0.295\n",
       "Model:                            OLS   Adj. R-squared:                  0.233\n",
       "Method:                 Least Squares   F-statistic:                     4.741\n",
       "Date:                Thu, 16 Feb 2023   Prob (F-statistic):            0.00722\n",
       "Time:                        17:07:02   Log-Likelihood:                -165.25\n",
       "No. Observations:                  38   AIC:                             338.5\n",
       "Df Residuals:                      34   BIC:                             345.1\n",
       "Df Model:                           3                                         \n",
       "Covariance Type:            nonrobust                                         \n",
       "==============================================================================\n",
       "                 coef    std err          t      P>|t|      [0.025      0.975]\n",
       "------------------------------------------------------------------------------\n",
       "Intercept    111.3536     62.971      1.768      0.086     -16.619     239.326\n",
       "Height        -2.7319      1.229     -2.222      0.033      -5.230      -0.233\n",
       "Weight         0.0006      0.197      0.003      0.998      -0.400       0.401\n",
       "Brain          2.0604      0.563      3.657      0.001       0.915       3.205\n",
       "==============================================================================\n",
       "Omnibus:                        1.379   Durbin-Watson:                   1.827\n",
       "Prob(Omnibus):                  0.502   Jarque-Bera (JB):                1.088\n",
       "Skew:                           0.409   Prob(JB):                        0.580\n",
       "Kurtosis:                       2.859   Cond. No.                     3.73e+03\n",
       "==============================================================================\n",
       "\n",
       "Notes:\n",
       "[1] Standard Errors assume that the covariance matrix of the errors is correctly specified.\n",
       "[2] The condition number is large, 3.73e+03. This might indicate that there are\n",
       "strong multicollinearity or other numerical problems.\n",
       "\"\"\""
      ]
     },
     "execution_count": 327,
     "metadata": {},
     "output_type": "execute_result"
    }
   ],
   "source": [
    "iq_2 = ols('PIQ ~ Height + Weight + Brain', iqsize).fit()\n",
    "iq_2.summary()"
   ]
  },
  {
   "cell_type": "code",
   "execution_count": null,
   "id": "5ca2aa05",
   "metadata": {},
   "outputs": [],
   "source": []
  }
 ],
 "metadata": {
  "kernelspec": {
   "display_name": "Python 3 (ipykernel)",
   "language": "python",
   "name": "python3"
  },
  "language_info": {
   "codemirror_mode": {
    "name": "ipython",
    "version": 3
   },
   "file_extension": ".py",
   "mimetype": "text/x-python",
   "name": "python",
   "nbconvert_exporter": "python",
   "pygments_lexer": "ipython3",
   "version": "3.9.13"
  }
 },
 "nbformat": 4,
 "nbformat_minor": 5
}
